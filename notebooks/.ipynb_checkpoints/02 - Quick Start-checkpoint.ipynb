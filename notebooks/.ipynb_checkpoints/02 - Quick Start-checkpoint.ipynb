{
 "metadata": {
  "name": "",
  "signature": "sha256:ff9f7fe9d20ec8bcd8231dd55422bbbd16efa598e1c8292ccbf41b71bfb4228d"
 },
 "nbformat": 3,
 "nbformat_minor": 0,
 "worksheets": [
  {
   "cells": [
    {
     "cell_type": "markdown",
     "metadata": {},
     "source": [
      "**Source of the materials**: Biopython cookbook (adapted)"
     ]
    },
    {
     "cell_type": "heading",
     "level": 1,
     "metadata": {},
     "source": [
      "Quick Start"
     ]
    },
    {
     "cell_type": "markdown",
     "metadata": {},
     "source": [
      "This section is designed to get you started quickly with Biopython, and to give a general overview of what is available and how to use it. All of the examples in this section assume that you have some general working knowledge of Python, and that you have successfully installed Biopython on your system. If you think you need to brush up on your Python, the main Python web site provides quite a bit of free documentation to get started with (http://www.python.org/doc/).\n",
      "\n",
      "Since much biological work on the computer involves connecting with databases on the internet, some of the examples will also require a working internet connection in order to run.\n",
      "\n",
      "Now that that is all out of the way, let\u2019s get into what we can do with Biopython."
     ]
    },
    {
     "cell_type": "heading",
     "level": 2,
     "metadata": {},
     "source": [
      "General overview of what Biopython provides"
     ]
    },
    {
     "cell_type": "markdown",
     "metadata": {},
     "source": [
      "As mentioned in the introduction, Biopython is a set of libraries to provide the ability to deal with \u201cthings\u201d of interest to biologists working on the computer. In general this means that you will need to have at least some programming experience (in Python, of course!) or at least an interest in learning to program. Biopython\u2019s job is to make your job easier as a programmer by supplying reusable libraries so that you can focus on answering your specific question of interest, instead of focusing on the internals of parsing a particular file format (of course, if you want to help by writing a parser that doesn\u2019t exist and contributing it to Biopython, please go ahead!). So Biopython\u2019s job is to make you happy!\n",
      "\n",
      "One thing to note about Biopython is that it often provides multiple ways of \u201cdoing the same thing.\u201d Things have improved in recent releases, but this can still be frustrating as in Python there should ideally be one right way to do something. However, this can also be a real benefit because it gives you lots of flexibility and control over the libraries. The tutorial helps to show you the common or easy ways to do things so that you can just make things work. To learn more about the alternative possibilities, look in the Cookbook, the Advanced section, the built in \u201cdocstrings\u201d (via the Python help command, or the API documentation) or ultimately the code itself."
     ]
    },
    {
     "cell_type": "heading",
     "level": 2,
     "metadata": {},
     "source": [
      "Working with sequences"
     ]
    },
    {
     "cell_type": "markdown",
     "metadata": {},
     "source": [
      "We\u2019ll start with a quick introduction to the Biopython mechanisms for dealing with sequences, the Seq object, which we\u2019ll discuss in more detail later.\n",
      "\n",
      "Most of the time when we think about sequences we have in my mind a string of letters like \u2018AGTACACTGGT\u2019. You can create such Seq object with this sequence as follows:"
     ]
    },
    {
     "cell_type": "code",
     "collapsed": false,
     "input": [
      "from Bio.Seq import Seq\n",
      "my_seq = Seq(\"AGTACACTGGT\")\n",
      "my_seq"
     ],
     "language": "python",
     "metadata": {},
     "outputs": [
      {
       "metadata": {},
       "output_type": "pyout",
       "prompt_number": 1,
       "text": [
        "Seq('AGTACACTGGT', Alphabet())"
       ]
      }
     ],
     "prompt_number": 1
    },
    {
     "cell_type": "code",
     "collapsed": false,
     "input": [
      "print(my_seq)"
     ],
     "language": "python",
     "metadata": {},
     "outputs": [
      {
       "output_type": "stream",
       "stream": "stdout",
       "text": [
        "AGTACACTGGT\n"
       ]
      }
     ],
     "prompt_number": 2
    },
    {
     "cell_type": "code",
     "collapsed": false,
     "input": [
      "my_seq.alphabet"
     ],
     "language": "python",
     "metadata": {},
     "outputs": [
      {
       "metadata": {},
       "output_type": "pyout",
       "prompt_number": 3,
       "text": [
        "Alphabet()"
       ]
      }
     ],
     "prompt_number": 3
    },
    {
     "cell_type": "markdown",
     "metadata": {},
     "source": [
      "What we have here is a sequence object with a _generic_ alphabet - reflecting the fact we have _not_ specified if this is a DNA or protein sequence (okay, a protein with a lot of Alanines, Glycines, Cysteines and Threonines!).\n",
      "\n",
      "In addition to having an alphabet, the Seq object differs from the Python string in the methods it supports. You can\u2019t do this with a plain string:"
     ]
    },
    {
     "cell_type": "code",
     "collapsed": false,
     "input": [
      "my_seq.complement()"
     ],
     "language": "python",
     "metadata": {},
     "outputs": [
      {
       "metadata": {},
       "output_type": "pyout",
       "prompt_number": 4,
       "text": [
        "Seq('TCATGTGACCA', Alphabet())"
       ]
      }
     ],
     "prompt_number": 4
    },
    {
     "cell_type": "code",
     "collapsed": false,
     "input": [
      "my_seq.reverse_complement()"
     ],
     "language": "python",
     "metadata": {},
     "outputs": [
      {
       "metadata": {},
       "output_type": "pyout",
       "prompt_number": 5,
       "text": [
        "Seq('ACCAGTGTACT', Alphabet())"
       ]
      }
     ],
     "prompt_number": 5
    },
    {
     "cell_type": "markdown",
     "metadata": {},
     "source": [
      "The next most important class is the **SeqRecord** or Sequence Record. This holds a sequence (as a **Seq** object) with additional annotation including an identifier, name and description. The **Bio.SeqIO** module for reading and writing sequence file formats works with SeqRecord objects, which will be introduced below and covered in more detail later.\n",
      "\n",
      "This covers the basic features and uses of the Biopython sequence class. Now that you\u2019ve got some idea of what it is like to interact with the Biopython libraries, it\u2019s time to delve into the fun, fun world of dealing with biological file formats!"
     ]
    },
    {
     "cell_type": "heading",
     "level": 2,
     "metadata": {},
     "source": [
      "A usage example"
     ]
    },
    {
     "cell_type": "markdown",
     "metadata": {},
     "source": [
      "Before we jump right into parsers and everything else to do with Biopython, let\u2019s set up an example to motivate everything we do and make life more interesting. After all, if there wasn\u2019t any biology in this tutorial, why would you want you read it?\n",
      "\n",
      "Since I love plants, I think we\u2019re just going to have to have a plant based example (sorry to all the fans of other organisms out there!). Having just completed a recent trip to our local greenhouse, we\u2019ve suddenly developed an incredible obsession with Lady Slipper Orchids.\n",
      "\n",
      "Of course, orchids are not only beautiful to look at, they are also extremely interesting for people studying evolution and systematics. So let\u2019s suppose we\u2019re thinking about writing a funding proposal to do a molecular study of Lady Slipper evolution, and would like to see what kind of research has already been done and how we can add to that.\n",
      "\n",
      "After a little bit of reading up we discover that the Lady Slipper Orchids are in the Orchidaceae family and the Cypripedioideae sub-family and are made up of 5 genera: _Cypripedium_, _Paphiopedilum_, _Phragmipedium_, _Selenipedium_ and _Mexipedium_.\n",
      "\n",
      "That gives us enough to get started delving for more information. So, let\u2019s look at how the Biopython tools can help us. We\u2019ll start with sequence parsing, but the orchids will be back later on as well - for example we\u2019ll search PubMed for papers about orchids and extract sequence data from GenBank, extract data from Swiss-Prot from certain orchid proteins and work with ClustalW multiple sequence alignments of orchid proteins."
     ]
    },
    {
     "cell_type": "heading",
     "level": 2,
     "metadata": {},
     "source": [
      "Parsing sequence file formats"
     ]
    },
    {
     "cell_type": "markdown",
     "metadata": {},
     "source": [
      "A large part of much bioinformatics work involves dealing with the many types of file formats designed to hold biological data. These files are loaded with interesting biological data, and a special challenge is parsing these files into a format so that you can manipulate them with some kind of programming language. However the task of parsing these files can be frustrated by the fact that the formats can change quite regularly, and that formats may contain small subtleties which can break even the most well designed parsers.\n",
      "\n",
      "We are now going to briefly introduce the **Bio.SeqIO** module \u2013 you can find out later. We\u2019ll start with an online search for our friends, the lady slipper orchids. To keep this introduction simple, we\u2019re just using the NCBI website by hand. Let\u2019s just take a look through the nucleotide databases at NCBI, using an Entrez online search (http://www.ncbi.nlm.nih.gov:80/entrez/query.fcgi?db=Nucleotide) for everything mentioning the text _Cypripedioideae_ (this is the subfamily of lady slipper orchids).\n",
      "\n",
      "When this tutorial was originally written, this search gave us only 94 hits, which we saved as a FASTA formatted text file and as a GenBank formatted text file (files ls_orchid.fasta and ls_orchid.gbk, also included with the Biopython source code under docs/tutorial/examples/).\n",
      "\n",
      "If you run the search today, you\u2019ll get hundreds of results! When following the tutorial, if you want to see the same list of genes, just download the two files above or copy them from docs/examples/ in the Biopython source code. Below we will look at how to do a search like this from within Python."
     ]
    },
    {
     "cell_type": "heading",
     "level": 3,
     "metadata": {},
     "source": [
      "Simple FASTA parsing example"
     ]
    },
    {
     "cell_type": "markdown",
     "metadata": {},
     "source": [
      "If you open the lady slipper orchids FASTA file <a href=\"../data/ls_orchid.fasta\">ls_orchid.fasta</a> in your favourite text editor, you\u2019ll see that the file starts like this:\n",
      "\n",
      "> \\>gi|2765658|emb|Z78533.1|CIZ78533 C.irapeanum 5.8S rRNA gene and ITS1 and ITS2 DNA\n",
      "CGTAACAAGGTTTCCGTAGGTGAACCTGCGGAAGGATCATTGATGAGACCGTGGAATAAACGATCGAGTG\n",
      "AATCCGGAGGACCGGTGTACTCAGCTCACCGGGGGCATTGCTCCCGTGGTGACCCTGATTTGTTGTTGGG\n",
      "...\n",
      "\n",
      "It contains 94 records, each has a line starting with \u201c>\u201d (greater-than symbol) followed by the sequence on one or more lines. Now try this in Python:"
     ]
    },
    {
     "cell_type": "code",
     "collapsed": false,
     "input": [
      "from Bio import SeqIO\n",
      "for seq_record in SeqIO.parse(\"data/ls_orchid.fasta\", \"fasta\"):\n",
      "    print(seq_record.id)\n",
      "    print(repr(seq_record.seq))\n",
      "    print(len(seq_record))"
     ],
     "language": "python",
     "metadata": {},
     "outputs": [
      {
       "output_type": "stream",
       "stream": "stdout",
       "text": [
        "gi|2765658|emb|Z78533.1|CIZ78533\n",
        "Seq('CGTAACAAGGTTTCCGTAGGTGAACCTGCGGAAGGATCATTGATGAGACCGTGG...CGC', SingleLetterAlphabet())\n",
        "740\n",
        "gi|2765657|emb|Z78532.1|CCZ78532\n",
        "Seq('CGTAACAAGGTTTCCGTAGGTGAACCTGCGGAAGGATCATTGTTGAGACAACAG...GGC', SingleLetterAlphabet())\n",
        "753\n",
        "gi|2765656|emb|Z78531.1|CFZ78531\n",
        "Seq('CGTAACAAGGTTTCCGTAGGTGAACCTGCGGAAGGATCATTGTTGAGACAGCAG...TAA', SingleLetterAlphabet())\n",
        "748\n",
        "gi|2765655|emb|Z78530.1|CMZ78530\n",
        "Seq('CGTAACAAGGTTTCCGTAGGTGAACCTGCGGAAGGATCATTGTTGAAACAACAT...CAT', SingleLetterAlphabet())\n",
        "744\n",
        "gi|2765654|emb|Z78529.1|CLZ78529\n",
        "Seq('ACGGCGAGCTGCCGAAGGACATTGTTGAGACAGCAGAATATACGATTGAGTGAA...AAA', SingleLetterAlphabet())\n",
        "733\n",
        "gi|2765652|emb|Z78527.1|CYZ78527\n",
        "Seq('CGTAACAAGGTTTCCGTAGGTGAACCTGCGGAAGGATCATTGTTGAGACAGTAG...CCC', SingleLetterAlphabet())\n",
        "718\n",
        "gi|2765651|emb|Z78526.1|CGZ78526\n",
        "Seq('CGTAACAAGGTTTCCGTAGGTGAACCTGCGGAAGGATCATTGTTGAGACAGTAG...TGT', SingleLetterAlphabet())\n",
        "730\n",
        "gi|2765650|emb|Z78525.1|CAZ78525\n",
        "Seq('TGTTGAGATAGCAGAATATACATCGAGTGAATCCGGAGGACCTGTGGTTATTCG...GCA', SingleLetterAlphabet())\n",
        "704\n",
        "gi|2765649|emb|Z78524.1|CFZ78524\n",
        "Seq('CGTAACAAGGTTTCCGTAGGTGAACCTGCGGAAGGATCATTGTTGAGATAGTAG...AGC', SingleLetterAlphabet())\n",
        "740\n",
        "gi|2765648|emb|Z78523.1|CHZ78523\n",
        "Seq('CGTAACCAGGTTTCCGTAGGTGAACCTGCGGCAGGATCATTGTTGAGACAGCAG...AAG', SingleLetterAlphabet())\n",
        "709\n",
        "gi|2765647|emb|Z78522.1|CMZ78522\n",
        "Seq('CGTAACAAGGTTTCCGTAGGTGAACCTGCGGAAGGATCATTGTTGAGACAGCAG...GAG', SingleLetterAlphabet())\n",
        "700\n",
        "gi|2765646|emb|Z78521.1|CCZ78521\n",
        "Seq('GTAGGTGAACCTGCGGAAGGATCATTGTTGAGACAGTAGAATATATGATCGAGT...ACC', SingleLetterAlphabet())\n",
        "726\n",
        "gi|2765645|emb|Z78520.1|CSZ78520\n",
        "Seq('CGTAACAAGGTTTCCGTAGGTGAACCTGCGGAAGGATCATTGTTGAGACAGCAG...TTT', SingleLetterAlphabet())\n",
        "753\n",
        "gi|2765644|emb|Z78519.1|CPZ78519\n",
        "Seq('ATATGATCGAGTGAATCTGGTGGACTTGTGGTTACTCAGCTCGCCATAGGCTTT...TTA', SingleLetterAlphabet())\n",
        "699\n",
        "gi|2765643|emb|Z78518.1|CRZ78518\n",
        "Seq('CGTAACAAGGTTTCCGTAGGTGAACCTGCGGGAGGATCATTGTTGAGATAGTAG...TCC', SingleLetterAlphabet())\n",
        "658\n",
        "gi|2765642|emb|Z78517.1|CFZ78517\n",
        "Seq('CGTAACAAGGTTTCCGTAGGTGAACCTGCGGAAGGATCATTGTTGAGACAGTAG...AGC', SingleLetterAlphabet())\n",
        "752\n",
        "gi|2765641|emb|Z78516.1|CPZ78516\n",
        "Seq('CGTAACAAGGTTTCCGTAGGTGAACCTGCGGAAGGATCATTGTTGAGACAGTAT...TAA', SingleLetterAlphabet())\n",
        "726\n",
        "gi|2765640|emb|Z78515.1|MXZ78515\n",
        "Seq('CGTAACAAGGTTTCCGTAGGTGAACCTGCGGAAGGATCATTGCTGAGACCGTAG...AGC', SingleLetterAlphabet())\n",
        "765\n",
        "gi|2765639|emb|Z78514.1|PSZ78514\n",
        "Seq('CGTAACAAGGTTTCCGTAGGTGGACCTTCGGGAGGATCATTTTTGAAGCCCCCA...CTA', SingleLetterAlphabet())\n",
        "755\n",
        "gi|2765638|emb|Z78513.1|PBZ78513\n",
        "Seq('CGTAACAAGGTTTCCGTAGGTGAACCTGCGGAAGGATCATTGTTGAGACCGCCA...GAG', SingleLetterAlphabet())\n",
        "742\n",
        "gi|2765637|emb|Z78512.1|PWZ78512\n",
        "Seq('CGTAACAAGGTTTCCGTAGGTGGACCTTCGGGAGGATCATTTTTGAAGCCCCCA...AGC', SingleLetterAlphabet())\n",
        "762\n",
        "gi|2765636|emb|Z78511.1|PEZ78511\n",
        "Seq('CGTAACAAGGTTTCCGTAGGTGAACCTTCGGAAGGATCATTGTTGAGACCCCCA...GGA', SingleLetterAlphabet())\n",
        "745\n",
        "gi|2765635|emb|Z78510.1|PCZ78510\n",
        "Seq('CTAACCAGGGTTCCGAGGTGACCTTCGGGAGGATTCCTTTTTAAGCCCCCGAAA...TTA', SingleLetterAlphabet())\n",
        "750\n",
        "gi|2765634|emb|Z78509.1|PPZ78509\n",
        "Seq('CGTAACAAGGTTTCCGTAGGTGAACCTGCGGAAGGATCATTGTTGAGACCGCCA...GGA', SingleLetterAlphabet())\n",
        "731\n",
        "gi|2765633|emb|Z78508.1|PLZ78508\n",
        "Seq('CGTAACAAGGTTTCCGTAGGTGAACCTGCGGAAGGATCATTGTTGAGACCGCCA...TGA', SingleLetterAlphabet())\n",
        "741\n",
        "gi|2765632|emb|Z78507.1|PLZ78507\n",
        "Seq('CGTAACAAGGTTTCCGTAGGTGAACCTGCGGAAGGATCATTGTTGAGACCCCCA...TGA', SingleLetterAlphabet())\n",
        "740\n",
        "gi|2765631|emb|Z78506.1|PLZ78506\n",
        "Seq('CGTAACAAGGTTTCCGTAGGTGAACCTGCGGAAGGATCATTGTTGAGACCGCAA...TGA', SingleLetterAlphabet())\n",
        "727\n",
        "gi|2765630|emb|Z78505.1|PSZ78505\n",
        "Seq('CGTAACAAGGTTTCCGTAGGTGAACCTGCGGAAGGATCATTGTTGAGACCGCCA...TTT', SingleLetterAlphabet())\n",
        "711\n",
        "gi|2765629|emb|Z78504.1|PKZ78504\n",
        "Seq('CGTAACAAGGTTTCCGTAGGTGAACCTTCGGAAGGATCATTGTTGAGACCGCAA...TAA', SingleLetterAlphabet())\n",
        "743\n",
        "gi|2765628|emb|Z78503.1|PCZ78503\n",
        "Seq('CGTAACCAGGTTTCCGTAGGTGAACCTCCGGAAGGATCCTTGTTGAGACCGCCA...TAA', SingleLetterAlphabet())\n",
        "727\n",
        "gi|2765627|emb|Z78502.1|PBZ78502\n",
        "Seq('CGTAACCAGGTTTCCGTAGGTGAACCTCCGGAAGGATCATTGTTGAGACCGCCA...CGC', SingleLetterAlphabet())\n",
        "757\n",
        "gi|2765626|emb|Z78501.1|PCZ78501\n",
        "Seq('CGTAACAAGGTTTCCGTAGGTGAACCTGCGGAAGGATCATTGTTGAGACCGCAA...AGA', SingleLetterAlphabet())\n",
        "770\n",
        "gi|2765625|emb|Z78500.1|PWZ78500\n",
        "Seq('CGTAACAAGGTTTCCGTAGGTGAACCTGCGGAAGGCTCATTGTTGAGACCGCAA...AAG', SingleLetterAlphabet())\n",
        "767\n",
        "gi|2765624|emb|Z78499.1|PMZ78499\n",
        "Seq('CGTAACAAGGTTTCCGTAGGTGAACCTGCGGAGGGATCATTGTTGAGATCGCAT...ACC', SingleLetterAlphabet())\n",
        "759\n",
        "gi|2765623|emb|Z78498.1|PMZ78498\n",
        "Seq('CGTAACAAGGTTTCCGTAGGTGAACCTGCGGAAAGGTCATTGTTGAGATCACAT...AGC', SingleLetterAlphabet())\n",
        "750\n",
        "gi|2765622|emb|Z78497.1|PDZ78497\n",
        "Seq('CGTAACAAGGTTTCCGTAGGTGAACCTGCGGAAGGATCATTGTTGAGATCACAT...AGC', SingleLetterAlphabet())\n",
        "788\n",
        "gi|2765621|emb|Z78496.1|PAZ78496\n",
        "Seq('CGTAACAAGGTTTCCGTAGGTGAACCTGCGGAAGGATCATTGTTGAGATCGCAT...AGC', SingleLetterAlphabet())\n",
        "774\n",
        "gi|2765620|emb|Z78495.1|PEZ78495\n",
        "Seq('CGTAACAAGGTTTCCGTAGGTGAACCTCCGGAAGGATCATTGTTGAGATCACAT...GTG', SingleLetterAlphabet())\n",
        "789\n",
        "gi|2765619|emb|Z78494.1|PNZ78494\n",
        "Seq('CGTAACAAGGTTTCCGTAGGTGAACCTGCGGAAGGATCATTGTTGAGGTCGCAT...AAG', SingleLetterAlphabet())\n",
        "688\n",
        "gi|2765618|emb|Z78493.1|PGZ78493\n",
        "Seq('CGTAACAAGGATTCCGTAGGTGAACCTGCGGAAGGATCATTGTTGAGATCGCAT...CCC', SingleLetterAlphabet())\n",
        "719\n",
        "gi|2765617|emb|Z78492.1|PBZ78492\n",
        "Seq('CGTAACAAGGTTTCCGTAGGTGAACCTGCGGAAGGATCATTGTTGAGATCGCAT...ATA', SingleLetterAlphabet())\n",
        "743\n",
        "gi|2765616|emb|Z78491.1|PCZ78491\n",
        "Seq('CGTAACAAGGTTTCCGTAGGTGAACCTGCGGAAGGATCATTGTTGAGATCGCAT...AGC', SingleLetterAlphabet())\n",
        "737\n",
        "gi|2765615|emb|Z78490.1|PFZ78490\n",
        "Seq('CGTAACAAGGTTTCCGTAGGTGAACCTGCGGAAGGATCATTGTTGAGATCACAT...TGA', SingleLetterAlphabet())\n",
        "728\n",
        "gi|2765614|emb|Z78489.1|PDZ78489\n",
        "Seq('CGTAACAAGGTTTCCGTAGGTGAACCTGCGGAAGGATCATTGTTGAGATCACAT...GGC', SingleLetterAlphabet())\n",
        "740\n",
        "gi|2765613|emb|Z78488.1|PTZ78488\n",
        "Seq('CTGTAGGTGAACCTGCGGAAGGATCATTGTTGAGATCACGCAATAATTGATCGA...GCT', SingleLetterAlphabet())\n",
        "696\n",
        "gi|2765612|emb|Z78487.1|PHZ78487\n",
        "Seq('CGTAACAAGGTTTCCGTAGGTGAACCTGCGGAAGGATCATTGTTGAGATCACAT...TAA', SingleLetterAlphabet())\n",
        "732\n",
        "gi|2765611|emb|Z78486.1|PBZ78486\n",
        "Seq('CGTCACGAGGTTTCCGTAGGTGAATCTGCGGGAGGATCATTGTTGAGATCACAT...TGA', SingleLetterAlphabet())\n",
        "731\n",
        "gi|2765610|emb|Z78485.1|PHZ78485\n",
        "Seq('CTGAACCTGGTGTCCGAAGGTGAATCTGCGGATGGATCATTGTTGAGATATCAT...GTA', SingleLetterAlphabet())\n",
        "735\n",
        "gi|2765609|emb|Z78484.1|PCZ78484\n",
        "Seq('CGTAACAAGGTTTCCGTAGGTGAACCTGGGGAAGGATCATTGTTGAGATCACAT...TTT', SingleLetterAlphabet())\n",
        "720\n",
        "gi|2765608|emb|Z78483.1|PVZ78483\n",
        "Seq('CGTAACAAGGTTTCCGTAGGTGAACCTGCGGAAGGATCATTGTTGAGATCACAT...GCA', SingleLetterAlphabet())\n",
        "740\n",
        "gi|2765607|emb|Z78482.1|PEZ78482\n",
        "Seq('TCTACTGCAGTGACCGAGATTTGCCATCGAGCCTCCTGGGAGCTTTCTTGCTGG...GCA', SingleLetterAlphabet())\n",
        "629\n",
        "gi|2765606|emb|Z78481.1|PIZ78481\n",
        "Seq('CGTAACAAGGTTTCCGTAGGTGAACCTGCGGAAGGATCATTGTTGAGATCACAT...TGA', SingleLetterAlphabet())\n",
        "572\n",
        "gi|2765605|emb|Z78480.1|PGZ78480\n",
        "Seq('CGTAACAAGGTTTCCGTAGGTGAACCTGCGGAAGGATCATTGTTGAGATCACAT...TGA', SingleLetterAlphabet())\n",
        "587\n",
        "gi|2765604|emb|Z78479.1|PPZ78479\n",
        "Seq('CGTAACAAGGTTTCCGTAGGTGAACCTGCGGAAGGATCATTGTTGAGATCACAT...AGT', SingleLetterAlphabet())\n",
        "700\n",
        "gi|2765603|emb|Z78478.1|PVZ78478\n",
        "Seq('CGTAACAAGGTTTCCGTAGGTGAACCTCCGGAAGGATCAGTGTTGAGATCACAT...GGC', SingleLetterAlphabet())\n",
        "636\n",
        "gi|2765602|emb|Z78477.1|PVZ78477\n",
        "Seq('CGTAACAAGGTTTCCGTAGGTGAACCTGCGGAAGGATCATTGTTGAGATCACAT...TGC', SingleLetterAlphabet())\n",
        "716\n",
        "gi|2765601|emb|Z78476.1|PGZ78476\n",
        "Seq('CGTAACAAGGTTTCCGTAGGTGAACCTGCGGAAGGATCATTGTTGAGATCACAT...CCC', SingleLetterAlphabet())\n",
        "592\n",
        "gi|2765600|emb|Z78475.1|PSZ78475\n",
        "Seq('CGTAACAAGGTTTCCGTAGGTGAACCTGCGGAAGGATCATTGTTGAGATCACAT...GGT', SingleLetterAlphabet())\n",
        "716\n",
        "gi|2765599|emb|Z78474.1|PKZ78474\n",
        "Seq('CGTAACAAGGTTTCCGTAGGTGAACCTGCGGAAGGATCATTGTTGAGATCACGT...CTT', SingleLetterAlphabet())\n",
        "733\n",
        "gi|2765598|emb|Z78473.1|PSZ78473\n",
        "Seq('CGTAACAAGGTTTCCGTAGGTGAACCTGCGGAAGGATCATTGTTGAGATCACAT...AGG', SingleLetterAlphabet())\n",
        "626\n",
        "gi|2765597|emb|Z78472.1|PLZ78472\n",
        "Seq('CGTAACAAGGTTTCCGTAGGTGAACCTGCGGAAGGATCATTGTTGAGATCACAT...AGC', SingleLetterAlphabet())\n",
        "737\n",
        "gi|2765596|emb|Z78471.1|PDZ78471\n",
        "Seq('CGTAACAAGGTTTCCGTAGGTGAACCTGCGGAAGGATCATTGTTGAGATCACAT...AGC', SingleLetterAlphabet())\n",
        "740\n",
        "gi|2765595|emb|Z78470.1|PPZ78470\n",
        "Seq('CGTAACAAGGTTTCCGTAGGTGAACCTGCGGAAGGATCATTGTTGAGATCACAT...GTT', SingleLetterAlphabet())\n",
        "574\n",
        "gi|2765594|emb|Z78469.1|PHZ78469\n",
        "Seq('CGTAACAAGGTTTCCGTAGGTGAACCTGCGGAAGGATCATTGTTGAGATCACAT...GTT', SingleLetterAlphabet())\n",
        "594\n",
        "gi|2765593|emb|Z78468.1|PAZ78468\n",
        "Seq('CGTAACAAGGTTTCCGTAGGTGAACCTGCGGAAGGATCATTGTTGAGATCGCAT...GTT', SingleLetterAlphabet())\n",
        "610\n",
        "gi|2765592|emb|Z78467.1|PSZ78467\n",
        "Seq('CGTAACAAGGTTTCCGTAGGTGAACCTGCGGAAGGATCATTGTTGAGATCACAT...TGA', SingleLetterAlphabet())\n",
        "730\n",
        "gi|2765591|emb|Z78466.1|PPZ78466\n",
        "Seq('CGTAACAAGGTTTCCGTAGGTGAACCTGCGGAAGGATCATTGTTGAGATCACAT...CCC', SingleLetterAlphabet())\n",
        "641\n",
        "gi|2765590|emb|Z78465.1|PRZ78465\n",
        "Seq('CGTAACAAGGTTTCCGTAGGTGAACCTGCGGAAGGATCATTGTTGAGATCACAT...TGC', SingleLetterAlphabet())\n",
        "702\n",
        "gi|2765589|emb|Z78464.1|PGZ78464\n",
        "Seq('CGTAACAAGGTTTCCGTAGGTGAGCGGAAGGGTCATTGTTGAGATCACATAATA...AGC', SingleLetterAlphabet())\n",
        "733\n",
        "gi|2765588|emb|Z78463.1|PGZ78463\n",
        "Seq('CGTAACAAGGTTTCCGTAGGTGAACCTGCGGAAGGTTCATTGTTGAGATCACAT...AGC', SingleLetterAlphabet())\n",
        "738\n",
        "gi|2765587|emb|Z78462.1|PSZ78462\n",
        "Seq('CGTCACGAGGTCTCCGGATGTGACCCTGCGGAAGGATCATTGTTGAGATCACAT...CAT', SingleLetterAlphabet())\n",
        "736\n",
        "gi|2765586|emb|Z78461.1|PWZ78461\n",
        "Seq('CGTAACAAGGTTTCCGTAGGTGAACCTCCGGAAGGATCATTGTTGAGATCACAT...TAA', SingleLetterAlphabet())\n",
        "732\n",
        "gi|2765585|emb|Z78460.1|PCZ78460\n",
        "Seq('CGTAACAAGGTTTCCGTAGGTGAACCTCCGGAAGGATCATTGTTGAGATCACAT...TTA', SingleLetterAlphabet())\n",
        "745\n",
        "gi|2765584|emb|Z78459.1|PDZ78459\n",
        "Seq('CGTAACAAGGTTTCCGTAGGTGAACCTGCGGAAGGATCATTGTTGAGATCACAT...TTT', SingleLetterAlphabet())\n",
        "744\n",
        "gi|2765583|emb|Z78458.1|PHZ78458\n",
        "Seq('CGTAACAAGGTTTCCGTAGGTGAACCTGCGGAAGGATCATTGTTGAGATCACAT...TTG', SingleLetterAlphabet())\n",
        "738\n",
        "gi|2765582|emb|Z78457.1|PCZ78457\n",
        "Seq('CGTAACAAGGTTTCCGTAGGTGAACCTCCGGAAGGATCATTGTTGAGATCACAT...GAG', SingleLetterAlphabet())\n",
        "739\n",
        "gi|2765581|emb|Z78456.1|PTZ78456\n",
        "Seq('CGTAACAAGGTTTCCGTAGGTGAACCTGCGGAAGGATCATTGTTGAGATCACAT...AGC', SingleLetterAlphabet())\n",
        "740\n",
        "gi|2765580|emb|Z78455.1|PJZ78455\n",
        "Seq('CGTAACCAGGTTTCCGTAGGTGGACCTTCGGGAGGATCATTTTTGAGATCACAT...GCA', SingleLetterAlphabet())\n",
        "745\n",
        "gi|2765579|emb|Z78454.1|PFZ78454\n",
        "Seq('CGTAACAAGGTTTCCGTAGGTGAACCTGCGGAAGGATCATTGTTGAGATCACAT...AAC', SingleLetterAlphabet())\n",
        "695\n",
        "gi|2765578|emb|Z78453.1|PSZ78453\n",
        "Seq('CGTAACAAGGTTTCCGTAGGTGAACCTGCGGAAGGATCATTGTTGAGATCACAT...GCA', SingleLetterAlphabet())\n",
        "745\n",
        "gi|2765577|emb|Z78452.1|PBZ78452\n",
        "Seq('CGTAACAAGGTTTCCGTAGGTGAACCTGCGGAAGGATCATTGTTGAGATCACAT...GCA', SingleLetterAlphabet())\n",
        "743\n",
        "gi|2765576|emb|Z78451.1|PHZ78451\n",
        "Seq('CGTAACAAGGTTTCCGTAGGTGTACCTCCGGAAGGATCATTGTTGAGATCACAT...AGC', SingleLetterAlphabet())\n",
        "730\n",
        "gi|2765575|emb|Z78450.1|PPZ78450\n",
        "Seq('GGAAGGATCATTGCTGATATCACATAATAATTGATCGAGTTAAGCTGGAGGATC...GAG', SingleLetterAlphabet())\n",
        "706\n",
        "gi|2765574|emb|Z78449.1|PMZ78449\n",
        "Seq('CGTAACAAGGTTTCCGTAGGTGAACCTGCGGAAGGATCATTGTTGAGATCACAT...TGC', SingleLetterAlphabet())\n",
        "744\n",
        "gi|2765573|emb|Z78448.1|PAZ78448\n",
        "Seq('CGTAACAAGGTTTCCGTAGGTGAACCTGCGGAAGGATCATTGTTGAGATCACAT...AGG', SingleLetterAlphabet())\n",
        "742\n",
        "gi|2765572|emb|Z78447.1|PVZ78447\n",
        "Seq('CGTAACAAGGATTCCGTAGGTGAACCTGCGGGAGGATCATTGTTGAGATCACAT...AGC', SingleLetterAlphabet())\n",
        "694\n",
        "gi|2765571|emb|Z78446.1|PAZ78446\n",
        "Seq('CGTAACAAGGTTTCCGTAGGTGAACCTCCGGAAGGATCATTGTTGAGATCACAT...CCC', SingleLetterAlphabet())\n",
        "712\n",
        "gi|2765570|emb|Z78445.1|PUZ78445\n",
        "Seq('CGTAACAAGGTTTCCGTAGGTGAACCTGCGGAAGGATCATTGTTGAGATCACAT...TGT', SingleLetterAlphabet())\n",
        "715\n",
        "gi|2765569|emb|Z78444.1|PAZ78444\n",
        "Seq('CGTAACAAGGTTTCCGTAGGGTGAACTGCGGAAGGATCATTGTTGAGATCACAT...ATT', SingleLetterAlphabet())\n",
        "688\n",
        "gi|2765568|emb|Z78443.1|PLZ78443\n",
        "Seq('CGTAACAAGGTTTCCGTAGGTGAACCTGCGGAAGGATCATTGTTGAGATCACAT...AGG', SingleLetterAlphabet())\n",
        "784\n",
        "gi|2765567|emb|Z78442.1|PBZ78442\n",
        "Seq('GTAGGTGAACCTGCGGAAGGATCATTGTTGAGATCACATAATAATTGATCGAGT...AGT', SingleLetterAlphabet())\n",
        "721\n",
        "gi|2765566|emb|Z78441.1|PSZ78441\n",
        "Seq('GGAAGGTCATTGCCGATATCACATAATAATTGATCGAGTTAATCTGGAGGATCT...GAG', SingleLetterAlphabet())\n",
        "703\n",
        "gi|2765565|emb|Z78440.1|PPZ78440\n",
        "Seq('CGTAACAAGGTTTCCGTAGGTGGACCTCCGGGAGGATCATTGTTGAGATCACAT...GCA', SingleLetterAlphabet())\n",
        "744\n",
        "gi|2765564|emb|Z78439.1|PBZ78439\n",
        "Seq('CATTGTTGAGATCACATAATAATTGATCGAGTTAATCTGGAGGATCTGTTTACT...GCC', SingleLetterAlphabet())\n",
        "592\n"
       ]
      }
     ],
     "prompt_number": 6
    },
    {
     "cell_type": "code",
     "collapsed": false,
     "input": [
      "seq_record."
     ],
     "language": "python",
     "metadata": {},
     "outputs": []
    },
    {
     "cell_type": "markdown",
     "metadata": {},
     "source": [
      "Notice that the FASTA format does not specify the alphabet, so **Bio.SeqIO** has defaulted to the rather generic **SingleLetterAlphabet()** rather than something DNA specific."
     ]
    },
    {
     "cell_type": "heading",
     "level": 3,
     "metadata": {},
     "source": [
      "Simple GenBank parsing example"
     ]
    },
    {
     "cell_type": "markdown",
     "metadata": {},
     "source": [
      "Now let\u2019s load the GenBank file <a href=\"../data/ls_orchid.gbk\">ls_orchid.gbk</a> instead - notice that the code to do this is almost identical to the snippet used above for the FASTA file - the only difference is we change the filename and the format string:"
     ]
    },
    {
     "cell_type": "code",
     "collapsed": false,
     "input": [
      "from Bio import SeqIO\n",
      "for seq_record in SeqIO.parse(\"data/ls_orchid.gbk\", \"genbank\"):\n",
      "    print(seq_record.id)\n",
      "    print(repr(seq_record.seq))\n",
      "    print(len(seq_record))"
     ],
     "language": "python",
     "metadata": {},
     "outputs": []
    },
    {
     "cell_type": "markdown",
     "metadata": {},
     "source": [
      "This time **Bio.SeqIO** has been able to choose a sensible alphabet, IUPAC Ambiguous DNA. You\u2019ll also notice that a shorter string has been used as the **seq_record.id** in this case."
     ]
    },
    {
     "cell_type": "heading",
     "level": 3,
     "metadata": {},
     "source": [
      "I love parsing \u2013 please don\u2019t stop talking about it!"
     ]
    },
    {
     "cell_type": "markdown",
     "metadata": {},
     "source": [
      "Biopython has a lot of parsers, and each has its own little special niches based on the sequence format it is parsing and all of that.\n",
      "\n",
      "While the most popular file formats have parsers integrated into *Bio.SeqIO* and/or *Bio.AlignIO*, for some of the rarer and unloved file formats there is either no parser at all, or an old parser which has not been linked in yet. Please also check the wiki pages http://biopython.org/wiki/SeqIO and http://biopython.org/wiki/AlignIO for the latest information, or ask on the mailing list. The wiki pages should include an up to date list of supported file types, and some additional examples.\n",
      "\n",
      "The next place to look for information about specific parsers and how to do cool things with them is in the Cookbook. If you don\u2019t find the information you are looking for, please consider helping out your poor overworked documentors and submitting a cookbook entry about it! (once you figure out how to do it, that is!)"
     ]
    },
    {
     "cell_type": "heading",
     "level": 2,
     "metadata": {},
     "source": [
      "Connecting with biological databases"
     ]
    },
    {
     "cell_type": "markdown",
     "metadata": {},
     "source": [
      "One of the very common things that you need to do in bioinformatics is extract information from biological databases. It can be quite tedious to access these databases manually, especially if you have a lot of repetitive work to do. Biopython attempts to save you time and energy by making some on-line databases available from Python scripts. Currently, Biopython has code to extract information from the following databases:\n",
      "\n",
      "- Entrez (and PubMed) from the NCBI\n",
      "- ExPASy\n",
      "- SCOP\n",
      "\n",
      "The code in these modules basically makes it easy to write Python code that interact with the CGI scripts on these pages, so that you can get results in an easy to deal with format. In some cases, the results can be tightly integrated with the Biopython parsers to make it even easier to extract information."
     ]
    },
    {
     "cell_type": "heading",
     "level": 2,
     "metadata": {},
     "source": [
      "What to do next"
     ]
    },
    {
     "cell_type": "markdown",
     "metadata": {},
     "source": [
      "Now that you\u2019ve made it this far, you hopefully have a good understanding of the basics of Biopython and are ready to start using it for doing useful work. The best thing to do now is finish reading this tutorial, and then if you want start snooping around in the source code, and looking at the automatically generated documentation.\n",
      "\n",
      "Once you get a picture of what you want to do, and what libraries in Biopython will do it, you should take a peak at the Cookbook (Chapter 18), which may have example code to do something similar to what you want to do.\n",
      "\n",
      "If you know what you want to do, but can\u2019t figure out how to do it, please feel free to post questions to the main Biopython list (see http://biopython.org/wiki/Mailing_lists). This will not only help us answer your question, it will also allow us to improve the documentation so it can help the next person do what you want to do.\n",
      "\n",
      "Enjoy the code!"
     ]
    }
   ],
   "metadata": {}
  }
 ]
}