{
 "metadata": {
  "name": "",
  "signature": "sha256:872552d6ebed709da0fd5cb971a3b2cb98620ac033ccb462d9db286a9bb6ff5e"
 },
 "nbformat": 3,
 "nbformat_minor": 0,
 "worksheets": [
  {
   "cells": [
    {
     "cell_type": "markdown",
     "metadata": {},
     "source": [
      "**Source of the materials**: Biopython Tutorial and Cookbook (adapted)"
     ]
    },
    {
     "cell_type": "heading",
     "level": 1,
     "metadata": {},
     "source": [
      "Sequence Objects"
     ]
    },
    {
     "cell_type": "markdown",
     "metadata": {},
     "source": [
      "Biological sequences are arguably the central object in Bioinformatics, and in this chapter we'll introduce the Biopython mechanism for dealing with sequences, the __Seq__ object.\n",
      "Chapter~\\ref{chapter:SeqRecord} will introduce the related __SeqRecord__ object, which combines the sequence information with any annotation, used again in Chapter~\\ref{chapter:Bio.SeqIO} for Sequence Input/Output.\n",
      "\n",
      "Sequences are essentially strings of letters like __AGTACACTGGT|, which seems very natural since this is the most common way that sequences are seen in biological file formats.\n",
      "\n",
      "There are two important differences between __Seq__ objects and standard Python strings.\n",
      "First of all, they have different methods.  Although the __Seq__ object supports many of the same methods as a plain string, its __translate()__ method differs by doing biological translation, and there are also additional biologically relevant methods like __reverse_complement()|.\n",
      "Secondly, the __Seq__ object has an important attribute, __alphabet|, which is an object describing what the individual characters making up the sequence string ``mean'', and how they should be interpreted.  For example, is __AGTACACTGGT__ a DNA sequence, or just a protein sequence that happens to be rich in Alanines, Glycines, Cysteines\n",
      "and Threonines?"
     ]
    },
    {
     "cell_type": "heading",
     "level": 2,
     "metadata": {},
     "source": [
      "Sequences and Alphabets"
     ]
    },
    {
     "cell_type": "markdown",
     "metadata": {},
     "source": [
      "The alphabet object is perhaps the important thing that makes the __Seq__ object more than just a string. The currently available alphabets for Biopython are defined in the __Bio.Alphabet__ module. We'll use the IUPAC alphabets (\\url{http://www.chem.qmw.ac.uk/iupac/}) here to deal with some of our favorite objects: DNA, RNA and Proteins.\n",
      "\n",
      "__Bio.Alphabet.IUPAC__ provides basic definitions for proteins, DNA and RNA, but additionally provides the ability to extend and customize the basic definitions. For instance, for proteins, there is a basic IUPACProtein class, but there is an additional ExtendedIUPACProtein class providing for the additional elements ``U'' (or ``Sec'' for selenocysteine) and ``O'' (or ``Pyl'' for pyrrolysine), plus the ambiguous symbols ``B'' (or ``Asx'' for asparagine or aspartic acid), ``Z'' (or ``Glx'' for glutamine or glutamic acid), ``J'' (or ``Xle'' for leucine isoleucine) and ``X'' (or ``Xxx'' for an unknown amino acid). For DNA you've got choices of IUPACUnambiguousDNA, which provides for just the basic letters, IUPACAmbiguousDNA (which provides for ambiguity letters for every possible situation) and ExtendedIUPACDNA, which allows letters for modified bases. Similarly, RNA can be represented by IUPACAmbiguousRNA or IUPACUnambiguousRNA.\n",
      "\n",
      "The advantages of having an alphabet class are two fold. First, this gives an idea of the type of information the Seq object contains. Secondly, this provides a means of constraining the information, as a means of type checking.\n",
      "\n",
      "Now that we know what we are dealing with, let's look at how to utilize this class to do interesting work.\n",
      "You can create an ambiguous sequence with the default generic alphabet like this:\n"
     ]
    },
    {
     "cell_type": "code",
     "collapsed": false,
     "input": [
      "from Bio.Seq import Seq\n",
      "my_seq = Seq(\"AGTACACTGGT\")\n",
      "my_seq"
     ],
     "language": "python",
     "metadata": {},
     "outputs": [
      {
       "metadata": {},
       "output_type": "pyout",
       "prompt_number": 2,
       "text": [
        "Seq('AGTACACTGGT', Alphabet())"
       ]
      }
     ],
     "prompt_number": 2
    },
    {
     "cell_type": "code",
     "collapsed": false,
     "input": [
      "my_seq.alphabet"
     ],
     "language": "python",
     "metadata": {},
     "outputs": [
      {
       "metadata": {},
       "output_type": "pyout",
       "prompt_number": 86,
       "text": [
        "Alphabet()"
       ]
      }
     ],
     "prompt_number": 86
    },
    {
     "cell_type": "markdown",
     "metadata": {},
     "source": [
      "However, where possible you should specify the alphabet explicitly when creating your sequence objects - in this case an unambiguous DNA alphabet object:"
     ]
    },
    {
     "cell_type": "code",
     "collapsed": false,
     "input": [
      "from Bio.Alphabet import IUPAC\n",
      "my_seq = Seq(\"AGTACACTGGT\", IUPAC.unambiguous_dna)\n",
      "my_seq"
     ],
     "language": "python",
     "metadata": {},
     "outputs": [
      {
       "metadata": {},
       "output_type": "pyout",
       "prompt_number": 4,
       "text": [
        "Seq('AGTACACTGGT', IUPACUnambiguousDNA())"
       ]
      }
     ],
     "prompt_number": 4
    },
    {
     "cell_type": "code",
     "collapsed": false,
     "input": [
      "my_seq.alphabet"
     ],
     "language": "python",
     "metadata": {},
     "outputs": [
      {
       "metadata": {},
       "output_type": "pyout",
       "prompt_number": 88,
       "text": [
        "IUPACUnambiguousDNA()"
       ]
      }
     ],
     "prompt_number": 88
    },
    {
     "cell_type": "markdown",
     "metadata": {},
     "source": [
      "Unless of course, this really is an amino acid sequence:"
     ]
    },
    {
     "cell_type": "code",
     "collapsed": false,
     "input": [
      "my_prot = Seq(\"AGTACACTGGT\", IUPAC.protein)\n",
      "my_prot"
     ],
     "language": "python",
     "metadata": {},
     "outputs": [
      {
       "metadata": {},
       "output_type": "pyout",
       "prompt_number": 89,
       "text": [
        "Seq('AGTACACTGGT', IUPACProtein())"
       ]
      }
     ],
     "prompt_number": 89
    },
    {
     "cell_type": "code",
     "collapsed": false,
     "input": [
      "my_prot.alphabet"
     ],
     "language": "python",
     "metadata": {},
     "outputs": [
      {
       "metadata": {},
       "output_type": "pyout",
       "prompt_number": 90,
       "text": [
        "IUPACProtein()"
       ]
      }
     ],
     "prompt_number": 90
    },
    {
     "cell_type": "heading",
     "level": 2,
     "metadata": {},
     "source": [
      "Sequences act like strings"
     ]
    },
    {
     "cell_type": "markdown",
     "metadata": {},
     "source": [
      "In many ways, we can deal with Seq objects as if they were normal Python strings, for example getting the length, or iterating over the elements:"
     ]
    },
    {
     "cell_type": "code",
     "collapsed": false,
     "input": [
      "my_seq = Seq(\"GATCG\", IUPAC.unambiguous_dna)\n",
      "for index, letter in enumerate(my_seq):\n",
      "    print(\"%i %s\" % (index, letter))\n",
      "print(len(my_seq))"
     ],
     "language": "python",
     "metadata": {},
     "outputs": [
      {
       "output_type": "stream",
       "stream": "stdout",
       "text": [
        "0 G\n",
        "1 A\n",
        "2 T\n",
        "3 C\n",
        "4 G\n",
        "5\n"
       ]
      }
     ],
     "prompt_number": 5
    },
    {
     "cell_type": "markdown",
     "metadata": {},
     "source": [
      "You can access elements of the sequence in the same way as for strings (but remember, Python counts from zero!):"
     ]
    },
    {
     "cell_type": "code",
     "collapsed": false,
     "input": [
      "print(my_seq[0]) #first letter\n",
      "print(my_seq[2]) #third letter\n",
      "print(my_seq[-1]) #last letter"
     ],
     "language": "python",
     "metadata": {},
     "outputs": [
      {
       "output_type": "stream",
       "stream": "stdout",
       "text": [
        "G\n",
        "T\n",
        "G\n"
       ]
      }
     ],
     "prompt_number": 6
    },
    {
     "cell_type": "markdown",
     "metadata": {},
     "source": [
      "The __Seq__ object has a __.count()__ method, just like a string.\n",
      "Note that this means that like a Python string, this gives a\n",
      "\\emph{non-overlapping} count:\n"
     ]
    },
    {
     "cell_type": "code",
     "collapsed": false,
     "input": [
      "print(\"AAAA\".count(\"AA\"))\n",
      "print(Seq(\"AAAA\").count(\"AA\"))"
     ],
     "language": "python",
     "metadata": {},
     "outputs": [
      {
       "output_type": "stream",
       "stream": "stdout",
       "text": [
        "2\n",
        "2\n"
       ]
      }
     ],
     "prompt_number": 7
    },
    {
     "cell_type": "markdown",
     "metadata": {},
     "source": [
      "For some biological uses, you may actually want an overlapping count\n",
      "(i.e. $3$ in this trivial example). When searching for single letters, this\n",
      "makes no difference:"
     ]
    },
    {
     "cell_type": "code",
     "collapsed": false,
     "input": [
      "from Bio.Seq import Seq\n",
      "from Bio.Alphabet import IUPAC\n",
      "my_seq = Seq('GATCGATGGGCCTATATAGGATCGAAAATCGC', IUPAC.unambiguous_dna)\n",
      "print(len(my_seq))\n",
      "print(my_seq.count(\"G\"))\n",
      "9\n",
      "print(100 * float(my_seq.count(\"G\") + my_seq.count(\"C\")) / len(my_seq))"
     ],
     "language": "python",
     "metadata": {},
     "outputs": [
      {
       "output_type": "stream",
       "stream": "stdout",
       "text": [
        "32\n",
        "9\n",
        "46.875\n"
       ]
      }
     ],
     "prompt_number": 8
    },
    {
     "cell_type": "markdown",
     "metadata": {},
     "source": [
      "While you could use the above snippet of code to calculate a GC\\%, note that  the __Bio.SeqUtils__ module has several GC functions already built.  For example:\n"
     ]
    },
    {
     "cell_type": "code",
     "collapsed": false,
     "input": [
      "from Bio.SeqUtils import GC\n",
      "my_seq = Seq('GATCGATGGGCCTATATAGGATCGAAAATCGC', IUPAC.unambiguous_dna)\n",
      "GC(my_seq)"
     ],
     "language": "python",
     "metadata": {},
     "outputs": [
      {
       "metadata": {},
       "output_type": "pyout",
       "prompt_number": 9,
       "text": [
        "46.875"
       ]
      }
     ],
     "prompt_number": 9
    },
    {
     "cell_type": "markdown",
     "metadata": {},
     "source": [
      "Note that using the __Bio.SeqUtils.GC()__ function should automatically cope with mixed case sequences and the ambiguous nucleotide S which means G or C.\n",
      "\n",
      "Also note that just like a normal Python string, the __Seq__ object is in some ways ``read-only''.  If you need to edit your sequence, for example simulating a point mutation, look at the Section~\\ref{sec:mutable-seq} below which talks about the __MutableSeq__ object."
     ]
    },
    {
     "cell_type": "heading",
     "level": 2,
     "metadata": {},
     "source": [
      "Slicing a sequence"
     ]
    },
    {
     "cell_type": "markdown",
     "metadata": {},
     "source": [
      "A more complicated example, let's get a slice of the sequence:"
     ]
    },
    {
     "cell_type": "code",
     "collapsed": false,
     "input": [
      "my_seq = Seq(\"GATCGATGGGCCTATATAGGATCGAAAATCGC\", IUPAC.unambiguous_dna)\n",
      "my_seq[4:12]"
     ],
     "language": "python",
     "metadata": {},
     "outputs": [
      {
       "metadata": {},
       "output_type": "pyout",
       "prompt_number": 10,
       "text": [
        "Seq('GATGGGCC', IUPACUnambiguousDNA())"
       ]
      }
     ],
     "prompt_number": 10
    },
    {
     "cell_type": "markdown",
     "metadata": {},
     "source": [
      "Two things are interesting to note. First, this follows the normal conventions for Python strings.  So the first element of the sequence is 0 (which is normal for computer science, but not so normal for biology). When you do a slice the first item is included (i.e.~4 in this case) and the last is excluded (12 in this case), which is the way things work in Python, but of course not necessarily the way everyone in the world would expect. The main goal is to stay consistent with what Python does.\n",
      "\n",
      "The second thing to notice is that the slice is performed on the sequence data string, but the new object produced is another __Seq__ object which retains the alphabet information from the original __Seq__ object.\n",
      "\n",
      "Also like a Python string, you can do slices with a start, stop and \\emph{stride} (the step size, which defaults to one).  For example, we can get the first, second and third codon positions of this DNA sequence:"
     ]
    },
    {
     "cell_type": "code",
     "collapsed": false,
     "input": [
      "print(my_seq[0::3])\n",
      "print(my_seq[1::3])\n",
      "print(my_seq[2::3])"
     ],
     "language": "python",
     "metadata": {},
     "outputs": [
      {
       "output_type": "stream",
       "stream": "stdout",
       "text": [
        "GCTGTAGTAAG\n",
        "AGGCATGCATC\n",
        "TAGCTAAGAC\n"
       ]
      }
     ],
     "prompt_number": 11
    },
    {
     "cell_type": "markdown",
     "metadata": {},
     "source": [
      "Another stride trick you might have seen with a Python string is the use of a -1 stride to reverse the string.  You can do this with a __Seq__ object too:\n"
     ]
    },
    {
     "cell_type": "code",
     "collapsed": false,
     "input": [
      "my_seq[::-1]"
     ],
     "language": "python",
     "metadata": {},
     "outputs": [
      {
       "metadata": {},
       "output_type": "pyout",
       "prompt_number": 12,
       "text": [
        "Seq('CGCTAAAAGCTAGGATATATCCGGGTAGCTAG', IUPACUnambiguousDNA())"
       ]
      }
     ],
     "prompt_number": 12
    },
    {
     "cell_type": "heading",
     "level": 2,
     "metadata": {},
     "source": [
      "Turning Seq objects into strings"
     ]
    },
    {
     "cell_type": "markdown",
     "metadata": {},
     "source": [
      "If you really do just need a plain string, for example to write to a file, or insert into a database, then this is very easy to get:"
     ]
    },
    {
     "cell_type": "code",
     "collapsed": false,
     "input": [
      "str(my_seq)"
     ],
     "language": "python",
     "metadata": {},
     "outputs": [
      {
       "metadata": {},
       "output_type": "pyout",
       "prompt_number": 13,
       "text": [
        "'GATCGATGGGCCTATATAGGATCGAAAATCGC'"
       ]
      }
     ],
     "prompt_number": 13
    },
    {
     "cell_type": "markdown",
     "metadata": {},
     "source": [
      "Since calling __str()__ on a __Seq__ object returns the full sequence as a string,\n",
      "you often don't actually have to do this conversion explicitly.\n",
      "Python does this automatically in the print function\n",
      "(and the print statement under Python 2):"
     ]
    },
    {
     "cell_type": "code",
     "collapsed": false,
     "input": [
      "print(my_seq)"
     ],
     "language": "python",
     "metadata": {},
     "outputs": [
      {
       "output_type": "stream",
       "stream": "stdout",
       "text": [
        "GATCGATGGGCCTATATAGGATCGAAAATCGC\n"
       ]
      }
     ],
     "prompt_number": 14
    },
    {
     "cell_type": "markdown",
     "metadata": {},
     "source": [
      "You can also use the __Seq__ object directly with a __%s__ placeholder when using the Python string formatting or interpolation operator (__%|):"
     ]
    },
    {
     "cell_type": "code",
     "collapsed": false,
     "input": [
      "fasta_format_string = \">Name\\n%s\\n\" % my_seq\n",
      "print(fasta_format_string)"
     ],
     "language": "python",
     "metadata": {},
     "outputs": [
      {
       "output_type": "stream",
       "stream": "stdout",
       "text": [
        ">Name\n",
        "GATCGATGGGCCTATATAGGATCGAAAATCGC\n",
        "\n"
       ]
      }
     ],
     "prompt_number": 15
    },
    {
     "cell_type": "markdown",
     "metadata": {},
     "source": [
      "This line of code constructs a simple FASTA format record (without worrying about line wrapping).\n",
      "Section~\\ref{sec:SeqRecord-format} describes a neat way to get a FASTA formatted\n",
      "string from a __SeqRecord__ object, while the more general topic of reading and\n",
      "writing FASTA format sequence files is covered in Chapter~\\ref{chapter:Bio.SeqIO}."
     ]
    },
    {
     "cell_type": "markdown",
     "metadata": {},
     "source": [
      "\\emph{NOTE:} If you are using Biopython 1.44 or older, using __str(my_seq)|\n",
      "will give just a truncated representation.  Instead use __my_seq.tostring()|\n",
      "(which is still available in the current Biopython releases for backwards compatibility)"
     ]
    },
    {
     "cell_type": "code",
     "collapsed": false,
     "input": [
      "my_seq.tostring()"
     ],
     "language": "python",
     "metadata": {},
     "outputs": [
      {
       "output_type": "stream",
       "stream": "stderr",
       "text": [
        "/Users/squiresrb/anaconda/lib/python2.7/site-packages/Bio/Seq.py:302: BiopythonDeprecationWarning: This method is obsolete; please use str(my_seq) instead of my_seq.tostring().\n",
        "  BiopythonDeprecationWarning)\n"
       ]
      },
      {
       "metadata": {},
       "output_type": "pyout",
       "prompt_number": 16,
       "text": [
        "'GATCGATGGGCCTATATAGGATCGAAAATCGC'"
       ]
      }
     ],
     "prompt_number": 16
    },
    {
     "cell_type": "heading",
     "level": 2,
     "metadata": {},
     "source": [
      "Concatenating or adding sequences"
     ]
    },
    {
     "cell_type": "markdown",
     "metadata": {},
     "source": [
      "Naturally, you can in principle add any two Seq objects together - just like you can with Python strings to concatenate them.  However, you can't add sequences with incompatible alphabets, such as a protein sequence and a DNA sequence:"
     ]
    },
    {
     "cell_type": "code",
     "collapsed": false,
     "input": [
      "protein_seq = Seq(\"EVRNAK\", IUPAC.protein)\n",
      "dna_seq = Seq(\"ACGT\", IUPAC.unambiguous_dna)\n",
      "protein_seq + dna_seq"
     ],
     "language": "python",
     "metadata": {},
     "outputs": [
      {
       "ename": "TypeError",
       "evalue": "Incompatible alphabets IUPACProtein() and IUPACUnambiguousDNA()",
       "output_type": "pyerr",
       "traceback": [
        "\u001b[0;31m---------------------------------------------------------------------------\u001b[0m\n\u001b[0;31mTypeError\u001b[0m                                 Traceback (most recent call last)",
        "\u001b[0;32m<ipython-input-17-815c67e969c0>\u001b[0m in \u001b[0;36m<module>\u001b[0;34m()\u001b[0m\n\u001b[1;32m      1\u001b[0m \u001b[0mprotein_seq\u001b[0m \u001b[0;34m=\u001b[0m \u001b[0mSeq\u001b[0m\u001b[0;34m(\u001b[0m\u001b[0;34m\"EVRNAK\"\u001b[0m\u001b[0;34m,\u001b[0m \u001b[0mIUPAC\u001b[0m\u001b[0;34m.\u001b[0m\u001b[0mprotein\u001b[0m\u001b[0;34m)\u001b[0m\u001b[0;34m\u001b[0m\u001b[0m\n\u001b[1;32m      2\u001b[0m \u001b[0mdna_seq\u001b[0m \u001b[0;34m=\u001b[0m \u001b[0mSeq\u001b[0m\u001b[0;34m(\u001b[0m\u001b[0;34m\"ACGT\"\u001b[0m\u001b[0;34m,\u001b[0m \u001b[0mIUPAC\u001b[0m\u001b[0;34m.\u001b[0m\u001b[0munambiguous_dna\u001b[0m\u001b[0;34m)\u001b[0m\u001b[0;34m\u001b[0m\u001b[0m\n\u001b[0;32m----> 3\u001b[0;31m \u001b[0mprotein_seq\u001b[0m \u001b[0;34m+\u001b[0m \u001b[0mdna_seq\u001b[0m\u001b[0;34m\u001b[0m\u001b[0m\n\u001b[0m",
        "\u001b[0;32m/Users/squiresrb/anaconda/lib/python2.7/site-packages/Bio/Seq.pyc\u001b[0m in \u001b[0;36m__add__\u001b[0;34m(self, other)\u001b[0m\n\u001b[1;32m    251\u001b[0m                                                     other.alphabet]):\n\u001b[1;32m    252\u001b[0m                 raise TypeError(\"Incompatible alphabets %s and %s\"\n\u001b[0;32m--> 253\u001b[0;31m                                 % (repr(self.alphabet), repr(other.alphabet)))\n\u001b[0m\u001b[1;32m    254\u001b[0m             \u001b[0;31m#They should be the same sequence type (or one of them is generic)\u001b[0m\u001b[0;34m\u001b[0m\u001b[0;34m\u001b[0m\u001b[0m\n\u001b[1;32m    255\u001b[0m             \u001b[0ma\u001b[0m \u001b[0;34m=\u001b[0m \u001b[0mAlphabet\u001b[0m\u001b[0;34m.\u001b[0m\u001b[0m_consensus_alphabet\u001b[0m\u001b[0;34m(\u001b[0m\u001b[0;34m[\u001b[0m\u001b[0mself\u001b[0m\u001b[0;34m.\u001b[0m\u001b[0malphabet\u001b[0m\u001b[0;34m,\u001b[0m \u001b[0mother\u001b[0m\u001b[0;34m.\u001b[0m\u001b[0malphabet\u001b[0m\u001b[0;34m]\u001b[0m\u001b[0;34m)\u001b[0m\u001b[0;34m\u001b[0m\u001b[0m\n",
        "\u001b[0;31mTypeError\u001b[0m: Incompatible alphabets IUPACProtein() and IUPACUnambiguousDNA()"
       ]
      }
     ],
     "prompt_number": 17
    },
    {
     "cell_type": "markdown",
     "metadata": {},
     "source": [
      "If you \\emph{really} wanted to do this, you'd have to first give both sequences generic alphabets:"
     ]
    },
    {
     "cell_type": "code",
     "collapsed": false,
     "input": [
      "from Bio.Alphabet import generic_alphabet\n",
      "protein_seq.alphabet = generic_alphabet\n",
      "dna_seq.alphabet = generic_alphabet\n",
      "protein_seq + dna_seq"
     ],
     "language": "python",
     "metadata": {},
     "outputs": [
      {
       "metadata": {},
       "output_type": "pyout",
       "prompt_number": 104,
       "text": [
        "Seq('EVRNAKACGT', Alphabet())"
       ]
      }
     ],
     "prompt_number": 104
    },
    {
     "cell_type": "markdown",
     "metadata": {},
     "source": [
      "Here is an example of adding a generic nucleotide sequence to an unambiguous IUPAC DNA sequence, resulting in an ambiguous nucleotide sequence:"
     ]
    },
    {
     "cell_type": "code",
     "collapsed": false,
     "input": [
      "from Bio.Alphabet import generic_nucleotide\n",
      "nuc_seq = Seq(\"GATCGATGC\", generic_nucleotide)\n",
      "dna_seq = Seq(\"ACGT\", IUPAC.unambiguous_dna)\n",
      "nuc_seq"
     ],
     "language": "python",
     "metadata": {},
     "outputs": [
      {
       "metadata": {},
       "output_type": "pyout",
       "prompt_number": 105,
       "text": [
        "Seq('GATCGATGC', NucleotideAlphabet())"
       ]
      }
     ],
     "prompt_number": 105
    },
    {
     "cell_type": "code",
     "collapsed": false,
     "input": [
      "dna_seq"
     ],
     "language": "python",
     "metadata": {},
     "outputs": [
      {
       "metadata": {},
       "output_type": "pyout",
       "prompt_number": 106,
       "text": [
        "Seq('ACGT', IUPACUnambiguousDNA())"
       ]
      }
     ],
     "prompt_number": 106
    },
    {
     "cell_type": "code",
     "collapsed": false,
     "input": [
      "nuc_seq + dna_seq"
     ],
     "language": "python",
     "metadata": {},
     "outputs": [
      {
       "metadata": {},
       "output_type": "pyout",
       "prompt_number": 107,
       "text": [
        "Seq('GATCGATGCACGT', NucleotideAlphabet())"
       ]
      }
     ],
     "prompt_number": 107
    },
    {
     "cell_type": "markdown",
     "metadata": {},
     "source": [
      "You may often have many sequences to add together, which can be done with a for loop like this:"
     ]
    },
    {
     "cell_type": "code",
     "collapsed": false,
     "input": [
      "from Bio.Alphabet import generic_dna\n",
      "list_of_seqs = [Seq(\"ACGT\", generic_dna), Seq(\"AACC\", generic_dna), Seq(\"GGTT\", generic_dna)]\n",
      "concatenated = Seq(\"\", generic_dna)\n",
      "for s in list_of_seqs:\n",
      "     concatenated += s\n",
      "concatenated"
     ],
     "language": "python",
     "metadata": {},
     "outputs": [
      {
       "metadata": {},
       "output_type": "pyout",
       "prompt_number": 19,
       "text": [
        "Seq('ACGTAACCGGTT', DNAAlphabet())"
       ]
      }
     ],
     "prompt_number": 19
    },
    {
     "cell_type": "markdown",
     "metadata": {},
     "source": [
      "Or, a more elegant approach is to the use built in __sum__ function with its optional start value argument (which otherwise defaults to zero):\n"
     ]
    },
    {
     "cell_type": "code",
     "collapsed": false,
     "input": [
      "list_of_seqs = [Seq(\"ACGT\", generic_dna), Seq(\"AACC\", generic_dna), Seq(\"GGTT\", generic_dna)]\n",
      "sum(list_of_seqs, Seq(\"\", generic_dna))"
     ],
     "language": "python",
     "metadata": {},
     "outputs": [
      {
       "metadata": {},
       "output_type": "pyout",
       "prompt_number": 20,
       "text": [
        "Seq('ACGTAACCGGTT', DNAAlphabet())"
       ]
      }
     ],
     "prompt_number": 20
    },
    {
     "cell_type": "markdown",
     "metadata": {},
     "source": [
      "Unlike the Python string, the Biopython __Seq__ does not (currently) have a __.join__ method."
     ]
    },
    {
     "cell_type": "heading",
     "level": 2,
     "metadata": {},
     "source": [
      "Changing case"
     ]
    },
    {
     "cell_type": "markdown",
     "metadata": {},
     "source": [
      "Python strings have very useful __upper__ and __lower__ methods for changing the case.\n",
      "As of Biopython 1.53, the __Seq__ object gained similar methods which are alphabet aware.\n",
      "For example,"
     ]
    },
    {
     "cell_type": "code",
     "collapsed": false,
     "input": [
      "dna_seq = Seq(\"acgtACGT\", generic_dna)\n",
      "#print(dna_seq)\n",
      "dna1 = dna_seq.upper()\n",
      "dna2 = dna_seq.lower()\n",
      "dna1 == dna2\n",
      "#print(dna_seq.upper())\n",
      "#print(dna_seq.lower())\n"
     ],
     "language": "python",
     "metadata": {},
     "outputs": [
      {
       "metadata": {},
       "output_type": "pyout",
       "prompt_number": 37,
       "text": [
        "False"
       ]
      }
     ],
     "prompt_number": 37
    },
    {
     "cell_type": "markdown",
     "metadata": {},
     "source": [
      "These are useful for doing case insensitive matching:"
     ]
    },
    {
     "cell_type": "code",
     "collapsed": false,
     "input": [
      "print(\"GTAC\" in dna_seq)\n",
      "print(\"GTAC\" in dna_seq.upper())"
     ],
     "language": "python",
     "metadata": {},
     "outputs": [
      {
       "output_type": "stream",
       "stream": "stdout",
       "text": [
        "False\n",
        "True\n"
       ]
      }
     ],
     "prompt_number": 22
    },
    {
     "cell_type": "markdown",
     "metadata": {},
     "source": [
      "\n",
      "Note that strictly speaking the IUPAC alphabets are for upper case\n",
      "sequences only, thus:"
     ]
    },
    {
     "cell_type": "code",
     "collapsed": false,
     "input": [
      "dna_seq = Seq(\"ACGT\", IUPAC.unambiguous_dna)\n",
      "dna_seq"
     ],
     "language": "python",
     "metadata": {},
     "outputs": [
      {
       "metadata": {},
       "output_type": "pyout",
       "prompt_number": 23,
       "text": [
        "Seq('ACGT', IUPACUnambiguousDNA())"
       ]
      }
     ],
     "prompt_number": 23
    },
    {
     "cell_type": "code",
     "collapsed": false,
     "input": [
      "dna_seq.lower()"
     ],
     "language": "python",
     "metadata": {},
     "outputs": [
      {
       "metadata": {},
       "output_type": "pyout",
       "prompt_number": 24,
       "text": [
        "Seq('acgt', DNAAlphabet())"
       ]
      }
     ],
     "prompt_number": 24
    },
    {
     "cell_type": "heading",
     "level": 2,
     "metadata": {},
     "source": [
      "Nucleotide sequences and (reverse) complements"
     ]
    },
    {
     "cell_type": "markdown",
     "metadata": {},
     "source": [
      "For nucleotide sequences, you can easily obtain the complement or reverse\n",
      "complement of a __Seq__ object using its built-in methods:"
     ]
    },
    {
     "cell_type": "code",
     "collapsed": false,
     "input": [
      "my_seq = Seq(\"GATCGATGGGCCTATATAGGATCGAAAATCGC\", IUPAC.unambiguous_dna)\n",
      "print(my_seq)\n",
      "print(my_seq.complement())\n",
      "print(my_seq.reverse_complement())\n"
     ],
     "language": "python",
     "metadata": {},
     "outputs": [
      {
       "output_type": "stream",
       "stream": "stdout",
       "text": [
        "GATCGATGGGCCTATATAGGATCGAAAATCGC\n",
        "CTAGCTACCCGGATATATCCTAGCTTTTAGCG\n",
        "GCGATTTTCGATCCTATATAGGCCCATCGATC\n"
       ]
      }
     ],
     "prompt_number": 25
    },
    {
     "cell_type": "markdown",
     "metadata": {},
     "source": [
      "As mentioned earlier, an easy way to just reverse a __Seq__ object (or a\n",
      "Python string) is slice it with -1 step:"
     ]
    },
    {
     "cell_type": "code",
     "collapsed": false,
     "input": [
      "my_seq[::-1]"
     ],
     "language": "python",
     "metadata": {},
     "outputs": [
      {
       "metadata": {},
       "output_type": "pyout",
       "prompt_number": 26,
       "text": [
        "Seq('CGCTAAAAGCTAGGATATATCCGGGTAGCTAG', IUPACUnambiguousDNA())"
       ]
      }
     ],
     "prompt_number": 26
    },
    {
     "cell_type": "markdown",
     "metadata": {},
     "source": [
      "In all of these operations, the alphabet property is maintained. This is very\n",
      "useful in case you accidentally end up trying to do something weird like take\n",
      "the (reverse)complement of a protein sequence:"
     ]
    },
    {
     "cell_type": "code",
     "collapsed": false,
     "input": [
      "protein_seq = Seq(\"EVRNAK\", IUPAC.protein)\n",
      "protein_seq.complement()"
     ],
     "language": "python",
     "metadata": {},
     "outputs": [
      {
       "ename": "ValueError",
       "evalue": "Proteins do not have complements!",
       "output_type": "pyerr",
       "traceback": [
        "\u001b[0;31m---------------------------------------------------------------------------\u001b[0m\n\u001b[0;31mValueError\u001b[0m                                Traceback (most recent call last)",
        "\u001b[0;32m<ipython-input-27-b421a6b00bf0>\u001b[0m in \u001b[0;36m<module>\u001b[0;34m()\u001b[0m\n\u001b[1;32m      1\u001b[0m \u001b[0mprotein_seq\u001b[0m \u001b[0;34m=\u001b[0m \u001b[0mSeq\u001b[0m\u001b[0;34m(\u001b[0m\u001b[0;34m\"EVRNAK\"\u001b[0m\u001b[0;34m,\u001b[0m \u001b[0mIUPAC\u001b[0m\u001b[0;34m.\u001b[0m\u001b[0mprotein\u001b[0m\u001b[0;34m)\u001b[0m\u001b[0;34m\u001b[0m\u001b[0m\n\u001b[0;32m----> 2\u001b[0;31m \u001b[0mprotein_seq\u001b[0m\u001b[0;34m.\u001b[0m\u001b[0mcomplement\u001b[0m\u001b[0;34m(\u001b[0m\u001b[0;34m)\u001b[0m\u001b[0;34m\u001b[0m\u001b[0m\n\u001b[0m",
        "\u001b[0;32m/Users/squiresrb/anaconda/lib/python2.7/site-packages/Bio/Seq.pyc\u001b[0m in \u001b[0;36mcomplement\u001b[0;34m(self)\u001b[0m\n\u001b[1;32m    719\u001b[0m         \u001b[0mbase\u001b[0m \u001b[0;34m=\u001b[0m \u001b[0mAlphabet\u001b[0m\u001b[0;34m.\u001b[0m\u001b[0m_get_base_alphabet\u001b[0m\u001b[0;34m(\u001b[0m\u001b[0mself\u001b[0m\u001b[0;34m.\u001b[0m\u001b[0malphabet\u001b[0m\u001b[0;34m)\u001b[0m\u001b[0;34m\u001b[0m\u001b[0m\n\u001b[1;32m    720\u001b[0m         \u001b[0;32mif\u001b[0m \u001b[0misinstance\u001b[0m\u001b[0;34m(\u001b[0m\u001b[0mbase\u001b[0m\u001b[0;34m,\u001b[0m \u001b[0mAlphabet\u001b[0m\u001b[0;34m.\u001b[0m\u001b[0mProteinAlphabet\u001b[0m\u001b[0;34m)\u001b[0m\u001b[0;34m:\u001b[0m\u001b[0;34m\u001b[0m\u001b[0m\n\u001b[0;32m--> 721\u001b[0;31m             \u001b[0;32mraise\u001b[0m \u001b[0mValueError\u001b[0m\u001b[0;34m(\u001b[0m\u001b[0;34m\"Proteins do not have complements!\"\u001b[0m\u001b[0;34m)\u001b[0m\u001b[0;34m\u001b[0m\u001b[0m\n\u001b[0m\u001b[1;32m    722\u001b[0m         \u001b[0;32mif\u001b[0m \u001b[0misinstance\u001b[0m\u001b[0;34m(\u001b[0m\u001b[0mbase\u001b[0m\u001b[0;34m,\u001b[0m \u001b[0mAlphabet\u001b[0m\u001b[0;34m.\u001b[0m\u001b[0mDNAAlphabet\u001b[0m\u001b[0;34m)\u001b[0m\u001b[0;34m:\u001b[0m\u001b[0;34m\u001b[0m\u001b[0m\n\u001b[1;32m    723\u001b[0m             \u001b[0mttable\u001b[0m \u001b[0;34m=\u001b[0m \u001b[0m_dna_complement_table\u001b[0m\u001b[0;34m\u001b[0m\u001b[0m\n",
        "\u001b[0;31mValueError\u001b[0m: Proteins do not have complements!"
       ]
      }
     ],
     "prompt_number": 27
    },
    {
     "cell_type": "markdown",
     "metadata": {},
     "source": [
      "The example in Section~\\ref{sec:SeqIO-reverse-complement} combines the __Seq|\n",
      "object's reverse complement method with __Bio.SeqIO__ for sequence input/output."
     ]
    },
    {
     "cell_type": "heading",
     "level": 2,
     "metadata": {},
     "source": [
      "Transcription"
     ]
    },
    {
     "cell_type": "markdown",
     "metadata": {},
     "source": [
      "Before talking about transcription, I want to try and clarify the strand issue.\n",
      "Consider the following (made up) stretch of double stranded DNA which\n",
      "encodes a short peptide:"
     ]
    },
    {
     "cell_type": "markdown",
     "metadata": {},
     "source": [
      "\\begin{tabular}{rcl}\n",
      "\\\\\n",
      "   & {\\small DNA coding strand (aka Crick strand, strand $+1$)} & \\\\\n",
      "5' & \\texttt{ATGGCCATTGTAATGGGCCGCTGAAAGGGTGCCCGATAG} & 3' \\\\\n",
      "   & \\texttt{|||||||||||||||||||||||||||||||||||||||} & \\\\\n",
      "3' & \\texttt{TACCGGTAACATTACCCGGCGACTTTCCCACGGGCTATC} & 5' \\\\\n",
      "   & {\\small DNA template strand (aka Watson strand, strand $-1$)} & \\\\\n",
      "\\\\\n",
      "   & {\\LARGE $|$} &\\\\\n",
      "   & Transcription & \\\\\n",
      "   & {\\LARGE $\\downarrow$} &\\\\\n",
      "\\\\\n",
      "5' & \\texttt{AUGGCCAUUGUAAUGGGCCGCUGAAAGGGUGCCCGAUAG} & 3' \\\\\n",
      "   & {\\small Single stranded messenger RNA} & \\\\\n",
      "\\\\\n",
      "\\end{tabular}"
     ]
    },
    {
     "cell_type": "markdown",
     "metadata": {},
     "source": [
      "\n",
      "The actual biological transcription process works from the template strand, doing a reverse complement (TCAG $\\rightarrow$ CUGA) to give the mRNA.  However, in Biopython and bioinformatics in general, we typically work directly with the coding strand because this means we can get the mRNA sequence just by switching T $\\rightarrow$ U.\n",
      "\n",
      "Now let's actually get down to doing a transcription in Biopython.  First, let's create __Seq__ objects for the coding and template DNA strands:"
     ]
    },
    {
     "cell_type": "code",
     "collapsed": false,
     "input": [
      "coding_dna = Seq(\"ATGGCCATTGTAATGGGCCGCTGAAAGGGTGCCCGATAG\", IUPAC.unambiguous_dna)\n",
      "print(coding_dna)\n",
      "template_dna = coding_dna.reverse_complement()\n",
      "print(template_dna)"
     ],
     "language": "python",
     "metadata": {},
     "outputs": [
      {
       "output_type": "stream",
       "stream": "stdout",
       "text": [
        "ATGGCCATTGTAATGGGCCGCTGAAAGGGTGCCCGATAG\n",
        "CTATCGGGCACCCTTTCAGCGGCCCATTACAATGGCCAT\n"
       ]
      }
     ],
     "prompt_number": 28
    },
    {
     "cell_type": "markdown",
     "metadata": {},
     "source": [
      "These should match the figure above - remember by convention nucleotide sequences are normally read from the 5' to 3' direction, while in the figure the template strand is shown reversed.\n",
      "\n",
      "Now let's transcribe the coding strand into the corresponding mRNA, using the __Seq__ object's built in __transcribe__ method:"
     ]
    },
    {
     "cell_type": "code",
     "collapsed": false,
     "input": [
      "messenger_rna = coding_dna.transcribe()\n",
      "messenger_rna"
     ],
     "language": "python",
     "metadata": {},
     "outputs": [
      {
       "metadata": {},
       "output_type": "pyout",
       "prompt_number": 29,
       "text": [
        "Seq('AUGGCCAUUGUAAUGGGCCGCUGAAAGGGUGCCCGAUAG', IUPACUnambiguousRNA())"
       ]
      }
     ],
     "prompt_number": 29
    },
    {
     "cell_type": "markdown",
     "metadata": {},
     "source": [
      "As you can see, all this does is switch T $\\rightarrow$ U, and adjust the alphabet.\n",
      "\n",
      "If you do want to do a true biological transcription starting with the template strand, then this becomes a two-step process:"
     ]
    },
    {
     "cell_type": "code",
     "collapsed": false,
     "input": [
      "template_dna.reverse_complement().transcribe()"
     ],
     "language": "python",
     "metadata": {},
     "outputs": [
      {
       "metadata": {},
       "output_type": "pyout",
       "prompt_number": 30,
       "text": [
        "Seq('AUGGCCAUUGUAAUGGGCCGCUGAAAGGGUGCCCGAUAG', IUPACUnambiguousRNA())"
       ]
      }
     ],
     "prompt_number": 30
    },
    {
     "cell_type": "markdown",
     "metadata": {},
     "source": [
      "The __Seq__ object also includes a back-transcription method for going from the mRNA to the coding strand of the DNA.  Again, this is a simple U $\\rightarrow$ T substitution and associated change of alphabet:"
     ]
    },
    {
     "cell_type": "code",
     "collapsed": false,
     "input": [
      "messenger_rna.back_transcribe()"
     ],
     "language": "python",
     "metadata": {},
     "outputs": [
      {
       "metadata": {},
       "output_type": "pyout",
       "prompt_number": 31,
       "text": [
        "Seq('ATGGCCATTGTAATGGGCCGCTGAAAGGGTGCCCGATAG', IUPACUnambiguousDNA())"
       ]
      }
     ],
     "prompt_number": 31
    },
    {
     "cell_type": "markdown",
     "metadata": {},
     "source": [
      "The __Seq__ object's __transcribe__ and __back_transcribe__ methods\n",
      "were added in Biopython 1.49.  For older releases you would have to use the __Bio.Seq|\n",
      "module's functions instead, see Section~\\ref{sec:seq-module-functions}."
     ]
    },
    {
     "cell_type": "heading",
     "level": 2,
     "metadata": {},
     "source": [
      "Translation"
     ]
    },
    {
     "cell_type": "markdown",
     "metadata": {},
     "source": [
      "Sticking with the same example discussed in the transcription section above,\n",
      "now let's translate this mRNA into the corresponding protein sequence - again taking\n",
      "advantage of one of the __Seq__ object's biological methods:"
     ]
    },
    {
     "cell_type": "code",
     "collapsed": false,
     "input": [
      "messenger_rna.translate()"
     ],
     "language": "python",
     "metadata": {},
     "outputs": [
      {
       "metadata": {},
       "output_type": "pyout",
       "prompt_number": 32,
       "text": [
        "Seq('MAIVMGR*KGAR*', HasStopCodon(IUPACProtein(), '*'))"
       ]
      }
     ],
     "prompt_number": 32
    },
    {
     "cell_type": "markdown",
     "metadata": {},
     "source": [
      "You can also translate directly from the coding strand DNA sequence:"
     ]
    },
    {
     "cell_type": "code",
     "collapsed": false,
     "input": [
      "coding_dna.translate()"
     ],
     "language": "python",
     "metadata": {},
     "outputs": [
      {
       "metadata": {},
       "output_type": "pyout",
       "prompt_number": 122,
       "text": [
        "Seq('MAIVMGR*KGAR*', HasStopCodon(IUPACProtein(), '*'))"
       ]
      }
     ],
     "prompt_number": 122
    },
    {
     "cell_type": "markdown",
     "metadata": {},
     "source": [
      "You should notice in the above protein sequences that in addition to the end stop character, there is an internal stop as well.  This was a deliberate choice of example, as it gives an excuse to talk about some optional arguments, including different translation tables (Genetic Codes).\n",
      "\n",
      "The translation tables available in Biopython are based on those \\href{http://www.ncbi.nlm.nih.gov/Taxonomy/Utils/wprintgc.cgi}{from the NCBI} (see the next section of this tutorial).  By default, translation will use the \\emph{standard} genetic code (NCBI table id 1).\n",
      "Suppose we are dealing with a mitochondrial sequence.  We need to tell the translation function to use the relevant genetic code instead:"
     ]
    },
    {
     "cell_type": "code",
     "collapsed": false,
     "input": [
      "coding_dna.translate(table=\"Vertebrate Mitochondrial\")"
     ],
     "language": "python",
     "metadata": {},
     "outputs": [
      {
       "metadata": {},
       "output_type": "pyout",
       "prompt_number": 123,
       "text": [
        "Seq('MAIVMGRWKGAR*', HasStopCodon(IUPACProtein(), '*'))"
       ]
      }
     ],
     "prompt_number": 123
    },
    {
     "cell_type": "markdown",
     "metadata": {},
     "source": [
      "You can also specify the table using the NCBI table number which is shorter, and often included in the feature annotation of GenBank files:\n"
     ]
    },
    {
     "cell_type": "code",
     "collapsed": false,
     "input": [
      "coding_dna.translate(table=2)"
     ],
     "language": "python",
     "metadata": {},
     "outputs": [
      {
       "metadata": {},
       "output_type": "pyout",
       "prompt_number": 124,
       "text": [
        "Seq('MAIVMGRWKGAR*', HasStopCodon(IUPACProtein(), '*'))"
       ]
      }
     ],
     "prompt_number": 124
    },
    {
     "cell_type": "markdown",
     "metadata": {},
     "source": [
      "Now, you may want to translate the nucleotides up to the first in frame stop codon,\n",
      "and then stop (as happens in nature):"
     ]
    },
    {
     "cell_type": "code",
     "collapsed": false,
     "input": [
      "coding_dna.translate()"
     ],
     "language": "python",
     "metadata": {},
     "outputs": [
      {
       "metadata": {},
       "output_type": "pyout",
       "prompt_number": 125,
       "text": [
        "Seq('MAIVMGR*KGAR*', HasStopCodon(IUPACProtein(), '*'))"
       ]
      }
     ],
     "prompt_number": 125
    },
    {
     "cell_type": "code",
     "collapsed": false,
     "input": [
      "coding_dna.translate(to_stop=True)"
     ],
     "language": "python",
     "metadata": {},
     "outputs": [
      {
       "metadata": {},
       "output_type": "pyout",
       "prompt_number": 33,
       "text": [
        "Seq('MAIVMGR', IUPACProtein())"
       ]
      }
     ],
     "prompt_number": 33
    },
    {
     "cell_type": "code",
     "collapsed": false,
     "input": [
      "coding_dna.translate(table=2)"
     ],
     "language": "python",
     "metadata": {},
     "outputs": [
      {
       "metadata": {},
       "output_type": "pyout",
       "prompt_number": 127,
       "text": [
        "Seq('MAIVMGRWKGAR*', HasStopCodon(IUPACProtein(), '*'))"
       ]
      }
     ],
     "prompt_number": 127
    },
    {
     "cell_type": "code",
     "collapsed": false,
     "input": [
      "coding_dna.translate(table=2, to_stop=True)"
     ],
     "language": "python",
     "metadata": {},
     "outputs": [
      {
       "metadata": {},
       "output_type": "pyout",
       "prompt_number": 128,
       "text": [
        "Seq('MAIVMGRWKGAR', IUPACProtein())"
       ]
      }
     ],
     "prompt_number": 128
    },
    {
     "cell_type": "markdown",
     "metadata": {},
     "source": [
      "Notice that when you use the __to_stop__ argument, the stop codon itself\n",
      "is not translated - and the stop symbol is not included at the end of your protein\n",
      "sequence.\n",
      "\n",
      "You can even specify the stop symbol if you don't like the default asterisk:"
     ]
    },
    {
     "cell_type": "code",
     "collapsed": false,
     "input": [
      "coding_dna.translate(table=2, stop_symbol=\"@\")"
     ],
     "language": "python",
     "metadata": {},
     "outputs": [
      {
       "metadata": {},
       "output_type": "pyout",
       "prompt_number": 34,
       "text": [
        "Seq('MAIVMGRWKGAR@', HasStopCodon(IUPACProtein(), '@'))"
       ]
      }
     ],
     "prompt_number": 34
    },
    {
     "cell_type": "markdown",
     "metadata": {},
     "source": [
      "Now, suppose you have a complete coding sequence CDS, which is to say a\n",
      "nucleotide sequence (e.g. mRNA -- after any splicing) which is a whole number\n",
      "of codons (i.e. the length is a multiple of three), commences with a start\n",
      "codon, ends with a stop codon, and has no internal in-frame stop codons.\n",
      "In general, given a complete CDS, the default translate method will do what\n",
      "you want (perhaps with the __to_stop__ option). However, what if your\n",
      "sequence uses a non-standard start codon? This happens a lot in bacteria --\n",
      "for example the gene yaaX in \\texttt{E. coli} K12:"
     ]
    },
    {
     "cell_type": "code",
     "collapsed": false,
     "input": [
      "gene = Seq(\"GTGAAAAAGATGCAATCTATCGTACTCGCACTTTCCCTGGTTCTGGTCGCTCCCATGGCA\" +\n",
      "           \"GCACAGGCTGCGGAAATTACGTTAGTCCCGTCAGTAAAATTACAGATAGGCGATCGTGAT\" + \n",
      "           \"AATCGTGGCTATTACTGGGATGGAGGTCACTGGCGCGACCACGGCTGGTGGAAACAACAT\" + \n",
      "           \"TATGAATGGCGAGGCAATCGCTGGCACCTACACGGACCGCCGCCACCGCCGCGCCACCAT\" + \n",
      "           \"AAGAAAGCTCCTCATGATCATCACGGCGGTCATGGTCCAGGCAAACATCACCGCTAA\",\n",
      "           generic_dna)\n",
      "gene.translate(table=\"Bacterial\")"
     ],
     "language": "python",
     "metadata": {},
     "outputs": [
      {
       "metadata": {},
       "output_type": "pyout",
       "prompt_number": 130,
       "text": [
        "Seq('VKKMQSIVLALSLVLVAPMAAQAAEITLVPSVKLQIGDRDNRGYYWDGGHWRDH...HR*', HasStopCodon(ExtendedIUPACProtein(), '*'))"
       ]
      }
     ],
     "prompt_number": 130
    },
    {
     "cell_type": "code",
     "collapsed": false,
     "input": [
      "gene.translate(table=\"Bacterial\", to_stop=True)"
     ],
     "language": "python",
     "metadata": {},
     "outputs": [
      {
       "metadata": {},
       "output_type": "pyout",
       "prompt_number": 131,
       "text": [
        "Seq('VKKMQSIVLALSLVLVAPMAAQAAEITLVPSVKLQIGDRDNRGYYWDGGHWRDH...HHR', ExtendedIUPACProtein())"
       ]
      }
     ],
     "prompt_number": 131
    },
    {
     "cell_type": "markdown",
     "metadata": {},
     "source": [
      "In the bacterial genetic code \\texttt{GTG} is a valid start codon,\n",
      "and while it does \\emph{normally} encode Valine, if used as a start codon it\n",
      "should be translated as methionine. This happens if you tell Biopython your\n",
      "sequence is a complete CDS:"
     ]
    },
    {
     "cell_type": "code",
     "collapsed": false,
     "input": [
      "gene.translate(table=\"Bacterial\", cds=True)"
     ],
     "language": "python",
     "metadata": {},
     "outputs": [
      {
       "metadata": {},
       "output_type": "pyout",
       "prompt_number": 132,
       "text": [
        "Seq('MKKMQSIVLALSLVLVAPMAAQAAEITLVPSVKLQIGDRDNRGYYWDGGHWRDH...HHR', ExtendedIUPACProtein())"
       ]
      }
     ],
     "prompt_number": 132
    },
    {
     "cell_type": "markdown",
     "metadata": {},
     "source": [
      "In addition to telling Biopython to translate an alternative start codon as\n",
      "methionine, using this option also makes sure your sequence really is a valid\n",
      "CDS (you'll get an exception if not).\n",
      "\n",
      "The example in Section~\\ref{sec:SeqIO-translate} combines the __Seq__ object's\n",
      "translate method with __Bio.SeqIO__ for sequence input/output."
     ]
    },
    {
     "cell_type": "heading",
     "level": 2,
     "metadata": {},
     "source": [
      "Translation Tables"
     ]
    },
    {
     "cell_type": "markdown",
     "metadata": {},
     "source": [
      "In the previous sections we talked about the __Seq__ object translation method (and mentioned the equivalent function in the __Bio.Seq__ module -- see\n",
      "Section~\\ref{sec:seq-module-functions}).\n",
      "Internally these use codon table objects derived from the NCBI information at\n",
      "\\url{ftp://ftp.ncbi.nlm.nih.gov/entrez/misc/data/gc.prt}, also shown on\n",
      "\\url{http://www.ncbi.nlm.nih.gov/Taxonomy/Utils/wprintgc.cgi} in a much more readable layout.\n",
      "\n",
      "As before, let's just focus on two choices: the Standard translation table, and the\n",
      "translation table for Vertebrate Mitochondrial DNA."
     ]
    },
    {
     "cell_type": "code",
     "collapsed": false,
     "input": [
      "from Bio.Data import CodonTable\n",
      "standard_table = CodonTable.unambiguous_dna_by_name[\"Standard\"]\n",
      "mito_table = CodonTable.unambiguous_dna_by_name[\"Vertebrate Mitochondrial\"]"
     ],
     "language": "python",
     "metadata": {},
     "outputs": [],
     "prompt_number": 133
    },
    {
     "cell_type": "markdown",
     "metadata": {},
     "source": [
      "Alternatively, these tables are labeled with ID numbers 1 and 2, respectively:"
     ]
    },
    {
     "cell_type": "code",
     "collapsed": false,
     "input": [
      "standard_table = CodonTable.unambiguous_dna_by_id[1]\n",
      "mito_table = CodonTable.unambiguous_dna_by_id[2]"
     ],
     "language": "python",
     "metadata": {},
     "outputs": [],
     "prompt_number": 134
    },
    {
     "cell_type": "markdown",
     "metadata": {},
     "source": [
      "You can compare the actual tables visually by printing them:"
     ]
    },
    {
     "cell_type": "code",
     "collapsed": false,
     "input": [
      "print(standard_table)"
     ],
     "language": "python",
     "metadata": {},
     "outputs": [
      {
       "output_type": "stream",
       "stream": "stdout",
       "text": [
        "Table 1 Standard, SGC0\n",
        "\n",
        "  __  T      __  C      __  A      __  G      |\n",
        "--+---------+---------+---------+---------+--\n",
        "T __ TTT F   __ TCT S   __ TAT Y   __ TGT C   __ T\n",
        "T __ TTC F   __ TCC S   __ TAC Y   __ TGC C   __ C\n",
        "T __ TTA L   __ TCA S   __ TAA Stop__ TGA Stop__ A\n",
        "T __ TTG L(s)__ TCG S   __ TAG Stop__ TGG W   __ G\n",
        "--+---------+---------+---------+---------+--\n",
        "C __ CTT L   __ CCT P   __ CAT H   __ CGT R   __ T\n",
        "C __ CTC L   __ CCC P   __ CAC H   __ CGC R   __ C\n",
        "C __ CTA L   __ CCA P   __ CAA Q   __ CGA R   __ A\n",
        "C __ CTG L(s)__ CCG P   __ CAG Q   __ CGG R   __ G\n",
        "--+---------+---------+---------+---------+--\n",
        "A __ ATT I   __ ACT T   __ AAT N   __ AGT S   __ T\n",
        "A __ ATC I   __ ACC T   __ AAC N   __ AGC S   __ C\n",
        "A __ ATA I   __ ACA T   __ AAA K   __ AGA R   __ A\n",
        "A __ ATG M(s)__ ACG T   __ AAG K   __ AGG R   __ G\n",
        "--+---------+---------+---------+---------+--\n",
        "G __ GTT V   __ GCT A   __ GAT D   __ GGT G   __ T\n",
        "G __ GTC V   __ GCC A   __ GAC D   __ GGC G   __ C\n",
        "G __ GTA V   __ GCA A   __ GAA E   __ GGA G   __ A\n",
        "G __ GTG V   __ GCG A   __ GAG E   __ GGG G   __ G\n",
        "--+---------+---------+---------+---------+--\n"
       ]
      }
     ],
     "prompt_number": 135
    },
    {
     "cell_type": "code",
     "collapsed": false,
     "input": [
      "print(mito_table)"
     ],
     "language": "python",
     "metadata": {},
     "outputs": [
      {
       "output_type": "stream",
       "stream": "stdout",
       "text": [
        "Table 2 Vertebrate Mitochondrial, SGC1\n",
        "\n",
        "  __  T      __  C      __  A      __  G      |\n",
        "--+---------+---------+---------+---------+--\n",
        "T __ TTT F   __ TCT S   __ TAT Y   __ TGT C   __ T\n",
        "T __ TTC F   __ TCC S   __ TAC Y   __ TGC C   __ C\n",
        "T __ TTA L   __ TCA S   __ TAA Stop__ TGA W   __ A\n",
        "T __ TTG L   __ TCG S   __ TAG Stop__ TGG W   __ G\n",
        "--+---------+---------+---------+---------+--\n",
        "C __ CTT L   __ CCT P   __ CAT H   __ CGT R   __ T\n",
        "C __ CTC L   __ CCC P   __ CAC H   __ CGC R   __ C\n",
        "C __ CTA L   __ CCA P   __ CAA Q   __ CGA R   __ A\n",
        "C __ CTG L   __ CCG P   __ CAG Q   __ CGG R   __ G\n",
        "--+---------+---------+---------+---------+--\n",
        "A __ ATT I(s)__ ACT T   __ AAT N   __ AGT S   __ T\n",
        "A __ ATC I(s)__ ACC T   __ AAC N   __ AGC S   __ C\n",
        "A __ ATA M(s)__ ACA T   __ AAA K   __ AGA Stop__ A\n",
        "A __ ATG M(s)__ ACG T   __ AAG K   __ AGG Stop__ G\n",
        "--+---------+---------+---------+---------+--\n",
        "G __ GTT V   __ GCT A   __ GAT D   __ GGT G   __ T\n",
        "G __ GTC V   __ GCC A   __ GAC D   __ GGC G   __ C\n",
        "G __ GTA V   __ GCA A   __ GAA E   __ GGA G   __ A\n",
        "G __ GTG V(s)__ GCG A   __ GAG E   __ GGG G   __ G\n",
        "--+---------+---------+---------+---------+--\n"
       ]
      }
     ],
     "prompt_number": 136
    },
    {
     "cell_type": "markdown",
     "metadata": {},
     "source": [
      "You may find these following properties useful -- for example if you are trying\n",
      "to do your own gene finding:"
     ]
    },
    {
     "cell_type": "code",
     "collapsed": false,
     "input": [
      "print(mito_table.stop_codons)\n",
      "print(mito_table.start_codons)\n",
      "print(mito_table.forward_table[\"ACG\"])"
     ],
     "language": "python",
     "metadata": {},
     "outputs": [
      {
       "output_type": "stream",
       "stream": "stdout",
       "text": [
        "['TAA', 'TAG', 'AGA', 'AGG']\n",
        "['ATT', 'ATC', 'ATA', 'ATG', 'GTG']\n",
        "T\n"
       ]
      }
     ],
     "prompt_number": 137
    },
    {
     "cell_type": "heading",
     "level": 2,
     "metadata": {},
     "source": [
      "Comparing Seq objects"
     ]
    },
    {
     "cell_type": "markdown",
     "metadata": {},
     "source": [
      "Sequence comparison is actually a very complicated topic, and there is no easy\n",
      "way to decide if two sequences are equal. The basic problem is the meaning of\n",
      "the letters in a sequence are context dependent - the letter ``A'' could be part\n",
      "of a DNA, RNA or protein sequence. Biopython uses alphabet objects as part of\n",
      "each __Seq__ object to try and capture this information - so comparing two\n",
      "__Seq__ objects means considering both the sequence strings \\emph{and} the\n",
      "alphabets.\n",
      "\n",
      "For example, you might argue that the two DNA __Seq__ objects\n",
      "\\texttt{Seq(\"ACGT\", IUPAC.unambiguous\\_dna)} and\n",
      "\\texttt{Seq(\"ACGT\", IUPAC.ambiguous\\_dna)} should be equal, even though\n",
      "they do have different alphabets. Depending on the context this could be\n",
      "important.\n",
      "\n",
      "This gets worse -- suppose you think \\texttt{Seq(\"ACGT\",\n",
      "IUPAC.unambiguous\\_dna)} and \\texttt{Seq(\"ACGT\")} (i.e. the default generic\n",
      "alphabet) should be equal. Then, logically, \\texttt{Seq(\"ACGT\", IUPAC.protein)}\n",
      "and \\texttt{Seq(\"ACGT\")} should also be equal. Now, in logic if $A=B$ and\n",
      "$B=C$, by transitivity we expect $A=C$. So for logical consistency we'd\n",
      "require \\texttt{Seq(\"ACGT\", IUPAC.unambiguous\\_dna)} and \\texttt{Seq(\"ACGT\",\n",
      "IUPAC.protein)} to be equal -- which most people would agree is just not right.\n",
      "This transitivity problem would also have implications for using __Seq|\n",
      "objects as Python dictionary keys."
     ]
    },
    {
     "cell_type": "code",
     "collapsed": false,
     "input": [
      "seq1 = Seq(\"ACGT\", IUPAC.unambiguous_dna)\n",
      "seq2 = Seq(\"ACGT\", IUPAC.unambiguous_dna)"
     ],
     "language": "python",
     "metadata": {},
     "outputs": [],
     "prompt_number": 138
    },
    {
     "cell_type": "markdown",
     "metadata": {},
     "source": [
      "So, what does Biopython do? Well, the equality test is the default for Python\n",
      "objects -- it tests to see if they are the same object in memory. This is a\n",
      "very strict test:"
     ]
    },
    {
     "cell_type": "code",
     "collapsed": false,
     "input": [
      "print(seq1 == seq2)\n",
      "print(seq1 == seq1)"
     ],
     "language": "python",
     "metadata": {},
     "outputs": [
      {
       "output_type": "stream",
       "stream": "stdout",
       "text": [
        "False\n",
        "True\n"
       ]
      }
     ],
     "prompt_number": 139
    },
    {
     "cell_type": "markdown",
     "metadata": {},
     "source": [
      "If you actually want to do this, you can be more explicit by using the Python\n",
      "__id__ function,"
     ]
    },
    {
     "cell_type": "code",
     "collapsed": false,
     "input": [
      "print(id(seq1) == id(seq2))\n",
      "print(id(seq1) == id(seq1))"
     ],
     "language": "python",
     "metadata": {},
     "outputs": [
      {
       "output_type": "stream",
       "stream": "stdout",
       "text": [
        "False\n",
        "True\n"
       ]
      }
     ],
     "prompt_number": 140
    },
    {
     "cell_type": "markdown",
     "metadata": {},
     "source": [
      "Now, in every day use, your sequences will probably all have the same\n",
      "alphabet, or at least all be the same type of sequence (all DNA, all RNA, or\n",
      "all protein). What you probably want is to just compare the sequences as\n",
      "strings -- so do this explicitly:\n"
     ]
    },
    {
     "cell_type": "code",
     "collapsed": false,
     "input": [
      "print(str(seq1) == str(seq2))\n",
      "print(str(seq1) == str(seq1))"
     ],
     "language": "python",
     "metadata": {},
     "outputs": [
      {
       "output_type": "stream",
       "stream": "stdout",
       "text": [
        "True\n",
        "True\n"
       ]
      }
     ],
     "prompt_number": 141
    },
    {
     "cell_type": "markdown",
     "metadata": {},
     "source": [
      "As an extension to this, while you can use a Python dictionary with\n",
      "__Seq__ objects as keys, it is generally more useful to use the sequence a\n",
      "string for the key. See also Section~\\ref{sec:seq-to-string}."
     ]
    },
    {
     "cell_type": "heading",
     "level": 2,
     "metadata": {},
     "source": [
      "MutableSeq Objects"
     ]
    },
    {
     "cell_type": "markdown",
     "metadata": {},
     "source": [
      "Just like the normal Python string, the __Seq__ object is ``read only'', or in Python terminology, immutable.  Apart from wanting the __Seq__ object to act like a string, this is also a useful default since in many biological applications you want to ensure you are not changing your sequence data:"
     ]
    },
    {
     "cell_type": "code",
     "collapsed": false,
     "input": [
      "my_seq = Seq(\"GCCATTGTAATGGGCCGCTGAAAGGGTGCCCGA\", IUPAC.unambiguous_dna)"
     ],
     "language": "python",
     "metadata": {},
     "outputs": [],
     "prompt_number": 142
    },
    {
     "cell_type": "markdown",
     "metadata": {},
     "source": [
      "Observe what happens if you try to edit the sequence:"
     ]
    },
    {
     "cell_type": "code",
     "collapsed": false,
     "input": [
      "my_seq[5] = \"G\""
     ],
     "language": "python",
     "metadata": {},
     "outputs": [
      {
       "ename": "TypeError",
       "evalue": "'Seq' object does not support item assignment",
       "output_type": "pyerr",
       "traceback": [
        "\u001b[1;31m---------------------------------------------------------------------------\u001b[0m\n\u001b[1;31mTypeError\u001b[0m                                 Traceback (most recent call last)",
        "\u001b[1;32m<ipython-input-143-56a40d7fb976>\u001b[0m in \u001b[0;36m<module>\u001b[1;34m()\u001b[0m\n\u001b[1;32m----> 1\u001b[1;33m \u001b[0mmy_seq\u001b[0m\u001b[1;33m[\u001b[0m\u001b[1;36m5\u001b[0m\u001b[1;33m]\u001b[0m \u001b[1;33m=\u001b[0m \u001b[1;34m\"G\"\u001b[0m\u001b[1;33m\u001b[0m\u001b[0m\n\u001b[0m",
        "\u001b[1;31mTypeError\u001b[0m: 'Seq' object does not support item assignment"
       ]
      }
     ],
     "prompt_number": 143
    },
    {
     "cell_type": "markdown",
     "metadata": {},
     "source": [
      "However, you can convert it into a mutable sequence (a __MutableSeq__ object) and do pretty much anything you want with it"
     ]
    },
    {
     "cell_type": "code",
     "collapsed": false,
     "input": [
      "mutable_seq = my_seq.tomutable()\n",
      "mutable_seq"
     ],
     "language": "python",
     "metadata": {},
     "outputs": [
      {
       "metadata": {},
       "output_type": "pyout",
       "prompt_number": 144,
       "text": [
        "MutableSeq('GCCATTGTAATGGGCCGCTGAAAGGGTGCCCGA', IUPACUnambiguousDNA())"
       ]
      }
     ],
     "prompt_number": 144
    },
    {
     "cell_type": "markdown",
     "metadata": {},
     "source": [
      "Alternatively, you can create a __MutableSeq__ object directly from a string:"
     ]
    },
    {
     "cell_type": "code",
     "collapsed": false,
     "input": [
      "from Bio.Seq import MutableSeq\n",
      "mutable_seq = MutableSeq(\"GCCATTGTAATGGGCCGCTGAAAGGGTGCCCGA\", IUPAC.unambiguous_dna)"
     ],
     "language": "python",
     "metadata": {},
     "outputs": [],
     "prompt_number": 145
    },
    {
     "cell_type": "markdown",
     "metadata": {},
     "source": [
      "Either way will give you a sequence object which can be changed:\n"
     ]
    },
    {
     "cell_type": "code",
     "collapsed": false,
     "input": [
      "mutable_seq[5] = \"C\"\n",
      "print(mutable_seq)\n",
      "mutable_seq.remove(\"T\")\n",
      "print(mutable_seq)\n",
      "mutable_seq.reverse()\n",
      "print(mutable_seq)"
     ],
     "language": "python",
     "metadata": {},
     "outputs": [
      {
       "output_type": "stream",
       "stream": "stdout",
       "text": [
        "GCCATCGTAATGGGCCGCTGAAAGGGTGCCCGA\n",
        "GCCACGTAATGGGCCGCTGAAAGGGTGCCCGA\n",
        "AGCCCGTGGGAAAGTCGCCGGGTAATGCACCG\n"
       ]
      }
     ],
     "prompt_number": 146
    },
    {
     "cell_type": "markdown",
     "metadata": {},
     "source": [
      "Do note that unlike the __Seq__ object, the __MutableSeq__ object's methods like __reverse_complement()__ and __reverse()__ act in-situ!\n",
      "\n",
      "An important technical difference between mutable and immutable objects in Python means that you can't use a __MutableSeq__ object as a dictionary key, but you can use a Python string or \n",
      "a __Seq__ object in this way.\n",
      "\n",
      "Once you have finished editing your a __MutableSeq__ object, it's easy to get back to a read-only __Seq__ object should you need to:"
     ]
    },
    {
     "cell_type": "code",
     "collapsed": false,
     "input": [
      "new_seq = mutable_seq.toseq()\n",
      "new_seq"
     ],
     "language": "python",
     "metadata": {},
     "outputs": [
      {
       "metadata": {},
       "output_type": "pyout",
       "prompt_number": 147,
       "text": [
        "Seq('AGCCCGTGGGAAAGTCGCCGGGTAATGCACCG', IUPACUnambiguousDNA())"
       ]
      }
     ],
     "prompt_number": 147
    },
    {
     "cell_type": "markdown",
     "metadata": {},
     "source": [
      "You can also get a string from a __MutableSeq__ object just like from a __Seq__ object (Section~\\ref{sec:seq-to-string})."
     ]
    },
    {
     "cell_type": "heading",
     "level": 2,
     "metadata": {},
     "source": [
      "UnknownSeq Objects"
     ]
    },
    {
     "cell_type": "markdown",
     "metadata": {},
     "source": [
      "The __UnknownSeq__ object is a subclass of the basic __Seq__ object\n",
      "and its purpose is to represent a\n",
      "sequence where we know the length, but not the actual letters making it up.\n",
      "You could of course use a normal __Seq__ object in this situation, but it wastes\n",
      "rather a lot of memory to hold a string of a million ``N'' characters when you could\n",
      "just store a single letter ``N'' and the desired length as an integer.\n"
     ]
    },
    {
     "cell_type": "code",
     "collapsed": false,
     "input": [
      "from Bio.Seq import UnknownSeq\n",
      "unk = UnknownSeq(20)\n",
      "unk"
     ],
     "language": "python",
     "metadata": {},
     "outputs": [
      {
       "metadata": {},
       "output_type": "pyout",
       "prompt_number": 148,
       "text": [
        "UnknownSeq(20, alphabet = Alphabet(), character = '?')"
       ]
      }
     ],
     "prompt_number": 148
    },
    {
     "cell_type": "code",
     "collapsed": false,
     "input": [
      "print(unk)\n",
      "print(len(unk))"
     ],
     "language": "python",
     "metadata": {},
     "outputs": [
      {
       "output_type": "stream",
       "stream": "stdout",
       "text": [
        "????????????????????\n",
        "20\n"
       ]
      }
     ],
     "prompt_number": 149
    },
    {
     "cell_type": "markdown",
     "metadata": {},
     "source": [
      "You can of course specify an alphabet, meaning for nucleotide sequences\n",
      "the letter defaults to ``N'' and for proteins ``X'', rather than just ``?''.\n"
     ]
    },
    {
     "cell_type": "code",
     "collapsed": false,
     "input": [
      "unk_dna = UnknownSeq(20, alphabet=IUPAC.ambiguous_dna)\n",
      "unk_dna"
     ],
     "language": "python",
     "metadata": {},
     "outputs": [
      {
       "metadata": {},
       "output_type": "pyout",
       "prompt_number": 150,
       "text": [
        "UnknownSeq(20, alphabet = IUPACAmbiguousDNA(), character = 'N')"
       ]
      }
     ],
     "prompt_number": 150
    },
    {
     "cell_type": "code",
     "collapsed": false,
     "input": [
      "print(unk_dna)"
     ],
     "language": "python",
     "metadata": {},
     "outputs": [
      {
       "output_type": "stream",
       "stream": "stdout",
       "text": [
        "NNNNNNNNNNNNNNNNNNNN\n"
       ]
      }
     ],
     "prompt_number": 151
    },
    {
     "cell_type": "markdown",
     "metadata": {},
     "source": [
      "You can use all the usual __Seq__ object methods too, note these give back\n",
      "memory saving __UnknownSeq__ objects where appropriate as you might expect:\n"
     ]
    },
    {
     "cell_type": "code",
     "collapsed": false,
     "input": [
      "unk_dna"
     ],
     "language": "python",
     "metadata": {},
     "outputs": [
      {
       "metadata": {},
       "output_type": "pyout",
       "prompt_number": 152,
       "text": [
        "UnknownSeq(20, alphabet = IUPACAmbiguousDNA(), character = 'N')"
       ]
      }
     ],
     "prompt_number": 152
    },
    {
     "cell_type": "code",
     "collapsed": false,
     "input": [
      "unk_dna.complement()"
     ],
     "language": "python",
     "metadata": {},
     "outputs": [
      {
       "metadata": {},
       "output_type": "pyout",
       "prompt_number": 153,
       "text": [
        "UnknownSeq(20, alphabet = IUPACAmbiguousDNA(), character = 'N')"
       ]
      }
     ],
     "prompt_number": 153
    },
    {
     "cell_type": "code",
     "collapsed": false,
     "input": [
      "unk_dna.reverse_complement()"
     ],
     "language": "python",
     "metadata": {},
     "outputs": [
      {
       "metadata": {},
       "output_type": "pyout",
       "prompt_number": 154,
       "text": [
        "UnknownSeq(20, alphabet = IUPACAmbiguousDNA(), character = 'N')"
       ]
      }
     ],
     "prompt_number": 154
    },
    {
     "cell_type": "code",
     "collapsed": false,
     "input": [
      "unk_dna.transcribe()"
     ],
     "language": "python",
     "metadata": {},
     "outputs": [
      {
       "metadata": {},
       "output_type": "pyout",
       "prompt_number": 155,
       "text": [
        "UnknownSeq(20, alphabet = IUPACAmbiguousRNA(), character = 'N')"
       ]
      }
     ],
     "prompt_number": 155
    },
    {
     "cell_type": "code",
     "collapsed": false,
     "input": [
      "unk_protein = unk_dna.translate()\n",
      "unk_protein"
     ],
     "language": "python",
     "metadata": {},
     "outputs": [
      {
       "metadata": {},
       "output_type": "pyout",
       "prompt_number": 156,
       "text": [
        "UnknownSeq(6, alphabet = ProteinAlphabet(), character = 'X')"
       ]
      }
     ],
     "prompt_number": 156
    },
    {
     "cell_type": "code",
     "collapsed": false,
     "input": [
      "print(unk_protein)\n",
      "print(len(unk_protein))"
     ],
     "language": "python",
     "metadata": {},
     "outputs": [
      {
       "output_type": "stream",
       "stream": "stdout",
       "text": [
        "XXXXXX\n",
        "6\n"
       ]
      }
     ],
     "prompt_number": 157
    },
    {
     "cell_type": "markdown",
     "metadata": {},
     "source": [
      "You may be able to find a use for the __UnknownSeq__ object in your own\n",
      "code, but it is more likely that you will first come across them in a\n",
      "__SeqRecord__ object created by __Bio.SeqIO|\n",
      "(see Chapter~\\ref{chapter:Bio.SeqIO}).\n",
      "Some sequence file formats don't always include the actual sequence, for\n",
      "example GenBank and EMBL files may include a list of features but for the\n",
      "sequence just present the contig information.  Alternatively, the QUAL files\n",
      "used in sequencing work hold quality scores but they \\emph{never} contain a\n",
      "sequence -- instead there is a partner FASTA file which \\emph{does} have the\n",
      "sequence."
     ]
    },
    {
     "cell_type": "heading",
     "level": 2,
     "metadata": {},
     "source": [
      "Working with strings directly"
     ]
    },
    {
     "cell_type": "markdown",
     "metadata": {},
     "source": [
      "To close this chapter, for those you who \\emph{really} don't want to use the sequence\n",
      "objects (or who prefer a functional programming style to an object orientated one),\n",
      "there are module level functions in __Bio.Seq__ will accept plain Python strings,\n",
      "__Seq__ objects (including __UnknownSeq__ objects) or __MutableSeq__ objects:\n"
     ]
    },
    {
     "cell_type": "code",
     "collapsed": false,
     "input": [
      "from Bio.Seq import reverse_complement, transcribe, back_transcribe, translate\n",
      "my_string = \"GCTGTTATGGGTCGTTGGAAGGGTGGTCGTGCTGCTGGTTAG\"\n",
      "print(reverse_complement(my_string))\n",
      "print(transcribe(my_string))\n",
      "print(back_transcribe(my_string))\n",
      "print(translate(my_string))"
     ],
     "language": "python",
     "metadata": {},
     "outputs": [
      {
       "output_type": "stream",
       "stream": "stdout",
       "text": [
        "CTAACCAGCAGCACGACCACCCTTCCAACGACCCATAACAGC\n",
        "GCUGUUAUGGGUCGUUGGAAGGGUGGUCGUGCUGCUGGUUAG\n",
        "GCTGTTATGGGTCGTTGGAAGGGTGGTCGTGCTGCTGGTTAG\n",
        "AVMGRWKGGRAAG*\n"
       ]
      }
     ],
     "prompt_number": 158
    },
    {
     "cell_type": "markdown",
     "metadata": {},
     "source": [
      "You are, however, encouraged to work with __Seq__ objects by default."
     ]
    },
    {
     "cell_type": "code",
     "collapsed": false,
     "input": [],
     "language": "python",
     "metadata": {},
     "outputs": []
    }
   ],
   "metadata": {}
  }
 ]
}