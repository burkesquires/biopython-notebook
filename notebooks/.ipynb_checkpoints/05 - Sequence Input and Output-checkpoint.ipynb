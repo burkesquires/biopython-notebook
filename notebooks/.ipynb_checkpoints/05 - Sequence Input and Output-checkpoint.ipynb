{
 "metadata": {
  "name": "",
  "signature": "sha256:e78fcd48810e3ff863c274322a8e52567bf498327643162724968a6768dae9e0"
 },
 "nbformat": 3,
 "nbformat_minor": 0,
 "worksheets": [
  {
   "cells": [
    {
     "cell_type": "markdown",
     "metadata": {},
     "source": [
      "**Source of the materials**: Biopython Tutorial and Cookbook (adapted)"
     ]
    },
    {
     "cell_type": "heading",
     "level": 1,
     "metadata": {},
     "source": [
      "Sequence Input/Output"
     ]
    },
    {
     "cell_type": "markdown",
     "metadata": {},
     "source": [
      "In this chapter we'll discuss in more detail the __Bio.SeqIO__ module, which was briefly introduced in Chapter~\\ref{chapter:quick-start} and also used in Chapter~\\ref{chapter:SeqRecord}. This aims to provide a simple interface for working with assorted sequence file formats in a uniform way.\n",
      "See also the __Bio.SeqIO__ wiki page (\\url{http://biopython.org/wiki/SeqIO}), and the built in documentation (also \\href{http://biopython.org/DIST/docs/api/Bio.SeqIO-module.html}{online}):"
     ]
    },
    {
     "cell_type": "code",
     "collapsed": false,
     "input": [
      "from Bio import SeqIO\n",
      "help(SeqIO)"
     ],
     "language": "python",
     "metadata": {},
     "outputs": []
    },
    {
     "cell_type": "markdown",
     "metadata": {},
     "source": [
      "The ``catch'' is that you have to work with __SeqRecord__ objects (see Chapter~\\ref{chapter:SeqRecord}), which contain a __Seq__ object (see Chapter~\\ref{chapter:Bio.Seq}) plus annotation like an identifier and description."
     ]
    },
    {
     "cell_type": "heading",
     "level": 2,
     "metadata": {},
     "source": [
      "Parsing or Reading Sequences"
     ]
    },
    {
     "cell_type": "markdown",
     "metadata": {},
     "source": [
      "The workhorse function __Bio.SeqIO.parse()__ is used to read in sequence data as SeqRecord objects.  This function expects two arguments:\n",
      "\n",
      "- The first argument is a {\\it handle} to read the data from, or a filename. A handle is typically a file opened for reading, but could be the output from a command line program, or data downloaded from the internet (see Section~\\ref{sec:SeqIO_Online}).  See Section~\\ref{sec:appendix-handles} for more about handles.\n",
      "- The second argument is a lower case string specifying sequence format -- we don't try and guess the file format for you!  See \\url{http://biopython.org/wiki/SeqIO} for a full listing of supported formats.\n",
      "\n",
      "There is an optional argument __alphabet__ to specify the alphabet to be used.  This is useful for file formats like FASTA where otherwise __Bio.SeqIO__ will default to a generic alphabet.\n",
      "\n",
      "The __Bio.SeqIO.parse()__ function returns an {\\it iterator} which gives __SeqRecord__ objects.  Iterators are typically used in a for loop as shown below.\n",
      "\n",
      "Sometimes you'll find yourself dealing with files which contain only a single record.  For this situation use the function __Bio.SeqIO.read()__ which takes the same arguments.  Provided there is one and only one record in the file, this is returned as a __SeqRecord__ object.  Otherwise an exception is raised."
     ]
    },
    {
     "cell_type": "heading",
     "level": 3,
     "metadata": {},
     "source": [
      "Reading Sequence Files"
     ]
    },
    {
     "cell_type": "markdown",
     "metadata": {},
     "source": [
      "In general __Bio.SeqIO.parse()__ is used to read in sequence files as __SeqRecord__ objects, and is typically used with a for loop like this:"
     ]
    },
    {
     "cell_type": "code",
     "collapsed": false,
     "input": [
      "from Bio import SeqIO\n",
      "for seq_record in SeqIO.parse(\"data/ls_orchid.fasta\", \"fasta\"):\n",
      "    print(seq_record.id)\n",
      "    print(repr(seq_record.seq))\n",
      "    print(len(seq_record))\n"
     ],
     "language": "python",
     "metadata": {},
     "outputs": []
    },
    {
     "cell_type": "markdown",
     "metadata": {},
     "source": [
      "The above example is repeated from the introduction in Section~\\ref{sec:sequence-parsing}, and will load the orchid DNA sequences in the FASTA format file \\href{http://biopython.org/DIST/docs/tutorial/examples/ls_orchid.fasta}{ls\\_orchid.fasta}.  If instead you wanted to load a GenBank format file like \\href{http://biopython.org/DIST/docs/tutorial/examples/ls_orchid.gbk}{ls\\_orchid.gbk} then all you need to do is change the filename and the format string:\n"
     ]
    },
    {
     "cell_type": "code",
     "collapsed": false,
     "input": [
      "from Bio import SeqIO\n",
      "for seq_record in SeqIO.parse(\"data/ls_orchid.gbk\", \"genbank\"):\n",
      "    print(seq_record.id)\n",
      "    print(seq_record.seq)\n",
      "    print(len(seq_record))"
     ],
     "language": "python",
     "metadata": {},
     "outputs": []
    },
    {
     "cell_type": "markdown",
     "metadata": {},
     "source": [
      "Similarly, if you wanted to read in a file in another file format, then assuming __Bio.SeqIO.parse()__ supports it you would just need to change the format string as appropriate, for example ``swiss'' for SwissProt files or ``embl'' for EMBL text files. There is a full listing on the wiki page (\\url{http://biopython.org/wiki/SeqIO}) and in the built in documentation (also \\href{http://biopython.org/DIST/docs/api/Bio.SeqIO-module.html}{online}).\n",
      "\n",
      "Another very common way to use a Python iterator is within a list comprehension (or\n",
      "a generator expression).  For example, if all you wanted to extract from the file was\n",
      "a list of the record identifiers we can easily do this with the following list comprehension:\n"
     ]
    },
    {
     "cell_type": "code",
     "collapsed": false,
     "input": [
      "from Bio import SeqIO\n",
      "identifiers = [seq_record.id for seq_record in SeqIO.parse(\"data/ls_orchid.gbk\", \"genbank\")]\n",
      "identifiers\n",
      "#['Z78533.1', 'Z78532.1', 'Z78531.1', 'Z78530.1', 'Z78529.1', 'Z78527.1', ..., 'Z78439.1']"
     ],
     "language": "python",
     "metadata": {},
     "outputs": []
    },
    {
     "cell_type": "markdown",
     "metadata": {},
     "source": [
      "There are more examples using __SeqIO.parse()__ in a list\n",
      "comprehension like this in Section~\\ref{seq:sequence-parsing-plus-pylab}\n",
      "(e.g. for plotting sequence lengths or GC\\%).\n"
     ]
    },
    {
     "cell_type": "heading",
     "level": 3,
     "metadata": {},
     "source": [
      "Iterating over the records in a sequence file"
     ]
    },
    {
     "cell_type": "markdown",
     "metadata": {},
     "source": [
      "In the above examples, we have usually used a for loop to iterate over all the records one by one.  You can use the for loop with all sorts of Python objects (including lists, tuples and strings) which support the iteration interface.\n",
      "\n",
      "The object returned by __Bio.SeqIO__ is actually an iterator which returns __SeqRecord__ objects.  You get to see each record in turn, but once and only once.  The plus point is that an iterator can save you memory when dealing with large files.\n",
      "\n",
      "Instead of using a for loop, can also use the __next()__ function on an iterator to step through the entries, like this:\n",
      "\n"
     ]
    },
    {
     "cell_type": "code",
     "collapsed": false,
     "input": [
      "from Bio import SeqIO\n",
      "record_iterator = SeqIO.parse(\"data/ls_orchid.fasta\", \"fasta\")\n",
      "\n",
      "first_record = next(record_iterator)\n",
      "print(first_record.id)\n",
      "print(first_record.description)\n",
      "\n",
      "second_record = next(record_iterator)\n",
      "print(second_record.id)\n",
      "print(second_record.description)\n"
     ],
     "language": "python",
     "metadata": {},
     "outputs": []
    },
    {
     "cell_type": "markdown",
     "metadata": {},
     "source": [
      "Note that if you try to use __next()__ and there are no more results, you'll get the special __StopIteration__ exception.\n",
      "\n",
      "One special case to consider is when your sequence files have multiple records, but you only want the first one.  In this situation the following code is very concise:\n"
     ]
    },
    {
     "cell_type": "code",
     "collapsed": false,
     "input": [
      "from Bio import SeqIO\n",
      "first_record = next(SeqIO.parse(\"data/ls_orchid.gbk\", \"genbank\"))\n"
     ],
     "language": "python",
     "metadata": {},
     "outputs": []
    },
    {
     "cell_type": "markdown",
     "metadata": {},
     "source": [
      "A word of warning here -- using the __next()__ function like this will silently ignore any additional records in the file.\n",
      "If your files have {\\it one and only one} record, like some of the online examples later in this chapter, or a GenBank file for a single chromosome, then use the new __Bio.SeqIO.read()__ function instead.\n",
      "This will check there are no extra unexpected records present.\n"
     ]
    },
    {
     "cell_type": "heading",
     "level": 3,
     "metadata": {},
     "source": [
      "Getting a list of the records in a sequence file"
     ]
    },
    {
     "cell_type": "markdown",
     "metadata": {},
     "source": [
      "In the previous section we talked about the fact that __Bio.SeqIO.parse()__ gives you a __SeqRecord__ iterator, and that you get the records one by one.  Very often you need to be able to access the records in any order. The Python __list__ data type is perfect for this, and we can turn the record iterator into a list of __SeqRecord__ objects using the built-in Python function __list()__ like so:\n"
     ]
    },
    {
     "cell_type": "code",
     "collapsed": false,
     "input": [
      "from Bio import SeqIO\n",
      "records = list(SeqIO.parse(\"data/ls_orchid.gbk\", \"genbank\"))\n",
      "\n",
      "print(\"Found %i records\" % len(records))\n",
      "\n",
      "print(\"The last record\")\n",
      "last_record = records[-1] #using Python's list tricks\n",
      "print(last_record.id)\n",
      "print(repr(last_record.seq))\n",
      "print(len(last_record))\n",
      "\n",
      "print(\"The first record\")\n",
      "first_record = records[0] #remember, Python counts from zero\n",
      "print(first_record.id)\n",
      "print(repr(first_record.seq))\n",
      "print(len(first_record))\n"
     ],
     "language": "python",
     "metadata": {},
     "outputs": []
    },
    {
     "cell_type": "markdown",
     "metadata": {},
     "source": [
      "You can of course still use a for loop with a list of __SeqRecord__ objects.  Using a list is much more flexible than an iterator (for example, you can determine the number of records from the length of the list), but does need more memory because it will hold all the records in memory at once.\n"
     ]
    },
    {
     "cell_type": "heading",
     "level": 3,
     "metadata": {},
     "source": [
      "Extracting data"
     ]
    },
    {
     "cell_type": "markdown",
     "metadata": {},
     "source": [
      "The __SeqRecord__ object and its annotation structures are described more fully in\n",
      "Chapter~\\ref{chapter:SeqRecord}.  As an example of how annotations are stored, we'll look at the output from parsing the first record in the GenBank file \\href{http://biopython.org/DIST/docs/tutorial/examples/ls_orchid.gbk}{ls\\_orchid.gbk}.\n",
      "\n"
     ]
    },
    {
     "cell_type": "code",
     "collapsed": false,
     "input": [
      "from Bio import SeqIO\n",
      "record_iterator = SeqIO.parse(\"ls_orchid.gbk\", \"genbank\")\n",
      "first_record = next(record_iterator)\n",
      "print(first_record)\n"
     ],
     "language": "python",
     "metadata": {},
     "outputs": []
    },
    {
     "cell_type": "markdown",
     "metadata": {},
     "source": [
      "This gives a human readable summary of most of the annotation data for the __SeqRecord|.\n",
      "For this example we're going to use the __.annotations__ attribute which is just a Python dictionary.\n",
      "The contents of this annotations dictionary were shown when we printed the record above.\n",
      "You can also print them out directly:\n",
      "\\begin{verbatim}\n",
      "print(first_record.annotations)\n",
      "\\end{verbatim}\n",
      "\\noindent Like any Python dictionary, you can easily get a list of the keys:\n",
      "\\begin{verbatim}\n",
      "print(first_record.annotations.keys())\n",
      "\\end{verbatim}\n",
      "\\noindent or values:\n",
      "\\begin{verbatim}\n",
      "print(first_record.annotations.values())\n",
      "\\end{verbatim}\n",
      "\n",
      "In general, the annotation values are strings, or lists of strings.  One special case is any references in the file get stored as reference objects.  \n",
      "\n",
      "Suppose you wanted to extract a list of the species from the \\href{http://biopython.org/DIST/docs/tutorial/examples/ls_orchid.gbk}{ls\\_orchid.gbk} GenBank file.  The information we want, \\emph{Cypripedium irapeanum}, is held in the annotations dictionary under `source' and `organism', which we can access like this:\n"
     ]
    },
    {
     "cell_type": "code",
     "collapsed": false,
     "input": [
      "print(first_record.annotations[\"source\"])\n"
     ],
     "language": "python",
     "metadata": {},
     "outputs": []
    },
    {
     "cell_type": "code",
     "collapsed": false,
     "input": [
      "print(first_record.annotations[\"organism\"])"
     ],
     "language": "python",
     "metadata": {},
     "outputs": []
    },
    {
     "cell_type": "markdown",
     "metadata": {},
     "source": [
      "In general, `organism' is used for the scientific name (in Latin, e.g. \\textit{Arabidopsis thaliana}),\n",
      "while `source' will often be the common name (e.g. thale cress).  In this example, as is often the case,\n",
      "the two fields are identical.  \n",
      "\n",
      "Now let's go through all the records, building up a list of the species each orchid sequence is from:\n"
     ]
    },
    {
     "cell_type": "code",
     "collapsed": false,
     "input": [
      "from Bio import SeqIO\n",
      "all_species = []\n",
      "for seq_record in SeqIO.parse(\"data/ls_orchid.gbk\", \"genbank\"):\n",
      "    all_species.append(seq_record.annotations[\"organism\"])\n",
      "print(all_species)\n"
     ],
     "language": "python",
     "metadata": {},
     "outputs": []
    },
    {
     "cell_type": "markdown",
     "metadata": {},
     "source": [
      "Another way of writing this code is to use a list comprehension:\n"
     ]
    },
    {
     "cell_type": "code",
     "collapsed": false,
     "input": [
      "from Bio import SeqIO\n",
      "all_species = [seq_record.annotations[\"organism\"] for seq_record in \\\n",
      "               SeqIO.parse(\"data/ls_orchid.gbk\", \"genbank\")]\n",
      "print(all_species)\n"
     ],
     "language": "python",
     "metadata": {},
     "outputs": []
    },
    {
     "cell_type": "markdown",
     "metadata": {},
     "source": [
      "Great.  That was pretty easy because GenBank files are annotated in a standardised way.\n",
      "\n",
      "Now, let's suppose you wanted to extract a list of the species from a FASTA file, rather than the GenBank file.  The bad news is you will have to write some code to extract the data you want from the record's description line - if the information is in the file in the first place!  Our example FASTA format file \\href{http://biopython.org/DIST/docs/tutorial/examples/ls_orchid.fasta}{ls\\_orchid.fasta} starts like this:\n",
      "\n",
      "\\begin{verbatim}\n",
      ">gi|2765658|emb|Z78533.1|CIZ78533 C.irapeanum 5.8S rRNA gene and ITS1 and ITS2 DNA\n",
      "CGTAACAAGGTTTCCGTAGGTGAACCTGCGGAAGGATCATTGATGAGACCGTGGAATAAACGATCGAGTG\n",
      "AATCCGGAGGACCGGTGTACTCAGCTCACCGGGGGCATTGCTCCCGTGGTGACCCTGATTTGTTGTTGGG\n",
      "...\n",
      "\\end{verbatim}\n",
      "\n",
      "You can check by hand, but for every record the species name is in the description line as the second word.  This means if we break up each record's __.description__ at the spaces, then the species is there as field number one (field zero is the record identifier).  That means we can do this:\n",
      "\n"
     ]
    },
    {
     "cell_type": "code",
     "collapsed": false,
     "input": [
      "from Bio import SeqIO\n",
      "all_species = []\n",
      "for seq_record in SeqIO.parse(\"data/ls_orchid.fasta\", \"fasta\"):\n",
      "    all_species.append(seq_record.description.split()[1])\n",
      "print(all_species)"
     ],
     "language": "python",
     "metadata": {},
     "outputs": []
    },
    {
     "cell_type": "markdown",
     "metadata": {},
     "source": [
      "The concise alternative using list comprehensions would be:\n"
     ]
    },
    {
     "cell_type": "code",
     "collapsed": false,
     "input": [
      "from Bio import SeqIO\n",
      "all_species == [seq_record.description.split()[1] for seq_record in \\\n",
      "                SeqIO.parse(\"data/ls_orchid.fasta\", \"fasta\")]\n",
      "print(all_species)\n"
     ],
     "language": "python",
     "metadata": {},
     "outputs": []
    },
    {
     "cell_type": "markdown",
     "metadata": {},
     "source": [
      "In general, extracting information from the FASTA description line is not very nice.\n",
      "If you can get your sequences in a well annotated file format like GenBank or EMBL,\n",
      "then this sort of annotation information is much easier to deal with.\n",
      "\n"
     ]
    },
    {
     "cell_type": "heading",
     "level": 2,
     "metadata": {},
     "source": [
      "Parsing sequences from compressed files"
     ]
    },
    {
     "cell_type": "markdown",
     "metadata": {},
     "source": [
      "In the previous section, we looked at parsing sequence data from a file.\n",
      "Instead of using a filename, you can give __Bio.SeqIO__ a handle\n",
      "(see Section~\\ref{sec:appendix-handles}), and in this section\n",
      "we'll use handles to parse sequence from compressed files.\n",
      "\n",
      "As you'll have seen above, we can use __Bio.SeqIO.read()__ or\n",
      "__Bio.SeqIO.parse()__ with a filename - for instance this quick\n",
      "example calculates the total length of the sequences in a multiple\n",
      "record GenBank file using a generator expression:\n"
     ]
    },
    {
     "cell_type": "code",
     "collapsed": false,
     "input": [
      "from Bio import SeqIO\n",
      "print(sum(len(r) for r in SeqIO.parse(\"ls_orchid.gbk\", \"gb\")))\n"
     ],
     "language": "python",
     "metadata": {},
     "outputs": []
    },
    {
     "cell_type": "markdown",
     "metadata": {},
     "source": [
      "Here we use a file handle instead, using the __with__ statement\n",
      "to close the handle automatically:\n"
     ]
    },
    {
     "cell_type": "code",
     "collapsed": false,
     "input": [
      "from Bio import SeqIO\n",
      "with open(\"data/ls_orchid.gbk\") as handle:\n",
      "...     print(sum(len(r) for r in SeqIO.parse(handle, \"gb\")))\n",
      "67518\n"
     ],
     "language": "python",
     "metadata": {},
     "outputs": []
    },
    {
     "cell_type": "markdown",
     "metadata": {},
     "source": [
      "Or, the old fashioned way where you manually close the handle:\n"
     ]
    },
    {
     "cell_type": "code",
     "collapsed": false,
     "input": [
      "from Bio import SeqIO\n",
      "handle = open(\"data/ls_orchid.gbk\")\n",
      "print(sum(len(r) for r in SeqIO.parse(handle, \"gb\")))\n",
      "67518\n",
      "handle.close()\n"
     ],
     "language": "python",
     "metadata": {},
     "outputs": []
    },
    {
     "cell_type": "markdown",
     "metadata": {},
     "source": [
      "Now, suppose we have a gzip compressed file instead? These are very\n",
      "commonly used on Linux. We can use Python's __gzip__ module to open\n",
      "the compressed file for reading - which gives us a handle object:\n"
     ]
    },
    {
     "cell_type": "code",
     "collapsed": false,
     "input": [
      "import gzip\n",
      "from Bio import SeqIO\n",
      "handle = gzip.open(\"data/ls_orchid.gbk.gz\", \"r\")\n",
      "print(sum(len(r) for r in SeqIO.parse(handle, \"gb\")))\n",
      "67518\n",
      "handle.close()\n"
     ],
     "language": "python",
     "metadata": {},
     "outputs": []
    },
    {
     "cell_type": "markdown",
     "metadata": {},
     "source": [
      "\n",
      "Similarly if we had a bzip2 compressed file (sadly the function name isn't\n",
      "quite as consistent):\n",
      "\n"
     ]
    },
    {
     "cell_type": "code",
     "collapsed": false,
     "input": [
      "import bz2\n",
      "from Bio import SeqIO\n",
      "handle = bz2.BZ2File(\"data/ls_orchid.gbk.bz2\", \"r\")\n",
      "print(sum(len(r) for r in SeqIO.parse(handle, \"gb\")))\n",
      "67518\n",
      "handle.close()\n"
     ],
     "language": "python",
     "metadata": {},
     "outputs": []
    },
    {
     "cell_type": "markdown",
     "metadata": {},
     "source": [
      "If you are using Python 2.7 or later, the __with|-version works for\n",
      "gzip and bz2 as well. Unfortunately this is broken on older versions of\n",
      "Python (\\href{http://bugs.python.org/issue3860}{Issue 3860}) and you'd\n",
      "get an __AttributeError__ about ____exit____ being missing.\n",
      "\n",
      "There is a gzip (GNU Zip) variant called BGZF (Blocked GNU Zip Format),\n",
      "which can be treated like an ordinary gzip file for reading, but has\n",
      "advantages for random access later which we'll talk about later in\n",
      "Section~\\ref{sec:SeqIO-index-bgzf}.\n",
      "\n"
     ]
    },
    {
     "cell_type": "heading",
     "level": 2,
     "metadata": {},
     "source": [
      "Parsing sequences from the net"
     ]
    },
    {
     "cell_type": "markdown",
     "metadata": {},
     "source": [
      "In the previous sections, we looked at parsing sequence data from a file\n",
      "(using a filename or handle), and from compressed files (using a handle).\n",
      "Here we'll use __Bio.SeqIO__ with another type of handle, a network\n",
      "connection, to download and parse sequences from the internet.\n",
      "\n",
      "Note that just because you \\emph{can} download sequence data and parse it into\n",
      "a __SeqRecord__ object in one go doesn't mean this is a good idea.\n",
      "In general, you should probably download sequences \\emph{once} and save them to\n",
      "a file for reuse.\n"
     ]
    },
    {
     "cell_type": "heading",
     "level": 3,
     "metadata": {},
     "source": [
      "Parsing GenBank records from the net"
     ]
    },
    {
     "cell_type": "markdown",
     "metadata": {},
     "source": [
      "Section~\\ref{sec:efetch} talks about the Entrez EFetch interface in more detail,\n",
      "but for now let's just connect to the NCBI and get a few \\textit{Opuntia} (prickly-pear)\n",
      "sequences from GenBank using their GI numbers.\n",
      "\n",
      "First of all, let's fetch just one record.  If you don't care about the\n",
      "annotations and features downloading a FASTA file is a good choice as these\n",
      "are compact.  Now remember, when you expect the handle to contain one and\n",
      "only one record, use the __Bio.SeqIO.read()__ function:\n",
      "\n"
     ]
    },
    {
     "cell_type": "code",
     "collapsed": false,
     "input": [
      "from Bio import Entrez\n",
      "from Bio import SeqIO\n",
      "Entrez.email = \"A.N.Other@example.com\"\n",
      "handle = Entrez.efetch(db=\"nucleotide\", rettype=\"fasta\", retmode=\"text\", id=\"6273291\")\n",
      "seq_record = SeqIO.read(handle, \"fasta\")\n",
      "handle.close()\n",
      "print(\"%s with %i features\" % (seq_record.id, len(seq_record.features)))\n"
     ],
     "language": "python",
     "metadata": {},
     "outputs": []
    },
    {
     "cell_type": "markdown",
     "metadata": {},
     "source": [
      "The NCBI will also let you ask for the file in other formats, in particular as\n",
      "a GenBank file. Until Easter 2009, the Entrez EFetch API let you use ``genbank''\n",
      "as the return type, however the NCBI now insist on using the official\n",
      "return types of ``gb'' (or ``gp'' for proteins) as described on\n",
      "\\href{http://www.ncbi.nlm.nih.gov/entrez/query/static/efetchseq_help.html}\n",
      "{EFetch for Sequence and other Molecular Biology Databases}.\n",
      "As a result, in Biopython 1.50 onwards, we support ``gb'' as an\n",
      "alias for ``genbank'' in __Bio.SeqIO|.\n"
     ]
    },
    {
     "cell_type": "code",
     "collapsed": false,
     "input": [
      "from Bio import Entrez\n",
      "from Bio import SeqIO\n",
      "Entrez.email = \"A.N.Other@example.com\"\n",
      "handle = Entrez.efetch(db=\"nucleotide\", rettype=\"gb\", retmode=\"text\", id=\"6273291\")\n",
      "seq_record = SeqIO.read(handle, \"gb\") #using \"gb\" as an alias for \"genbank\"\n",
      "handle.close()\n",
      "print(\"%s with %i features\" % (seq_record.id, len(seq_record.features)))\n"
     ],
     "language": "python",
     "metadata": {},
     "outputs": []
    },
    {
     "cell_type": "markdown",
     "metadata": {},
     "source": [
      "Notice this time we have three features.\n",
      "\n",
      "Now let's fetch several records.  This time the handle contains multiple records,\n",
      "so we must use the __Bio.SeqIO.parse()__ function:\n"
     ]
    },
    {
     "cell_type": "code",
     "collapsed": false,
     "input": [
      "from Bio import Entrez\n",
      "from Bio import SeqIO\n",
      "Entrez.email = \"A.N.Other@example.com\"\n",
      "handle = Entrez.efetch(db=\"nucleotide\", rettype=\"gb\", retmode=\"text\", \\\n",
      "                       id=\"6273291,6273290,6273289\")\n",
      "for seq_record in SeqIO.parse(handle, \"gb\"):\n",
      "    print seq_record.id, seq_record.description[:50] + \"...\"\n",
      "    print \"Sequence length %i,\" % len(seq_record),\n",
      "    print \"%i features,\" % len(seq_record.features),\n",
      "    print \"from: %s\" % seq_record.annotations[\"source\"]\n",
      "handle.close()\n"
     ],
     "language": "python",
     "metadata": {},
     "outputs": []
    },
    {
     "cell_type": "heading",
     "level": 3,
     "metadata": {},
     "source": [
      "Parsing SwissProt sequences from the net"
     ]
    },
    {
     "cell_type": "markdown",
     "metadata": {},
     "source": [
      "Now let's use a handle to download a SwissProt file from ExPASy,\n",
      "something covered in more depth in Chapter~\\ref{chapter:swiss_prot}.\n",
      "As mentioned above, when you expect the handle to contain one and only one record,\n",
      "use the __Bio.SeqIO.read()__ function:\n",
      "\n"
     ]
    },
    {
     "cell_type": "code",
     "collapsed": false,
     "input": [
      "from Bio import ExPASy\n",
      "from Bio import SeqIO\n",
      "handle = ExPASy.get_sprot_raw(\"O23729\")\n",
      "seq_record = SeqIO.read(handle, \"swiss\")\n",
      "handle.close()\n",
      "print(seq_record.id)\n",
      "print(seq_record.name)\n",
      "print(seq_record.description)\n",
      "print(repr(seq_record.seq))\n",
      "print(\"Length %i\" % len(seq_record))\n",
      "print(seq_record.annotations[\"keywords\"])\n"
     ],
     "language": "python",
     "metadata": {},
     "outputs": []
    },
    {
     "cell_type": "heading",
     "level": 2,
     "metadata": {},
     "source": [
      "Sequence files as dictionaries"
     ]
    },
    {
     "cell_type": "markdown",
     "metadata": {},
     "source": [
      "We're now going to introduce three related functions in the __Bio.SeqIO|\n",
      "module which allow dictionary like random access to a multi-sequence file.\n",
      "There is a trade off here between flexibility and memory usage. In summary:\n",
      "\\begin{itemize}\n",
      "\\item __Bio.SeqIO.to_dict()__ is the most flexible but also the most\n",
      "memory demanding option (see Section~\\ref{SeqIO:to_dict}). This is basically\n",
      "a helper function to build a normal Python __dictionary__ with each entry\n",
      "held as a __SeqRecord__ object in memory, allowing you to modify the\n",
      "records.\n",
      "\\item __Bio.SeqIO.index()__ is a useful middle ground, acting like a\n",
      "read only dictionary and parsing sequences into __SeqRecord__ objects\n",
      "on demand (see Section~\\ref{sec:SeqIO-index}).\n",
      "\\item __Bio.SeqIO.index_db()__ also acts like a read only dictionary\n",
      "but stores the identifiers and file offsets in a file on disk (as an\n",
      "SQLite3 database), meaning it has very low memory requirements (see\n",
      "Section~\\ref{sec:SeqIO-index-db}), but will be a little bit slower.\n",
      "\\end{itemize}\n",
      "See the discussion for an broad overview\n",
      "(Section~\\ref{sec:SeqIO-indexing-discussion}).\n"
     ]
    },
    {
     "cell_type": "heading",
     "level": 3,
     "metadata": {},
     "source": [
      "Sequence files as Dictionaries -- In memory"
     ]
    },
    {
     "cell_type": "markdown",
     "metadata": {},
     "source": [
      "The next thing that we'll do with our ubiquitous orchid files is to show how\n",
      "to index them and access them like a database using the Python __dictionary|\n",
      "data type (like a hash in Perl). This is very useful for moderately large files\n",
      "where you only need to access certain elements of the file, and makes for a nice\n",
      "quick 'n dirty database. For dealing with larger files where memory becomes a\n",
      "problem, see Section~\\ref{sec:SeqIO-index} below.\n",
      "\n",
      "You can use the function __Bio.SeqIO.to_dict()__ to make a SeqRecord dictionary\n",
      "(in memory).  By default this will use each record's identifier (i.e. the __.id|\n",
      "attribute) as the key.  Let's try this using our GenBank file:\n"
     ]
    },
    {
     "cell_type": "code",
     "collapsed": false,
     "input": [
      "from Bio import SeqIO\n",
      "orchid_dict = SeqIO.to_dict(SeqIO.parse(\"data/ls_orchid.gbk\", \"genbank\"))\n"
     ],
     "language": "python",
     "metadata": {},
     "outputs": []
    },
    {
     "cell_type": "markdown",
     "metadata": {},
     "source": [
      "There is just one required argument for __Bio.SeqIO.to_dict()|, a list or\n",
      "generator giving __SeqRecord__ objects. Here we have just used the output\n",
      "from the __SeqIO.parse__ function. As the name suggests, this returns a\n",
      "Python dictionary.\n",
      "\n",
      "Since this variable __orchid_dict__ is an ordinary Python dictionary, we can look at all of the keys we have available:\n",
      "\n"
     ]
    },
    {
     "cell_type": "code",
     "collapsed": false,
     "input": [
      "len(orchid_dict)\n",
      "94\n",
      "\\end{verbatim}\n",
      "%Can't use following for doctest due to abbreviation\n",
      "\\begin{verbatim}\n",
      "orchid_dict.keys()\n",
      "['Z78484.1', 'Z78464.1', 'Z78455.1', 'Z78442.1', 'Z78532.1', 'Z78453.1', ..., 'Z78471.1']\n"
     ],
     "language": "python",
     "metadata": {},
     "outputs": []
    },
    {
     "cell_type": "markdown",
     "metadata": {},
     "source": [
      "If you really want to, you can even look at all the records at once:\n"
     ]
    },
    {
     "cell_type": "code",
     "collapsed": false,
     "input": [
      "orchid_dict.values() #lots of output!\n",
      "...\n",
      "\\end{verbatim}\n"
     ],
     "language": "python",
     "metadata": {},
     "outputs": []
    },
    {
     "cell_type": "markdown",
     "metadata": {},
     "source": [
      "We can access a single __SeqRecord__ object via the keys and manipulate the object as normal:\n"
     ]
    },
    {
     "cell_type": "code",
     "collapsed": false,
     "input": [
      "seq_record = orchid_dict[\"Z78475.1\"]\n",
      "print(seq_record.description)\n",
      "P.supardii 5.8S rRNA gene and ITS1 and ITS2 DNA.\n",
      "print(repr(seq_record.seq))\n",
      "Seq('CGTAACAAGGTTTCCGTAGGTGAACCTGCGGAAGGATCATTGTTGAGATCACAT...GGT', IUPACAmbiguousDNA())\n"
     ],
     "language": "python",
     "metadata": {},
     "outputs": []
    },
    {
     "cell_type": "markdown",
     "metadata": {},
     "source": [
      "So, it is very easy to create an in memory ``database'' of our GenBank records.  Next we'll try this for the FASTA file instead.\n",
      "\n",
      "Note that those of you with prior Python experience should all be able to construct a dictionary like this ``by hand''.  However, typical dictionary construction methods will not deal with the case of repeated keys very nicely.  Using the __Bio.SeqIO.to_dict()__ will explicitly check for duplicate keys, and raise an exception if any are found.\n"
     ]
    },
    {
     "cell_type": "heading",
     "level": 4,
     "metadata": {},
     "source": [
      "Specifying the dictionary keys"
     ]
    },
    {
     "cell_type": "markdown",
     "metadata": {},
     "source": [
      "Using the same code as above, but for the FASTA file instead:\n"
     ]
    },
    {
     "cell_type": "code",
     "collapsed": false,
     "input": [
      "from Bio import SeqIO\n",
      "orchid_dict = SeqIO.to_dict(SeqIO.parse(\"data/ls_orchid.fasta\", \"fasta\"))\n",
      "print(orchid_dict.keys())\n"
     ],
     "language": "python",
     "metadata": {},
     "outputs": []
    },
    {
     "cell_type": "markdown",
     "metadata": {},
     "source": [
      "You should recognise these strings from when we parsed the FASTA file earlier in Section~\\ref{sec:fasta-parsing}.  Suppose you would rather have something else as the keys - like the accession numbers.  This brings us nicely to __SeqIO.to_dict()|'s optional argument __key_function|, which lets you define what to use as the dictionary key for your records.\n",
      "\n",
      "First you must write your own function to return the key you want (as a string) when given a __SeqRecord__ object.  In general, the details of function will depend on the sort of input records you are dealing with.  But for our orchids, we can just split up the record's identifier using the ``pipe'' character (the vertical line) and return the fourth entry (field three):\n"
     ]
    },
    {
     "cell_type": "code",
     "collapsed": false,
     "input": [
      "def get_accession(record):\n",
      "    \"\"\"\"Given a SeqRecord, return the accession number as a string.\n",
      "  \n",
      "    e.g. \"gi|2765613|emb|Z78488.1|PTZ78488\" -> \"Z78488.1\"\n",
      "    \"\"\"\n",
      "    parts = record.id.split(\"|\")\n",
      "    assert len(parts) == 5 and parts[0] == \"gi\" and parts[2] == \"emb\"\n",
      "    return parts[3]\n"
     ],
     "language": "python",
     "metadata": {},
     "outputs": []
    },
    {
     "cell_type": "markdown",
     "metadata": {},
     "source": [
      "Then we can give this function to the __SeqIO.to_dict()__ function to use in building the dictionary:\n",
      "\n"
     ]
    },
    {
     "cell_type": "code",
     "collapsed": false,
     "input": [
      "from Bio import SeqIO\n",
      "orchid_dict = SeqIO.to_dict(SeqIO.parse(\"ls_orchid.fasta\", \"fasta\"), key_function=get_accession)\n",
      "print(orchid_dict.keys())\n"
     ],
     "language": "python",
     "metadata": {},
     "outputs": []
    },
    {
     "cell_type": "markdown",
     "metadata": {},
     "source": [
      "Finally, as desired, the new dictionary keys:"
     ]
    },
    {
     "cell_type": "heading",
     "level": 4,
     "metadata": {},
     "source": [
      "Indexing a dictionary using the SEGUID checksum"
     ]
    },
    {
     "cell_type": "markdown",
     "metadata": {},
     "source": [
      "\n",
      "To give another example of working with dictionaries of __SeqRecord__ objects, we'll use the SEGUID checksum function.  This is a relatively recent checksum, and collisions should be very rare (i.e. two different sequences with the same checksum), an improvement on the CRC64 checksum.\n",
      "\n",
      "Once again, working with the orchids GenBank file:\n"
     ]
    },
    {
     "cell_type": "code",
     "collapsed": false,
     "input": [
      "from Bio import SeqIO\n",
      "from Bio.SeqUtils.CheckSum import seguid\n",
      "for record in SeqIO.parse(\"data/ls_orchid.gbk\", \"genbank\"):\n",
      "    print(record.id, seguid(record.seq))\n"
     ],
     "language": "python",
     "metadata": {},
     "outputs": []
    },
    {
     "cell_type": "markdown",
     "metadata": {},
     "source": [
      "Now, recall the __Bio.SeqIO.to_dict()__ function's __key_function__ argument expects a function which turns a __SeqRecord__ into a string.  We can't use the __seguid()__ function directly because it expects to be given a __Seq__ object (or a string).  However, we can use Python's __lambda__ feature to create a ``one off'' function to give to __Bio.SeqIO.to_dict()__ instead:\n"
     ]
    },
    {
     "cell_type": "code",
     "collapsed": false,
     "input": [
      "from Bio import SeqIO\n",
      "from Bio.SeqUtils.CheckSum import seguid\n",
      "seguid_dict = SeqIO.to_dict(SeqIO.parse(\"data/ls_orchid.gbk\", \"genbank\"),\n",
      "...                             lambda rec : seguid(rec.seq))\n",
      "record = seguid_dict[\"MN/s0q9zDoCVEEc+k/IFwCNF2pY\"]\n",
      "print(record.id)\n",
      "Z78532.1\n",
      "print(record.description)\n",
      "C.californicum 5.8S rRNA gene and ITS1 and ITS2 DNA.\n"
     ],
     "language": "python",
     "metadata": {},
     "outputs": []
    },
    {
     "cell_type": "markdown",
     "metadata": {},
     "source": [
      "That should have retrieved the record {\\tt Z78532.1}, the second entry in the file.\n"
     ]
    },
    {
     "cell_type": "heading",
     "level": 3,
     "metadata": {},
     "source": [
      "Sequence files as Dictionaries -- Indexed files"
     ]
    },
    {
     "cell_type": "markdown",
     "metadata": {},
     "source": [
      "As the previous couple of examples tried to illustrate, using\n",
      "__Bio.SeqIO.to_dict()__ is very flexible. However, because it holds\n",
      "everything in memory, the size of file you can work with is limited by your\n",
      "computer's RAM. In general, this will only work on small to medium files.\n",
      "\n",
      "For larger files you should consider\n",
      "__Bio.SeqIO.index()|, which works a little differently. Although\n",
      "it still returns a dictionary like object, this does \\emph{not} keep\n",
      "\\emph{everything} in memory. Instead, it just records where each record\n",
      "is within the file -- when you ask for a particular record, it then parses\n",
      "it on demand.\n",
      "\n",
      "As an example, let's use the same GenBank file as before:\n",
      "\n"
     ]
    },
    {
     "cell_type": "code",
     "collapsed": false,
     "input": [
      "from Bio import SeqIO\n",
      "orchid_dict = SeqIO.index(\"data/ls_orchid.gbk\", \"genbank\")\n",
      "len(orchid_dict)\n",
      "94\n",
      "\\end{verbatim}\n",
      "%Following is abbr.\n",
      "\\begin{verbatim}\n",
      "orchid_dict.keys()\n",
      "['Z78484.1', 'Z78464.1', 'Z78455.1', 'Z78442.1', 'Z78532.1', 'Z78453.1', ..., 'Z78471.1']\n",
      "\\end{verbatim}\n",
      "%cont-doctest\n",
      "\\begin{verbatim}\n",
      "seq_record = orchid_dict[\"Z78475.1\"]\n",
      "print(seq_record.description)\n",
      "P.supardii 5.8S rRNA gene and ITS1 and ITS2 DNA.\n",
      "seq_record.seq\n",
      "Seq('CGTAACAAGGTTTCCGTAGGTGAACCTGCGGAAGGATCATTGTTGAGATCACAT...GGT', IUPACAmbiguousDNA())\n"
     ],
     "language": "python",
     "metadata": {},
     "outputs": []
    },
    {
     "cell_type": "markdown",
     "metadata": {},
     "source": [
      "Note that __Bio.SeqIO.index()__ won't take a handle,\n",
      "but only a filename. There are good reasons for this, but it is a little\n",
      "technical. The second argument is the file format (a lower case string as\n",
      "used in the other __Bio.SeqIO__ functions). You can use many other\n",
      "simple file formats, including FASTA and FASTQ files (see the example in\n",
      "Section~\\ref{sec:fastq-indexing}). However, alignment\n",
      "formats like PHYLIP or Clustal are not supported. Finally as an optional\n",
      "argument you can supply an alphabet, or a key function.\n",
      "\n",
      "Here is the same example using the FASTA file - all we change is the\n",
      "filename and the format name:"
     ]
    },
    {
     "cell_type": "code",
     "collapsed": false,
     "input": [
      "from Bio import SeqIO\n",
      "orchid_dict = SeqIO.index(\"data/ls_orchid.fasta\", \"fasta\")\n",
      "len(orchid_dict)\n",
      "94\n",
      "orchid_dict.keys()\n",
      "['gi|2765596|emb|Z78471.1|PDZ78471', 'gi|2765646|emb|Z78521.1|CCZ78521', ...\n",
      " ..., 'gi|2765613|emb|Z78488.1|PTZ78488', 'gi|2765583|emb|Z78458.1|PHZ78458']\n"
     ],
     "language": "python",
     "metadata": {},
     "outputs": []
    },
    {
     "cell_type": "heading",
     "level": 3,
     "metadata": {},
     "source": [
      "Specifying the dictionary keys"
     ]
    },
    {
     "cell_type": "markdown",
     "metadata": {},
     "source": [
      "Suppose you want to use the same keys as before? Much like with the\n",
      "__Bio.SeqIO.to_dict()__ example in Section~\\ref{seq:seqio-todict-functionkey},\n",
      "you'll need to write a tiny function to map from the FASTA identifier\n",
      "(as a string) to the key you want:\n"
     ]
    },
    {
     "cell_type": "code",
     "collapsed": false,
     "input": [
      "def get_acc(identifier):\n",
      "    \"\"\"\"Given a SeqRecord identifier string, return the accession number as a string.\n",
      "  \n",
      "    e.g. \"gi|2765613|emb|Z78488.1|PTZ78488\" -> \"Z78488.1\"\n",
      "    \"\"\"\n",
      "    parts = identifier.split(\"|\")\n",
      "    assert len(parts) == 5 and parts[0] == \"gi\" and parts[2] == \"emb\"\n",
      "    return parts[3]\n"
     ],
     "language": "python",
     "metadata": {},
     "outputs": []
    },
    {
     "cell_type": "markdown",
     "metadata": {},
     "source": [
      "Then we can give this function to the __Bio.SeqIO.index()|\n",
      "function to use in building the dictionary:"
     ]
    },
    {
     "cell_type": "code",
     "collapsed": false,
     "input": [
      "from Bio import SeqIO\n",
      "orchid_dict = SeqIO.index(\"data/ls_orchid.fasta\", \"fasta\", key_function=get_acc)\n",
      "print(orchid_dict.keys())\n",
      "['Z78484.1', 'Z78464.1', 'Z78455.1', 'Z78442.1', 'Z78532.1', 'Z78453.1', ..., 'Z78471.1']\n"
     ],
     "language": "python",
     "metadata": {},
     "outputs": []
    },
    {
     "cell_type": "heading",
     "level": 4,
     "metadata": {},
     "source": [
      "Getting the raw data for a record"
     ]
    },
    {
     "cell_type": "markdown",
     "metadata": {},
     "source": [
      "The dictionary-like object from __Bio.SeqIO.index()__ gives you each\n",
      "entry as a __SeqRecord__ object. However, it is sometimes useful to\n",
      "be able to get the original raw data straight from the file. For this\n",
      "use the __get_raw()__ method which takes a\n",
      "single argument (the record identifier) and returns a string (extracted\n",
      "from the file without modification).\n",
      "\n",
      "A motivating example is extracting a subset of a records from a large\n",
      "file where either __Bio.SeqIO.write()__ does not (yet) support the\n",
      "output file format (e.g. the plain text SwissProt file format) or\n",
      "where you need to preserve the text exactly (e.g. GenBank or EMBL\n",
      "output from Biopython does not yet preserve every last bit of\n",
      "annotation).\n",
      "\n",
      "Let's suppose you have download the whole of UniProt in the plain\n",
      "text SwissPort file format from their FTP site\n",
      "(\\url{ftp://ftp.uniprot.org/pub/databases/uniprot/current_release/knowledgebase/complete/uniprot_sprot.dat.gz})\n",
      "and uncompressed it as the file __uniprot_sprot.dat|, and you\n",
      "want to extract just a few records from it:\n"
     ]
    },
    {
     "cell_type": "code",
     "collapsed": false,
     "input": [
      "from Bio import SeqIO\n",
      "uniprot = SeqIO.index(\"uniprot_sprot.dat\", \"swiss\")\n",
      "handle = open(\"selected.dat\", \"w\")\n",
      "for acc in [\"P33487\", \"P19801\", \"P13689\", \"Q8JZQ5\", \"Q9TRC7\"]:\n",
      "...     handle.write(uniprot.get_raw(acc))\n",
      "handle.close()\n"
     ],
     "language": "python",
     "metadata": {},
     "outputs": []
    },
    {
     "cell_type": "markdown",
     "metadata": {},
     "source": [
      "There is a longer example in Section~\\ref{sec:SeqIO-sort} using the\n",
      "__SeqIO.index()__ function to sort a large sequence file (without\n",
      "loading everything into memory at once).\n",
      "\n"
     ]
    },
    {
     "cell_type": "heading",
     "level": 3,
     "metadata": {},
     "source": [
      "Sequence files as Dictionaries -- Database indexed files"
     ]
    },
    {
     "cell_type": "markdown",
     "metadata": {},
     "source": [
      "Biopython 1.57 introduced an alternative, __Bio.SeqIO.index_db()|, which\n",
      "can work on even extremely large files since it stores the record information\n",
      "as a file on disk (using an SQLite3 database) rather than in memory. Also,\n",
      "you can index multiple files together (providing all the record identifiers\n",
      "are unique).\n",
      "\n",
      "The __Bio.SeqIO.index()__ function takes three required arguments:\n",
      "\\begin{itemize}\n",
      "\\item Index filename, we suggest using something ending \\texttt{.idx}.\n",
      "This index file is actually an SQLite3 database.\n",
      "\\item List of sequence filenames to index (or a single filename)\n",
      "\\item File format (lower case string as used in the rest of the\n",
      "__SeqIO__ module).\n",
      "\\end{itemize}\n",
      "\n",
      "As an example, consider the GenBank flat file releases from the NCBI FTP site,\n",
      "\\url{ftp://ftp.ncbi.nih.gov/genbank/}, which are gzip compressed GenBank files.\n",
      "As of GenBank release $182$, there are $16$ files making up the viral sequences,\n",
      "\\texttt{gbvrl1.seq}, \\ldots, \\texttt{gbvrl16.seq}, containing in total almost\n",
      "one million records. You can index them like this:\n",
      "\n"
     ]
    },
    {
     "cell_type": "code",
     "collapsed": false,
     "input": [
      "from Bio import SeqIO\n",
      "files = [\"gbvrl%i.seq\" % (i+1) for i in range(16)]\n",
      "gb_vrl = SeqIO.index_db(\"gbvrl.idx\", files, \"genbank\")\n",
      "print(\"%i sequences indexed\" % len(gb_vrl))\n",
      "958086 sequences indexed\n"
     ],
     "language": "python",
     "metadata": {},
     "outputs": []
    },
    {
     "cell_type": "markdown",
     "metadata": {},
     "source": [
      "That takes about two minutes to run on my machine. If you rerun it then the\n",
      "index file (here \\texttt{gbvrl.idx}) is reloaded in under a second. You can\n",
      "use the index as a read only Python dictionary - without having to worry\n",
      "about which file the sequence comes from, e.g.\n"
     ]
    },
    {
     "cell_type": "code",
     "collapsed": false,
     "input": [
      "print(gb_vrl[\"GQ333173.1\"].description)\n",
      "HIV-1 isolate F12279A1 from Uganda gag protein (gag) gene, partial cds.\n"
     ],
     "language": "python",
     "metadata": {},
     "outputs": []
    },
    {
     "cell_type": "heading",
     "level": 4,
     "metadata": {},
     "source": [
      "Getting the raw data for a record"
     ]
    },
    {
     "cell_type": "markdown",
     "metadata": {},
     "source": [
      "Just as with the __Bio.SeqIO.index()__ function discussed above in\n",
      "Section~\\ref{sec:seqio-index-getraw}, the dictionary like object also lets you\n",
      "get at the raw text of each record:\n"
     ]
    },
    {
     "cell_type": "code",
     "collapsed": false,
     "input": [
      "print(gb_vrl.get_raw(\"GQ333173.1\"))\n"
     ],
     "language": "python",
     "metadata": {},
     "outputs": []
    },
    {
     "cell_type": "heading",
     "level": 3,
     "metadata": {},
     "source": [
      "Indexing compressed files"
     ]
    },
    {
     "cell_type": "markdown",
     "metadata": {},
     "source": [
      "Very often when you are indexing a sequence file it can be quite large -- so\n",
      "you may want to compress it on disk. Unfortunately efficient random access\n",
      "is difficult with the more common file formats like gzip and bzip2. In this\n",
      "setting, BGZF (Blocked GNU Zip Format) can be very helpful. This is a variant\n",
      "of gzip (and can be decompressed using standard gzip tools) popularised by\n",
      "the BAM file format, \\href{http://samtools.sourceforge.net/}{samtools}, and\n",
      "\\href{http://samtools.sourceforge.net/tabix.shtml}{tabix}.\n",
      "\n",
      "To create a BGZF compressed file you can use the command line tool __bgzip|\n",
      "which comes with samtools. In our examples we use a filename extension\n",
      "__*.bgz|, so they can be distinguished from normal gzipped files (named\n",
      "__*.gz|). You can also use the __Bio.bgzf__ module to read and write\n",
      "BGZF files from within Python.\n",
      "\n",
      "The __Bio.SeqIO.index()__ and __Bio.SeqIO.index_db()__ can both be\n",
      "used with BGZF compressed files. For example, if you started with an\n",
      "uncompressed GenBank file:\n"
     ]
    },
    {
     "cell_type": "code",
     "collapsed": false,
     "input": [
      "from Bio import SeqIO\n",
      "orchid_dict = SeqIO.index(\"data/ls_orchid.gbk\", \"genbank\")\n",
      "len(orchid_dict)\n",
      "94\n"
     ],
     "language": "python",
     "metadata": {},
     "outputs": []
    },
    {
     "cell_type": "markdown",
     "metadata": {},
     "source": [
      "\n",
      "You could compress this (while keeping the original file) at the command\n",
      "line using the following command -- but don't worry, the compressed file\n",
      "is already included with the other example files:\n",
      "\n",
      "    \\begin{verbatim}\n",
      "$ bgzip -c ls_orchid.gbk > ls_orchid.gbk.bgz\n",
      "\\end{verbatim}\n",
      "\n",
      "You can use the compressed file in exactly the same way:\n"
     ]
    },
    {
     "cell_type": "code",
     "collapsed": false,
     "input": [
      "from Bio import SeqIO\n",
      "orchid_dict = SeqIO.index(\"data/ls_orchid.gbk.bgz\", \"genbank\")\n",
      "len(orchid_dict)\n",
      "94\n"
     ],
     "language": "python",
     "metadata": {},
     "outputs": []
    },
    {
     "cell_type": "markdown",
     "metadata": {},
     "source": [
      "or"
     ]
    },
    {
     "cell_type": "code",
     "collapsed": false,
     "input": [
      "from Bio import SeqIO\n",
      "orchid_dict = SeqIO.index_db(\"data/ls_orchid.gbk.bgz.idx\", \"data/ls_orchid.gbk.bgz\", \"genbank\")\n",
      "len(orchid_dict)\n",
      "94"
     ],
     "language": "python",
     "metadata": {},
     "outputs": []
    },
    {
     "cell_type": "markdown",
     "metadata": {},
     "source": [
      "The __SeqIO__ indexing automatically detects the BGZF compression. Note\n",
      "that you can't use the same index file for the uncompressed and compressed files.\n"
     ]
    },
    {
     "cell_type": "heading",
     "level": 3,
     "metadata": {},
     "source": [
      "Discussion"
     ]
    },
    {
     "cell_type": "markdown",
     "metadata": {},
     "source": [
      "So, which of these methods should you use and why? It depends on what you are\n",
      "trying to do (and how much data you are dealing with). However, in general\n",
      "picking __Bio.SeqIO.index()__ is a good starting point. If you are dealing\n",
      "with millions of records, multiple files, or repeated analyses, then look at\n",
      "__Bio.SeqIO.index_db()|.\n",
      "\n",
      "Reasons to choose __Bio.SeqIO.to_dict()__ over either\n",
      "__Bio.SeqIO.index()__ or __Bio.SeqIO.index_db()__ boil down to a need\n",
      "for flexibility despite its high memory needs. The advantage of storing the\n",
      "__SeqRecord__ objects in memory is they can be changed, added to, or\n",
      "removed at will. In addition to the downside of high memory consumption,\n",
      "indexing can also take longer because all the records must be fully parsed.\n",
      "\n",
      "Both __Bio.SeqIO.index()__ and __Bio.SeqIO.index_db()__ only parse\n",
      "records on demand. When indexing, they scan the file once looking for the\n",
      "start of each record and do as little work as possible to extract the\n",
      "identifier.\n",
      "\n",
      "Reasons to choose __Bio.SeqIO.index()__ over __Bio.SeqIO.index_db()|\n",
      "include:\n",
      "\\begin{itemize}\n",
      "\\item Faster to build the index (more noticeable in simple file formats)\n",
      "\\item Slightly faster access as SeqRecord objects (but the difference is only\n",
      "really noticeable for simple to parse file formats).\n",
      "\\item Can use any immutable Python object as the dictionary keys (e.g. a\n",
      "tuple of strings, or a frozen set) not just strings.\n",
      "\\item Don't need to worry about the index database being out of date if the\n",
      "sequence file being indexed has changed.\n",
      "\\end{itemize}\n",
      "\n",
      "Reasons to choose __Bio.SeqIO.index_db()__ over __Bio.SeqIO.index()|\n",
      "include:\n",
      "\\begin{itemize}\n",
      "\\item Not memory limited -- this is already important with files from second\n",
      "generation sequencing where 10s of millions of sequences are common, and\n",
      "using __Bio.SeqIO.index()__ can require more than 4GB of RAM and therefore\n",
      "a 64bit version of Python.\n",
      "\\item Because the index is kept on disk, it can be reused. Although building\n",
      "the index database file takes longer, if you have a script which will be\n",
      "rerun on the same datafiles in future, this could save time in the long run.\n",
      "\\item Indexing multiple files together\n",
      "\\item The __get_raw()__ method can be much faster, since for most file\n",
      "formats the length of each record is stored as well as its offset.\n",
      "\\end{itemize}\n"
     ]
    },
    {
     "cell_type": "heading",
     "level": 2,
     "metadata": {},
     "source": [
      "Writing sequence files"
     ]
    },
    {
     "cell_type": "markdown",
     "metadata": {},
     "source": [
      "We've talked about using __Bio.SeqIO.parse()__ for sequence input (reading files), and now we'll look at __Bio.SeqIO.write()__ which is for sequence output (writing files).  This is a function taking three arguments: some __SeqRecord__ objects, a handle or filename to write to, and a sequence format.\n",
      "\n",
      "Here is an example, where we start by creating a few __SeqRecord__ objects the hard way (by hand, rather than by loading them from a file):\n"
     ]
    },
    {
     "cell_type": "code",
     "collapsed": false,
     "input": [
      "from Bio.Seq import Seq\n",
      "from Bio.SeqRecord import SeqRecord\n",
      "from Bio.Alphabet import generic_protein\n",
      "\n",
      "rec1 = SeqRecord(Seq(\"MMYQQGCFAGGTVLRLAKDLAENNRGARVLVVCSEITAVTFRGPSETHLDSMVGQALFGD\" \\\n",
      "                    +\"GAGAVIVGSDPDLSVERPLYELVWTGATLLPDSEGAIDGHLREVGLTFHLLKDVPGLISK\" \\\n",
      "                    +\"NIEKSLKEAFTPLGISDWNSTFWIAHPGGPAILDQVEAKLGLKEEKMRATREVLSEYGNM\" \\\n",
      "                    +\"SSAC\", generic_protein),\n",
      "                 id=\"gi|14150838|gb|AAK54648.1|AF376133_1\",\n",
      "                 description=\"chalcone synthase [Cucumis sativus]\")\n",
      "\n",
      "rec2 = SeqRecord(Seq(\"YPDYYFRITNREHKAELKEKFQRMCDKSMIKKRYMYLTEEILKENPSMCEYMAPSLDARQ\" \\\n",
      "                    +\"DMVVVEIPKLGKEAAVKAIKEWGQ\", generic_protein),\n",
      "                 id=\"gi|13919613|gb|AAK33142.1|\",\n",
      "                 description=\"chalcone synthase [Fragaria vesca subsp. bracteata]\")\n",
      "\n",
      "rec3 = SeqRecord(Seq(\"MVTVEEFRRAQCAEGPATVMAIGTATPSNCVDQSTYPDYYFRITNSEHKVELKEKFKRMC\" \\\n",
      "                    +\"EKSMIKKRYMHLTEEILKENPNICAYMAPSLDARQDIVVVEVPKLGKEAAQKAIKEWGQP\" \\\n",
      "                    +\"KSKITHLVFCTTSGVDMPGCDYQLTKLLGLRPSVKRFMMYQQGCFAGGTVLRMAKDLAEN\" \\\n",
      "                    +\"NKGARVLVVCSEITAVTFRGPNDTHLDSLVGQALFGDGAAAVIIGSDPIPEVERPLFELV\" \\\n",
      "                    +\"SAAQTLLPDSEGAIDGHLREVGLTFHLLKDVPGLISKNIEKSLVEAFQPLGISDWNSLFW\" \\\n",
      "                    +\"IAHPGGPAILDQVELKLGLKQEKLKATRKVLSNYGNMSSACVLFILDEMRKASAKEGLGT\" \\\n",
      "                    +\"TGEGLEWGVLFGFGPGLTVETVVLHSVAT\", generic_protein),\n",
      "                 id=\"gi|13925890|gb|AAK49457.1|\",\n",
      "                 description=\"chalcone synthase [Nicotiana tabacum]\")\n",
      "               \n",
      "my_records = [rec1, rec2, rec3]\n"
     ],
     "language": "python",
     "metadata": {},
     "outputs": []
    },
    {
     "cell_type": "markdown",
     "metadata": {},
     "source": [
      "Now we have a list of __SeqRecord__ objects, we'll write them to a FASTA format file:\n"
     ]
    },
    {
     "cell_type": "code",
     "collapsed": false,
     "input": [
      "from Bio import SeqIO\n",
      "SeqIO.write(my_records, \"data/my_example.faa\", \"fasta\")\n"
     ],
     "language": "python",
     "metadata": {},
     "outputs": []
    },
    {
     "cell_type": "markdown",
     "metadata": {},
     "source": [
      "\\noindent And if you open this file in your favourite text editor it should look like this:\n",
      "\n",
      "\\begin{verbatim}\n",
      ">gi|14150838|gb|AAK54648.1|AF376133_1 chalcone synthase [Cucumis sativus]\n",
      "MMYQQGCFAGGTVLRLAKDLAENNRGARVLVVCSEITAVTFRGPSETHLDSMVGQALFGD\n",
      "GAGAVIVGSDPDLSVERPLYELVWTGATLLPDSEGAIDGHLREVGLTFHLLKDVPGLISK\n",
      "NIEKSLKEAFTPLGISDWNSTFWIAHPGGPAILDQVEAKLGLKEEKMRATREVLSEYGNM\n",
      "SSAC\n",
      ">gi|13919613|gb|AAK33142.1__ chalcone synthase [Fragaria vesca subsp. bracteata]\n",
      "YPDYYFRITNREHKAELKEKFQRMCDKSMIKKRYMYLTEEILKENPSMCEYMAPSLDARQ\n",
      "DMVVVEIPKLGKEAAVKAIKEWGQ\n",
      ">gi|13925890|gb|AAK49457.1__ chalcone synthase [Nicotiana tabacum]\n",
      "MVTVEEFRRAQCAEGPATVMAIGTATPSNCVDQSTYPDYYFRITNSEHKVELKEKFKRMC\n",
      "EKSMIKKRYMHLTEEILKENPNICAYMAPSLDARQDIVVVEVPKLGKEAAQKAIKEWGQP\n",
      "KSKITHLVFCTTSGVDMPGCDYQLTKLLGLRPSVKRFMMYQQGCFAGGTVLRMAKDLAEN\n",
      "NKGARVLVVCSEITAVTFRGPNDTHLDSLVGQALFGDGAAAVIIGSDPIPEVERPLFELV\n",
      "SAAQTLLPDSEGAIDGHLREVGLTFHLLKDVPGLISKNIEKSLVEAFQPLGISDWNSLFW\n",
      "IAHPGGPAILDQVELKLGLKQEKLKATRKVLSNYGNMSSACVLFILDEMRKASAKEGLGT\n",
      "TGEGLEWGVLFGFGPGLTVETVVLHSVAT\n",
      "\\end{verbatim}\n",
      "\n",
      "Suppose you wanted to know how many records the __Bio.SeqIO.write()__ function wrote to the handle?\n",
      "If your records were in a list you could just use __len(my_records)|, however you can't do that when your records come from a generator/iterator.  The __Bio.SeqIO.write()__ function returns the number of __SeqRecord__ objects written to the file.   \n",
      "\n",
      "\\emph{Note} - If you tell the __Bio.SeqIO.write()__ function to write to a file that already exists, the old file will be overwritten without any warning.\n",
      "\n"
     ]
    },
    {
     "cell_type": "heading",
     "level": 3,
     "metadata": {},
     "source": [
      "Round trips"
     ]
    },
    {
     "cell_type": "markdown",
     "metadata": {},
     "source": [
      "\n",
      "Some people like their parsers to be ``round-tripable'', meaning if you read in\n",
      "a file and write it back out again it is unchanged. This requires that the parser\n",
      "must extract enough information to reproduce the original file \\emph{exactly}.\n",
      "__Bio.SeqIO__ does \\emph{not} aim to do this.\n",
      "\n",
      "As a trivial example, any line wrapping of the sequence data in FASTA files is\n",
      "allowed. An identical __SeqRecord__ would be given from parsing the following\n",
      "two examples which differ only in their line breaks:\n",
      "\n",
      "\\begin{verbatim}\n",
      ">YAL068C-7235.2170 Putative promoter sequence\n",
      "TACGAGAATAATTTCTCATCATCCAGCTTTAACACAAAATTCGCACAGTTTTCGTTAAGA\n",
      "GAACTTAACATTTTCTTATGACGTAAATGAAGTTTATATATAAATTTCCTTTTTATTGGA\n",
      "\n",
      ">YAL068C-7235.2170 Putative promoter sequence\n",
      "TACGAGAATAATTTCTCATCATCCAGCTTTAACACAAAATTCGCA\n",
      "CAGTTTTCGTTAAGAGAACTTAACATTTTCTTATGACGTAAATGA\n",
      "AGTTTATATATAAATTTCCTTTTTATTGGA\n",
      "\\end{verbatim}\n",
      "\n",
      "To make a round-tripable FASTA parser you would need to keep track of where the\n",
      "sequence line breaks occurred, and this extra information is usually pointless.\n",
      "Instead Biopython uses a default line wrapping of $60$ characters on output.\n",
      "The same problem with white space applies in many other file formats too.\n",
      "Another issue in some cases is that Biopython does not (yet) preserve every\n",
      "last bit of annotation (e.g. GenBank and EMBL).\n",
      "\n",
      "Occasionally preserving the original layout (with any quirks it may have) is\n",
      "important. See Section~\\ref{sec:seqio-index-getraw} about the __get_raw()|\n",
      "method of the __Bio.SeqIO.index()__ dictionary-like object for one potential\n",
      "solution.\n",
      "\n"
     ]
    },
    {
     "cell_type": "heading",
     "level": 3,
     "metadata": {},
     "source": [
      "Converting between sequence file formats"
     ]
    },
    {
     "cell_type": "markdown",
     "metadata": {},
     "source": [
      "In previous example we used a list of __SeqRecord__ objects as input to the __Bio.SeqIO.write()__ function, but it will also accept a __SeqRecord__ iterator like we get from __Bio.SeqIO.parse()__ -- this lets us do file conversion by combining these two functions.\n",
      "\n",
      "For this example we'll read in the GenBank format file \\href{http://biopython.org/DIST/docs/tutorial/examples/ls_orchid.gbk}{ls\\_orchid.gbk} and write it out in FASTA format:\n",
      "\n"
     ]
    },
    {
     "cell_type": "code",
     "collapsed": false,
     "input": [
      "from Bio import SeqIO\n",
      "records = SeqIO.parse(\"data/ls_orchid.gbk\", \"genbank\")\n",
      "count = SeqIO.write(records, \"my_example.fasta\", \"fasta\")\n",
      "print(\"Converted %i records\" % count)\n"
     ],
     "language": "python",
     "metadata": {},
     "outputs": []
    },
    {
     "cell_type": "markdown",
     "metadata": {},
     "source": [
      "Still, that is a little bit complicated. So, because file conversion is such a\n",
      "common task, there is a helper function letting you replace that with just:\n"
     ]
    },
    {
     "cell_type": "code",
     "collapsed": false,
     "input": [
      "from Bio import SeqIO\n",
      "count = SeqIO.convert(data/\"ls_orchid.gbk\", \"genbank\", \"data/my_example.fasta\", \"fasta\")\n",
      "print(\"Converted %i records\" % count)\n"
     ],
     "language": "python",
     "metadata": {},
     "outputs": []
    },
    {
     "cell_type": "markdown",
     "metadata": {},
     "source": [
      "The __Bio.SeqIO.convert()__ function will take handles \\emph{or} filenames.\n",
      "Watch out though -- if the output file already exists, it will overwrite it!\n",
      "To find out more, see the built in help:\n"
     ]
    },
    {
     "cell_type": "code",
     "collapsed": false,
     "input": [
      "from Bio import SeqIO\n",
      "help(SeqIO.convert)\n",
      "...\n"
     ],
     "language": "python",
     "metadata": {},
     "outputs": []
    },
    {
     "cell_type": "markdown",
     "metadata": {},
     "source": [
      "In principle, just by changing the filenames and the format names, this code\n",
      "could be used to convert between any file formats available in Biopython.\n",
      "However, writing some formats requires information (e.g. quality scores) which\n",
      "other files formats don't contain. For example, while you can turn a FASTQ\n",
      "file into a FASTA file, you can't do the reverse. See also\n",
      "Sections~\\ref{sec:SeqIO-fastq-conversion} and~\\ref{sec:SeqIO-fasta-qual-conversion}\n",
      "in the cookbook chapter which looks at inter-converting between different FASTQ formats.\n",
      "\n",
      "Finally, as an added incentive for using the __Bio.SeqIO.convert()__ function\n",
      "(on top of the fact your code will be shorter), doing it this way may also be\n",
      "faster! The reason for this is the convert function can take advantage of\n",
      "several file format specific optimisations and tricks.\n"
     ]
    },
    {
     "cell_type": "heading",
     "level": 3,
     "metadata": {},
     "source": [
      "Converting a file of sequences to their reverse complements"
     ]
    },
    {
     "cell_type": "markdown",
     "metadata": {},
     "source": [
      "Suppose you had a file of nucleotide sequences, and you wanted to turn it into a file containing their reverse complement sequences.  This time a little bit of work is required to transform the __SeqRecord__ objects we get from our input file into something suitable for saving to our output file.\n",
      "\n",
      "To start with, we'll use __Bio.SeqIO.parse()__ to load some nucleotide\n",
      "sequences from a file, then print out their reverse complements using\n",
      "the __Seq__ object's built in __.reverse_complement()__ method (see Section~\\ref{sec:seq-reverse-complement}):\n",
      "\n"
     ]
    },
    {
     "cell_type": "code",
     "collapsed": false,
     "input": [
      "from Bio import SeqIO\n",
      "for record in SeqIO.parse(\"data/ls_orchid.gbk\", \"genbank\"):\n",
      "...     print(record.id)\n",
      "...     print(record.seq.reverse_complement())\n"
     ],
     "language": "python",
     "metadata": {},
     "outputs": []
    },
    {
     "cell_type": "markdown",
     "metadata": {},
     "source": [
      "Now, if we want to save these reverse complements to a file, we'll need to make __SeqRecord__ objects.\n",
      "We can use  the __SeqRecord__ object's built in __.reverse_complement()__ method (see Section~\\ref{sec:SeqRecord-reverse-complement}) but we must decide how to name our new records.\n",
      "\n",
      "This is an excellent place to demonstrate the power of list comprehensions which make a list in memory:\n"
     ]
    },
    {
     "cell_type": "code",
     "collapsed": false,
     "input": [
      "from Bio import SeqIO\n",
      "records = [rec.reverse_complement(id=\"rc_\"+rec.id, description = \"reverse complement\") \\\n",
      "...            for rec in SeqIO.parse(\"data/ls_orchid.fasta\", \"fasta\")]\n",
      "len(records)\n",
      "94\n"
     ],
     "language": "python",
     "metadata": {},
     "outputs": []
    },
    {
     "cell_type": "markdown",
     "metadata": {},
     "source": [
      "Now list comprehensions have a nice trick up their sleeves, you can add a conditional statement:"
     ]
    },
    {
     "cell_type": "code",
     "collapsed": false,
     "input": [
      "records = [rec.reverse_complement(id=\"rc_\"+rec.id, description = \"reverse complement\") \\\n",
      "...            for rec in SeqIO.parse(\"data/ls_orchid.fasta\", \"fasta\") if len(rec)<700]\n",
      "len(records)\n",
      "18\n"
     ],
     "language": "python",
     "metadata": {},
     "outputs": []
    },
    {
     "cell_type": "markdown",
     "metadata": {},
     "source": [
      "That would create an in memory list of reverse complement records where the sequence length was under 700 base pairs. However, we can do exactly the same with a generator expression - but with the advantage that this does not create a list of all the records in memory at once:\n"
     ]
    },
    {
     "cell_type": "code",
     "collapsed": false,
     "input": [
      "records = (rec.reverse_complement(id=\"rc_\"+rec.id, description = \"reverse complement\") \\\n",
      "...           for rec in SeqIO.parse(\"data/ls_orchid.fasta\", \"fasta\") if len(rec)<700)\n"
     ],
     "language": "python",
     "metadata": {},
     "outputs": []
    },
    {
     "cell_type": "markdown",
     "metadata": {},
     "source": [
      "As a complete example:\n"
     ]
    },
    {
     "cell_type": "code",
     "collapsed": false,
     "input": [
      "from Bio import SeqIO\n",
      "records = (rec.reverse_complement(id=\"rc_\"+rec.id, description = \"reverse complement\") \\\n",
      "...            for rec in SeqIO.parse(\"ls_orchid.fasta\", \"fasta\") if len(rec)<700)\n",
      "SeqIO.write(records, \"data/rev_comp.fasta\", \"fasta\")\n",
      "18"
     ],
     "language": "python",
     "metadata": {},
     "outputs": []
    },
    {
     "cell_type": "markdown",
     "metadata": {},
     "source": [
      "There is a related example in Section~\\ref{sec:SeqIO-translate}, translating each\n",
      "record in a FASTA file from nucleotides to amino acids.\n",
      "\n"
     ]
    },
    {
     "cell_type": "heading",
     "level": 3,
     "metadata": {},
     "source": [
      "Getting your SeqRecord objects as formatted strings"
     ]
    },
    {
     "cell_type": "markdown",
     "metadata": {},
     "source": [
      "Suppose that you don't really want to write your records to a file or handle -- instead you want a string containing the records in a particular file format.  The __Bio.SeqIO__ interface is based on handles, but Python has a useful built in module which provides a string based handle.\n",
      "\n",
      "For an example of how you might use this, let's load in a bunch of __SeqRecord__ objects from our orchids GenBank file, and create a string containing the records in FASTA format:\n",
      "\n"
     ]
    },
    {
     "cell_type": "code",
     "collapsed": false,
     "input": [
      "from Bio import SeqIO\n",
      "from StringIO import StringIO\n",
      "records = SeqIO.parse(\"data/ls_orchid.gbk\", \"genbank\")\n",
      "out_handle = StringIO()\n",
      "SeqIO.write(records, out_handle, \"fasta\")\n",
      "fasta_data = out_handle.getvalue()\n",
      "print(fasta_data)\n"
     ],
     "language": "python",
     "metadata": {},
     "outputs": []
    },
    {
     "cell_type": "markdown",
     "metadata": {},
     "source": [
      "This isn't entirely straightforward the first time you see it!  On the bright side, for the special case where you would like a string containing a \\emph{single} record in a particular file format, use the the __SeqRecord__ class' __format()__ method (see Section~\\ref{sec:SeqRecord-format}).\n",
      "\n",
      "Note that although we don't encourage it, you \\emph{can} use the __format()__ method to write to a file, for example something like this:\n"
     ]
    },
    {
     "cell_type": "code",
     "collapsed": false,
     "input": [
      "from Bio import SeqIO\n",
      "out_handle = open(\"ls_orchid_long.tab\", \"w\")\n",
      "for record in SeqIO.parse(\"data/ls_orchid.gbk\", \"genbank\"):\n",
      "    if len(record) > 100:\n",
      "        out_handle.write(record.format(\"tab\"))\n",
      "out_handle.close()\n",
      "\\end{verbatim}\n",
      "\\noindent While this style of code will work for a simple sequential file format like FASTA or the simple tab separated format used here, it will \\emph{not} work for more complex or interlaced file formats.  This is why we still recommend using __Bio.SeqIO.write()|, as in the following example:\n",
      "\\begin{verbatim}\n",
      "from Bio import SeqIO\n",
      "records = (rec for rec in SeqIO.parse(\"ls_orchid.gbk\", \"genbank\") if len(rec) > 100)\n",
      "SeqIO.write(records, \"ls_orchid.tab\", \"tab\")\n"
     ],
     "language": "python",
     "metadata": {},
     "outputs": []
    },
    {
     "cell_type": "markdown",
     "metadata": {},
     "source": [
      "Making a single call to __SeqIO.write(...)__ is also much quicker than\n",
      "multiple calls to the __SeqRecord.format(...)__ method."
     ]
    },
    {
     "cell_type": "code",
     "collapsed": false,
     "input": [],
     "language": "python",
     "metadata": {},
     "outputs": []
    }
   ],
   "metadata": {}
  }
 ]
}