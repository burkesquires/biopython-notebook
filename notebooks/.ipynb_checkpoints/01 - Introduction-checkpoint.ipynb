{
 "metadata": {
  "name": "",
  "signature": "sha256:183dc1ec6fad6a9d9af18d473c7e0b5a4d62641e200fcb4bddf23144f4867a96"
 },
 "nbformat": 3,
 "nbformat_minor": 0,
 "worksheets": [
  {
   "cells": [
    {
     "cell_type": "markdown",
     "metadata": {},
     "source": [
      "**Source of the materials**: Biopython Tutorial and Cookbook (adapted)"
     ]
    },
    {
     "cell_type": "markdown",
     "metadata": {},
     "source": [
      "<img src=\"biopython.jpg\">"
     ]
    },
    {
     "cell_type": "heading",
     "level": 1,
     "metadata": {},
     "source": [
      "Introduction"
     ]
    },
    {
     "cell_type": "heading",
     "level": 2,
     "metadata": {},
     "source": [
      "What is Biopython?"
     ]
    },
    {
     "cell_type": "markdown",
     "metadata": {},
     "source": [
      "The Biopython Project is an international association of developers of freely available Python (http://www.python.org) tools for computational molecular biology. Python is an object oriented, interpreted, flexible language that is becoming increasingly popular for scientific computing. Python is easy to learn, has a very clear syntax and can easily be extended with modules written in C, C++ or FORTRAN.\n",
      "\n",
      "The Biopython web site (http://www.biopython.org) provides an online resource for modules, scripts, and web links for developers of Python-based software for bioinformatics use and research. Basically, the goal of Biopython is to make it as easy as possible to use Python for bioinformatics by creating high-quality, reusable modules and classes. Biopython features include parsers for various Bioinformatics file formats (BLAST, Clustalw, FASTA, Genbank,...), access to online services (NCBI, Expasy,...), interfaces to common and not-so-common programs (Clustalw, DSSP, MSMS...), a standard sequence class, various clustering modules, a KD tree data structure etc. and even documentation.\n",
      "\n",
      "Basically, we just like to program in Python and want to make it as easy as possible to use Python for bioinformatics by creating high-quality, reusable modules and scripts."
     ]
    },
    {
     "cell_type": "heading",
     "level": 2,
     "metadata": {},
     "source": [
      "What can I find in the Biopython package"
     ]
    },
    {
     "cell_type": "markdown",
     "metadata": {},
     "source": [
      "The main Biopython releases have lots of functionality, including:\n",
      "\n",
      "- The ability to parse bioinformatics files into Python utilizable data structures, including support for the following formats:\n",
      "  - Blast output \u2013 both from standalone and WWW Blast\n",
      "  - Clustalw\n",
      "  - FASTA\n",
      "  - GenBank\n",
      "  - PubMed and Medline\n",
      "  - ExPASy files, like Enzyme and Prosite\n",
      "  - SCOP, including \u2018dom\u2019 and \u2018lin\u2019 files\n",
      "  - UniGene\n",
      "  - SwissProt\n",
      "- Files in the supported formats can be iterated over record by record or indexed and accessed via a Dictionary interface.\n",
      "- Code to deal with popular on-line bioinformatics destinations such as:\n",
      "  - NCBI \u2013 Blast, Entrez and PubMed services\n",
      "  - ExPASy \u2013 Swiss-Prot and Prosite entries, as well as Prosite searches\n",
      "- Interfaces to common bioinformatics programs such as:\n",
      "  - Standalone Blast from NCBI\n",
      "  - Clustalw alignment program\n",
      "  - EMBOSS command line tools\n",
      "-A standard sequence class that deals with sequences, ids on sequences, and sequence features.\n",
      "- Tools for performing common operations on sequences, such as translation, transcription and weight calculations.\n",
      "- Code to perform classification of data using k Nearest Neighbors, Naive Bayes or Support Vector Machines.\n",
      "- Code for dealing with alignments, including a standard way to create and deal with substitution matrices.\n",
      "- Code making it easy to split up parallelizable tasks into separate processes.\n",
      "- GUI-based programs to do basic sequence manipulations, translations, BLASTing, etc.\n",
      "- Extensive documentation and help with using the modules, including this file, on-line wiki documentation, the web site, and the mailing list.\n",
      "- Integration with BioSQL, a sequence database schema also supported by the BioPerl and BioJava projects.\n",
      "\n",
      "We hope this gives you plenty of reasons to download and start using Biopython!"
     ]
    },
    {
     "cell_type": "heading",
     "level": 2,
     "metadata": {},
     "source": [
      "Available content"
     ]
    },
    {
     "cell_type": "markdown",
     "metadata": {},
     "source": [
      "<a href=\"02%20-%20Quick%20Start.ipynb\">Quick Start</a>\n",
      "\n",
      "<a href=\"03%20-%20Sequence%20Objects.ipynb\">Sequence Objects</a>\n",
      "\n",
      "<a href=\"04%20-%20Sequence%20Annotation%20objects.ipynb\">Sequence Annotation objects</a>\n",
      "\n",
      "<a href=\"05%20-%20Sequence%20Input%20and%20Output.ipynb\">Sequence Input/Output</a>\n",
      "\n",
      "<a href=\"12%20-%20Bio.PopGen%20-%20Population%20Genetics.ipynb\">Population Genetics</a>\n",
      "\n",
      "<a href=\"13%20-%20Phylogenetics%20with%20Bio.Phylo.ipynb\">Phylogenetics</a>\n",
      "\n",
      "<a href=\"17%20-%20Graphics%20including%20GenomeDiagram.ipynb\">Graphics including GenomeDiagram</a>"
     ]
    },
    {
     "cell_type": "heading",
     "level": 2,
     "metadata": {},
     "source": [
      "About these notebooks"
     ]
    },
    {
     "cell_type": "markdown",
     "metadata": {},
     "source": [
      "These notebooks were prepared on Python 3 for IPython notebook 2. They should work with Python 2 (but not previous versions of IPython notebook). Biopython should be installed and available.\n",
      "\n",
      "You can check the basic installation and inspect the version by doing:"
     ]
    },
    {
     "cell_type": "code",
     "collapsed": false,
     "input": [
      "import Bio\n",
      "print(Bio.__version__)"
     ],
     "language": "python",
     "metadata": {},
     "outputs": [
      {
       "output_type": "stream",
       "stream": "stdout",
       "text": [
        "1.63\n"
       ]
      }
     ],
     "prompt_number": 2
    }
   ],
   "metadata": {}
  }
 ]
}