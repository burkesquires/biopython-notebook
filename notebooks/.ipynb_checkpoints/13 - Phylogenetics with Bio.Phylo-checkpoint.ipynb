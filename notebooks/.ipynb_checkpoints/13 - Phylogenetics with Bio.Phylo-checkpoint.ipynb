{
 "metadata": {
  "name": "",
  "signature": "sha256:7adca4cb891f4236a8cdecb952a56a5e6f81e07faf7137beeda58b90eb8da6f7"
 },
 "nbformat": 3,
 "nbformat_minor": 0,
 "worksheets": [
  {
   "cells": [
    {
     "cell_type": "markdown",
     "metadata": {},
     "source": [
      "**Source of the materials**: Biopython Tutorial and Cookbook (adapted)"
     ]
    },
    {
     "cell_type": "heading",
     "level": 1,
     "metadata": {},
     "source": [
      "Phylogenetics with Bio.Phylo"
     ]
    },
    {
     "cell_type": "heading",
     "level": 2,
     "metadata": {},
     "source": [
      "Demo: what is in a tree?"
     ]
    },
    {
     "cell_type": "markdown",
     "metadata": {},
     "source": [
      "Lets open an example newick file"
     ]
    },
    {
     "cell_type": "code",
     "collapsed": false,
     "input": [
      "from Bio import Phylo\n",
      "%matplotlib inline\n",
      "tree = Phylo.read(\"data/simple.dnd\", \"newick\")"
     ],
     "language": "python",
     "metadata": {},
     "outputs": [],
     "prompt_number": 1
    },
    {
     "cell_type": "markdown",
     "metadata": {},
     "source": [
      "Printing the tree object as a string gives us a look at the entire object hierarchy."
     ]
    },
    {
     "cell_type": "code",
     "collapsed": false,
     "input": [
      "print(tree)"
     ],
     "language": "python",
     "metadata": {},
     "outputs": [
      {
       "output_type": "stream",
       "stream": "stdout",
       "text": [
        "Tree(rooted=False, weight=1.0)\n",
        "    Clade(branch_length=1.0)\n",
        "        Clade(branch_length=1.0)\n",
        "            Clade(branch_length=1.0)\n",
        "                Clade(name='A', branch_length=1.0)\n",
        "                Clade(name='B', branch_length=1.0)\n",
        "            Clade(branch_length=1.0)\n",
        "                Clade(name='C', branch_length=1.0)\n",
        "                Clade(name='D', branch_length=1.0)\n",
        "        Clade(branch_length=1.0)\n",
        "            Clade(name='E', branch_length=1.0)\n",
        "            Clade(name='F', branch_length=1.0)\n",
        "            Clade(name='G', branch_length=1.0)\n"
       ]
      }
     ],
     "prompt_number": 2
    },
    {
     "cell_type": "markdown",
     "metadata": {},
     "source": [
      "The Tree object contains global information about the tree, such as whether it\u2019s rooted or unrooted. It has one root clade, and under that, it\u2019s nested lists of clades all the way down to the tips.\n",
      "\n",
      "The function draw_ascii creates a simple ASCII-art (plain text) dendrogram. This is a convenient visualization for interactive exploration, in case better graphical tools aren\u2019t available."
     ]
    },
    {
     "cell_type": "code",
     "collapsed": false,
     "input": [
      "Phylo.draw_ascii(tree)"
     ],
     "language": "python",
     "metadata": {},
     "outputs": [
      {
       "output_type": "stream",
       "stream": "stdout",
       "text": [
        "                                                          __________________ A\n",
        "                                       __________________|\n",
        "                                      |                  |__________________ B\n",
        "                    __________________|\n",
        "                   |                  |                   __________________ C\n",
        "                   |                  |__________________|\n",
        "___________________|                                     |__________________ D\n",
        "                   |\n",
        "                   |                   __________________ E\n",
        "                   |                  |\n",
        "                   |__________________|__________________ F\n",
        "                                      |\n",
        "                                      |__________________ G\n",
        "\n"
       ]
      }
     ],
     "prompt_number": 3
    },
    {
     "cell_type": "markdown",
     "metadata": {},
     "source": [
      "you can create a graphic using the draw function"
     ]
    },
    {
     "cell_type": "code",
     "collapsed": false,
     "input": [
      "tree.rooted = True\n",
      "Phylo.draw(tree)"
     ],
     "language": "python",
     "metadata": {},
     "outputs": [
      {
       "metadata": {},
       "output_type": "display_data",
       "png": "[encoded data removed]",
       "text": [
        "<matplotlib.figure.Figure at 0x7fed1816a550>"
       ]
      }
     ],
     "prompt_number": 4
    },
    {
     "cell_type": "heading",
     "level": 3,
     "metadata": {},
     "source": [
      "Coloring branches within a tree"
     ]
    },
    {
     "cell_type": "markdown",
     "metadata": {},
     "source": [
      "The functions draw and draw_graphviz support the display of different colors and branch widths in a tree. As of Biopython 1.59, the color and width attributes are available on the basic Clade object and there\u2019s nothing extra required to use them. Both attributes refer to the branch leading the given clade, and apply recursively, so all descendent branches will also inherit the assigned width and color values during display.\n",
      "\n",
      "In earlier versions of Biopython, these were special features of PhyloXML trees, and using the attributes required first converting the tree to a subclass of the basic tree object called Phylogeny, from the Bio.Phylo.PhyloXML module.\n",
      "\n",
      "In Biopython 1.55 and later, this is a convenient tree method:"
     ]
    },
    {
     "cell_type": "code",
     "collapsed": false,
     "input": [
      "tree = tree.as_phyloxml()\n",
      "from Bio.Phylo.PhyloXML import Phylogeny\n",
      "tree = Phylogeny.from_tree(tree)"
     ],
     "language": "python",
     "metadata": {},
     "outputs": [],
     "prompt_number": 5
    },
    {
     "cell_type": "markdown",
     "metadata": {},
     "source": [
      "Note that the file formats Newick and Nexus don\u2019t support branch colors or widths, so if you use these attributes in Bio.Phylo, you will only be able to save the values in PhyloXML format. (You can still save a tree as Newick or Nexus, but the color and width values will be skipped in the output file.)\n",
      "\n",
      "Now we can begin assigning colors. First, we\u2019ll color the root clade gray. We can do that by assigning the 24-bit color value as an RGB triple, an HTML-style hex string, or the name of one of the predefined colors."
     ]
    },
    {
     "cell_type": "code",
     "collapsed": false,
     "input": [
      "tree.root.color = (128, 128, 128)\n",
      "tree.root.color = \"#808080\"        # This is one alternative\n",
      "tree.root.color = \"gray\"           # This is another"
     ],
     "language": "python",
     "metadata": {},
     "outputs": [],
     "prompt_number": 6
    },
    {
     "cell_type": "markdown",
     "metadata": {},
     "source": [
      "Colors for a clade are treated as cascading down through the entire clade, so when we colorize the root here, it turns the whole tree gray. We can override that by assigning a different color lower down on the tree.\n",
      "\n",
      "Let\u2019s target the most recent common ancestor (MRCA) of the nodes named \u201cE\u201d and \u201cF\u201d. The common_ancestor method returns a reference to that clade in the original tree, so when we color that clade \u201csalmon\u201d, the color will show up in the original tree."
     ]
    },
    {
     "cell_type": "code",
     "collapsed": false,
     "input": [
      "mrca = tree.common_ancestor({\"name\": \"E\"}, {\"name\": \"F\"})\n",
      "mrca.color = \"salmon\""
     ],
     "language": "python",
     "metadata": {},
     "outputs": [],
     "prompt_number": 7
    },
    {
     "cell_type": "markdown",
     "metadata": {},
     "source": [
      "If we happened to know exactly where a certain clade is in the tree, in terms of nested list entries, we can jump directly to that position in the tree by indexing it. Here, the index [0,1] refers to the second child of the first child of the root."
     ]
    },
    {
     "cell_type": "code",
     "collapsed": false,
     "input": [
      "tree.clade[0, 1].color = \"blue\""
     ],
     "language": "python",
     "metadata": {},
     "outputs": [],
     "prompt_number": 8
    },
    {
     "cell_type": "code",
     "collapsed": false,
     "input": [
      "Phylo.draw(tree)"
     ],
     "language": "python",
     "metadata": {},
     "outputs": [
      {
       "metadata": {},
       "output_type": "display_data",
       "png": "[encoded data removed]",
       "text": [
        "<matplotlib.figure.Figure at 0x7fecfea736d8>"
       ]
      }
     ],
     "prompt_number": 9
    },
    {
     "cell_type": "markdown",
     "metadata": {},
     "source": [
      "Note that a clade\u2019s color includes the branch leading to that clade, as well as its descendents. The common ancestor of E and F turns out to be just under the root, and with this coloring we can see exactly where the root of the tree is.\n",
      "\n",
      "My, we\u2019ve accomplished a lot! Let\u2019s take a break here and save our work. Call the write function with a file name or handle \u2014 here we use standard output, to see what would be written \u2014 and the format phyloxml. PhyloXML saves the colors we assigned, so you can open this phyloXML file in another tree viewer like Archaeopteryx, and the colors will show up there, too."
     ]
    },
    {
     "cell_type": "heading",
     "level": 2,
     "metadata": {},
     "source": [
      "I/O functions"
     ]
    },
    {
     "cell_type": "markdown",
     "metadata": {},
     "source": [
      "Like SeqIO and AlignIO, Phylo handles file input and output through four functions: parse, read, write and convert, all of which support the tree file formats Newick, NEXUS, phyloXML and NeXML, as well as the Comparative Data Analysis Ontology (CDAO).\n",
      "\n",
      "The read function parses a single tree in the given file and returns it. Careful; it will raise an error if the file contains more than one tree, or no trees."
     ]
    },
    {
     "cell_type": "code",
     "collapsed": false,
     "input": [
      "#from Bio import Phylo\n",
      "tree = Phylo.read(\"data/int_node_labels.nwk\", \"newick\")\n",
      "print(tree)"
     ],
     "language": "python",
     "metadata": {},
     "outputs": [
      {
       "output_type": "stream",
       "stream": "stdout",
       "text": [
        "Tree(rooted=False, weight=1.0)\n",
        "    Clade(name='gymnosperm', branch_length=75.0)\n",
        "        Clade(name='Coniferales', branch_length=25.0)\n",
        "            Clade(branch_length=25.0)\n",
        "                Clade(name='Tax+nonSci', branch_length=10.0)\n",
        "                    Clade(name='Taxaceae', branch_length=90.0)\n",
        "                        Clade(name='Cephalotaxus', branch_length=125.0)\n",
        "                        Clade(name='TT1', branch_length=25.0)\n",
        "                            Clade(name='Taxus', branch_length=100.0)\n",
        "                            Clade(name='Torreya', branch_length=100.0)\n",
        "                    Clade(name='nonSci', branch_length=15.0)\n",
        "                        Clade(name='Taw+others', branch_length=15.11)\n",
        "                            Clade(name='STCC', branch_length=49.060001)\n",
        "                                Clade(name='CupCallTax', branch_length=5.83)\n",
        "                                    Clade(name='CJCPTT', branch_length=30.0)\n",
        "                                        Clade(name='CCJCP', branch_length=5.0)\n",
        "                                            Clade(name='CJCP', branch_length=5.0)\n",
        "                                                Clade(name='CP', branch_length=5.0)\n",
        "                                                    Clade(name='Calocedrus', branch_length=85.0)\n",
        "                                                    Clade(name='Platycladus', branch_length=85.0)\n",
        "                                                Clade(name='CJ', branch_length=5.0)\n",
        "                                                    Clade(name='Cupressus', branch_length=85.0)\n",
        "                                                    Clade(name='Juniperus', branch_length=85.0)\n",
        "                                            Clade(name='Chamaecyparis', branch_length=95.0)\n",
        "                                        Clade(name='TT2', branch_length=92.13)\n",
        "                                            Clade(name='Thuja', branch_length=7.87)\n",
        "                                            Clade(name='Thujopsis', branch_length=7.87)\n",
        "                                    Clade(name='CTG', branch_length=5.0)\n",
        "                                        Clade(name='CT', branch_length=5.0)\n",
        "                                            Clade(name='Cryptomeria', branch_length=120.0)\n",
        "                                            Clade(name='Taxodium', branch_length=120.0)\n",
        "                                        Clade(name='Glyptostrobus', branch_length=125.0)\n",
        "                                Clade(name='Sequoioid', branch_length=5.83)\n",
        "                                    Clade(name='MS', branch_length=5.0)\n",
        "                                        Clade(name='Metasequoia', branch_length=125.0)\n",
        "                                        Clade(name='Sequoia', branch_length=125.0)\n",
        "                                    Clade(name='Sequoiadendron', branch_length=130.0)\n",
        "                            Clade(name='Taiwania', branch_length=184.889999)\n",
        "                        Clade(name='Cunninghamia', branch_length=200.0)\n",
        "                Clade(name='Sciadopitys', branch_length=225.0)\n",
        "            Clade(name='Pinaceae', branch_length=66.0)\n",
        "                Clade(name='NTPAK', branch_length=24.0)\n",
        "                    Clade(name='AK', branch_length=54.0)\n",
        "                        Clade(name='Abies', branch_length=106.0)\n",
        "                        Clade(name='Keteleeria', branch_length=106.0)\n",
        "                    Clade(name='NTP', branch_length=4.0)\n",
        "                        Clade(name='Pseudolarix', branch_length=156.0)\n",
        "                        Clade(name='Tsuga', branch_length=156.0)\n",
        "                Clade(name='Pinoideae', branch_length=16.0)\n",
        "                    Clade(name='LP', branch_length=81.0)\n",
        "                        Clade(name='Larix', branch_length=87.0)\n",
        "                        Clade(name='Pseudotsuga', branch_length=87.0)\n",
        "                    Clade(name='PPC', branch_length=13.0)\n",
        "                        Clade(name='Picea', branch_length=155.0)\n",
        "                        Clade(name='Pinus', branch_length=155.0)\n",
        "        Clade(name='Ginkgo', branch_length=275.0)\n"
       ]
      }
     ],
     "prompt_number": 10
    },
    {
     "cell_type": "markdown",
     "metadata": {},
     "source": [
      "To handle multiple (or an unknown number of) trees, use the parse function iterates through each of the trees in the given file:"
     ]
    },
    {
     "cell_type": "code",
     "collapsed": false,
     "input": [
      "trees = Phylo.parse(\"data/phyloxml_examples.xml\", \"phyloxml\")\n",
      "trees = list(trees)\n",
      "for tree in trees:\n",
      "    print(tree)"
     ],
     "language": "python",
     "metadata": {},
     "outputs": [
      {
       "output_type": "stream",
       "stream": "stdout",
       "text": [
        "Phylogeny(name='example from Prof. Joe Felsenstein's book \"Inferring Phyl...', rooted=True, description='phyloXML allows to use either a \"branch_length\" attribute...')\n",
        "    Clade()\n",
        "        Clade(branch_length=0.06)\n",
        "            Clade(name='A', branch_length=0.102)\n",
        "            Clade(name='B', branch_length=0.23)\n",
        "        Clade(name='C', branch_length=0.4)\n",
        "Phylogeny(name='example from Prof. Joe Felsenstein's book \"Inferring Phyl...', rooted=True, description='phyloXML allows to use either a \"branch_length\" attribute...')\n",
        "    Clade()\n",
        "        Clade(branch_length=0.06)\n",
        "            Clade(name='A', branch_length=0.102)\n",
        "            Clade(name='B', branch_length=0.23)\n",
        "        Clade(name='C', branch_length=0.4)\n",
        "Phylogeny(name='same example, with support of type \"bootstrap\"', rooted=True)\n",
        "    Clade()\n",
        "        Clade(name='AB', branch_length=0.06)\n",
        "            Confidence(type='bootstrap', value=89.0)\n",
        "            Clade(name='A', branch_length=0.102)\n",
        "            Clade(name='B', branch_length=0.23)\n",
        "        Clade(name='C', branch_length=0.4)\n",
        "Phylogeny(name='same example, with species and sequence', rooted=True)\n",
        "    Clade()\n",
        "        Clade(name='AB')\n",
        "            Clade(name='A')\n",
        "                Sequence()\n",
        "                    Annotation(desc='alcohol dehydrogenase')\n",
        "                        Confidence(type='probability', value=0.99)\n",
        "                Taxonomy(scientific_name='E. coli')\n",
        "            Clade(name='B')\n",
        "                Sequence()\n",
        "                    Annotation(desc='alcohol dehydrogenase')\n",
        "                        Confidence(type='probability', value=0.91)\n",
        "                Taxonomy(scientific_name='B. subtilis')\n",
        "        Clade(name='C')\n",
        "            Sequence()\n",
        "                Annotation(desc='alcohol dehydrogenase')\n",
        "                    Confidence(type='probability', value=0.67)\n",
        "            Taxonomy(scientific_name='C. elegans')\n",
        "Phylogeny(name='same example, with gene duplication information and seque...', rooted=True)\n",
        "    SequenceRelation(id_ref_0='x', id_ref_1='y', type='paralogy')\n",
        "    SequenceRelation(id_ref_0='x', id_ref_1='z', type='orthology')\n",
        "    SequenceRelation(id_ref_0='y', id_ref_1='z', type='orthology')\n",
        "    Clade()\n",
        "        Clade()\n",
        "            Clade()\n",
        "                Sequence(id_source='x', symbol='adhB', name='alcohol dehydrogenase')\n",
        "                    Accession(source='ncbi', value='AAB80874')\n",
        "                Taxonomy(scientific_name='Bacillus subtilis')\n",
        "            Clade()\n",
        "                Sequence(id_source='y', symbol='gbsB', name='alcohol dehydrogenase')\n",
        "                    Accession(source='ncbi', value='CAB15083')\n",
        "                Taxonomy(scientific_name='Bacillus subtilis')\n",
        "            Events(duplications=1)\n",
        "        Clade()\n",
        "            Sequence(id_source='z', symbol='ADHX', name='alcohol dehydrogenase')\n",
        "                Annotation(ref='InterPro:IPR002085')\n",
        "                Accession(source='ncbi', value='Q17335')\n",
        "            Taxonomy(scientific_name='Caenorhabditis elegans')\n",
        "        Events(speciations=1)\n",
        "Phylogeny(name='similar example, with more detailed sequence data', rooted=True)\n",
        "    Clade()\n",
        "        Clade()\n",
        "            Clade()\n",
        "                Sequence(symbol='ADHX', name='Alcohol dehydrogenase class-3')\n",
        "                    MolSeq(value='TDATGKPIKCMAAIAWEAKKPLSIEEVEVAPPKSGEVRIKILHSGVCHTD')\n",
        "                    Annotation(ref='EC:1.1.1.1')\n",
        "                    Annotation(ref='GO:0004022')\n",
        "                    Accession(source='UniProtKB', value='P81431')\n",
        "                Taxonomy(code='OCTVU', scientific_name='Octopus vulgaris')\n",
        "                    Id(provider='NCBI', value='6645')\n",
        "            Clade()\n",
        "                Sequence(symbol='RT4I1', name='Reticulon-4-interacting protein 1 homolog, mitochondrial ...')\n",
        "                    MolSeq(value='MKGILLNGYGESLDLLEYKTDLPVPKPIKSQVLIKIHSTSINPLDNVMRK')\n",
        "                    Annotation(ref='GO:0008270')\n",
        "                    Annotation(ref='GO:0016491')\n",
        "                    Accession(source='UniProtKB', value='Q54II4')\n",
        "                Taxonomy(code='DICDI', scientific_name='Dictyostelium discoideum')\n",
        "                    Id(provider='NCBI', value='44689')\n",
        "        Clade()\n",
        "            Sequence(symbol='ADHB', name='NADH-dependent butanol dehydrogenase B')\n",
        "                MolSeq(value='MVDFEYSIPTRIFFGKDKINVLGRELKKYGSKVLIVYGGGSIKRNGIYDK')\n",
        "                Annotation(ref='GO:0046872')\n",
        "                Annotation(ref='KEGG:Tetrachloroethene degradation')\n",
        "                Accession(source='UniProtKB', value='Q04945')\n",
        "            Taxonomy(code='CLOAB', scientific_name='Clostridium acetobutylicum')\n",
        "                Id(provider='NCBI', value='1488')\n",
        "Phylogeny(name='network, node B is connected to TWO nodes: AB and C', rooted=False)\n",
        "    Clade()\n",
        "        Clade(name='AB', id_source='ab', branch_length=0.06)\n",
        "            Clade(name='A', id_source='a', branch_length=0.102)\n",
        "            Clade(name='B', id_source='b', branch_length=0.23)\n",
        "        Clade(name='C', id_source='c', branch_length=0.4)\n",
        "    CladeRelation(id_ref_0='b', id_ref_1='c', type='network_connection')\n",
        "Phylogeny(name='same example, using property elements to indicate a \"dept...', rooted=True)\n",
        "    Clade()\n",
        "        Clade(name='AB')\n",
        "            Clade(name='A')\n",
        "                Property(ref='NOAA:depth', value='1200', unit='METRIC:m', applies_to='clade', datatype='xsd:integer')\n",
        "            Clade(name='B')\n",
        "                Property(ref='NOAA:depth', value='2300', unit='METRIC:m', applies_to='clade', datatype='xsd:integer')\n",
        "        Clade(name='C')\n",
        "            Property(ref='NOAA:depth', value='200', unit='METRIC:m', applies_to='clade', datatype='xsd:integer')\n",
        "Phylogeny(name='same example, using property elements to indicate a \"dept...', rooted=True)\n",
        "    Clade()\n",
        "        Clade(name='AB')\n",
        "            Clade(name='A', id_source='id_a')\n",
        "            Clade(name='B', id_source='id_b')\n",
        "        Clade(name='C', id_source='id_c')\n",
        "    Property(id_ref='id_a', ref='NOAA:depth', value='1200', unit='METRIC:m', applies_to='node', datatype='xsd:integer')\n",
        "    Property(id_ref='id_b', ref='NOAA:depth', value='2300', unit='METRIC:m', applies_to='node', datatype='xsd:integer')\n",
        "    Property(id_ref='id_c', ref='NOAA:depth', value='200', unit='METRIC:m', applies_to='node', datatype='xsd:integer')\n",
        "Phylogeny(name='monitor lizards', rooted=True, description='a pylogeny of some monitor lizards')\n",
        "    Clade()\n",
        "        Clade()\n",
        "            Taxonomy(rank='species', scientific_name='Varanus niloticus')\n",
        "                Id(provider='NCBI', value='62046')\n",
        "            Distribution(desc='Africa')\n",
        "        Clade()\n",
        "            Clade()\n",
        "                Taxonomy(rank='species', scientific_name='Varanus storri')\n",
        "                    Id(provider='NCBI', value='169855')\n",
        "                Distribution(desc='Australia')\n",
        "            Clade()\n",
        "                Taxonomy(rank='species', scientific_name='Varanus timorensis')\n",
        "                    Id(provider='NCBI', value='62053')\n",
        "                Distribution(desc='Asia')\n",
        "            Taxonomy(rank='subgenus', scientific_name='Odatria')\n",
        "        Taxonomy(rank='genus', scientific_name='Varanus')\n",
        "            Id(provider='NCBI', value='8556')\n",
        "            Uri(desc='EMBL REPTILE DATABASE', value='http://www.embl-heidelberg.de/~uetz/families/Varanidae.html')\n",
        "Phylogeny(name='A tree with phylogeographic information', rooted=True)\n",
        "    Clade()\n",
        "        Clade()\n",
        "            Clade(name='A')\n",
        "                Distribution(desc='Hirschweg, Winterthur, Switzerland')\n",
        "                    Point(long=8.769303, alt=472.0, lat=47.481277, geodetic_datum='WGS84')\n",
        "            Clade(name='B')\n",
        "                Distribution(desc='Nagoya, Aichi, Japan')\n",
        "                    Point(long=136.915863, alt=10.0, lat=35.155904, geodetic_datum='WGS84')\n",
        "            Clade(name='C')\n",
        "                Distribution(desc='ETH Z\u00fcrich')\n",
        "                    Point(long=8.548108, alt=452.0, lat=47.376334, geodetic_datum='WGS84')\n",
        "        Clade(name='D')\n",
        "            Distribution(desc='San Diego')\n",
        "                Point(long=-117.217543, alt=104.0, lat=32.880933, geodetic_datum='WGS84')\n",
        "Phylogeny(name='A tree with date information', rooted=True)\n",
        "    Clade()\n",
        "        Clade()\n",
        "            Clade(name='A')\n",
        "                Date(value=425.0, desc='Silurian', unit='mya', maximum=443.7, minimum=416.0)\n",
        "            Clade(name='B')\n",
        "                Date(value=320.0, desc='Devonian', unit='mya')\n",
        "        Clade(name='C')\n",
        "            Date(value=600.0, desc='Ediacaran', unit='mya')\n",
        "Phylogeny(name='Using another XML language to store an alignment', rooted=True)\n",
        "    Clade()\n",
        "        Clade()\n",
        "            Clade(name='A')\n",
        "            Clade(name='B')\n",
        "        Clade(name='C')\n"
       ]
      }
     ],
     "prompt_number": 11
    },
    {
     "cell_type": "markdown",
     "metadata": {},
     "source": [
      "Write a tree or iterable of trees back to file with the write function:"
     ]
    },
    {
     "cell_type": "code",
     "collapsed": false,
     "input": [
      "tree1 = trees[0]\n",
      "Phylo.write(tree1, \"tree1.xml\", \"phyloxml\")"
     ],
     "language": "python",
     "metadata": {},
     "outputs": [
      {
       "ename": "TypeError",
       "evalue": "must be str, not bytes",
       "output_type": "pyerr",
       "traceback": [
        "\u001b[1;31m---------------------------------------------------------------------------\u001b[0m\n\u001b[1;31mTypeError\u001b[0m                                 Traceback (most recent call last)",
        "\u001b[1;32m<ipython-input-12-d98fbd125e52>\u001b[0m in \u001b[0;36m<module>\u001b[1;34m()\u001b[0m\n\u001b[0;32m      1\u001b[0m \u001b[0mtree1\u001b[0m \u001b[1;33m=\u001b[0m \u001b[0mtrees\u001b[0m\u001b[1;33m[\u001b[0m\u001b[1;36m0\u001b[0m\u001b[1;33m]\u001b[0m\u001b[1;33m\u001b[0m\u001b[0m\n\u001b[1;32m----> 2\u001b[1;33m \u001b[0mPhylo\u001b[0m\u001b[1;33m.\u001b[0m\u001b[0mwrite\u001b[0m\u001b[1;33m(\u001b[0m\u001b[0mtree1\u001b[0m\u001b[1;33m,\u001b[0m \u001b[1;34m\"tree1.xml\"\u001b[0m\u001b[1;33m,\u001b[0m \u001b[1;34m\"phyloxml\"\u001b[0m\u001b[1;33m)\u001b[0m\u001b[1;33m\u001b[0m\u001b[0m\n\u001b[0m",
        "\u001b[1;32m/home/tra/.local/lib/python3.4/site-packages/Bio/Phylo/_io.py\u001b[0m in \u001b[0;36mwrite\u001b[1;34m(trees, file, format, **kwargs)\u001b[0m\n\u001b[0;32m     81\u001b[0m         \u001b[0mtrees\u001b[0m \u001b[1;33m=\u001b[0m \u001b[1;33m[\u001b[0m\u001b[0mtrees\u001b[0m\u001b[1;33m]\u001b[0m\u001b[1;33m\u001b[0m\u001b[0m\n\u001b[0;32m     82\u001b[0m     \u001b[1;32mwith\u001b[0m \u001b[0mFile\u001b[0m\u001b[1;33m.\u001b[0m\u001b[0mas_handle\u001b[0m\u001b[1;33m(\u001b[0m\u001b[0mfile\u001b[0m\u001b[1;33m,\u001b[0m \u001b[1;34m'w+'\u001b[0m\u001b[1;33m)\u001b[0m \u001b[1;32mas\u001b[0m \u001b[0mfp\u001b[0m\u001b[1;33m:\u001b[0m\u001b[1;33m\u001b[0m\u001b[0m\n\u001b[1;32m---> 83\u001b[1;33m         \u001b[0mn\u001b[0m \u001b[1;33m=\u001b[0m \u001b[0mgetattr\u001b[0m\u001b[1;33m(\u001b[0m\u001b[0msupported_formats\u001b[0m\u001b[1;33m[\u001b[0m\u001b[0mformat\u001b[0m\u001b[1;33m]\u001b[0m\u001b[1;33m,\u001b[0m \u001b[1;34m'write'\u001b[0m\u001b[1;33m)\u001b[0m\u001b[1;33m(\u001b[0m\u001b[0mtrees\u001b[0m\u001b[1;33m,\u001b[0m \u001b[0mfp\u001b[0m\u001b[1;33m,\u001b[0m \u001b[1;33m**\u001b[0m\u001b[0mkwargs\u001b[0m\u001b[1;33m)\u001b[0m\u001b[1;33m\u001b[0m\u001b[0m\n\u001b[0m\u001b[0;32m     84\u001b[0m     \u001b[1;32mreturn\u001b[0m \u001b[0mn\u001b[0m\u001b[1;33m\u001b[0m\u001b[0m\n\u001b[0;32m     85\u001b[0m \u001b[1;33m\u001b[0m\u001b[0m\n",
        "\u001b[1;32m/home/tra/.local/lib/python3.4/site-packages/Bio/Phylo/PhyloXMLIO.py\u001b[0m in \u001b[0;36mwrite\u001b[1;34m(obj, file, encoding, indent)\u001b[0m\n\u001b[0;32m    126\u001b[0m         raise ValueError(\"First argument must be a Phyloxml, Phylogeny, \"\n\u001b[0;32m    127\u001b[0m                 \"Tree, or iterable of Trees or Phylogenies.\")\n\u001b[1;32m--> 128\u001b[1;33m     \u001b[1;32mreturn\u001b[0m \u001b[0mWriter\u001b[0m\u001b[1;33m(\u001b[0m\u001b[0mobj\u001b[0m\u001b[1;33m)\u001b[0m\u001b[1;33m.\u001b[0m\u001b[0mwrite\u001b[0m\u001b[1;33m(\u001b[0m\u001b[0mfile\u001b[0m\u001b[1;33m,\u001b[0m \u001b[0mencoding\u001b[0m\u001b[1;33m=\u001b[0m\u001b[0mencoding\u001b[0m\u001b[1;33m,\u001b[0m \u001b[0mindent\u001b[0m\u001b[1;33m=\u001b[0m\u001b[0mindent\u001b[0m\u001b[1;33m)\u001b[0m\u001b[1;33m\u001b[0m\u001b[0m\n\u001b[0m\u001b[0;32m    129\u001b[0m \u001b[1;33m\u001b[0m\u001b[0m\n\u001b[0;32m    130\u001b[0m \u001b[1;33m\u001b[0m\u001b[0m\n",
        "\u001b[1;32m/home/tra/.local/lib/python3.4/site-packages/Bio/Phylo/PhyloXMLIO.py\u001b[0m in \u001b[0;36mwrite\u001b[1;34m(self, file, encoding, indent)\u001b[0m\n\u001b[0;32m    673\u001b[0m         \u001b[1;32mif\u001b[0m \u001b[0mindent\u001b[0m\u001b[1;33m:\u001b[0m\u001b[1;33m\u001b[0m\u001b[0m\n\u001b[0;32m    674\u001b[0m             \u001b[0m_indent\u001b[0m\u001b[1;33m(\u001b[0m\u001b[0mself\u001b[0m\u001b[1;33m.\u001b[0m\u001b[0m_tree\u001b[0m\u001b[1;33m.\u001b[0m\u001b[0mgetroot\u001b[0m\u001b[1;33m(\u001b[0m\u001b[1;33m)\u001b[0m\u001b[1;33m)\u001b[0m\u001b[1;33m\u001b[0m\u001b[0m\n\u001b[1;32m--> 675\u001b[1;33m         \u001b[0mself\u001b[0m\u001b[1;33m.\u001b[0m\u001b[0m_tree\u001b[0m\u001b[1;33m.\u001b[0m\u001b[0mwrite\u001b[0m\u001b[1;33m(\u001b[0m\u001b[0mfile\u001b[0m\u001b[1;33m,\u001b[0m \u001b[0mencoding\u001b[0m\u001b[1;33m)\u001b[0m\u001b[1;33m\u001b[0m\u001b[0m\n\u001b[0m\u001b[0;32m    676\u001b[0m         \u001b[1;32mreturn\u001b[0m \u001b[0mlen\u001b[0m\u001b[1;33m(\u001b[0m\u001b[0mself\u001b[0m\u001b[1;33m.\u001b[0m\u001b[0m_tree\u001b[0m\u001b[1;33m.\u001b[0m\u001b[0mgetroot\u001b[0m\u001b[1;33m(\u001b[0m\u001b[1;33m)\u001b[0m\u001b[1;33m)\u001b[0m\u001b[1;33m\u001b[0m\u001b[0m\n\u001b[0;32m    677\u001b[0m \u001b[1;33m\u001b[0m\u001b[0m\n",
        "\u001b[1;32m/usr/lib/python3.4/xml/etree/ElementTree.py\u001b[0m in \u001b[0;36mwrite\u001b[1;34m(self, file_or_filename, encoding, xml_declaration, default_namespace, method, short_empty_elements)\u001b[0m\n\u001b[0;32m    776\u001b[0m                 \u001b[0mserialize\u001b[0m \u001b[1;33m=\u001b[0m \u001b[0m_serialize\u001b[0m\u001b[1;33m[\u001b[0m\u001b[0mmethod\u001b[0m\u001b[1;33m]\u001b[0m\u001b[1;33m\u001b[0m\u001b[0m\n\u001b[0;32m    777\u001b[0m                 serialize(write, self._root, qnames, namespaces,\n\u001b[1;32m--> 778\u001b[1;33m                           short_empty_elements=short_empty_elements)\n\u001b[0m\u001b[0;32m    779\u001b[0m \u001b[1;33m\u001b[0m\u001b[0m\n\u001b[0;32m    780\u001b[0m     \u001b[1;32mdef\u001b[0m \u001b[0mwrite_c14n\u001b[0m\u001b[1;33m(\u001b[0m\u001b[0mself\u001b[0m\u001b[1;33m,\u001b[0m \u001b[0mfile\u001b[0m\u001b[1;33m)\u001b[0m\u001b[1;33m:\u001b[0m\u001b[1;33m\u001b[0m\u001b[0m\n",
        "\u001b[1;32m/usr/lib/python3.4/contextlib.py\u001b[0m in \u001b[0;36m__exit__\u001b[1;34m(self, type, value, traceback)\u001b[0m\n\u001b[0;32m     64\u001b[0m         \u001b[1;32mif\u001b[0m \u001b[0mtype\u001b[0m \u001b[1;32mis\u001b[0m \u001b[1;32mNone\u001b[0m\u001b[1;33m:\u001b[0m\u001b[1;33m\u001b[0m\u001b[0m\n\u001b[0;32m     65\u001b[0m             \u001b[1;32mtry\u001b[0m\u001b[1;33m:\u001b[0m\u001b[1;33m\u001b[0m\u001b[0m\n\u001b[1;32m---> 66\u001b[1;33m                 \u001b[0mnext\u001b[0m\u001b[1;33m(\u001b[0m\u001b[0mself\u001b[0m\u001b[1;33m.\u001b[0m\u001b[0mgen\u001b[0m\u001b[1;33m)\u001b[0m\u001b[1;33m\u001b[0m\u001b[0m\n\u001b[0m\u001b[0;32m     67\u001b[0m             \u001b[1;32mexcept\u001b[0m \u001b[0mStopIteration\u001b[0m\u001b[1;33m:\u001b[0m\u001b[1;33m\u001b[0m\u001b[0m\n\u001b[0;32m     68\u001b[0m                 \u001b[1;32mreturn\u001b[0m\u001b[1;33m\u001b[0m\u001b[0m\n",
        "\u001b[1;32m/usr/lib/python3.4/xml/etree/ElementTree.py\u001b[0m in \u001b[0;36m_get_writer\u001b[1;34m(file_or_filename, encoding)\u001b[0m\n\u001b[0;32m    835\u001b[0m                 \u001b[1;31m# destroyed\u001b[0m\u001b[1;33m\u001b[0m\u001b[1;33m\u001b[0m\u001b[0m\n\u001b[0;32m    836\u001b[0m                 \u001b[0mstack\u001b[0m\u001b[1;33m.\u001b[0m\u001b[0mcallback\u001b[0m\u001b[1;33m(\u001b[0m\u001b[0mfile\u001b[0m\u001b[1;33m.\u001b[0m\u001b[0mdetach\u001b[0m\u001b[1;33m)\u001b[0m\u001b[1;33m\u001b[0m\u001b[0m\n\u001b[1;32m--> 837\u001b[1;33m                 \u001b[1;32myield\u001b[0m \u001b[0mfile\u001b[0m\u001b[1;33m.\u001b[0m\u001b[0mwrite\u001b[0m\u001b[1;33m\u001b[0m\u001b[0m\n\u001b[0m\u001b[0;32m    838\u001b[0m \u001b[1;33m\u001b[0m\u001b[0m\n\u001b[0;32m    839\u001b[0m \u001b[1;32mdef\u001b[0m \u001b[0m_namespaces\u001b[0m\u001b[1;33m(\u001b[0m\u001b[0melem\u001b[0m\u001b[1;33m,\u001b[0m \u001b[0mdefault_namespace\u001b[0m\u001b[1;33m=\u001b[0m\u001b[1;32mNone\u001b[0m\u001b[1;33m)\u001b[0m\u001b[1;33m:\u001b[0m\u001b[1;33m\u001b[0m\u001b[0m\n",
        "\u001b[1;32m/usr/lib/python3.4/contextlib.py\u001b[0m in \u001b[0;36m__exit__\u001b[1;34m(self, *exc_details)\u001b[0m\n\u001b[0;32m    334\u001b[0m                 \u001b[1;31m# set-up context\u001b[0m\u001b[1;33m\u001b[0m\u001b[1;33m\u001b[0m\u001b[0m\n\u001b[0;32m    335\u001b[0m                 \u001b[0mfixed_ctx\u001b[0m \u001b[1;33m=\u001b[0m \u001b[0mexc_details\u001b[0m\u001b[1;33m[\u001b[0m\u001b[1;36m1\u001b[0m\u001b[1;33m]\u001b[0m\u001b[1;33m.\u001b[0m\u001b[0m__context__\u001b[0m\u001b[1;33m\u001b[0m\u001b[0m\n\u001b[1;32m--> 336\u001b[1;33m                 \u001b[1;32mraise\u001b[0m \u001b[0mexc_details\u001b[0m\u001b[1;33m[\u001b[0m\u001b[1;36m1\u001b[0m\u001b[1;33m]\u001b[0m\u001b[1;33m\u001b[0m\u001b[0m\n\u001b[0m\u001b[0;32m    337\u001b[0m             \u001b[1;32mexcept\u001b[0m \u001b[0mBaseException\u001b[0m\u001b[1;33m:\u001b[0m\u001b[1;33m\u001b[0m\u001b[0m\n\u001b[0;32m    338\u001b[0m                 \u001b[0mexc_details\u001b[0m\u001b[1;33m[\u001b[0m\u001b[1;36m1\u001b[0m\u001b[1;33m]\u001b[0m\u001b[1;33m.\u001b[0m\u001b[0m__context__\u001b[0m \u001b[1;33m=\u001b[0m \u001b[0mfixed_ctx\u001b[0m\u001b[1;33m\u001b[0m\u001b[0m\n",
        "\u001b[1;32m/usr/lib/python3.4/contextlib.py\u001b[0m in \u001b[0;36m__exit__\u001b[1;34m(self, *exc_details)\u001b[0m\n\u001b[0;32m    319\u001b[0m             \u001b[0mcb\u001b[0m \u001b[1;33m=\u001b[0m \u001b[0mself\u001b[0m\u001b[1;33m.\u001b[0m\u001b[0m_exit_callbacks\u001b[0m\u001b[1;33m.\u001b[0m\u001b[0mpop\u001b[0m\u001b[1;33m(\u001b[0m\u001b[1;33m)\u001b[0m\u001b[1;33m\u001b[0m\u001b[0m\n\u001b[0;32m    320\u001b[0m             \u001b[1;32mtry\u001b[0m\u001b[1;33m:\u001b[0m\u001b[1;33m\u001b[0m\u001b[0m\n\u001b[1;32m--> 321\u001b[1;33m                 \u001b[1;32mif\u001b[0m \u001b[0mcb\u001b[0m\u001b[1;33m(\u001b[0m\u001b[1;33m*\u001b[0m\u001b[0mexc_details\u001b[0m\u001b[1;33m)\u001b[0m\u001b[1;33m:\u001b[0m\u001b[1;33m\u001b[0m\u001b[0m\n\u001b[0m\u001b[0;32m    322\u001b[0m                     \u001b[0msuppressed_exc\u001b[0m \u001b[1;33m=\u001b[0m \u001b[1;32mTrue\u001b[0m\u001b[1;33m\u001b[0m\u001b[0m\n\u001b[0;32m    323\u001b[0m                     \u001b[0mpending_raise\u001b[0m \u001b[1;33m=\u001b[0m \u001b[1;32mFalse\u001b[0m\u001b[1;33m\u001b[0m\u001b[0m\n",
        "\u001b[1;32m/usr/lib/python3.4/contextlib.py\u001b[0m in \u001b[0;36m_exit_wrapper\u001b[1;34m(exc_type, exc, tb)\u001b[0m\n\u001b[0;32m    265\u001b[0m         \"\"\"\n\u001b[0;32m    266\u001b[0m         \u001b[1;32mdef\u001b[0m \u001b[0m_exit_wrapper\u001b[0m\u001b[1;33m(\u001b[0m\u001b[0mexc_type\u001b[0m\u001b[1;33m,\u001b[0m \u001b[0mexc\u001b[0m\u001b[1;33m,\u001b[0m \u001b[0mtb\u001b[0m\u001b[1;33m)\u001b[0m\u001b[1;33m:\u001b[0m\u001b[1;33m\u001b[0m\u001b[0m\n\u001b[1;32m--> 267\u001b[1;33m             \u001b[0mcallback\u001b[0m\u001b[1;33m(\u001b[0m\u001b[1;33m*\u001b[0m\u001b[0margs\u001b[0m\u001b[1;33m,\u001b[0m \u001b[1;33m**\u001b[0m\u001b[0mkwds\u001b[0m\u001b[1;33m)\u001b[0m\u001b[1;33m\u001b[0m\u001b[0m\n\u001b[0m\u001b[0;32m    268\u001b[0m         \u001b[1;31m# We changed the signature, so using @wraps is not appropriate, but\u001b[0m\u001b[1;33m\u001b[0m\u001b[1;33m\u001b[0m\u001b[0m\n\u001b[0;32m    269\u001b[0m         \u001b[1;31m# setting __wrapped__ may still help with introspection\u001b[0m\u001b[1;33m\u001b[0m\u001b[1;33m\u001b[0m\u001b[0m\n",
        "\u001b[1;31mTypeError\u001b[0m: must be str, not bytes"
       ]
      }
     ],
     "prompt_number": 12
    },
    {
     "cell_type": "code",
     "collapsed": false,
     "input": [
      "others = trees[1:]\n",
      "Phylo.write(others, \"other_trees.xml\", \"phyloxml\")"
     ],
     "language": "python",
     "metadata": {},
     "outputs": [
      {
       "ename": "TypeError",
       "evalue": "must be str, not bytes",
       "output_type": "pyerr",
       "traceback": [
        "\u001b[1;31m---------------------------------------------------------------------------\u001b[0m\n\u001b[1;31mTypeError\u001b[0m                                 Traceback (most recent call last)",
        "\u001b[1;32m<ipython-input-13-e1e17000168b>\u001b[0m in \u001b[0;36m<module>\u001b[1;34m()\u001b[0m\n\u001b[0;32m      1\u001b[0m \u001b[0mothers\u001b[0m \u001b[1;33m=\u001b[0m \u001b[0mtrees\u001b[0m\u001b[1;33m[\u001b[0m\u001b[1;36m1\u001b[0m\u001b[1;33m:\u001b[0m\u001b[1;33m]\u001b[0m\u001b[1;33m\u001b[0m\u001b[0m\n\u001b[1;32m----> 2\u001b[1;33m \u001b[0mPhylo\u001b[0m\u001b[1;33m.\u001b[0m\u001b[0mwrite\u001b[0m\u001b[1;33m(\u001b[0m\u001b[0mothers\u001b[0m\u001b[1;33m,\u001b[0m \u001b[1;34m\"other_trees.xml\"\u001b[0m\u001b[1;33m,\u001b[0m \u001b[1;34m\"phyloxml\"\u001b[0m\u001b[1;33m)\u001b[0m\u001b[1;33m\u001b[0m\u001b[0m\n\u001b[0m",
        "\u001b[1;32m/home/tra/.local/lib/python3.4/site-packages/Bio/Phylo/_io.py\u001b[0m in \u001b[0;36mwrite\u001b[1;34m(trees, file, format, **kwargs)\u001b[0m\n\u001b[0;32m     81\u001b[0m         \u001b[0mtrees\u001b[0m \u001b[1;33m=\u001b[0m \u001b[1;33m[\u001b[0m\u001b[0mtrees\u001b[0m\u001b[1;33m]\u001b[0m\u001b[1;33m\u001b[0m\u001b[0m\n\u001b[0;32m     82\u001b[0m     \u001b[1;32mwith\u001b[0m \u001b[0mFile\u001b[0m\u001b[1;33m.\u001b[0m\u001b[0mas_handle\u001b[0m\u001b[1;33m(\u001b[0m\u001b[0mfile\u001b[0m\u001b[1;33m,\u001b[0m \u001b[1;34m'w+'\u001b[0m\u001b[1;33m)\u001b[0m \u001b[1;32mas\u001b[0m \u001b[0mfp\u001b[0m\u001b[1;33m:\u001b[0m\u001b[1;33m\u001b[0m\u001b[0m\n\u001b[1;32m---> 83\u001b[1;33m         \u001b[0mn\u001b[0m \u001b[1;33m=\u001b[0m \u001b[0mgetattr\u001b[0m\u001b[1;33m(\u001b[0m\u001b[0msupported_formats\u001b[0m\u001b[1;33m[\u001b[0m\u001b[0mformat\u001b[0m\u001b[1;33m]\u001b[0m\u001b[1;33m,\u001b[0m \u001b[1;34m'write'\u001b[0m\u001b[1;33m)\u001b[0m\u001b[1;33m(\u001b[0m\u001b[0mtrees\u001b[0m\u001b[1;33m,\u001b[0m \u001b[0mfp\u001b[0m\u001b[1;33m,\u001b[0m \u001b[1;33m**\u001b[0m\u001b[0mkwargs\u001b[0m\u001b[1;33m)\u001b[0m\u001b[1;33m\u001b[0m\u001b[0m\n\u001b[0m\u001b[0;32m     84\u001b[0m     \u001b[1;32mreturn\u001b[0m \u001b[0mn\u001b[0m\u001b[1;33m\u001b[0m\u001b[0m\n\u001b[0;32m     85\u001b[0m \u001b[1;33m\u001b[0m\u001b[0m\n",
        "\u001b[1;32m/home/tra/.local/lib/python3.4/site-packages/Bio/Phylo/PhyloXMLIO.py\u001b[0m in \u001b[0;36mwrite\u001b[1;34m(obj, file, encoding, indent)\u001b[0m\n\u001b[0;32m    126\u001b[0m         raise ValueError(\"First argument must be a Phyloxml, Phylogeny, \"\n\u001b[0;32m    127\u001b[0m                 \"Tree, or iterable of Trees or Phylogenies.\")\n\u001b[1;32m--> 128\u001b[1;33m     \u001b[1;32mreturn\u001b[0m \u001b[0mWriter\u001b[0m\u001b[1;33m(\u001b[0m\u001b[0mobj\u001b[0m\u001b[1;33m)\u001b[0m\u001b[1;33m.\u001b[0m\u001b[0mwrite\u001b[0m\u001b[1;33m(\u001b[0m\u001b[0mfile\u001b[0m\u001b[1;33m,\u001b[0m \u001b[0mencoding\u001b[0m\u001b[1;33m=\u001b[0m\u001b[0mencoding\u001b[0m\u001b[1;33m,\u001b[0m \u001b[0mindent\u001b[0m\u001b[1;33m=\u001b[0m\u001b[0mindent\u001b[0m\u001b[1;33m)\u001b[0m\u001b[1;33m\u001b[0m\u001b[0m\n\u001b[0m\u001b[0;32m    129\u001b[0m \u001b[1;33m\u001b[0m\u001b[0m\n\u001b[0;32m    130\u001b[0m \u001b[1;33m\u001b[0m\u001b[0m\n",
        "\u001b[1;32m/home/tra/.local/lib/python3.4/site-packages/Bio/Phylo/PhyloXMLIO.py\u001b[0m in \u001b[0;36mwrite\u001b[1;34m(self, file, encoding, indent)\u001b[0m\n\u001b[0;32m    673\u001b[0m         \u001b[1;32mif\u001b[0m \u001b[0mindent\u001b[0m\u001b[1;33m:\u001b[0m\u001b[1;33m\u001b[0m\u001b[0m\n\u001b[0;32m    674\u001b[0m             \u001b[0m_indent\u001b[0m\u001b[1;33m(\u001b[0m\u001b[0mself\u001b[0m\u001b[1;33m.\u001b[0m\u001b[0m_tree\u001b[0m\u001b[1;33m.\u001b[0m\u001b[0mgetroot\u001b[0m\u001b[1;33m(\u001b[0m\u001b[1;33m)\u001b[0m\u001b[1;33m)\u001b[0m\u001b[1;33m\u001b[0m\u001b[0m\n\u001b[1;32m--> 675\u001b[1;33m         \u001b[0mself\u001b[0m\u001b[1;33m.\u001b[0m\u001b[0m_tree\u001b[0m\u001b[1;33m.\u001b[0m\u001b[0mwrite\u001b[0m\u001b[1;33m(\u001b[0m\u001b[0mfile\u001b[0m\u001b[1;33m,\u001b[0m \u001b[0mencoding\u001b[0m\u001b[1;33m)\u001b[0m\u001b[1;33m\u001b[0m\u001b[0m\n\u001b[0m\u001b[0;32m    676\u001b[0m         \u001b[1;32mreturn\u001b[0m \u001b[0mlen\u001b[0m\u001b[1;33m(\u001b[0m\u001b[0mself\u001b[0m\u001b[1;33m.\u001b[0m\u001b[0m_tree\u001b[0m\u001b[1;33m.\u001b[0m\u001b[0mgetroot\u001b[0m\u001b[1;33m(\u001b[0m\u001b[1;33m)\u001b[0m\u001b[1;33m)\u001b[0m\u001b[1;33m\u001b[0m\u001b[0m\n\u001b[0;32m    677\u001b[0m \u001b[1;33m\u001b[0m\u001b[0m\n",
        "\u001b[1;32m/usr/lib/python3.4/xml/etree/ElementTree.py\u001b[0m in \u001b[0;36mwrite\u001b[1;34m(self, file_or_filename, encoding, xml_declaration, default_namespace, method, short_empty_elements)\u001b[0m\n\u001b[0;32m    776\u001b[0m                 \u001b[0mserialize\u001b[0m \u001b[1;33m=\u001b[0m \u001b[0m_serialize\u001b[0m\u001b[1;33m[\u001b[0m\u001b[0mmethod\u001b[0m\u001b[1;33m]\u001b[0m\u001b[1;33m\u001b[0m\u001b[0m\n\u001b[0;32m    777\u001b[0m                 serialize(write, self._root, qnames, namespaces,\n\u001b[1;32m--> 778\u001b[1;33m                           short_empty_elements=short_empty_elements)\n\u001b[0m\u001b[0;32m    779\u001b[0m \u001b[1;33m\u001b[0m\u001b[0m\n\u001b[0;32m    780\u001b[0m     \u001b[1;32mdef\u001b[0m \u001b[0mwrite_c14n\u001b[0m\u001b[1;33m(\u001b[0m\u001b[0mself\u001b[0m\u001b[1;33m,\u001b[0m \u001b[0mfile\u001b[0m\u001b[1;33m)\u001b[0m\u001b[1;33m:\u001b[0m\u001b[1;33m\u001b[0m\u001b[0m\n",
        "\u001b[1;32m/usr/lib/python3.4/xml/etree/ElementTree.py\u001b[0m in \u001b[0;36m_serialize_xml\u001b[1;34m(write, elem, qnames, namespaces, short_empty_elements, **kwargs)\u001b[0m\n\u001b[0;32m    941\u001b[0m                 \u001b[1;32mfor\u001b[0m \u001b[0me\u001b[0m \u001b[1;32min\u001b[0m \u001b[0melem\u001b[0m\u001b[1;33m:\u001b[0m\u001b[1;33m\u001b[0m\u001b[0m\n\u001b[0;32m    942\u001b[0m                     _serialize_xml(write, e, qnames, None,\n\u001b[1;32m--> 943\u001b[1;33m                                    short_empty_elements=short_empty_elements)\n\u001b[0m\u001b[0;32m    944\u001b[0m                 \u001b[0mwrite\u001b[0m\u001b[1;33m(\u001b[0m\u001b[1;34m\"</\"\u001b[0m \u001b[1;33m+\u001b[0m \u001b[0mtag\u001b[0m \u001b[1;33m+\u001b[0m \u001b[1;34m\">\"\u001b[0m\u001b[1;33m)\u001b[0m\u001b[1;33m\u001b[0m\u001b[0m\n\u001b[0;32m    945\u001b[0m             \u001b[1;32melse\u001b[0m\u001b[1;33m:\u001b[0m\u001b[1;33m\u001b[0m\u001b[0m\n",
        "\u001b[1;32m/usr/lib/python3.4/xml/etree/ElementTree.py\u001b[0m in \u001b[0;36m_serialize_xml\u001b[1;34m(write, elem, qnames, namespaces, short_empty_elements, **kwargs)\u001b[0m\n\u001b[0;32m    941\u001b[0m                 \u001b[1;32mfor\u001b[0m \u001b[0me\u001b[0m \u001b[1;32min\u001b[0m \u001b[0melem\u001b[0m\u001b[1;33m:\u001b[0m\u001b[1;33m\u001b[0m\u001b[0m\n\u001b[0;32m    942\u001b[0m                     _serialize_xml(write, e, qnames, None,\n\u001b[1;32m--> 943\u001b[1;33m                                    short_empty_elements=short_empty_elements)\n\u001b[0m\u001b[0;32m    944\u001b[0m                 \u001b[0mwrite\u001b[0m\u001b[1;33m(\u001b[0m\u001b[1;34m\"</\"\u001b[0m \u001b[1;33m+\u001b[0m \u001b[0mtag\u001b[0m \u001b[1;33m+\u001b[0m \u001b[1;34m\">\"\u001b[0m\u001b[1;33m)\u001b[0m\u001b[1;33m\u001b[0m\u001b[0m\n\u001b[0;32m    945\u001b[0m             \u001b[1;32melse\u001b[0m\u001b[1;33m:\u001b[0m\u001b[1;33m\u001b[0m\u001b[0m\n",
        "\u001b[1;32m/usr/lib/python3.4/xml/etree/ElementTree.py\u001b[0m in \u001b[0;36m_serialize_xml\u001b[1;34m(write, elem, qnames, namespaces, short_empty_elements, **kwargs)\u001b[0m\n\u001b[0;32m    934\u001b[0m                     \u001b[1;32melse\u001b[0m\u001b[1;33m:\u001b[0m\u001b[1;33m\u001b[0m\u001b[0m\n\u001b[0;32m    935\u001b[0m                         \u001b[0mv\u001b[0m \u001b[1;33m=\u001b[0m \u001b[0m_escape_attrib\u001b[0m\u001b[1;33m(\u001b[0m\u001b[0mv\u001b[0m\u001b[1;33m)\u001b[0m\u001b[1;33m\u001b[0m\u001b[0m\n\u001b[1;32m--> 936\u001b[1;33m                     \u001b[0mwrite\u001b[0m\u001b[1;33m(\u001b[0m\u001b[1;34m\" %s=\\\"%s\\\"\"\u001b[0m \u001b[1;33m%\u001b[0m \u001b[1;33m(\u001b[0m\u001b[0mqnames\u001b[0m\u001b[1;33m[\u001b[0m\u001b[0mk\u001b[0m\u001b[1;33m]\u001b[0m\u001b[1;33m,\u001b[0m \u001b[0mv\u001b[0m\u001b[1;33m)\u001b[0m\u001b[1;33m)\u001b[0m\u001b[1;33m\u001b[0m\u001b[0m\n\u001b[0m\u001b[0;32m    937\u001b[0m             \u001b[1;32mif\u001b[0m \u001b[0mtext\u001b[0m \u001b[1;32mor\u001b[0m \u001b[0mlen\u001b[0m\u001b[1;33m(\u001b[0m\u001b[0melem\u001b[0m\u001b[1;33m)\u001b[0m \u001b[1;32mor\u001b[0m \u001b[1;32mnot\u001b[0m \u001b[0mshort_empty_elements\u001b[0m\u001b[1;33m:\u001b[0m\u001b[1;33m\u001b[0m\u001b[0m\n\u001b[0;32m    938\u001b[0m                 \u001b[0mwrite\u001b[0m\u001b[1;33m(\u001b[0m\u001b[1;34m\">\"\u001b[0m\u001b[1;33m)\u001b[0m\u001b[1;33m\u001b[0m\u001b[0m\n",
        "\u001b[1;31mTypeError\u001b[0m: must be str, not bytes"
       ]
      }
     ],
     "prompt_number": 13
    },
    {
     "cell_type": "markdown",
     "metadata": {},
     "source": [
      "Convert files between any of the supported formats with the convert function:"
     ]
    },
    {
     "cell_type": "code",
     "collapsed": false,
     "input": [
      "Phylo.convert(\"tree1.dnd\", \"newick\", \"tree1.xml\", \"nexml\")"
     ],
     "language": "python",
     "metadata": {},
     "outputs": [
      {
       "ename": "FileNotFoundError",
       "evalue": "[Errno 2] No such file or directory: 'tree1.dnd'",
       "output_type": "pyerr",
       "traceback": [
        "\u001b[1;31m---------------------------------------------------------------------------\u001b[0m\n\u001b[1;31mFileNotFoundError\u001b[0m                         Traceback (most recent call last)",
        "\u001b[1;32m<ipython-input-14-ae66ad8758d9>\u001b[0m in \u001b[0;36m<module>\u001b[1;34m()\u001b[0m\n\u001b[1;32m----> 1\u001b[1;33m \u001b[0mPhylo\u001b[0m\u001b[1;33m.\u001b[0m\u001b[0mconvert\u001b[0m\u001b[1;33m(\u001b[0m\u001b[1;34m\"tree1.dnd\"\u001b[0m\u001b[1;33m,\u001b[0m \u001b[1;34m\"newick\"\u001b[0m\u001b[1;33m,\u001b[0m \u001b[1;34m\"tree1.xml\"\u001b[0m\u001b[1;33m,\u001b[0m \u001b[1;34m\"nexml\"\u001b[0m\u001b[1;33m)\u001b[0m\u001b[1;33m\u001b[0m\u001b[0m\n\u001b[0m",
        "\u001b[1;32m/home/tra/.local/lib/python3.4/site-packages/Bio/Phylo/_io.py\u001b[0m in \u001b[0;36mconvert\u001b[1;34m(in_file, in_format, out_file, out_format, parse_args, **kwargs)\u001b[0m\n\u001b[0;32m     88\u001b[0m     \u001b[1;34m\"\"\"Convert between two tree file formats.\"\"\"\u001b[0m\u001b[1;33m\u001b[0m\u001b[0m\n\u001b[0;32m     89\u001b[0m     \u001b[0mtrees\u001b[0m \u001b[1;33m=\u001b[0m \u001b[0mparse\u001b[0m\u001b[1;33m(\u001b[0m\u001b[0min_file\u001b[0m\u001b[1;33m,\u001b[0m \u001b[0min_format\u001b[0m\u001b[1;33m,\u001b[0m \u001b[1;33m**\u001b[0m\u001b[0mparse_args\u001b[0m\u001b[1;33m)\u001b[0m\u001b[1;33m\u001b[0m\u001b[0m\n\u001b[1;32m---> 90\u001b[1;33m     \u001b[1;32mreturn\u001b[0m \u001b[0mwrite\u001b[0m\u001b[1;33m(\u001b[0m\u001b[0mtrees\u001b[0m\u001b[1;33m,\u001b[0m \u001b[0mout_file\u001b[0m\u001b[1;33m,\u001b[0m \u001b[0mout_format\u001b[0m\u001b[1;33m,\u001b[0m \u001b[1;33m**\u001b[0m\u001b[0mkwargs\u001b[0m\u001b[1;33m)\u001b[0m\u001b[1;33m\u001b[0m\u001b[0m\n\u001b[0m\u001b[0;32m     91\u001b[0m \u001b[1;33m\u001b[0m\u001b[0m\n",
        "\u001b[1;32m/home/tra/.local/lib/python3.4/site-packages/Bio/Phylo/_io.py\u001b[0m in \u001b[0;36mwrite\u001b[1;34m(trees, file, format, **kwargs)\u001b[0m\n\u001b[0;32m     81\u001b[0m         \u001b[0mtrees\u001b[0m \u001b[1;33m=\u001b[0m \u001b[1;33m[\u001b[0m\u001b[0mtrees\u001b[0m\u001b[1;33m]\u001b[0m\u001b[1;33m\u001b[0m\u001b[0m\n\u001b[0;32m     82\u001b[0m     \u001b[1;32mwith\u001b[0m \u001b[0mFile\u001b[0m\u001b[1;33m.\u001b[0m\u001b[0mas_handle\u001b[0m\u001b[1;33m(\u001b[0m\u001b[0mfile\u001b[0m\u001b[1;33m,\u001b[0m \u001b[1;34m'w+'\u001b[0m\u001b[1;33m)\u001b[0m \u001b[1;32mas\u001b[0m \u001b[0mfp\u001b[0m\u001b[1;33m:\u001b[0m\u001b[1;33m\u001b[0m\u001b[0m\n\u001b[1;32m---> 83\u001b[1;33m         \u001b[0mn\u001b[0m \u001b[1;33m=\u001b[0m \u001b[0mgetattr\u001b[0m\u001b[1;33m(\u001b[0m\u001b[0msupported_formats\u001b[0m\u001b[1;33m[\u001b[0m\u001b[0mformat\u001b[0m\u001b[1;33m]\u001b[0m\u001b[1;33m,\u001b[0m \u001b[1;34m'write'\u001b[0m\u001b[1;33m)\u001b[0m\u001b[1;33m(\u001b[0m\u001b[0mtrees\u001b[0m\u001b[1;33m,\u001b[0m \u001b[0mfp\u001b[0m\u001b[1;33m,\u001b[0m \u001b[1;33m**\u001b[0m\u001b[0mkwargs\u001b[0m\u001b[1;33m)\u001b[0m\u001b[1;33m\u001b[0m\u001b[0m\n\u001b[0m\u001b[0;32m     84\u001b[0m     \u001b[1;32mreturn\u001b[0m \u001b[0mn\u001b[0m\u001b[1;33m\u001b[0m\u001b[0m\n\u001b[0;32m     85\u001b[0m \u001b[1;33m\u001b[0m\u001b[0m\n",
        "\u001b[1;32m/home/tra/.local/lib/python3.4/site-packages/Bio/Phylo/NeXMLIO.py\u001b[0m in \u001b[0;36mwrite\u001b[1;34m(trees, handle, plain, **kwargs)\u001b[0m\n\u001b[0;32m     95\u001b[0m     \u001b[1;33m:\u001b[0m\u001b[0mreturns\u001b[0m\u001b[1;33m:\u001b[0m \u001b[0mnumber\u001b[0m \u001b[0mof\u001b[0m \u001b[0mtrees\u001b[0m \u001b[0mwritten\u001b[0m\u001b[1;33m.\u001b[0m\u001b[1;33m\u001b[0m\u001b[0m\n\u001b[0;32m     96\u001b[0m     \"\"\"\n\u001b[1;32m---> 97\u001b[1;33m     \u001b[1;32mreturn\u001b[0m \u001b[0mWriter\u001b[0m\u001b[1;33m(\u001b[0m\u001b[0mtrees\u001b[0m\u001b[1;33m)\u001b[0m\u001b[1;33m.\u001b[0m\u001b[0mwrite\u001b[0m\u001b[1;33m(\u001b[0m\u001b[0mhandle\u001b[0m\u001b[1;33m,\u001b[0m \u001b[0mplain\u001b[0m\u001b[1;33m=\u001b[0m\u001b[0mplain\u001b[0m\u001b[1;33m,\u001b[0m \u001b[1;33m**\u001b[0m\u001b[0mkwargs\u001b[0m\u001b[1;33m)\u001b[0m\u001b[1;33m\u001b[0m\u001b[0m\n\u001b[0m\u001b[0;32m     98\u001b[0m \u001b[1;33m\u001b[0m\u001b[0m\n\u001b[0;32m     99\u001b[0m \u001b[1;33m\u001b[0m\u001b[0m\n",
        "\u001b[1;32m/home/tra/.local/lib/python3.4/site-packages/Bio/Phylo/NeXMLIO.py\u001b[0m in \u001b[0;36mwrite\u001b[1;34m(self, handle, cdao_to_obo, **kwargs)\u001b[0m\n\u001b[0;32m    243\u001b[0m         \u001b[0mcount\u001b[0m \u001b[1;33m=\u001b[0m \u001b[1;36m0\u001b[0m\u001b[1;33m\u001b[0m\u001b[0m\n\u001b[0;32m    244\u001b[0m         \u001b[0mtus\u001b[0m \u001b[1;33m=\u001b[0m \u001b[0mset\u001b[0m\u001b[1;33m(\u001b[0m\u001b[1;33m)\u001b[0m\u001b[1;33m\u001b[0m\u001b[0m\n\u001b[1;32m--> 245\u001b[1;33m         \u001b[1;32mfor\u001b[0m \u001b[0mtree\u001b[0m \u001b[1;32min\u001b[0m \u001b[0mself\u001b[0m\u001b[1;33m.\u001b[0m\u001b[0mtrees\u001b[0m\u001b[1;33m:\u001b[0m\u001b[1;33m\u001b[0m\u001b[0m\n\u001b[0m\u001b[0;32m    246\u001b[0m             \u001b[0mthis_tree\u001b[0m \u001b[1;33m=\u001b[0m \u001b[0mElementTree\u001b[0m\u001b[1;33m.\u001b[0m\u001b[0mSubElement\u001b[0m\u001b[1;33m(\u001b[0m\u001b[0mtrees\u001b[0m\u001b[1;33m,\u001b[0m \u001b[1;34m'tree'\u001b[0m\u001b[1;33m,\u001b[0m \u001b[1;33m**\u001b[0m\u001b[1;33m{\u001b[0m\u001b[1;34m'id'\u001b[0m\u001b[1;33m:\u001b[0m\u001b[0mself\u001b[0m\u001b[1;33m.\u001b[0m\u001b[0mnew_label\u001b[0m\u001b[1;33m(\u001b[0m\u001b[1;34m'tree'\u001b[0m\u001b[1;33m)\u001b[0m\u001b[1;33m}\u001b[0m\u001b[1;33m)\u001b[0m\u001b[1;33m\u001b[0m\u001b[0m\n\u001b[0;32m    247\u001b[0m \u001b[1;33m\u001b[0m\u001b[0m\n",
        "\u001b[1;32m/home/tra/.local/lib/python3.4/site-packages/Bio/Phylo/_io.py\u001b[0m in \u001b[0;36mparse\u001b[1;34m(file, format, **kwargs)\u001b[0m\n\u001b[0;32m     50\u001b[0m     \u001b[1;32mTrue\u001b[0m\u001b[1;33m\u001b[0m\u001b[0m\n\u001b[0;32m     51\u001b[0m     \"\"\"\n\u001b[1;32m---> 52\u001b[1;33m     \u001b[1;32mwith\u001b[0m \u001b[0mFile\u001b[0m\u001b[1;33m.\u001b[0m\u001b[0mas_handle\u001b[0m\u001b[1;33m(\u001b[0m\u001b[0mfile\u001b[0m\u001b[1;33m,\u001b[0m \u001b[1;34m'r'\u001b[0m\u001b[1;33m)\u001b[0m \u001b[1;32mas\u001b[0m \u001b[0mfp\u001b[0m\u001b[1;33m:\u001b[0m\u001b[1;33m\u001b[0m\u001b[0m\n\u001b[0m\u001b[0;32m     53\u001b[0m         \u001b[1;32mfor\u001b[0m \u001b[0mtree\u001b[0m \u001b[1;32min\u001b[0m \u001b[0mgetattr\u001b[0m\u001b[1;33m(\u001b[0m\u001b[0msupported_formats\u001b[0m\u001b[1;33m[\u001b[0m\u001b[0mformat\u001b[0m\u001b[1;33m]\u001b[0m\u001b[1;33m,\u001b[0m \u001b[1;34m'parse'\u001b[0m\u001b[1;33m)\u001b[0m\u001b[1;33m(\u001b[0m\u001b[0mfp\u001b[0m\u001b[1;33m,\u001b[0m \u001b[1;33m**\u001b[0m\u001b[0mkwargs\u001b[0m\u001b[1;33m)\u001b[0m\u001b[1;33m:\u001b[0m\u001b[1;33m\u001b[0m\u001b[0m\n\u001b[0;32m     54\u001b[0m             \u001b[1;32myield\u001b[0m \u001b[0mtree\u001b[0m\u001b[1;33m\u001b[0m\u001b[0m\n",
        "\u001b[1;32m/usr/lib/python3.4/contextlib.py\u001b[0m in \u001b[0;36m__enter__\u001b[1;34m(self)\u001b[0m\n\u001b[0;32m     57\u001b[0m     \u001b[1;32mdef\u001b[0m \u001b[0m__enter__\u001b[0m\u001b[1;33m(\u001b[0m\u001b[0mself\u001b[0m\u001b[1;33m)\u001b[0m\u001b[1;33m:\u001b[0m\u001b[1;33m\u001b[0m\u001b[0m\n\u001b[0;32m     58\u001b[0m         \u001b[1;32mtry\u001b[0m\u001b[1;33m:\u001b[0m\u001b[1;33m\u001b[0m\u001b[0m\n\u001b[1;32m---> 59\u001b[1;33m             \u001b[1;32mreturn\u001b[0m \u001b[0mnext\u001b[0m\u001b[1;33m(\u001b[0m\u001b[0mself\u001b[0m\u001b[1;33m.\u001b[0m\u001b[0mgen\u001b[0m\u001b[1;33m)\u001b[0m\u001b[1;33m\u001b[0m\u001b[0m\n\u001b[0m\u001b[0;32m     60\u001b[0m         \u001b[1;32mexcept\u001b[0m \u001b[0mStopIteration\u001b[0m\u001b[1;33m:\u001b[0m\u001b[1;33m\u001b[0m\u001b[0m\n\u001b[0;32m     61\u001b[0m             \u001b[1;32mraise\u001b[0m \u001b[0mRuntimeError\u001b[0m\u001b[1;33m(\u001b[0m\u001b[1;34m\"generator didn't yield\"\u001b[0m\u001b[1;33m)\u001b[0m \u001b[1;32mfrom\u001b[0m \u001b[1;32mNone\u001b[0m\u001b[1;33m\u001b[0m\u001b[0m\n",
        "\u001b[1;32m/home/tra/.local/lib/python3.4/site-packages/Bio/File.py\u001b[0m in \u001b[0;36mas_handle\u001b[1;34m(handleish, mode, **kwargs)\u001b[0m\n\u001b[0;32m     78\u001b[0m                 \u001b[1;32myield\u001b[0m \u001b[0mfp\u001b[0m\u001b[1;33m\u001b[0m\u001b[0m\n\u001b[0;32m     79\u001b[0m         \u001b[1;32melse\u001b[0m\u001b[1;33m:\u001b[0m\u001b[1;33m\u001b[0m\u001b[0m\n\u001b[1;32m---> 80\u001b[1;33m             \u001b[1;32mwith\u001b[0m \u001b[0mopen\u001b[0m\u001b[1;33m(\u001b[0m\u001b[0mhandleish\u001b[0m\u001b[1;33m,\u001b[0m \u001b[0mmode\u001b[0m\u001b[1;33m,\u001b[0m \u001b[1;33m**\u001b[0m\u001b[0mkwargs\u001b[0m\u001b[1;33m)\u001b[0m \u001b[1;32mas\u001b[0m \u001b[0mfp\u001b[0m\u001b[1;33m:\u001b[0m\u001b[1;33m\u001b[0m\u001b[0m\n\u001b[0m\u001b[0;32m     81\u001b[0m                 \u001b[1;32myield\u001b[0m \u001b[0mfp\u001b[0m\u001b[1;33m\u001b[0m\u001b[0m\n\u001b[0;32m     82\u001b[0m     \u001b[1;32melse\u001b[0m\u001b[1;33m:\u001b[0m\u001b[1;33m\u001b[0m\u001b[0m\n",
        "\u001b[1;31mFileNotFoundError\u001b[0m: [Errno 2] No such file or directory: 'tree1.dnd'"
       ]
      }
     ],
     "prompt_number": 14
    },
    {
     "cell_type": "code",
     "collapsed": false,
     "input": [
      "Phylo.convert(\"other_trees.xml\", \"phyloxml\", \"other_trees.nex\", \"nexus\")"
     ],
     "language": "python",
     "metadata": {},
     "outputs": [
      {
       "ename": "ParseError",
       "evalue": "no element found: line 1, column 0 (<string>)",
       "output_type": "pyerr",
       "traceback": [
        "\u001b[1;36m  File \u001b[1;32m\"<string>\"\u001b[1;36m, line \u001b[1;32munknown\u001b[0m\n\u001b[1;31mParseError\u001b[0m\u001b[1;31m:\u001b[0m no element found: line 1, column 0\n"
       ]
      }
     ],
     "prompt_number": 15
    },
    {
     "cell_type": "markdown",
     "metadata": {},
     "source": [
      "To use strings as input or output instead of actual files, use StringIO as you would with SeqIO and AlignIO:"
     ]
    },
    {
     "cell_type": "code",
     "collapsed": false,
     "input": [
      "from io import StringIO\n",
      "handle = StringIO(\"(((A,B),(C,D)),(E,F,G));\")\n",
      "tree = Phylo.read(handle, \"newick\")"
     ],
     "language": "python",
     "metadata": {},
     "outputs": [],
     "prompt_number": 16
    },
    {
     "cell_type": "heading",
     "level": 2,
     "metadata": {},
     "source": [
      "View and export trees"
     ]
    },
    {
     "cell_type": "markdown",
     "metadata": {},
     "source": [
      "The simplest way to get an overview of a Tree object is to print it:"
     ]
    },
    {
     "cell_type": "code",
     "collapsed": false,
     "input": [
      "tree = Phylo.read(\"data/example.xml\", \"phyloxml\")\n",
      "print(tree)"
     ],
     "language": "python",
     "metadata": {},
     "outputs": [
      {
       "output_type": "stream",
       "stream": "stdout",
       "text": [
        "Phylogeny(name='example from Prof. Joe Felsenstein's book \"Inferring Phyl...', rooted=True, description='phyloXML allows to use either a \"branch_length\" attribute...')\n",
        "    Clade()\n",
        "        Clade(branch_length=0.06)\n",
        "            Clade(name='A', branch_length=0.102)\n",
        "            Clade(name='B', branch_length=0.23)\n",
        "        Clade(name='C', branch_length=0.4)\n"
       ]
      }
     ],
     "prompt_number": 17
    },
    {
     "cell_type": "markdown",
     "metadata": {},
     "source": [
      "This is essentially an outline of the object hierarchy Biopython uses to represent a tree. But more likely, you\u2019d want to see a drawing of the tree. There are three functions to do this.\n",
      "\n",
      "As we saw in the demo, draw_ascii prints an ascii-art drawing of the tree (a rooted phylogram) to standard output, or an open file handle if given. Not all of the available information about the tree is shown, but it provides a way to quickly view the tree without relying on any external dependencies."
     ]
    },
    {
     "cell_type": "code",
     "collapsed": false,
     "input": [
      "Phylo.draw_ascii(tree)"
     ],
     "language": "python",
     "metadata": {},
     "outputs": [
      {
       "output_type": "stream",
       "stream": "stdout",
       "text": [
        "             __________________ A\n",
        " ___________|\n",
        "|           |___________________________________________ B\n",
        "|\n",
        "|___________________________________________________________________________ C\n",
        "\n"
       ]
      }
     ],
     "prompt_number": 18
    },
    {
     "cell_type": "markdown",
     "metadata": {},
     "source": [
      "The draw function draws a more attractive image using the matplotlib library. See the API documentation for details on the arguments it accepts to customize the output."
     ]
    },
    {
     "cell_type": "code",
     "collapsed": false,
     "input": [
      "Phylo.draw(tree, branch_labels=lambda c: c.branch_length)"
     ],
     "language": "python",
     "metadata": {},
     "outputs": [
      {
       "metadata": {},
       "output_type": "display_data",
       "png": "[encoded data removed]",
       "text": [
        "<matplotlib.figure.Figure at 0x7fecfe95ac88>"
       ]
      }
     ],
     "prompt_number": 19
    },
    {
     "cell_type": "markdown",
     "metadata": {},
     "source": [
      "draw_graphviz draws an unrooted cladogram, but requires that you have Graphviz, PyDot or PyGraphviz, NetworkX, and matplotlib (or pylab) installed. Using the same example as above, and the dot program included with Graphviz, let\u2019s draw a rooted tree (see Fig. 13.3):\n",
      "\n"
     ]
    },
    {
     "cell_type": "code",
     "collapsed": false,
     "input": [
      "Phylo.draw_graphviz(tree, prog='dot')"
     ],
     "language": "python",
     "metadata": {},
     "outputs": []
    },
    {
     "cell_type": "markdown",
     "metadata": {},
     "source": [
      "This exports the tree object to a NetworkX graph, uses Graphviz to lay out the nodes, and displays it using matplotlib. There are a number of keyword arguments that can modify the resulting diagram, including most of those accepted by the NetworkX functions networkx.draw and networkx.draw_graphviz.\n",
      "\n",
      "The display is also affected by the rooted attribute of the given tree object. Rooted trees are shown with a \u201chead\u201d on each branch indicating direction (see Fig. 13.3):"
     ]
    },
    {
     "cell_type": "code",
     "collapsed": false,
     "input": [
      "tree = Phylo.read(\"data/simple.dnd\", \"newick\")\n",
      "tree.rooted = True\n",
      "Phylo.draw_graphviz(tree)"
     ],
     "language": "python",
     "metadata": {},
     "outputs": [
      {
       "ename": "IndexError",
       "evalue": "list index out of range",
       "output_type": "pyerr",
       "traceback": [
        "\u001b[1;31m---------------------------------------------------------------------------\u001b[0m\n\u001b[1;31mIndexError\u001b[0m                                Traceback (most recent call last)",
        "\u001b[1;32m<ipython-input-24-e349fbd2c47f>\u001b[0m in \u001b[0;36m<module>\u001b[1;34m()\u001b[0m\n\u001b[0;32m      1\u001b[0m \u001b[0mtree\u001b[0m \u001b[1;33m=\u001b[0m \u001b[0mPhylo\u001b[0m\u001b[1;33m.\u001b[0m\u001b[0mread\u001b[0m\u001b[1;33m(\u001b[0m\u001b[1;34m\"data/simple.dnd\"\u001b[0m\u001b[1;33m,\u001b[0m \u001b[1;34m\"newick\"\u001b[0m\u001b[1;33m)\u001b[0m\u001b[1;33m\u001b[0m\u001b[0m\n\u001b[0;32m      2\u001b[0m \u001b[0mtree\u001b[0m\u001b[1;33m.\u001b[0m\u001b[0mrooted\u001b[0m \u001b[1;33m=\u001b[0m \u001b[1;32mTrue\u001b[0m\u001b[1;33m\u001b[0m\u001b[0m\n\u001b[1;32m----> 3\u001b[1;33m \u001b[0mPhylo\u001b[0m\u001b[1;33m.\u001b[0m\u001b[0mdraw_graphviz\u001b[0m\u001b[1;33m(\u001b[0m\u001b[0mtree\u001b[0m\u001b[1;33m)\u001b[0m\u001b[1;33m\u001b[0m\u001b[0m\n\u001b[0m",
        "\u001b[1;32m/home/tra/.local/lib/python3.4/site-packages/Bio/Phylo/_utils.py\u001b[0m in \u001b[0;36mdraw_graphviz\u001b[1;34m(tree, label_func, prog, args, node_color, **kwargs)\u001b[0m\n\u001b[0;32m    151\u001b[0m \u001b[1;33m\u001b[0m\u001b[0m\n\u001b[0;32m    152\u001b[0m     \u001b[1;32mtry\u001b[0m\u001b[1;33m:\u001b[0m\u001b[1;33m\u001b[0m\u001b[0m\n\u001b[1;32m--> 153\u001b[1;33m         \u001b[0mposi\u001b[0m \u001b[1;33m=\u001b[0m \u001b[0mnetworkx\u001b[0m\u001b[1;33m.\u001b[0m\u001b[0mgraphviz_layout\u001b[0m\u001b[1;33m(\u001b[0m\u001b[0mGi\u001b[0m\u001b[1;33m,\u001b[0m \u001b[0mprog\u001b[0m\u001b[1;33m,\u001b[0m \u001b[0margs\u001b[0m\u001b[1;33m=\u001b[0m\u001b[0margs\u001b[0m\u001b[1;33m)\u001b[0m\u001b[1;33m\u001b[0m\u001b[0m\n\u001b[0m\u001b[0;32m    154\u001b[0m     \u001b[1;32mexcept\u001b[0m \u001b[0mImportError\u001b[0m\u001b[1;33m:\u001b[0m\u001b[1;33m\u001b[0m\u001b[0m\n\u001b[0;32m    155\u001b[0m         raise MissingPythonDependencyError(\n",
        "\u001b[1;32m/usr/lib/python3/dist-packages/networkx/drawing/nx_pydot.py\u001b[0m in \u001b[0;36mgraphviz_layout\u001b[1;34m(G, prog, root, **kwds)\u001b[0m\n\u001b[0;32m    228\u001b[0m     \u001b[0mThis\u001b[0m \u001b[1;32mis\u001b[0m \u001b[0ma\u001b[0m \u001b[0mwrapper\u001b[0m \u001b[1;32mfor\u001b[0m \u001b[0mpydot_layout\u001b[0m\u001b[1;33m.\u001b[0m\u001b[1;33m\u001b[0m\u001b[0m\n\u001b[0;32m    229\u001b[0m     \"\"\"\n\u001b[1;32m--> 230\u001b[1;33m     \u001b[1;32mreturn\u001b[0m \u001b[0mpydot_layout\u001b[0m\u001b[1;33m(\u001b[0m\u001b[0mG\u001b[0m\u001b[1;33m=\u001b[0m\u001b[0mG\u001b[0m\u001b[1;33m,\u001b[0m\u001b[0mprog\u001b[0m\u001b[1;33m=\u001b[0m\u001b[0mprog\u001b[0m\u001b[1;33m,\u001b[0m\u001b[0mroot\u001b[0m\u001b[1;33m=\u001b[0m\u001b[0mroot\u001b[0m\u001b[1;33m,\u001b[0m\u001b[1;33m**\u001b[0m\u001b[0mkwds\u001b[0m\u001b[1;33m)\u001b[0m\u001b[1;33m\u001b[0m\u001b[0m\n\u001b[0m\u001b[0;32m    231\u001b[0m \u001b[1;33m\u001b[0m\u001b[0m\n\u001b[0;32m    232\u001b[0m \u001b[1;33m\u001b[0m\u001b[0m\n",
        "\u001b[1;32m/usr/lib/python3/dist-packages/networkx/drawing/nx_pydot.py\u001b[0m in \u001b[0;36mpydot_layout\u001b[1;34m(G, prog, root, **kwds)\u001b[0m\n\u001b[0;32m    271\u001b[0m \u001b[1;33m\u001b[0m\u001b[0m\n\u001b[0;32m    272\u001b[0m         \u001b[1;32mif\u001b[0m \u001b[0misinstance\u001b[0m\u001b[1;33m(\u001b[0m\u001b[0mnode\u001b[0m\u001b[1;33m,\u001b[0m\u001b[0mlist\u001b[0m\u001b[1;33m)\u001b[0m\u001b[1;33m:\u001b[0m\u001b[1;33m\u001b[0m\u001b[0m\n\u001b[1;32m--> 273\u001b[1;33m             \u001b[0mnode\u001b[0m\u001b[1;33m=\u001b[0m\u001b[0mnode\u001b[0m\u001b[1;33m[\u001b[0m\u001b[1;36m0\u001b[0m\u001b[1;33m]\u001b[0m\u001b[1;33m\u001b[0m\u001b[0m\n\u001b[0m\u001b[0;32m    274\u001b[0m         \u001b[0mpos\u001b[0m\u001b[1;33m=\u001b[0m\u001b[0mnode\u001b[0m\u001b[1;33m.\u001b[0m\u001b[0mget_pos\u001b[0m\u001b[1;33m(\u001b[0m\u001b[1;33m)\u001b[0m\u001b[1;33m[\u001b[0m\u001b[1;36m1\u001b[0m\u001b[1;33m:\u001b[0m\u001b[1;33m-\u001b[0m\u001b[1;36m1\u001b[0m\u001b[1;33m]\u001b[0m \u001b[1;31m# strip leading and trailing double quotes\u001b[0m\u001b[1;33m\u001b[0m\u001b[0m\n\u001b[0;32m    275\u001b[0m         \u001b[1;32mif\u001b[0m \u001b[0mpos\u001b[0m \u001b[1;33m!=\u001b[0m \u001b[1;32mNone\u001b[0m\u001b[1;33m:\u001b[0m\u001b[1;33m\u001b[0m\u001b[0m\n",
        "\u001b[1;31mIndexError\u001b[0m: list index out of range"
       ]
      }
     ],
     "prompt_number": 24
    },
    {
     "cell_type": "markdown",
     "metadata": {},
     "source": [
      "The \u201cprog\u201d argument specifies the Graphviz engine used for layout. The default, twopi, behaves well for any size tree, reliably avoiding crossed branches. The neato program may draw more attractive moderately-sized trees, but sometimes will cross branches (see Fig. 13.3). The dot program may be useful with small trees, but tends to do surprising things with the layout of larger trees."
     ]
    },
    {
     "cell_type": "code",
     "collapsed": false,
     "input": [
      "Phylo.draw_graphviz(tree, prog=\"neato\")"
     ],
     "language": "python",
     "metadata": {},
     "outputs": []
    },
    {
     "cell_type": "markdown",
     "metadata": {},
     "source": [
      "This viewing mode is particularly handy for exploring larger trees, because the matplotlib viewer can zoom in on a selected region, thinning out a cluttered graphic."
     ]
    },
    {
     "cell_type": "code",
     "collapsed": false,
     "input": [
      "tree = Phylo.read(\"apaf.xml\", \"phyloxml\")\n",
      "Phylo.draw_graphviz(tree, prog=\"neato\", node_size=0)"
     ],
     "language": "python",
     "metadata": {},
     "outputs": []
    },
    {
     "cell_type": "markdown",
     "metadata": {},
     "source": [
      "Note that branch lengths are not displayed accurately, because Graphviz ignores them when creating the node layouts. The branch lengths are retained when exporting a tree as a NetworkX graph object (to_networkx), however.\n",
      "\n",
      "See the Phylo page on the Biopython wiki (http://biopython.org/wiki/Phylo) for descriptions and examples of the more advanced functionality in draw_ascii, draw_graphviz and to_networkx."
     ]
    },
    {
     "cell_type": "heading",
     "level": 2,
     "metadata": {},
     "source": [
      "Using Tree and Clade objects"
     ]
    },
    {
     "cell_type": "markdown",
     "metadata": {},
     "source": [
      "The Tree objects produced by parse and read are containers for recursive sub-trees, attached to the Tree object at the root attribute (whether or not the phylogenic tree is actually considered rooted). A Tree has globally applied information for the phylogeny, such as rootedness, and a reference to a single Clade; a Clade has node- and clade-specific information, such as branch length, and a list of its own descendent Clade instances, attached at the clades attribute.\n",
      "\n",
      "So there is a distinction between tree and tree.root. In practice, though, you rarely need to worry about it. To smooth over the difference, both Tree and Clade inherit from TreeMixin, which contains the implementations for methods that would be commonly used to search, inspect or modify a tree or any of its clades. This means that almost all of the methods supported by tree are also available on tree.root and any clade below it. (Clade also has a root property, which returns the clade object itself.)"
     ]
    },
    {
     "cell_type": "heading",
     "level": 3,
     "metadata": {},
     "source": [
      "Search and traversal methods"
     ]
    },
    {
     "cell_type": "markdown",
     "metadata": {},
     "source": [
      "For convenience, we provide a couple of simplified methods that return all external or internal nodes directly as a list:\n",
      "\n",
      "get_terminals\n",
      "makes a list of all of this tree\u2019s terminal (leaf) nodes.\n",
      "get_nonterminals\n",
      "makes a list of all of this tree\u2019s nonterminal (internal) nodes.\n",
      "These both wrap a method with full control over tree traversal, find_clades. Two more traversal methods, find_elements and find_any, rely on the same core functionality and accept the same arguments, which we\u2019ll call a \u201ctarget specification\u201d for lack of a better description. These specify which objects in the tree will be matched and returned during iteration. The first argument can be any of the following types:\n",
      "\n",
      "A TreeElement instance, which tree elements will match by identity \u2014 so searching with a Clade instance as the target will find that clade in the tree;\n",
      "A string, which matches tree elements\u2019 string representation \u2014 in particular, a clade\u2019s name (added in Biopython 1.56);\n",
      "A class or type, where every tree element of the same type (or sub-type) will be matched;\n",
      "A dictionary where keys are tree element attributes and values are matched to the corresponding attribute of each tree element. This one gets even more elaborate:\n",
      "If an int is given, it matches numerically equal attributes, e.g. 1 will match 1 or 1.0\n",
      "If a boolean is given (True or False), the corresponding attribute value is evaluated as a boolean and checked for the same\n",
      "None matches None\n",
      "If a string is given, the value is treated as a regular expression (which must match the whole string in the corresponding element attribute, not just a prefix). A given string without special regex characters will match string attributes exactly, so if you don\u2019t use regexes, don\u2019t worry about it. For example, in a tree with clade names Foo1, Foo2 and Foo3, tree.find_clades({\"name\": \"Foo1\"}) matches Foo1, {\"name\": \"Foo.*\"} matches all three clades, and {\"name\": \"Foo\"} doesn\u2019t match anything.\n",
      "Since floating-point arithmetic can produce some strange behavior, we don\u2019t support matching floats directly. Instead, use the boolean True to match every element with a nonzero value in the specified attribute, then filter on that attribute manually with an inequality (or exact number, if you like living dangerously).\n",
      "\n",
      "If the dictionary contains multiple entries, a matching element must match each of the given attribute values \u2014 think \u201cand\u201d, not \u201cor\u201d.\n",
      "\n",
      "A function taking a single argument (it will be applied to each element in the tree), returning True or False. For convenience, LookupError, AttributeError and ValueError are silenced, so this provides another safe way to search for floating-point values in the tree, or some more complex characteristic.\n",
      "After the target, there are two optional keyword arguments:\n",
      "\n",
      "terminal\n",
      "\u2014 A boolean value to select for or against terminal clades (a.k.a. leaf nodes): True searches for only terminal clades, False for non-terminal (internal) clades, and the default, None, searches both terminal and non-terminal clades, as well as any tree elements lacking the is_terminal method.\n",
      "order\n",
      "\u2014 Tree traversal order: \"preorder\" (default) is depth-first search, \"postorder\" is DFS with child nodes preceding parents, and \"level\" is breadth-first search.\n",
      "Finally, the methods accept arbitrary keyword arguments which are treated the same way as a dictionary target specification: keys indicate the name of the element attribute to search for, and the argument value (string, integer, None or boolean) is compared to the value of each attribute found. If no keyword arguments are given, then any TreeElement types are matched. The code for this is generally shorter than passing a dictionary as the target specification: tree.find_clades({\"name\": \"Foo1\"}) can be shortened to tree.find_clades(name=\"Foo1\").\n",
      "\n",
      "(In Biopython 1.56 or later, this can be even shorter: tree.find_clades(\"Foo1\"))\n",
      "\n",
      "Now that we\u2019ve mastered target specifications, here are the methods used to traverse a tree:\n",
      "\n",
      "find_clades\n",
      "Find each clade containing a matching element. That is, find each element as with find_elements, but return the corresponding clade object. (This is usually what you want.)\n",
      "The result is an iterable through all matching objects, searching depth-first by default. This is not necessarily the same order as the elements appear in the Newick, Nexus or XML source file!\n",
      "\n",
      "find_elements\n",
      "Find all tree elements matching the given attributes, and return the matching elements themselves. Simple Newick trees don\u2019t have complex sub-elements, so this behaves the same as find_clades on them. PhyloXML trees often do have complex objects attached to clades, so this method is useful for extracting those.\n",
      "find_any\n",
      "Return the first element found by find_elements(), or None. This is also useful for checking whether any matching element exists in the tree, and can be used in a conditional.\n",
      "Two more methods help navigating between nodes in the tree:\n",
      "\n",
      "get_path\n",
      "List the clades directly between the tree root (or current clade) and the given target. Returns a list of all clade objects along this path, ending with the given target, but excluding the root clade.\n",
      "trace\n",
      "List of all clade object between two targets in this tree. Excluding start, including finish."
     ]
    },
    {
     "cell_type": "heading",
     "level": 3,
     "metadata": {},
     "source": [
      "Information methods"
     ]
    },
    {
     "cell_type": "markdown",
     "metadata": {},
     "source": [
      "These methods provide information about the whole tree (or any clade).\n",
      "\n",
      "common_ancestor\n",
      "Find the most recent common ancestor of all the given targets. (This will be a Clade object). If no target is given, returns the root of the current clade (the one this method is called from); if 1 target is given, this returns the target itself. However, if any of the specified targets are not found in the current tree (or clade), an exception is raised.\n",
      "count_terminals\n",
      "Counts the number of terminal (leaf) nodes within the tree.\n",
      "depths\n",
      "Create a mapping of tree clades to depths. The result is a dictionary where the keys are all of the Clade instances in the tree, and the values are the distance from the root to each clade (including terminals). By default the distance is the cumulative branch length leading to the clade, but with the unit_branch_lengths=True option, only the number of branches (levels in the tree) is counted.\n",
      "distance\n",
      "Calculate the sum of the branch lengths between two targets. If only one target is specified, the other is the root of this tree.\n",
      "total_branch_length\n",
      "Calculate the sum of all the branch lengths in this tree. This is usually just called the \u201clength\u201d of the tree in phylogenetics, but we use a more explicit name to avoid confusion with Python terminology.\n",
      "The rest of these methods are boolean checks:\n",
      "\n",
      "is_bifurcating\n",
      "True if the tree is strictly bifurcating; i.e. all nodes have either 2 or 0 children (internal or external, respectively). The root may have 3 descendents and still be considered part of a bifurcating tree.\n",
      "is_monophyletic\n",
      "Test if all of the given targets comprise a complete subclade \u2014 i.e., there exists a clade such that its terminals are the same set as the given targets. The targets should be terminals of the tree. For convenience, this method returns the common ancestor (MCRA) of the targets if they are monophyletic (instead of the value True), and False otherwise.\n",
      "is_parent_of\n",
      "True if target is a descendent of this tree \u2014 not required to be a direct descendent. To check direct descendents of a clade, simply use list membership testing: if subclade in clade: ...\n",
      "is_preterminal\n",
      "True if all direct descendents are terminal; False if any direct descendent is not terminal."
     ]
    },
    {
     "cell_type": "heading",
     "level": 3,
     "metadata": {},
     "source": [
      "Modification methods"
     ]
    },
    {
     "cell_type": "markdown",
     "metadata": {},
     "source": [
      "These methods modify the tree in-place. If you want to keep the original tree intact, make a complete copy of the tree first, using Python\u2019s copy module:"
     ]
    },
    {
     "cell_type": "code",
     "collapsed": false,
     "input": [
      "tree = Phylo.read('example.xml', 'phyloxml')\n",
      "import copy\n",
      "newtree = copy.deepcopy(tree)"
     ],
     "language": "python",
     "metadata": {},
     "outputs": [
      {
       "ename": "NameError",
       "evalue": "name 'Phylo' is not defined",
       "output_type": "pyerr",
       "traceback": [
        "\u001b[1;31m---------------------------------------------------------------------------\u001b[0m\n\u001b[1;31mNameError\u001b[0m                                 Traceback (most recent call last)",
        "\u001b[1;32m<ipython-input-1-9b5193ef9c62>\u001b[0m in \u001b[0;36m<module>\u001b[1;34m()\u001b[0m\n\u001b[1;32m----> 1\u001b[1;33m \u001b[0mtree\u001b[0m \u001b[1;33m=\u001b[0m \u001b[0mPhylo\u001b[0m\u001b[1;33m.\u001b[0m\u001b[0mread\u001b[0m\u001b[1;33m(\u001b[0m\u001b[1;34m'example.xml'\u001b[0m\u001b[1;33m,\u001b[0m \u001b[1;34m'phyloxml'\u001b[0m\u001b[1;33m)\u001b[0m\u001b[1;33m\u001b[0m\u001b[0m\n\u001b[0m\u001b[0;32m      2\u001b[0m \u001b[1;32mimport\u001b[0m \u001b[0mcopy\u001b[0m\u001b[1;33m\u001b[0m\u001b[0m\n\u001b[0;32m      3\u001b[0m \u001b[0mnewtree\u001b[0m \u001b[1;33m=\u001b[0m \u001b[0mcopy\u001b[0m\u001b[1;33m.\u001b[0m\u001b[0mdeepcopy\u001b[0m\u001b[1;33m(\u001b[0m\u001b[0mtree\u001b[0m\u001b[1;33m)\u001b[0m\u001b[1;33m\u001b[0m\u001b[0m\n",
        "\u001b[1;31mNameError\u001b[0m: name 'Phylo' is not defined"
       ]
      }
     ],
     "prompt_number": 1
    },
    {
     "cell_type": "markdown",
     "metadata": {},
     "source": [
      "collapse\n",
      "Deletes the target from the tree, relinking its children to its parent.\n",
      "collapse_all\n",
      "Collapse all the descendents of this tree, leaving only terminals. Branch lengths are preserved, i.e. the distance to each terminal stays the same. With a target specification (see above), collapses only the internal nodes matching the specification.\n",
      "ladderize\n",
      "Sort clades in-place according to the number of terminal nodes. Deepest clades are placed last by default. Use reverse=True to sort clades deepest-to-shallowest.\n",
      "prune\n",
      "Prunes a terminal clade from the tree. If taxon is from a bifurcation, the connecting node will be collapsed and its branch length added to remaining terminal node. This might no longer be a meaningful value.\n",
      "root_with_outgroup\n",
      "Reroot this tree with the outgroup clade containing the given targets, i.e. the common ancestor of the outgroup. This method is only available on Tree objects, not Clades.\n",
      "If the outgroup is identical to self.root, no change occurs. If the outgroup clade is terminal (e.g. a single terminal node is given as the outgroup), a new bifurcating root clade is created with a 0-length branch to the given outgroup. Otherwise, the internal node at the base of the outgroup becomes a trifurcating root for the whole tree. If the original root was bifurcating, it is dropped from the tree.\n",
      "\n",
      "In all cases, the total branch length of the tree stays the same.\n",
      "\n",
      "root_at_midpoint\n",
      "Reroot this tree at the calculated midpoint between the two most distant tips of the tree. (This uses root_with_outgroup under the hood.)\n",
      "split\n",
      "Generate n (default 2) new descendants. In a species tree, this is a speciation event. New clades have the given branch_length and the same name as this clade\u2019s root plus an integer suffix (counting from 0) \u2014 for example, splitting a clade named \u201cA\u201d produces the sub-clades \u201cA0\u201d and \u201cA1\u201d.\n",
      "See the Phylo page on the Biopython wiki (http://biopython.org/wiki/Phylo) for more examples of using the available methods."
     ]
    },
    {
     "cell_type": "heading",
     "level": 3,
     "metadata": {},
     "source": [
      "Features of PhyloXML trees"
     ]
    },
    {
     "cell_type": "markdown",
     "metadata": {},
     "source": [
      "The phyloXML file format includes fields for annotating trees with additional data types and visual cues.\n",
      "\n",
      "See the PhyloXML page on the Biopython wiki (http://biopython.org/wiki/PhyloXML) for descriptions and examples of using the additional annotation features provided by PhyloXML."
     ]
    },
    {
     "cell_type": "heading",
     "level": 2,
     "metadata": {},
     "source": [
      "Running external applications"
     ]
    },
    {
     "cell_type": "markdown",
     "metadata": {},
     "source": [
      "While Bio.Phylo doesn\u2019t infer trees from alignments itself, there are third-party programs available that do. These are supported through the module Bio.Phylo.Applications, using the same general framework as Bio.Emboss.Applications, Bio.Align.Applications and others.\n",
      "\n",
      "Biopython 1.58 introduced a wrapper for PhyML (http://www.atgc-montpellier.fr/phyml/). The program accepts an input alignment in phylip-relaxed format (that\u2019s Phylip format, but without the 10-character limit on taxon names) and a variety of options. A quick example:"
     ]
    },
    {
     "cell_type": "code",
     "collapsed": false,
     "input": [
      "from Bio import Phylo\n",
      "from Bio.Phylo.Applications import PhymlCommandline\n",
      "cmd = PhymlCommandline(input='Tests/Phylip/random.phy')\n",
      "out_log, err_log = cmd()"
     ],
     "language": "python",
     "metadata": {},
     "outputs": []
    },
    {
     "cell_type": "markdown",
     "metadata": {},
     "source": [
      "This generates a tree file and a stats file with the names [input filename]_phyml_tree.txt and [input filename]_phyml_stats.txt. The tree file is in Newick format:"
     ]
    },
    {
     "cell_type": "code",
     "collapsed": false,
     "input": [
      "tree = Phylo.read('Tests/Phylip/random.phy_phyml_tree.txt', 'newick')\n",
      "Phylo.draw_ascii(tree)"
     ],
     "language": "python",
     "metadata": {},
     "outputs": []
    },
    {
     "cell_type": "markdown",
     "metadata": {},
     "source": [
      "A similar wrapper for RAxML (http://sco.h-its.org/exelixis/software.html) was added in Biopython 1.60, and FastTree (http://www.microbesonline.org/fasttree/) in Biopython 1.62.\n",
      "\n",
      "Note that some popular Phylip programs, including dnaml and protml, are already available through the EMBOSS wrappers in Bio.Emboss.Applications if you have the Phylip extensions to EMBOSS installed on your system. See Section 6.4 for some examples and clues on how to use programs like these."
     ]
    },
    {
     "cell_type": "heading",
     "level": 2,
     "metadata": {},
     "source": [
      "PAML integration"
     ]
    },
    {
     "cell_type": "markdown",
     "metadata": {},
     "source": [
      "iopython 1.58 brought support for PAML (http://abacus.gene.ucl.ac.uk/software/paml.html), a suite of programs for phylogenetic analysis by maximum likelihood. Currently the programs codeml, baseml and yn00 are implemented. Due to PAML\u2019s usage of control files rather than command line arguments to control runtime options, usage of this wrapper strays from the format of other application wrappers in Biopython.\n",
      "\n",
      "A typical workflow would be to initialize a PAML object, specifying an alignment file, a tree file, an output file and a working directory. Next, runtime options are set via the set_options() method or by reading an existing control file. Finally, the program is run via the run() method and the output file is automatically parsed to a results dictionary.\n",
      "\n",
      "Here is an example of typical usage of codeml:"
     ]
    },
    {
     "cell_type": "code",
     "collapsed": false,
     "input": [
      "from Bio.Phylo.PAML import codeml\n",
      "cml = codeml.Codeml()\n",
      "cml.alignment = \"Tests/PAML/alignment.phylip\"\n",
      "cml.tree = \"Tests/PAML/species.tree\"\n",
      "cml.out_file = \"results.out\"\n",
      "cml.working_dir = \"./scratch\"\n",
      "cml.set_options(seqtype=1,\n",
      "        verbose=0,\n",
      "        noisy=0,\n",
      "        RateAncestor=0,\n",
      "        model=0,\n",
      "        NSsites=[0, 1, 2],\n",
      "        CodonFreq=2,\n",
      "        cleandata=1,\n",
      "        fix_alpha=1,\n",
      "        kappa=4.54006)\n",
      "results = cml.run()\n",
      "ns_sites = results.get(\"NSsites\")\n",
      "m0 = ns_sites.get(0)\n",
      "m0_params = m0.get(\"parameters\")\n",
      "print(m0_params.get(\"omega\"))"
     ],
     "language": "python",
     "metadata": {},
     "outputs": []
    },
    {
     "cell_type": "markdown",
     "metadata": {},
     "source": [
      "Existing output files may be parsed as well using a module\u2019s read() function:"
     ]
    },
    {
     "cell_type": "code",
     "collapsed": false,
     "input": [
      "results = codeml.read(\"Tests/PAML/Results/codeml/codeml_NSsites_all.out\")\n",
      "print(results.get(\"lnL max\"))"
     ],
     "language": "python",
     "metadata": {},
     "outputs": []
    },
    {
     "cell_type": "markdown",
     "metadata": {},
     "source": [
      "Detailed documentation for this new module currently lives on the Biopython wiki: http://biopython.org/wiki/PAML"
     ]
    }
   ],
   "metadata": {}
  }
 ]
}