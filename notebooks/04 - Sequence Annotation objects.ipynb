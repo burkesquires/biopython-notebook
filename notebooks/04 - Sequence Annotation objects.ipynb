{
 "metadata": {
  "name": "",
  "signature": "sha256:fc342faa82fbc28b469642ab11bc083ce82319b8d2b3251a435d94e205636c0c"
 },
 "nbformat": 3,
 "nbformat_minor": 0,
 "worksheets": [
  {
   "cells": [
    {
     "cell_type": "markdown",
     "metadata": {},
     "source": [
      "**Source of the materials**: Biopython Tutorial and Cookbook (adapted)"
     ]
    },
    {
     "cell_type": "heading",
     "level": 1,
     "metadata": {},
     "source": [
      "Sequence annotation objects"
     ]
    },
    {
     "cell_type": "markdown",
     "metadata": {},
     "source": [
      "Chapter~\\ref{chapter:Bio.Seq} introduced the sequence classes.  Immediately ``above'' the __Seq__ class is the Sequence Record or __SeqRecord__ class, defined in the __Bio.SeqRecord__ module. This class allows higher level features such as identifiers and features (as __SeqFeature__ objects) to be associated with the sequence, and is used throughout the sequence input/output interface __Bio.SeqIO__ described fully in Chapter~\\ref{chapter:Bio.SeqIO}.\n",
      "\n",
      "If you are only going to be working with simple data like FASTA files, you can probably skip this chapter\n",
      "for now. If on the other hand you are going to be using richly annotated sequence data, say from GenBank\n",
      "or EMBL files, this information is quite important.\n",
      "\n",
      "While this chapter should cover most things to do with the __SeqRecord__ and __SeqFeature__ objects in this chapter, you may also want to read the __SeqRecord__ wiki page (\\url{http://biopython.org/wiki/SeqRecord}), and the built in documentation (also online -- \\href{http://biopython.org/DIST/docs/api/Bio.SeqRecord.SeqRecord-class.html}{SeqRecord} and \\href{http://biopython.org/DIST/docs/api/Bio.SeqFeature.SeqFeature-class.html}{SeqFeature}):\n"
     ]
    },
    {
     "cell_type": "code",
     "collapsed": false,
     "input": [
      "from Bio.SeqRecord import SeqRecord\n",
      "help(SeqRecord)"
     ],
     "language": "python",
     "metadata": {},
     "outputs": [
      {
       "output_type": "stream",
       "stream": "stdout",
       "text": [
        "Help on class SeqRecord in module Bio.SeqRecord:\n",
        "\n",
        "class SeqRecord(__builtin__.object)\n",
        " __  A SeqRecord object holds a sequence and information about it.\n",
        " __  \n",
        " __  Main attributes:\n",
        " __   - id          - Identifier such as a locus tag (string)\n",
        " __   - seq         - The sequence itself (Seq object or similar)\n",
        " __  \n",
        " __  Additional attributes:\n",
        " __   - name        - Sequence name, e.g. gene name (string)\n",
        " __   - description - Additional text (string)\n",
        " __   - dbxrefs     - List of database cross references (list of strings)\n",
        " __   - features    - Any (sub)features defined (list of SeqFeature objects)\n",
        " __   - annotations - Further information about the whole sequence (dictionary).\n",
        " __                   Most entries are strings, or lists of strings.\n",
        " __   - letter_annotations - Per letter/symbol annotation (restricted\n",
        " __                   dictionary). This holds Python sequences (lists, strings\n",
        " __                   or tuples) whose length matches that of the sequence.\n",
        " __                   A typical use would be to hold a list of integers\n",
        " __                   representing sequencing quality scores, or a string\n",
        " __                   representing the secondary structure.\n",
        " __  \n",
        " __  You will typically use Bio.SeqIO to read in sequences from files as\n",
        " __  SeqRecord objects.  However, you may want to create your own SeqRecord\n",
        " __  objects directly (see the __init__ method for further details):\n",
        " __  \n",
        " __  >>> from Bio.Seq import Seq\n",
        " __  >>> from Bio.SeqRecord import SeqRecord\n",
        " __  >>> from Bio.Alphabet import IUPAC\n",
        " __  >>> record = SeqRecord(Seq(\"MKQHKAMIVALIVICITAVVAALVTRKDLCEVHIRTGQTEVAVF\",\n",
        " __  ...                         IUPAC.protein),\n",
        " __  ...                    id=\"YP_025292.1\", name=\"HokC\",\n",
        " __  ...                    description=\"toxic membrane protein\")\n",
        " __  >>> print(record)\n",
        " __  ID: YP_025292.1\n",
        " __  Name: HokC\n",
        " __  Description: toxic membrane protein\n",
        " __  Number of features: 0\n",
        " __  Seq('MKQHKAMIVALIVICITAVVAALVTRKDLCEVHIRTGQTEVAVF', IUPACProtein())\n",
        " __  \n",
        " __  If you want to save SeqRecord objects to a sequence file, use Bio.SeqIO\n",
        " __  for this.  For the special case where you want the SeqRecord turned into\n",
        " __  a string in a particular file format there is a format method which uses\n",
        " __  Bio.SeqIO internally:\n",
        " __  \n",
        " __  >>> print(record.format(\"fasta\"))\n",
        " __  >YP_025292.1 toxic membrane protein\n",
        " __  MKQHKAMIVALIVICITAVVAALVTRKDLCEVHIRTGQTEVAVF\n",
        " __  <BLANKLINE>\n",
        " __  \n",
        " __  You can also do things like slicing a SeqRecord, checking its length, etc\n",
        " __  \n",
        " __  >>> len(record)\n",
        " __  44\n",
        " __  >>> edited = record[:10] + record[11:]\n",
        " __  >>> print(edited.seq)\n",
        " __  MKQHKAMIVAIVICITAVVAALVTRKDLCEVHIRTGQTEVAVF\n",
        " __  >>> print(record.seq)\n",
        " __  MKQHKAMIVALIVICITAVVAALVTRKDLCEVHIRTGQTEVAVF\n",
        " __  \n",
        " __  Methods defined here:\n",
        " __  \n",
        " __  __add__(self, other)\n",
        " __      Add another sequence or string to this sequence.\n",
        " __      \n",
        " __      The other sequence can be a SeqRecord object, a Seq object (or\n",
        " __      similar, e.g. a MutableSeq) or a plain Python string. If you add\n",
        " __      a plain string or a Seq (like) object, the new SeqRecord will simply\n",
        " __      have this appended to the existing data. However, any per letter\n",
        " __      annotation will be lost:\n",
        " __      \n",
        " __      >>> from Bio import SeqIO\n",
        " __      >>> record = SeqIO.read(\"Quality/solexa_faked.fastq\", \"fastq-solexa\")\n",
        " __      >>> print(\"%s %s\" % (record.id, record.seq))\n",
        " __      slxa_0001_1_0001_01 ACGTACGTACGTACGTACGTACGTACGTACGTACGTACGTNNNNNN\n",
        " __      >>> print(list(record.letter_annotations))\n",
        " __      ['solexa_quality']\n",
        " __      \n",
        " __      >>> new = record + \"ACT\"\n",
        " __      >>> print(\"%s %s\" % (new.id, new.seq))\n",
        " __      slxa_0001_1_0001_01 ACGTACGTACGTACGTACGTACGTACGTACGTACGTACGTNNNNNNACT\n",
        " __      >>> print(list(new.letter_annotations))\n",
        " __      []\n",
        " __      \n",
        " __      The new record will attempt to combine the annotation, but for any\n",
        " __      ambiguities (e.g. different names) it defaults to omitting that\n",
        " __      annotation.\n",
        " __      \n",
        " __      >>> from Bio import SeqIO\n",
        " __      >>> with open(\"GenBank/pBAD30.gb\") as handle:\n",
        " __      ...     plasmid = SeqIO.read(handle, \"gb\")\n",
        " __      >>> print(\"%s %i\" % (plasmid.id, len(plasmid)))\n",
        " __      pBAD30 4923\n",
        " __      \n",
        " __      Now let's cut the plasmid into two pieces, and join them back up the\n",
        " __      other way round (i.e. shift the starting point on this plasmid, have\n",
        " __      a look at the annotated features in the original file to see why this\n",
        " __      particular split point might make sense):\n",
        " __      \n",
        " __      >>> left = plasmid[:3765]\n",
        " __      >>> right = plasmid[3765:]\n",
        " __      >>> new = right + left\n",
        " __      >>> print(\"%s %i\" % (new.id, len(new)))\n",
        " __      pBAD30 4923\n",
        " __      >>> str(new.seq) == str(right.seq + left.seq)\n",
        " __      True\n",
        " __      >>> len(new.features) == len(left.features) + len(right.features)\n",
        " __      True\n",
        " __      \n",
        " __      When we add the left and right SeqRecord objects, their annotation\n",
        " __      is all consistent, so it is all conserved in the new SeqRecord:\n",
        " __      \n",
        " __      >>> new.id == left.id == right.id == plasmid.id\n",
        " __      True\n",
        " __      >>> new.name == left.name == right.name == plasmid.name\n",
        " __      True\n",
        " __      >>> new.description == plasmid.description\n",
        " __      True\n",
        " __      >>> new.annotations == left.annotations == right.annotations\n",
        " __      True\n",
        " __      >>> new.letter_annotations == plasmid.letter_annotations\n",
        " __      True\n",
        " __      >>> new.dbxrefs == left.dbxrefs == right.dbxrefs\n",
        " __      True\n",
        " __      \n",
        " __      However, we should point out that when we sliced the SeqRecord,\n",
        " __      any annotations dictionary or dbxrefs list entries were lost.\n",
        " __      You can explicitly copy them like this:\n",
        " __      \n",
        " __      >>> new.annotations = plasmid.annotations.copy()\n",
        " __      >>> new.dbxrefs = plasmid.dbxrefs[:]\n",
        " __  \n",
        " __  __bool__(self)\n",
        " __      Boolean value of an instance of this class (True).\n",
        " __      \n",
        " __      This behaviour is for backwards compatibility, since until the\n",
        " __      __len__ method was added, a SeqRecord always evaluated as True.\n",
        " __      \n",
        " __      Note that in comparison, a Seq object will evaluate to False if it\n",
        " __      has a zero length sequence.\n",
        " __      \n",
        " __      WARNING: The SeqRecord may in future evaluate to False when its\n",
        " __      sequence is of zero length (in order to better match the Seq\n",
        " __      object behaviour)!\n",
        " __  \n",
        " __  __contains__(self, char)\n",
        " __      Implements the 'in' keyword, searches the sequence.\n",
        " __      \n",
        " __      e.g.\n",
        " __      \n",
        " __      >>> from Bio import SeqIO\n",
        " __      >>> record = SeqIO.read(\"Fasta/sweetpea.nu\", \"fasta\")\n",
        " __      >>> \"GAATTC\" in record\n",
        " __      False\n",
        " __      >>> \"AAA\" in record\n",
        " __      True\n",
        " __      \n",
        " __      This essentially acts as a proxy for using \"in\" on the sequence:\n",
        " __      \n",
        " __      >>> \"GAATTC\" in record.seq\n",
        " __      False\n",
        " __      >>> \"AAA\" in record.seq\n",
        " __      True\n",
        " __      \n",
        " __      Note that you can also use Seq objects as the query,\n",
        " __      \n",
        " __      >>> from Bio.Seq import Seq\n",
        " __      >>> from Bio.Alphabet import generic_dna\n",
        " __      >>> Seq(\"AAA\") in record\n",
        " __      True\n",
        " __      >>> Seq(\"AAA\", generic_dna) in record\n",
        " __      True\n",
        " __      \n",
        " __      See also the Seq object's __contains__ method.\n",
        " __  \n",
        " __  __format__(self, format_spec)\n",
        " __      Returns the record as a string in the specified file format.\n",
        " __      \n",
        " __      This method supports the python format() function added in\n",
        " __      Python 2.6/3.0.  The format_spec should be a lower case string\n",
        " __      supported by Bio.SeqIO as an output file format. See also the\n",
        " __      SeqRecord's format() method.\n",
        " __      \n",
        " __      Under Python 3 please note that for binary formats a bytes\n",
        " __      string is returned, otherwise a (unicode) string is returned.\n",
        " __  \n",
        " __  __getitem__(self, index)\n",
        " __      Returns a sub-sequence or an individual letter.\n",
        " __      \n",
        " __      Slicing, e.g. my_record[5:10], returns a new SeqRecord for\n",
        " __      that sub-sequence with approriate annotation preserved.  The\n",
        " __      name, id and description are kept.\n",
        " __      \n",
        " __      Any per-letter-annotations are sliced to match the requested\n",
        " __      sub-sequence.  Unless a stride is used, all those features\n",
        " __      which fall fully within the subsequence are included (with\n",
        " __      their locations adjusted accordingly).\n",
        " __      \n",
        " __      However, the annotations dictionary and the dbxrefs list are\n",
        " __      not used for the new SeqRecord, as in general they may not\n",
        " __      apply to the subsequence.  If you want to preserve them, you\n",
        " __      must explictly copy them to the new SeqRecord yourself.\n",
        " __      \n",
        " __      Using an integer index, e.g. my_record[5] is shorthand for\n",
        " __      extracting that letter from the sequence, my_record.seq[5].\n",
        " __      \n",
        " __      For example, consider this short protein and its secondary\n",
        " __      structure as encoded by the PDB (e.g. H for alpha helices),\n",
        " __      plus a simple feature for its histidine self phosphorylation\n",
        " __      site:\n",
        " __      \n",
        " __      >>> from Bio.Seq import Seq\n",
        " __      >>> from Bio.SeqRecord import SeqRecord\n",
        " __      >>> from Bio.SeqFeature import SeqFeature, FeatureLocation\n",
        " __      >>> from Bio.Alphabet import IUPAC\n",
        " __      >>> rec = SeqRecord(Seq(\"MAAGVKQLADDRTLLMAGVSHDLRTPLTRIRLAT\"\n",
        " __      ...                     \"EMMSEQDGYLAESINKDIEECNAIIEQFIDYLR\",\n",
        " __      ...                     IUPAC.protein),\n",
        " __      ...                 id=\"1JOY\", name=\"EnvZ\",\n",
        " __      ...                 description=\"Homodimeric domain of EnvZ from E. coli\")\n",
        " __      >>> rec.letter_annotations[\"secondary_structure\"] = \"  S  SSSSSSHHHHHTTTHHHHHHHHHHHHHHHHHHHHHHTHHHHHHHHHHHHHHHHHHHHHTT  \"\n",
        " __      >>> rec.features.append(SeqFeature(FeatureLocation(20, 21),\n",
        " __      ...                     type = \"Site\"))\n",
        " __      \n",
        " __      Now let's have a quick look at the full record,\n",
        " __      \n",
        " __      >>> print(rec)\n",
        " __      ID: 1JOY\n",
        " __      Name: EnvZ\n",
        " __      Description: Homodimeric domain of EnvZ from E. coli\n",
        " __      Number of features: 1\n",
        " __      Per letter annotation for: secondary_structure\n",
        " __      Seq('MAAGVKQLADDRTLLMAGVSHDLRTPLTRIRLATEMMSEQDGYLAESINKDIEE...YLR', IUPACProtein())\n",
        " __      >>> print(rec.letter_annotations[\"secondary_structure\"])\n",
        " __        S  SSSSSSHHHHHTTTHHHHHHHHHHHHHHHHHHHHHHTHHHHHHHHHHHHHHHHHHHHHTT  \n",
        " __      >>> print(rec.features[0].location)\n",
        " __      [20:21]\n",
        " __      \n",
        " __      Now let's take a sub sequence, here chosen as the first (fractured)\n",
        " __      alpha helix which includes the histidine phosphorylation site:\n",
        " __      \n",
        " __      >>> sub = rec[11:41]\n",
        " __      >>> print(sub)\n",
        " __      ID: 1JOY\n",
        " __      Name: EnvZ\n",
        " __      Description: Homodimeric domain of EnvZ from E. coli\n",
        " __      Number of features: 1\n",
        " __      Per letter annotation for: secondary_structure\n",
        " __      Seq('RTLLMAGVSHDLRTPLTRIRLATEMMSEQD', IUPACProtein())\n",
        " __      >>> print(sub.letter_annotations[\"secondary_structure\"])\n",
        " __      HHHHHTTTHHHHHHHHHHHHHHHHHHHHHH\n",
        " __      >>> print(sub.features[0].location)\n",
        " __      [9:10]\n",
        " __      \n",
        " __      You can also of course omit the start or end values, for\n",
        " __      example to get the first ten letters only:\n",
        " __      \n",
        " __      >>> print(rec[:10])\n",
        " __      ID: 1JOY\n",
        " __      Name: EnvZ\n",
        " __      Description: Homodimeric domain of EnvZ from E. coli\n",
        " __      Number of features: 0\n",
        " __      Per letter annotation for: secondary_structure\n",
        " __      Seq('MAAGVKQLAD', IUPACProtein())\n",
        " __      \n",
        " __      Or for the last ten letters:\n",
        " __      \n",
        " __      >>> print(rec[-10:])\n",
        " __      ID: 1JOY\n",
        " __      Name: EnvZ\n",
        " __      Description: Homodimeric domain of EnvZ from E. coli\n",
        " __      Number of features: 0\n",
        " __      Per letter annotation for: secondary_structure\n",
        " __      Seq('IIEQFIDYLR', IUPACProtein())\n",
        " __      \n",
        " __      If you omit both, then you get a copy of the original record (although\n",
        " __      lacking the annotations and dbxrefs):\n",
        " __      \n",
        " __      >>> print(rec[:])\n",
        " __      ID: 1JOY\n",
        " __      Name: EnvZ\n",
        " __      Description: Homodimeric domain of EnvZ from E. coli\n",
        " __      Number of features: 1\n",
        " __      Per letter annotation for: secondary_structure\n",
        " __      Seq('MAAGVKQLADDRTLLMAGVSHDLRTPLTRIRLATEMMSEQDGYLAESINKDIEE...YLR', IUPACProtein())\n",
        " __      \n",
        " __      Finally, indexing with a simple integer is shorthand for pulling out\n",
        " __      that letter from the sequence directly:\n",
        " __      \n",
        " __      >>> rec[5]\n",
        " __      'K'\n",
        " __      >>> rec.seq[5]\n",
        " __      'K'\n",
        " __  \n",
        " __  __init__(self, seq, id='<unknown id>', name='<unknown name>', description='<unknown description>', dbxrefs=None, features=None, annotations=None, letter_annotations=None)\n",
        " __      Create a SeqRecord.\n",
        " __      \n",
        " __      Arguments:\n",
        " __       - seq         - Sequence, required (Seq, MutableSeq or UnknownSeq)\n",
        " __       - id          - Sequence identifier, recommended (string)\n",
        " __       - name        - Sequence name, optional (string)\n",
        " __       - description - Sequence description, optional (string)\n",
        " __       - dbxrefs     - Database cross references, optional (list of strings)\n",
        " __       - features    - Any (sub)features, optional (list of SeqFeature objects)\n",
        " __       - annotations - Dictionary of annotations for the whole sequence\n",
        " __       - letter_annotations - Dictionary of per-letter-annotations, values\n",
        " __                              should be strings, list or tuples of the same\n",
        " __                              length as the full sequence.\n",
        " __      \n",
        " __      You will typically use Bio.SeqIO to read in sequences from files as\n",
        " __      SeqRecord objects.  However, you may want to create your own SeqRecord\n",
        " __      objects directly.\n",
        " __      \n",
        " __      Note that while an id is optional, we strongly recommend you supply a\n",
        " __      unique id string for each record.  This is especially important\n",
        " __      if you wish to write your sequences to a file.\n",
        " __      \n",
        " __      If you don't have the actual sequence, but you do know its length,\n",
        " __      then using the UnknownSeq object from Bio.Seq is appropriate.\n",
        " __      \n",
        " __      You can create a 'blank' SeqRecord object, and then populate the\n",
        " __      attributes later.\n",
        " __  \n",
        " __  __iter__(self)\n",
        " __      Iterate over the letters in the sequence.\n",
        " __      \n",
        " __      For example, using Bio.SeqIO to read in a protein FASTA file:\n",
        " __      \n",
        " __      >>> from Bio import SeqIO\n",
        " __      >>> record = SeqIO.read(\"Fasta/loveliesbleeding.pro\", \"fasta\")\n",
        " __      >>> for amino in record:\n",
        " __      ...     print(amino)\n",
        " __      ...     if amino == \"L\": break\n",
        " __      X\n",
        " __      A\n",
        " __      G\n",
        " __      L\n",
        " __      >>> print(record.seq[3])\n",
        " __      L\n",
        " __      \n",
        " __      This is just a shortcut for iterating over the sequence directly:\n",
        " __      \n",
        " __      >>> for amino in record.seq:\n",
        " __      ...     print(amino)\n",
        " __      ...     if amino == \"L\": break\n",
        " __      X\n",
        " __      A\n",
        " __      G\n",
        " __      L\n",
        " __      >>> print(record.seq[3])\n",
        " __      L\n",
        " __      \n",
        " __      Note that this does not facilitate iteration together with any\n",
        " __      per-letter-annotation.  However, you can achieve that using the\n",
        " __      python zip function on the record (or its sequence) and the relevant\n",
        " __      per-letter-annotation:\n",
        " __      \n",
        " __      >>> from Bio import SeqIO\n",
        " __      >>> rec = SeqIO.read(\"Quality/solexa_faked.fastq\", \"fastq-solexa\")\n",
        " __      >>> print(\"%s %s\" % (rec.id, rec.seq))\n",
        " __      slxa_0001_1_0001_01 ACGTACGTACGTACGTACGTACGTACGTACGTACGTACGTNNNNNN\n",
        " __      >>> print(list(rec.letter_annotations))\n",
        " __      ['solexa_quality']\n",
        " __      >>> for nuc, qual in zip(rec, rec.letter_annotations[\"solexa_quality\"]):\n",
        " __      ...     if qual > 35:\n",
        " __      ...         print(\"%s %i\" % (nuc, qual))\n",
        " __      A 40\n",
        " __      C 39\n",
        " __      G 38\n",
        " __      T 37\n",
        " __      A 36\n",
        " __      \n",
        " __      You may agree that using zip(rec.seq, ...) is more explicit than using\n",
        " __      zip(rec, ...) as shown above.\n",
        " __  \n",
        " __  __len__(self)\n",
        " __      Returns the length of the sequence.\n",
        " __      \n",
        " __      For example, using Bio.SeqIO to read in a FASTA nucleotide file:\n",
        " __      \n",
        " __      >>> from Bio import SeqIO\n",
        " __      >>> record = SeqIO.read(\"Fasta/sweetpea.nu\", \"fasta\")\n",
        " __      >>> len(record)\n",
        " __      309\n",
        " __      >>> len(record.seq)\n",
        " __      309\n",
        " __  \n",
        " __  __nonzero__ = __bool__(self)\n",
        " __  \n",
        " __  __radd__(self, other)\n",
        " __      Add another sequence or string to this sequence (from the left).\n",
        " __      \n",
        " __      This method handles adding a Seq object (or similar, e.g. MutableSeq)\n",
        " __      or a plain Python string (on the left) to a SeqRecord (on the right).\n",
        " __      See the __add__ method for more details, but for example:\n",
        " __      \n",
        " __      >>> from Bio import SeqIO\n",
        " __      >>> record = SeqIO.read(\"Quality/solexa_faked.fastq\", \"fastq-solexa\")\n",
        " __      >>> print(\"%s %s\" % (record.id, record.seq))\n",
        " __      slxa_0001_1_0001_01 ACGTACGTACGTACGTACGTACGTACGTACGTACGTACGTNNNNNN\n",
        " __      >>> print(list(record.letter_annotations))\n",
        " __      ['solexa_quality']\n",
        " __      \n",
        " __      >>> new = \"ACT\" + record\n",
        " __      >>> print(\"%s %s\" % (new.id, new.seq))\n",
        " __      slxa_0001_1_0001_01 ACTACGTACGTACGTACGTACGTACGTACGTACGTACGTACGTNNNNNN\n",
        " __      >>> print(list(new.letter_annotations))\n",
        " __      []\n",
        " __  \n",
        " __  __repr__(self)\n",
        " __      A concise summary of the record for debugging (string).\n",
        " __      \n",
        " __      The python built in function repr works by calling the object's ___repr__\n",
        " __      method.  e.g.\n",
        " __      \n",
        " __      >>> from Bio.Seq import Seq\n",
        " __      >>> from Bio.SeqRecord import SeqRecord\n",
        " __      >>> from Bio.Alphabet import generic_protein\n",
        " __      >>> rec = SeqRecord(Seq(\"MASRGVNKVILVGNLGQDPEVRYMPNGGAVANITLATSESWRDKAT\"\n",
        " __      ...                    +\"GEMKEQTEWHRVVLFGKLAEVASEYLRKGSQVYIEGQLRTRKWTDQ\"\n",
        " __      ...                    +\"SGQDRYTTEVVVNVGGTMQMLGGRQGGGAPAGGNIGGGQPQGGWGQ\"\n",
        " __      ...                    +\"PQQPQGGNQFSGGAQSRPQQSAPAAPSNEPPMDFDDDIPF\",\n",
        " __      ...                    generic_protein),\n",
        " __      ...                 id=\"NP_418483.1\", name=\"b4059\",\n",
        " __      ...                 description=\"ssDNA-binding protein\",\n",
        " __      ...                 dbxrefs=[\"ASAP:13298\", \"GI:16131885\", \"GeneID:948570\"])\n",
        " __      >>> print(repr(rec))\n",
        " __      SeqRecord(seq=Seq('MASRGVNKVILVGNLGQDPEVRYMPNGGAVANITLATSESWRDKATGEMKEQTE...IPF', ProteinAlphabet()), id='NP_418483.1', name='b4059', description='ssDNA-binding protein', dbxrefs=['ASAP:13298', 'GI:16131885', 'GeneID:948570'])\n",
        " __      \n",
        " __      At the python prompt you can also use this shorthand:\n",
        " __      \n",
        " __      >>> rec\n",
        " __      SeqRecord(seq=Seq('MASRGVNKVILVGNLGQDPEVRYMPNGGAVANITLATSESWRDKATGEMKEQTE...IPF', ProteinAlphabet()), id='NP_418483.1', name='b4059', description='ssDNA-binding protein', dbxrefs=['ASAP:13298', 'GI:16131885', 'GeneID:948570'])\n",
        " __      \n",
        " __      Note that long sequences are shown truncated. Also note that any\n",
        " __      annotations, letter_annotations and features are not shown (as they\n",
        " __      would lead to a very long string).\n",
        " __  \n",
        " __  __str__(self)\n",
        " __      A human readable summary of the record and its annotation (string).\n",
        " __      \n",
        " __      The python built in function str works by calling the object's ___str__\n",
        " __      method.  e.g.\n",
        " __      \n",
        " __      >>> from Bio.Seq import Seq\n",
        " __      >>> from Bio.SeqRecord import SeqRecord\n",
        " __      >>> from Bio.Alphabet import IUPAC\n",
        " __      >>> record = SeqRecord(Seq(\"MKQHKAMIVALIVICITAVVAALVTRKDLCEVHIRTGQTEVAVF\",\n",
        " __      ...                         IUPAC.protein),\n",
        " __      ...                    id=\"YP_025292.1\", name=\"HokC\",\n",
        " __      ...                    description=\"toxic membrane protein, small\")\n",
        " __      >>> print(str(record))\n",
        " __      ID: YP_025292.1\n",
        " __      Name: HokC\n",
        " __      Description: toxic membrane protein, small\n",
        " __      Number of features: 0\n",
        " __      Seq('MKQHKAMIVALIVICITAVVAALVTRKDLCEVHIRTGQTEVAVF', IUPACProtein())\n",
        " __      \n",
        " __      In this example you don't actually need to call str explicity, as the\n",
        " __      print command does this automatically:\n",
        " __      \n",
        " __      >>> print(record)\n",
        " __      ID: YP_025292.1\n",
        " __      Name: HokC\n",
        " __      Description: toxic membrane protein, small\n",
        " __      Number of features: 0\n",
        " __      Seq('MKQHKAMIVALIVICITAVVAALVTRKDLCEVHIRTGQTEVAVF', IUPACProtein())\n",
        " __      \n",
        " __      Note that long sequences are shown truncated.\n",
        " __  \n",
        " __  format(self, format)\n",
        " __      Returns the record as a string in the specified file format.\n",
        " __      \n",
        " __      The format should be a lower case string supported as an output\n",
        " __      format by Bio.SeqIO, which is used to turn the SeqRecord into a\n",
        " __      string.  e.g.\n",
        " __      \n",
        " __      >>> from Bio.Seq import Seq\n",
        " __      >>> from Bio.SeqRecord import SeqRecord\n",
        " __      >>> from Bio.Alphabet import IUPAC\n",
        " __      >>> record = SeqRecord(Seq(\"MKQHKAMIVALIVICITAVVAALVTRKDLCEVHIRTGQTEVAVF\",\n",
        " __      ...                         IUPAC.protein),\n",
        " __      ...                    id=\"YP_025292.1\", name=\"HokC\",\n",
        " __      ...                    description=\"toxic membrane protein\")\n",
        " __      >>> record.format(\"fasta\")\n",
        " __      '>YP_025292.1 toxic membrane protein\\nMKQHKAMIVALIVICITAVVAALVTRKDLCEVHIRTGQTEVAVF\\n'\n",
        " __      >>> print(record.format(\"fasta\"))\n",
        " __      >YP_025292.1 toxic membrane protein\n",
        " __      MKQHKAMIVALIVICITAVVAALVTRKDLCEVHIRTGQTEVAVF\n",
        " __      <BLANKLINE>\n",
        " __      \n",
        " __      The python print command automatically appends a new line, meaning\n",
        " __      in this example a blank line is shown.  If you look at the string\n",
        " __      representation you can see there is a trailing new line (shown as\n",
        " __      slash n) which is important when writing to a file or if\n",
        " __      concatenating multiple sequence strings together.\n",
        " __      \n",
        " __      Note that this method will NOT work on every possible file format\n",
        " __      supported by Bio.SeqIO (e.g. some are for multiple sequences only).\n",
        " __  \n",
        " __  lower(self)\n",
        " __      Returns a copy of the record with a lower case sequence.\n",
        " __      \n",
        " __      All the annotation is preserved unchanged. e.g.\n",
        " __      \n",
        " __      >>> from Bio import SeqIO\n",
        " __      >>> record = SeqIO.read(\"Fasta/aster.pro\", \"fasta\")\n",
        " __      >>> print(record.format(\"fasta\"))\n",
        " __      >gi|3298468|dbj|BAA31520.1__ SAMIPF\n",
        " __      GGHVNPAVTFGAFVGGNITLLRGIVYIIAQLLGSTVACLLLKFVTNDMAVGVFSLSAGVG\n",
        " __      VTNALVFEIVMTFGLVYTVYATAIDPKKGSLGTIAPIAIGFIVGANI\n",
        " __      <BLANKLINE>\n",
        " __      >>> print(record.lower().format(\"fasta\"))\n",
        " __      >gi|3298468|dbj|BAA31520.1__ SAMIPF\n",
        " __      gghvnpavtfgafvggnitllrgivyiiaqllgstvaclllkfvtndmavgvfslsagvg\n",
        " __      vtnalvfeivmtfglvytvyataidpkkgslgtiapiaigfivgani\n",
        " __      <BLANKLINE>\n",
        " __      \n",
        " __      To take a more annotation rich example,\n",
        " __      \n",
        " __      >>> from Bio import SeqIO\n",
        " __      >>> old = SeqIO.read(\"EMBL/TRBG361.embl\", \"embl\")\n",
        " __      >>> len(old.features)\n",
        " __      3\n",
        " __      >>> new = old.lower()\n",
        " __      >>> len(old.features) == len(new.features)\n",
        " __      True\n",
        " __      >>> old.annotations[\"organism\"] == new.annotations[\"organism\"]\n",
        " __      True\n",
        " __      >>> old.dbxrefs == new.dbxrefs\n",
        " __      True\n",
        " __  \n",
        " __  reverse_complement(self, id=False, name=False, description=False, features=True, annotations=False, letter_annotations=True, dbxrefs=False)\n",
        " __      Returns new SeqRecord with reverse complement sequence.\n",
        " __      \n",
        " __      You can specify the returned record's id, name and description as\n",
        " __      strings, or True to keep that of the parent, or False for a default.\n",
        " __      \n",
        " __      You can specify the returned record's features with a list of\n",
        " __      SeqFeature objects, or True to keep that of the parent, or False to\n",
        " __      omit them. The default is to keep the original features (with the\n",
        " __      strand and locations adjusted).\n",
        " __      \n",
        " __      You can also specify both the returned record's annotations and\n",
        " __      letter_annotations as dictionaries, True to keep that of the parent,\n",
        " __      or False to omit them. The default is to keep the original\n",
        " __      annotations (with the letter annotations reversed).\n",
        " __      \n",
        " __      To show what happens to the pre-letter annotations, consider an\n",
        " __      example Solexa variant FASTQ file with a single entry, which we'll\n",
        " __      read in as a SeqRecord:\n",
        " __      \n",
        " __      >>> from Bio import SeqIO\n",
        " __      >>> record = SeqIO.read(\"Quality/solexa_faked.fastq\", \"fastq-solexa\")\n",
        " __      >>> print(\"%s %s\" % (record.id, record.seq))\n",
        " __      slxa_0001_1_0001_01 ACGTACGTACGTACGTACGTACGTACGTACGTACGTACGTNNNNNN\n",
        " __      >>> print(list(record.letter_annotations))\n",
        " __      ['solexa_quality']\n",
        " __      >>> print(record.letter_annotations[\"solexa_quality\"])\n",
        " __      [40, 39, 38, 37, 36, 35, 34, 33, 32, 31, 30, 29, 28, 27, 26, 25, 24, 23, 22, 21, 20, 19, 18, 17, 16, 15, 14, 13, 12, 11, 10, 9, 8, 7, 6, 5, 4, 3, 2, 1, 0, -1, -2, -3, -4, -5]\n",
        " __      \n",
        " __      Now take the reverse complement,\n",
        " __      \n",
        " __      >>> rc_record = record.reverse_complement(id=record.id+\"_rc\")\n",
        " __      >>> print(\"%s %s\" % (rc_record.id, rc_record.seq))\n",
        " __      slxa_0001_1_0001_01_rc NNNNNNACGTACGTACGTACGTACGTACGTACGTACGTACGTACGT\n",
        " __      \n",
        " __      Notice that the per-letter-annotations have also been reversed,\n",
        " __      although this may not be appropriate for all cases.\n",
        " __      \n",
        " __      >>> print(rc_record.letter_annotations[\"solexa_quality\"])\n",
        " __      [-5, -4, -3, -2, -1, 0, 1, 2, 3, 4, 5, 6, 7, 8, 9, 10, 11, 12, 13, 14, 15, 16, 17, 18, 19, 20, 21, 22, 23, 24, 25, 26, 27, 28, 29, 30, 31, 32, 33, 34, 35, 36, 37, 38, 39, 40]\n",
        " __      \n",
        " __      Now for the features, we need a different example. Parsing a GenBank\n",
        " __      file is probably the easiest way to get an nice example with features\n",
        " __      in it...\n",
        " __      \n",
        " __      >>> from Bio import SeqIO\n",
        " __      >>> with open(\"GenBank/pBAD30.gb\") as handle:\n",
        " __      ...     plasmid = SeqIO.read(handle, \"gb\")\n",
        " __      >>> print(\"%s %i\" % (plasmid.id, len(plasmid)))\n",
        " __      pBAD30 4923\n",
        " __      >>> plasmid.seq\n",
        " __      Seq('GCTAGCGGAGTGTATACTGGCTTACTATGTTGGCACTGATGAGGGTGTCAGTGA...ATG', IUPACAmbiguousDNA())\n",
        " __      >>> len(plasmid.features)\n",
        " __      13\n",
        " __      \n",
        " __      Now, let's take the reverse complement of this whole plasmid:\n",
        " __      \n",
        " __      >>> rc_plasmid = plasmid.reverse_complement(id=plasmid.id+\"_rc\")\n",
        " __      >>> print(\"%s %i\" % (rc_plasmid.id, len(rc_plasmid)))\n",
        " __      pBAD30_rc 4923\n",
        " __      >>> rc_plasmid.seq\n",
        " __      Seq('CATGGGCAAATATTATACGCAAGGCGACAAGGTGCTGATGCCGCTGGCGATTCA...AGC', IUPACAmbiguousDNA())\n",
        " __      >>> len(rc_plasmid.features)\n",
        " __      13\n",
        " __      \n",
        " __      Let's compare the first CDS feature - it has gone from being the\n",
        " __      second feature (index 1) to the second last feature (index -2), its\n",
        " __      strand has changed, and the location switched round.\n",
        " __      \n",
        " __      >>> print(plasmid.features[1])\n",
        " __      type: CDS\n",
        " __      location: [1081:1960](-)\n",
        " __      qualifiers: \n",
        " __          Key: label, Value: ['araC']\n",
        " __          Key: note, Value: ['araC regulator of the arabinose BAD promoter']\n",
        " __          Key: vntifkey, Value: ['4']\n",
        " __      <BLANKLINE>\n",
        " __      >>> print(rc_plasmid.features[-2])\n",
        " __      type: CDS\n",
        " __      location: [2963:3842](+)\n",
        " __      qualifiers: \n",
        " __          Key: label, Value: ['araC']\n",
        " __          Key: note, Value: ['araC regulator of the arabinose BAD promoter']\n",
        " __          Key: vntifkey, Value: ['4']\n",
        " __      <BLANKLINE>\n",
        " __      \n",
        " __      You can check this new location, based on the length of the plasmid:\n",
        " __      \n",
        " __      >>> len(plasmid) - 1081\n",
        " __      3842\n",
        " __      >>> len(plasmid) - 1960\n",
        " __      2963\n",
        " __      \n",
        " __      Note that if the SeqFeature annotation includes any strand specific\n",
        " __      information (e.g. base changes for a SNP), this information is not\n",
        " __      ammended, and would need correction after the reverse complement.\n",
        " __      \n",
        " __      Note trying to reverse complement a protein SeqRecord raises an\n",
        " __      exception:\n",
        " __      \n",
        " __      >>> from Bio.SeqRecord import SeqRecord\n",
        " __      >>> from Bio.Seq import Seq\n",
        " __      >>> from Bio.Alphabet import IUPAC\n",
        " __      >>> protein_rec = SeqRecord(Seq(\"MAIVMGR\", IUPAC.protein), id=\"Test\")\n",
        " __      >>> protein_rec.reverse_complement()\n",
        " __      Traceback (most recent call last):\n",
        " __         ...\n",
        " __      ValueError: Proteins do not have complements!\n",
        " __      \n",
        " __      Also note you can reverse complement a SeqRecord using a MutableSeq:\n",
        " __      \n",
        " __      >>> from Bio.SeqRecord import SeqRecord\n",
        " __      >>> from Bio.Seq import MutableSeq\n",
        " __      >>> from Bio.Alphabet import generic_dna\n",
        " __      >>> rec = SeqRecord(MutableSeq(\"ACGT\", generic_dna), id=\"Test\")\n",
        " __      >>> rec.seq[0] = \"T\"\n",
        " __      >>> print(\"%s %s\" % (rec.id, rec.seq))\n",
        " __      Test TCGT\n",
        " __      >>> rc = rec.reverse_complement(id=True)\n",
        " __      >>> print(\"%s %s\" % (rc.id, rc.seq))\n",
        " __      Test ACGA\n",
        " __  \n",
        " __  upper(self)\n",
        " __      Returns a copy of the record with an upper case sequence.\n",
        " __      \n",
        " __      All the annotation is preserved unchanged. e.g.\n",
        " __      \n",
        " __      >>> from Bio.Alphabet import generic_dna\n",
        " __      >>> from Bio.Seq import Seq\n",
        " __      >>> from Bio.SeqRecord import SeqRecord\n",
        " __      >>> record = SeqRecord(Seq(\"acgtACGT\", generic_dna), id=\"Test\",\n",
        " __      ...                    description = \"Made up for this example\")\n",
        " __      >>> record.letter_annotations[\"phred_quality\"] = [1, 2, 3, 4, 5, 6, 7, 8]\n",
        " __      >>> print(record.upper().format(\"fastq\"))\n",
        " __      @Test Made up for this example\n",
        " __      ACGTACGT\n",
        " __      +\n",
        " __      \"#$%&'()\n",
        " __      <BLANKLINE>\n",
        " __      \n",
        " __      Naturally, there is a matching lower method:\n",
        " __      \n",
        " __      >>> print(record.lower().format(\"fastq\"))\n",
        " __      @Test Made up for this example\n",
        " __      acgtacgt\n",
        " __      +\n",
        " __      \"#$%&'()\n",
        " __      <BLANKLINE>\n",
        " __  \n",
        " __  ----------------------------------------------------------------------\n",
        " __  Data descriptors defined here:\n",
        " __  \n",
        " __  __dict__\n",
        " __      dictionary for instance variables (if defined)\n",
        " __  \n",
        " __  __weakref__\n",
        " __      list of weak references to the object (if defined)\n",
        " __  \n",
        " __  letter_annotations\n",
        " __      Dictionary of per-letter-annotation for the sequence.\n",
        " __      \n",
        " __      For example, this can hold quality scores used in FASTQ or QUAL files.\n",
        " __      Consider this example using Bio.SeqIO to read in an example Solexa\n",
        " __      variant FASTQ file as a SeqRecord:\n",
        " __      \n",
        " __      >>> from Bio import SeqIO\n",
        " __      >>> record = SeqIO.read(\"Quality/solexa_faked.fastq\", \"fastq-solexa\")\n",
        " __      >>> print(\"%s %s\" % (record.id, record.seq))\n",
        " __      slxa_0001_1_0001_01 ACGTACGTACGTACGTACGTACGTACGTACGTACGTACGTNNNNNN\n",
        " __      >>> print(list(record.letter_annotations))\n",
        " __      ['solexa_quality']\n",
        " __      >>> print(record.letter_annotations[\"solexa_quality\"])\n",
        " __      [40, 39, 38, 37, 36, 35, 34, 33, 32, 31, 30, 29, 28, 27, 26, 25, 24, 23, 22, 21, 20, 19, 18, 17, 16, 15, 14, 13, 12, 11, 10, 9, 8, 7, 6, 5, 4, 3, 2, 1, 0, -1, -2, -3, -4, -5]\n",
        " __      \n",
        " __      The letter_annotations get sliced automatically if you slice the\n",
        " __      parent SeqRecord, for example taking the last ten bases:\n",
        " __      \n",
        " __      >>> sub_record = record[-10:]\n",
        " __      >>> print(\"%s %s\" % (sub_record.id, sub_record.seq))\n",
        " __      slxa_0001_1_0001_01 ACGTNNNNNN\n",
        " __      >>> print(sub_record.letter_annotations[\"solexa_quality\"])\n",
        " __      [4, 3, 2, 1, 0, -1, -2, -3, -4, -5]\n",
        " __      \n",
        " __      Any python sequence (i.e. list, tuple or string) can be recorded in\n",
        " __      the SeqRecord's letter_annotations dictionary as long as the length\n",
        " __      matches that of the SeqRecord's sequence.  e.g.\n",
        " __      \n",
        " __      >>> len(sub_record.letter_annotations)\n",
        " __      1\n",
        " __      >>> sub_record.letter_annotations[\"dummy\"] = \"abcdefghij\"\n",
        " __      >>> len(sub_record.letter_annotations)\n",
        " __      2\n",
        " __      \n",
        " __      You can delete entries from the letter_annotations dictionary as usual:\n",
        " __      \n",
        " __      >>> del sub_record.letter_annotations[\"solexa_quality\"]\n",
        " __      >>> sub_record.letter_annotations\n",
        " __      {'dummy': 'abcdefghij'}\n",
        " __      \n",
        " __      You can completely clear the dictionary easily as follows:\n",
        " __      \n",
        " __      >>> sub_record.letter_annotations = {}\n",
        " __      >>> sub_record.letter_annotations\n",
        " __      {}\n",
        " __  \n",
        " __  seq\n",
        " __      The sequence itself, as a Seq or MutableSeq object.\n",
        "\n"
       ]
      }
     ],
     "prompt_number": 1
    },
    {
     "cell_type": "heading",
     "level": 2,
     "metadata": {},
     "source": [
      "The SeqRecord Object"
     ]
    },
    {
     "cell_type": "markdown",
     "metadata": {},
     "source": [
      "The __SeqRecord__ (Sequence Record) class is defined in the __Bio.SeqRecord__ module. This class allows higher level features such as identifiers and features to be associated with a sequence (see Chapter~\\ref{chapter:Bio.Seq}), and is the basic data type for the __Bio.SeqIO__ sequence input/output interface (see Chapter~\\ref{chapter:Bio.SeqIO}).\n",
      "\n",
      "The __SeqRecord__ class itself is quite simple, and offers the following information as attributes:\n",
      "\n",
      "\\begin{description}\n",
      "  \\item[.seq] -- The sequence itself, typically a __Seq__ object.\n",
      "\n",
      "  \\item[.id] -- The primary ID used to identify the sequence -- a string. In most cases this is something like an accession number.\n",
      "\n",
      "  \\item[.name] -- A ``common'' name/id for the sequence -- a string. In some cases this will be the same as the accession number, but it could also be a clone name. I think of this as being analogous to the LOCUS id in a GenBank record.\n",
      "\n",
      "  \\item[.description] -- A human readable description or expressive name for the sequence -- a string.\n",
      "  \n",
      "  \\item[.letter\\_annotations] -- Holds per-letter-annotations using a (restricted) dictionary of additional information about the letters in the sequence. The keys are the name of the information, and the information is contained in the value as a Python sequence (i.e. a list, tuple or string) with the same length as the sequence itself.  This is often used for quality scores (e.g. Section~\\ref{sec:FASTQ-filtering-example}) or secondary structure information (e.g. from Stockholm/PFAM alignment files).\n",
      "\n",
      "  \\item[.annotations] -- A dictionary of additional information about the sequence. The keys are the name of the information, and the information is contained in the value. This allows the addition of more ``unstructured'' information to the sequence.\n",
      "  \n",
      "  \\item[.features] -- A list of __SeqFeature__ objects with more structured information about the features on a sequence (e.g. position of genes on a genome, or domains on a protein sequence). The structure of sequence features is described below in Section~\\ref{sec:seq_features}.\n",
      "  \n",
      "  \\item[.dbxrefs] - A list of database cross-references as strings.\n",
      "\\end{description}"
     ]
    },
    {
     "cell_type": "heading",
     "level": 2,
     "metadata": {},
     "source": [
      "Creating a SeqRecord"
     ]
    },
    {
     "cell_type": "markdown",
     "metadata": {},
     "source": [
      "Using a __SeqRecord__ object is not very complicated, since all of the\n",
      "information is presented as attributes of the class. Usually you won't create\n",
      "a __SeqRecord__ ``by hand'', but instead use __Bio.SeqIO__ to read in a\n",
      "sequence file for you (see Chapter~\\ref{chapter:Bio.SeqIO} and the examples\n",
      "below).  However, creating __SeqRecord__ can be quite simple."
     ]
    },
    {
     "cell_type": "heading",
     "level": 3,
     "metadata": {},
     "source": [
      "SeqRecord objects from scratch"
     ]
    },
    {
     "cell_type": "markdown",
     "metadata": {},
     "source": [
      "To create a __SeqRecord__ at a minimum you just need a __Seq__ object:"
     ]
    },
    {
     "cell_type": "code",
     "collapsed": false,
     "input": [
      "from Bio.Seq import Seq\n",
      "simple_seq = Seq(\"GATC\")\n",
      "from Bio.SeqRecord import SeqRecord\n",
      "simple_seq_r = SeqRecord(simple_seq)\n"
     ],
     "language": "python",
     "metadata": {},
     "outputs": [],
     "prompt_number": 2
    },
    {
     "cell_type": "markdown",
     "metadata": {},
     "source": [
      "Additionally, you can also pass the id, name and description to the initialization function, but if not they will be set as strings indicating they are unknown, and can be modified subsequently:"
     ]
    },
    {
     "cell_type": "code",
     "collapsed": false,
     "input": [
      "simple_seq_r.id\n",
      "simple_seq_r.id = \"AC12345\"\n",
      "simple_seq_r.description = \"Made up sequence I wish I could write a paper about\"\n",
      "print(simple_seq_r.description)\n",
      "simple_seq_r.seq"
     ],
     "language": "python",
     "metadata": {},
     "outputs": [
      {
       "output_type": "stream",
       "stream": "stdout",
       "text": [
        "Made up sequence I wish I could write a paper about\n"
       ]
      },
      {
       "metadata": {},
       "output_type": "pyout",
       "prompt_number": 4,
       "text": [
        "Seq('GATC', Alphabet())"
       ]
      }
     ],
     "prompt_number": 4
    },
    {
     "cell_type": "markdown",
     "metadata": {},
     "source": [
      "Including an identifier is very important if you want to output your __SeqRecord__ to a file.  You would normally include this when creating the object:\n"
     ]
    },
    {
     "cell_type": "code",
     "collapsed": false,
     "input": [
      "from Bio.Seq import Seq\n",
      "simple_seq = Seq(\"GATC\")\n",
      "from Bio.SeqRecord import SeqRecord\n",
      "simple_seq_r = SeqRecord(simple_seq, id=\"AC12345\")\n"
     ],
     "language": "python",
     "metadata": {},
     "outputs": [],
     "prompt_number": 5
    },
    {
     "cell_type": "markdown",
     "metadata": {},
     "source": [
      "As mentioned above, the __SeqRecord__ has an dictionary attribute __annotations|. This is used\n",
      "for any miscellaneous annotations that doesn't fit under one of the other more specific attributes.\n",
      "Adding annotations is easy, and just involves dealing directly with the annotation dictionary:\n"
     ]
    },
    {
     "cell_type": "code",
     "collapsed": false,
     "input": [
      "simple_seq_r.annotations[\"evidence\"] = \"None. I just made it up.\"\n",
      "print(simple_seq_r.annotations)\n",
      "print(simple_seq_r.annotations[\"evidence\"])"
     ],
     "language": "python",
     "metadata": {},
     "outputs": [
      {
       "output_type": "stream",
       "stream": "stdout",
       "text": [
        "{'evidence': 'None. I just made it up.'}\n",
        "None. I just made it up.\n"
       ]
      }
     ],
     "prompt_number": 11
    },
    {
     "cell_type": "markdown",
     "metadata": {},
     "source": [
      "Working with per-letter-annotations is similar, __letter_annotations__ is a\n",
      "dictionary like attribute which will let you assign any Python sequence (i.e.\n",
      "a string, list or tuple) which has the same length as the sequence:\n"
     ]
    },
    {
     "cell_type": "code",
     "collapsed": false,
     "input": [
      "simple_seq_r.letter_annotations[\"phred_quality\"] = [40, 40, 38, 30]\n",
      "print(simple_seq_r.letter_annotations)\n",
      "#{'phred_quality': [40, 40, 38, 30]}\n",
      "print(simple_seq_r.letter_annotations[\"phred_quality\"])\n",
      "#[40, 40, 38, 30]\n"
     ],
     "language": "python",
     "metadata": {},
     "outputs": [
      {
       "output_type": "stream",
       "stream": "stdout",
       "text": [
        "{'phred_quality': [40, 40, 38, 30]}\n",
        "[40, 40, 38, 30]\n"
       ]
      }
     ],
     "prompt_number": 12
    },
    {
     "cell_type": "markdown",
     "metadata": {},
     "source": [
      "The __dbxrefs__ and __features__ attributes are just Python lists, and\n",
      "should be used to store strings and __SeqFeature__ objects (discussed later\n",
      "in this chapter) respectively.\n"
     ]
    },
    {
     "cell_type": "heading",
     "level": 3,
     "metadata": {},
     "source": [
      "SeqRecord objects from FASTA files"
     ]
    },
    {
     "cell_type": "markdown",
     "metadata": {},
     "source": [
      "This example uses a fairly large FASTA file containing the whole sequence for \\textit{Yersinia pestis biovar Microtus} str. 91001 plasmid pPCP1, originally downloaded from the NCBI.  This file is included with the Biopython unit tests under the GenBank folder, or online \\href{http://biopython.org/SRC/biopython/Tests/GenBank/NC_005816.fna}{\\texttt{NC\\_005816.fna}} from our website.\n",
      "\n",
      "The file starts like this - and you can check there is only one record present (i.e. only one line starting with a greater than symbol):\n",
      "\n",
      "\\begin{verbatim}\n",
      ">gi|45478711|ref|NC_005816.1__ Yersinia pestis biovar Microtus ... pPCP1, complete sequence\n",
      "TGTAACGAACGGTGCAATAGTGATCCACACCCAACGCCTGAAATCAGATCCAGGGGGTAATCTGCTCTCC\n",
      "...\n",
      "\\end{verbatim}\n",
      "\n",
      "Back in Chapter~\\ref{chapter:quick-start} you will have seen the function __Bio.SeqIO.parse(...)|\n",
      "used to loop over all the records in a file as __SeqRecord__ objects. The __Bio.SeqIO__ module\n",
      "has a sister function for use on files which contain just one record which we'll use here (see Chapter~\\ref{chapter:Bio.SeqIO} for details):\n"
     ]
    },
    {
     "cell_type": "code",
     "collapsed": false,
     "input": [
      "from Bio import SeqIO\n",
      "from Bio.Alphabet import SingleLetterAlphabet\n",
      "record = SeqIO.read(\"data/NC_005816.fna\", \"fasta\")\n",
      "#record\n",
      "SeqRecord(seq=Seq('TGTAACGAACGGTGCAATAGTGATCCACACCCAACGCCTGAAATCAGATCCAGG...CTG',\n",
      "SingleLetterAlphabet()), id='gi|45478711|ref|NC_005816.1|', name='gi|45478711|ref|NC_005816.1|',\n",
      "description='gi|45478711|ref|NC_005816.1__ Yersinia pestis biovar Microtus ... sequence',\n",
      "dbxrefs=[])"
     ],
     "language": "python",
     "metadata": {},
     "outputs": [
      {
       "metadata": {},
       "output_type": "pyout",
       "prompt_number": 19,
       "text": [
        "SeqRecord(seq=Seq('TGTAACGAACGGTGCAATAGTGATCCACACCCAACGCCTGAAATCAGATCCAGG...CTG', SingleLetterAlphabet()), id='gi|45478711|ref|NC_005816.1|', name='gi|45478711|ref|NC_005816.1|', description='gi|45478711|ref|NC_005816.1__ Yersinia pestis biovar Microtus ... sequence', dbxrefs=[])"
       ]
      }
     ],
     "prompt_number": 19
    },
    {
     "cell_type": "markdown",
     "metadata": {},
     "source": [
      "Now, let's have a look at the key attributes of this __SeqRecord|\n",
      "individually -- starting with the __seq__ attribute which gives you a\n",
      "__Seq__ object:"
     ]
    },
    {
     "cell_type": "code",
     "collapsed": false,
     "input": [
      "record.seq\n",
      "Seq('TGTAACGAACGGTGCAATAGTGATCCACACCCAACGCCTGAAATCAGATCCAGG...CTG', SingleLetterAlphabet())\n"
     ],
     "language": "python",
     "metadata": {},
     "outputs": [
      {
       "metadata": {},
       "output_type": "pyout",
       "prompt_number": 20,
       "text": [
        "Seq('TGTAACGAACGGTGCAATAGTGATCCACACCCAACGCCTGAAATCAGATCCAGG...CTG', SingleLetterAlphabet())"
       ]
      }
     ],
     "prompt_number": 20
    },
    {
     "cell_type": "markdown",
     "metadata": {},
     "source": [
      "Here __Bio.SeqIO__ has defaulted to a generic alphabet, rather\n",
      "than guessing that this is DNA. If you know in advance what kind of sequence\n",
      "your FASTA file contains, you can tell __Bio.SeqIO__ which alphabet to use\n",
      "(see Chapter~\\ref{chapter:Bio.SeqIO}).\n",
      "\n",
      "Next, the identifiers and description:"
     ]
    },
    {
     "cell_type": "code",
     "collapsed": false,
     "input": [
      "record.id\n",
      "#'gi|45478711|ref|NC_005816.1|'\n",
      "record.name\n",
      "#'gi|45478711|ref|NC_005816.1|'\n",
      "record.description\n",
      "#'gi|45478711|ref|NC_005816.1__ Yersinia pestis biovar Microtus ... pPCP1, complete sequence'"
     ],
     "language": "python",
     "metadata": {},
     "outputs": [
      {
       "metadata": {},
       "output_type": "pyout",
       "prompt_number": 21,
       "text": [
        "'gi|45478711|ref|NC_005816.1__ Yersinia pestis biovar Microtus str. 91001 plasmid pPCP1, complete sequence'"
       ]
      }
     ],
     "prompt_number": 21
    },
    {
     "cell_type": "markdown",
     "metadata": {},
     "source": [
      "As you can see above, the first word of the FASTA record's title line (after\n",
      "removing the greater than symbol) is used for both the __id__ and\n",
      "__name__ attributes. The whole title line (after removing the greater than\n",
      "symbol) is used for the record description. This is deliberate, partly for\n",
      "backwards compatibility reasons, but it also makes sense if you have a FASTA\n",
      "file like this:\n",
      "\n",
      "\\begin{verbatim}\n",
      ">Yersinia pestis biovar Microtus str. 91001 plasmid pPCP1\n",
      "TGTAACGAACGGTGCAATAGTGATCCACACCCAACGCCTGAAATCAGATCCAGGGGGTAATCTGCTCTCC\n",
      "...\n",
      "\\end{verbatim}\n",
      "\n",
      "Note that none of the other annotation attributes get populated when reading a\n",
      "FASTA file:\n"
     ]
    },
    {
     "cell_type": "code",
     "collapsed": false,
     "input": [
      "record.dbxrefs\n",
      "#[]\n",
      "record.annotations\n",
      "#{}\n",
      "record.letter_annotations\n",
      "#{}\n",
      "record.features\n",
      "#[]"
     ],
     "language": "python",
     "metadata": {},
     "outputs": [
      {
       "metadata": {},
       "output_type": "pyout",
       "prompt_number": 23,
       "text": [
        "[]"
       ]
      }
     ],
     "prompt_number": 23
    },
    {
     "cell_type": "markdown",
     "metadata": {},
     "source": [
      "In this case our example FASTA file was from the NCBI, and they have a fairly well defined set of conventions for formatting their FASTA lines. This means it would be possible to parse this information and extract the GI number and accession for example. However, FASTA files from other sources vary, so this isn't possible in general.\n"
     ]
    },
    {
     "cell_type": "heading",
     "level": 3,
     "metadata": {},
     "source": [
      "SeqRecord objects from GenBank files"
     ]
    },
    {
     "cell_type": "markdown",
     "metadata": {},
     "source": [
      "As in the previous example, we're going to look at the whole sequence for \\textit{Yersinia pestis biovar Microtus} str. 91001 plasmid pPCP1, originally downloaded from the NCBI, but this time as a GenBank file.\n",
      "Again, this file is included with the Biopython unit tests under the GenBank folder, or online \\href{http://biopython.org/SRC/biopython/Tests/GenBank/NC_005816.gb}{\\texttt{NC\\_005816.gb}} from our website.\n",
      "\n",
      "This file contains a single record (i.e. only one LOCUS line) and starts:\n",
      "\\begin{verbatim}\n",
      "LOCUS       NC_005816               9609 bp    DNA     circular BCT 21-JUL-2008\n",
      "DEFINITION  Yersinia pestis biovar Microtus str. 91001 plasmid pPCP1, complete\n",
      "            sequence.\n",
      "ACCESSION   NC_005816\n",
      "VERSION     NC_005816.1  GI:45478711\n",
      "PROJECT     GenomeProject:10638\n",
      "...\n",
      "\\end{verbatim}\n",
      "\n",
      "Again, we'll use __Bio.SeqIO__ to read this file in, and the code is almost identical to that for used above for the FASTA file (see Chapter~\\ref{chapter:Bio.SeqIO} for details):\n"
     ]
    },
    {
     "cell_type": "code",
     "collapsed": false,
     "input": [
      "from Bio import SeqIO\n",
      "from Bio.Alphabet.IUPAC import IUPACAmbiguousDNA \n",
      "record = SeqIO.read(\"data/NC_005816.gb\", \"genbank\")\n",
      "record\n",
      "SeqRecord(seq=Seq('TGTAACGAACGGTGCAATAGTGATCCACACCCAACGCCTGAAATCAGATCCAGG...CTG',\n",
      "IUPACAmbiguousDNA()), id='NC_005816.1', name='NC_005816',\n",
      "description='Yersinia pestis biovar Microtus str. 91001 plasmid pPCP1, complete sequence.',\n",
      "dbxrefs=['Project:10638'])"
     ],
     "language": "python",
     "metadata": {},
     "outputs": [
      {
       "metadata": {},
       "output_type": "pyout",
       "prompt_number": 28,
       "text": [
        "SeqRecord(seq=Seq('TGTAACGAACGGTGCAATAGTGATCCACACCCAACGCCTGAAATCAGATCCAGG...CTG', IUPACAmbiguousDNA()), id='NC_005816.1', name='NC_005816', description='Yersinia pestis biovar Microtus str. 91001 plasmid pPCP1, complete sequence.', dbxrefs=['Project:10638'])"
       ]
      }
     ],
     "prompt_number": 28
    },
    {
     "cell_type": "markdown",
     "metadata": {},
     "source": [
      "You should be able to spot some differences already! But taking the attributes individually,\n",
      "the sequence string is the same as before, but this time __Bio.SeqIO__ has been able to automatically assign a more specific alphabet (see Chapter~\\ref{chapter:Bio.SeqIO} for details):\n"
     ]
    },
    {
     "cell_type": "code",
     "collapsed": false,
     "input": [
      "record.seq\n",
      "Seq('TGTAACGAACGGTGCAATAGTGATCCACACCCAACGCCTGAAATCAGATCCAGG...CTG', IUPACAmbiguousDNA())\n"
     ],
     "language": "python",
     "metadata": {},
     "outputs": [
      {
       "metadata": {},
       "output_type": "pyout",
       "prompt_number": 29,
       "text": [
        "Seq('TGTAACGAACGGTGCAATAGTGATCCACACCCAACGCCTGAAATCAGATCCAGG...CTG', IUPACAmbiguousDNA())"
       ]
      }
     ],
     "prompt_number": 29
    },
    {
     "cell_type": "markdown",
     "metadata": {},
     "source": [
      "The __name__ comes from the LOCUS line, while the __id__ includes the version suffix.\n",
      "The description comes from the DEFINITION line:"
     ]
    },
    {
     "cell_type": "code",
     "collapsed": false,
     "input": [
      "record.id\n",
      "#'NC_005816.1'\n",
      "record.name\n",
      "#'NC_005816'\n",
      "record.description\n",
      "#'Yersinia pestis biovar Microtus str. 91001 plasmid pPCP1, complete sequence.'"
     ],
     "language": "python",
     "metadata": {},
     "outputs": []
    },
    {
     "cell_type": "markdown",
     "metadata": {},
     "source": [
      "GenBank files don't have any per-letter annotations:"
     ]
    },
    {
     "cell_type": "code",
     "collapsed": false,
     "input": [
      "record.letter_annotations\n",
      "#{}"
     ],
     "language": "python",
     "metadata": {},
     "outputs": []
    },
    {
     "cell_type": "markdown",
     "metadata": {},
     "source": [
      "Most of the annotations information gets recorded in the __annotations__ dictionary, for example:"
     ]
    },
    {
     "cell_type": "code",
     "collapsed": false,
     "input": [
      "len(record.annotations)\n",
      "#11\n",
      "record.annotations[\"source\"]\n",
      "'Yersinia pestis biovar Microtus str. 91001'\n",
      "\n",
      "The __dbxrefs__ list gets populated from any PROJECT or DBLINK lines:\n",
      "\n",
      "record.dbxrefs\n",
      "['Project:10638']\n",
      "\n",
      "Finally, and perhaps most interestingly, all the entries in the features table (e.g. the genes or CDS features) get recorded as __SeqFeature__ objects in the __features__ list.\n",
      "\n",
      "len(record.features)\n",
      "#29\n",
      "\n",
      "\\noindent We'll talk about __SeqFeature__ objects next, in\n",
      "Section~\\ref{sec:seq_features}.\n",
      "\n",
      "\\section{Feature, location and position objects}\n",
      "\\label{sec:seq_features}"
     ],
     "language": "python",
     "metadata": {},
     "outputs": [
      {
       "ename": "SyntaxError",
       "evalue": "unexpected character after line continuation character (<ipython-input-30-e8787a7c0236>, line 1)",
       "output_type": "pyerr",
       "traceback": [
        "\u001b[0;36m  File \u001b[0;32m\"<ipython-input-30-e8787a7c0236>\"\u001b[0;36m, line \u001b[0;32m1\u001b[0m\n\u001b[0;31m    The __name__ comes from the LOCUS line, while the __id__ includes the version suffix.\u001b[0m\n\u001b[0m                                                                                               ^\u001b[0m\n\u001b[0;31mSyntaxError\u001b[0m\u001b[0;31m:\u001b[0m unexpected character after line continuation character\n"
       ]
      }
     ],
     "prompt_number": 30
    },
    {
     "cell_type": "heading",
     "level": 3,
     "metadata": {},
     "source": [
      "SeqFeature objects"
     ]
    },
    {
     "cell_type": "markdown",
     "metadata": {},
     "source": [
      "Sequence features are an essential part of describing a sequence. Once you get beyond the sequence itself, you need some way to organize and easily get at the more ``abstract'' information that is known about the sequence. While it is probably impossible to develop a general sequence feature class that will cover everything, the Biopython __SeqFeature__ class attempts to encapsulate as much of the information about the sequence as possible. The design is heavily based on the GenBank/EMBL feature tables, so if you understand how they look, you'll probably have an easier time grasping the structure of the Biopython classes.\n",
      "\n",
      "The key idea about each __SeqFeature__ object is to describe a region on a parent sequence, typically a __SeqRecord__ object. That region is described with a location object, typically a range between two positions (see Section~\\ref{sec:locations} below).\n",
      "\n",
      "The __SeqFeature__ class has a number of attributes, so first we'll list them and their general features, and then later in the chapter work through examples to show how this applies to a real life example. The attributes of a SeqFeature are:\n",
      "\n",
      "\\begin{description}\n",
      "  \\item[.type] -- This is a textual description of the type of feature (for instance, this will be something like `CDS' or `gene').\n",
      "\n",
      "  \\item[.location] -- The location of the __SeqFeature__ on the sequence\n",
      "  that you are dealing with, see Section~\\ref{sec:locations} below. The\n",
      "  __SeqFeature__ delegates much of its functionality to the location\n",
      "  object, and includes a number of shortcut attributes for properties\n",
      "  of the location:\n",
      "\n",
      "  \\begin{description}\n",
      "    \\item[.ref] -- shorthand for __.location.ref__ -- any (different)\n",
      "    reference sequence the location is referring to. Usually just None.\n",
      "\n",
      "    \\item[.ref\\_db] -- shorthand for __.location.ref_db__ -- specifies\n",
      "    the database any identifier in __.ref__ refers to. Usually just None.\n",
      "\n",
      "    \\item[.strand] -- shorthand for __.location.strand__ -- the strand on\n",
      "    the sequence that the feature is located on. For double stranded nucleotide\n",
      "    sequence this may either be $1$ for the top strand, $-1$ for the bottom\n",
      "    strand, $0$ if the strand is important but is unknown, or \\texttt{None}\n",
      "    if it doesn't matter. This is None for proteins, or single stranded sequences.\n",
      "  \\end{description}\n",
      "\n",
      "  \\item[.qualifiers] -- This is a Python dictionary of additional information about the feature. The key is some kind of terse one-word description of what the information contained in the value is about, and the value is the actual information. For example, a common key for a qualifier might be ``evidence'' and the value might be ``computational (non-experimental).'' This is just a way to let the person who is looking at the feature know that it has not be experimentally (i.~e.~in a wet lab) confirmed. Note that other the value will be a list of strings (even when there is only one string). This is a reflection of the feature tables in GenBank/EMBL files.\n",
      " \n",
      "  \\item[.sub\\_features] -- This used to be used to represent features with complicated locations like `joins' in GenBank/EMBL files. This has been deprecated with the introduction of the __CompoundLocation__ object, and should now be ignored.\n",
      "  \n",
      "\\end{description}"
     ]
    },
    {
     "cell_type": "heading",
     "level": 3,
     "metadata": {},
     "source": [
      "Positions and locations"
     ]
    },
    {
     "cell_type": "markdown",
     "metadata": {},
     "source": [
      "The key idea about each __SeqFeature__ object is to describe a\n",
      "region on a parent sequence, for which we use a location object,\n",
      "typically describing a range between two positions. Two try to\n",
      "clarify the terminology we're using:\n",
      "\n",
      "\\begin{description}\n",
      "  \\item[position] -- This refers to a single position on a sequence,\n",
      "  which may be fuzzy or not. For instance, 5, 20, __<100__ and\n",
      "  __>200__ are all positions.\n",
      "\n",
      "  \\item[location] -- A location is region of sequence bounded by\n",
      "  some positions. For instance 5..20 (i.~e.~5 to 20) is a location.\n",
      "\\end{description}\n",
      "\n",
      "I just mention this because sometimes I get confused between the two."
     ]
    },
    {
     "cell_type": "heading",
     "level": 4,
     "metadata": {},
     "source": [
      "FeatureLocation object"
     ]
    },
    {
     "cell_type": "markdown",
     "metadata": {},
     "source": [
      "Unless you work with eukaryotic genes, most __SeqFeature__ locations are\n",
      "extremely simple - you just need start and end coordinates and a strand.\n",
      "That's essentially all the basic __FeatureLocation__ object does.\n",
      "\n",
      "%TODO -- add example here\n",
      "\n",
      "In practise of course, things can be more complicated. First of all\n",
      "we have to handle compound locations made up of several regions.\n",
      "Secondly, the positions themselves may be fuzzy (inexact)."
     ]
    },
    {
     "cell_type": "heading",
     "level": 4,
     "metadata": {},
     "source": [
      "CompoundLocation object"
     ]
    },
    {
     "cell_type": "markdown",
     "metadata": {},
     "source": [
      "Biopython 1.62 introduced the __CompoundLocation__ as part of\n",
      "a restructuring of how complex locations made up of multiple regions\n",
      "are represented.\n",
      "The main usage is for handling `join' locations in EMBL/GenBank files.\n"
     ]
    },
    {
     "cell_type": "heading",
     "level": 4,
     "metadata": {},
     "source": [
      "Fuzzy Positions"
     ]
    },
    {
     "cell_type": "markdown",
     "metadata": {},
     "source": [
      "So far we've only used simple positions. One complication in dealing\n",
      "with feature locations comes in the positions themselves.\n",
      "In biology many times things aren't entirely certain\n",
      "(as much as us wet lab biologists try to make them certain!). For\n",
      "instance, you might do a dinucleotide priming experiment and discover\n",
      "that the start of mRNA transcript starts at one of two sites. This\n",
      "is very useful information, but the complication comes in how to\n",
      "represent this as a position. To help us deal with this, we have\n",
      "the concept of fuzzy positions. Basically there are several types\n",
      "of fuzzy positions, so we have five classes do deal with them:\n",
      "\n",
      "\\begin{description}\n",
      "  \\item[ExactPosition] -- As its name suggests, this class represents a position which is specified as exact along the sequence. This is represented as just a number, and you can get the position by looking at the __position__ attribute of the object.\n",
      "\n",
      "  \\item[BeforePosition] -- This class represents a fuzzy position\n",
      "  that occurs prior to some specified site. In GenBank/EMBL notation,\n",
      "  this is represented as something like __`<13'|, signifying that\n",
      "  the real position is located somewhere less than 13. To get\n",
      "  the specified upper boundary, look at the __position|\n",
      "  attribute of the object.\n",
      "\n",
      "  \\item[AfterPosition] -- Contrary to __BeforePosition|, this\n",
      "  class represents a position that occurs after some specified site.\n",
      "  This is represented in GenBank as __`>13'|, and like\n",
      "  __BeforePosition|, you get the boundary number by looking\n",
      "  at the __position__ attribute of the object.\n",
      "\n",
      "  \\item[WithinPosition] -- Occasionally used for GenBank/EMBL locations,\n",
      "  this class models a position which occurs somewhere between two\n",
      "  specified nucleotides. In GenBank/EMBL notation, this would be\n",
      "  represented as `(1.5)', to represent that the position is somewhere\n",
      "  within the range 1 to 5. To get the information in this class you\n",
      "  have to look at two attributes. The __position__ attribute\n",
      "  specifies the lower boundary of the range we are looking at, so in\n",
      "  our example case this would be one. The __extension__ attribute\n",
      "  specifies the range to the higher boundary, so in this case it\n",
      "  would be 4. So __object.position__ is the lower boundary and\n",
      "  __object.position + object.extension__ is the upper boundary.\n",
      "\n",
      "  \\item[OneOfPosition] -- Occasionally used for GenBank/EMBL locations,\n",
      "  this class deals with a position where several possible values exist,\n",
      "  for instance you could use this if the start codon was unclear and\n",
      "  there where two candidates for the start of the gene. Alternatively,\n",
      "  that might be handled explicitly as two related gene features.\n",
      "\n",
      "  \\item[UnknownPosition] -- This class deals with a position of unknown\n",
      "  location. This is not used in GenBank/EMBL, but corresponds to the `?'\n",
      "  feature coordinate used in UniProt.\n",
      "\n",
      "\\end{description}\n",
      "\n",
      "Here's an example where we create a location with fuzzy end points:"
     ]
    },
    {
     "cell_type": "code",
     "collapsed": false,
     "input": [
      "from Bio import SeqFeature\n",
      "start_pos = SeqFeature.AfterPosition(5)\n",
      "end_pos = SeqFeature.BetweenPosition(9, left=8, right=9)\n",
      "my_location = SeqFeature.FeatureLocation(start_pos, end_pos)\n"
     ],
     "language": "python",
     "metadata": {},
     "outputs": []
    },
    {
     "cell_type": "markdown",
     "metadata": {},
     "source": [
      "Note that the details of some of the fuzzy-locations changed in Biopython 1.59,\n",
      "in particular for BetweenPosition and WithinPosition you must now make it explicit\n",
      "which integer position should be used for slicing etc. For a start position this\n",
      "is generally the lower (left) value, while for an end position this would generally\n",
      "be the higher (right) value.\n",
      "\n",
      "If you print out a __FeatureLocation__ object, you can get a nice representation of the information:\n"
     ]
    },
    {
     "cell_type": "code",
     "collapsed": false,
     "input": [
      "print(my_location)\n",
      "[>5:(8^9)]"
     ],
     "language": "python",
     "metadata": {},
     "outputs": []
    },
    {
     "cell_type": "markdown",
     "metadata": {},
     "source": [
      "We can access the fuzzy start and end positions using the start and end attributes of the location:\n"
     ]
    },
    {
     "cell_type": "code",
     "collapsed": false,
     "input": [
      "my_location.start\n",
      "AfterPosition(5)\n",
      "print(my_location.start)\n",
      ">5\n",
      "my_location.end\n",
      "BetweenPosition(9, left=8, right=9)\n",
      "print(my_location.end)\n",
      "(8^9)"
     ],
     "language": "python",
     "metadata": {},
     "outputs": []
    },
    {
     "cell_type": "markdown",
     "metadata": {},
     "source": [
      "If you don't want to deal with fuzzy positions and just want numbers,\n",
      "they are actually subclasses of integers so should work like integers:"
     ]
    },
    {
     "cell_type": "code",
     "collapsed": false,
     "input": [
      "int(my_location.start)\n",
      "5\n",
      "int(my_location.end)\n",
      "9"
     ],
     "language": "python",
     "metadata": {},
     "outputs": []
    },
    {
     "cell_type": "markdown",
     "metadata": {},
     "source": [
      "\n",
      "For compatibility with older versions of Biopython you can ask for the\n",
      "__nofuzzy_start__ and __nofuzzy_end__ attributes of the location\n",
      "which are plain integers:\n",
      "\n"
     ]
    },
    {
     "cell_type": "code",
     "collapsed": false,
     "input": [
      "my_location.nofuzzy_start\n",
      "5\n",
      "my_location.nofuzzy_end\n",
      "9\n"
     ],
     "language": "python",
     "metadata": {},
     "outputs": []
    },
    {
     "cell_type": "markdown",
     "metadata": {},
     "source": [
      "Notice that this just gives you back the position attributes of the fuzzy locations.\n",
      "\n",
      "Similarly, to make it easy to create a position without worrying about fuzzy positions, you can just pass in numbers to the __FeaturePosition__ constructors, and you'll get back out __ExactPosition__ objects:"
     ]
    },
    {
     "cell_type": "code",
     "collapsed": false,
     "input": [
      "exact_location = SeqFeature.FeatureLocation(5, 9)\n",
      "print(exact_location)\n",
      "[5:9]\n",
      "exact_location.start\n",
      "ExactPosition(5)\n",
      "int(exact_location.start)\n",
      "5\n",
      "exact_location.nofuzzy_start\n",
      "5"
     ],
     "language": "python",
     "metadata": {},
     "outputs": []
    },
    {
     "cell_type": "markdown",
     "metadata": {},
     "source": [
      "That is most of the nitty gritty about dealing with fuzzy positions in Biopython.\n",
      "It has been designed so that dealing with fuzziness is not that much more\n",
      "complicated than dealing with exact positions, and hopefully you find that true!\n"
     ]
    },
    {
     "cell_type": "heading",
     "level": 4,
     "metadata": {},
     "source": [
      "Location testing"
     ]
    },
    {
     "cell_type": "markdown",
     "metadata": {},
     "source": [
      "You can use the Python keyword __in__ with a __SeqFeature__ or location\n",
      "object to see if the base/residue for a parent coordinate is within the\n",
      "feature/location or not.\n",
      "\n",
      "For example, suppose you have a SNP of interest and you want to know which\n",
      "features this SNP is within, and lets suppose this SNP is at index 4350\n",
      "(Python counting!). Here is a simple brute force solution where we just\n",
      "check all the features one by one in a loop:\n"
     ]
    },
    {
     "cell_type": "code",
     "collapsed": false,
     "input": [
      "from Bio import SeqIO\n",
      "my_snp = 4350\n",
      "record = SeqIO.read(\"NC_005816.gb\", \"genbank\")\n",
      "for feature in record.features:\n",
      "...     if my_snp in feature:\n",
      "...         print(\"%s %s\" % (feature.type, feature.qualifiers.get('db_xref')))\n",
      "... \n",
      "source ['taxon:229193']\n",
      "gene ['GeneID:2767712']\n",
      "CDS ['GI:45478716', 'GeneID:2767712']"
     ],
     "language": "python",
     "metadata": {},
     "outputs": []
    },
    {
     "cell_type": "markdown",
     "metadata": {},
     "source": [
      "Note that gene and CDS features from GenBank or EMBL files defined with joins\n",
      "are the union of the exons -- they do not cover any introns.\n"
     ]
    },
    {
     "cell_type": "heading",
     "level": 3,
     "metadata": {},
     "source": [
      "Sequence described by a feature or location"
     ]
    },
    {
     "cell_type": "markdown",
     "metadata": {},
     "source": [
      "A __SeqFeature__ or location object doesn't directly contain a sequence, instead the location (see Section~\\ref{sec:locations}) describes how to get this from the parent sequence. For example consider a (short) gene sequence with location 5:18 on the reverse strand, which in GenBank/EMBL notation using 1-based counting would be \\texttt{complement(6..18)}, like this:\n"
     ]
    },
    {
     "cell_type": "code",
     "collapsed": false,
     "input": [
      "from Bio.Seq import Seq\n",
      "from Bio.SeqFeature import SeqFeature, FeatureLocation\n",
      "example_parent = Seq(\"ACCGAGACGGCAAAGGCTAGCATAGGTATGAGACTTCCTTCCTGCCAGTGCTGAGGAACTGGGAGCCTAC\")\n",
      "example_feature = SeqFeature(FeatureLocation(5, 18), type=\"gene\", strand=-1)\n"
     ],
     "language": "python",
     "metadata": {},
     "outputs": []
    },
    {
     "cell_type": "markdown",
     "metadata": {},
     "source": [
      "You could take the parent sequence, slice it to extract 5:18, and then take the reverse complement.\n",
      "If you are using Biopython 1.59 or later, the feature location's start and end are integer like so this works:\n"
     ]
    },
    {
     "cell_type": "code",
     "collapsed": false,
     "input": [
      "feature_seq = example_parent[example_feature.location.start:example_feature.location.end].reverse_complement()\n",
      "print(feature_seq)\n",
      "AGCCTTTGCCGTC\n"
     ],
     "language": "python",
     "metadata": {},
     "outputs": []
    },
    {
     "cell_type": "markdown",
     "metadata": {},
     "source": [
      "This is a simple example so this isn't too bad -- however once you have to deal with compound features (joins) this is rather messy. Instead, the __SeqFeature__ object has an __extract__ method to take care of all this:\n"
     ]
    },
    {
     "cell_type": "code",
     "collapsed": false,
     "input": [
      "feature_seq = example_feature.extract(example_parent)\n",
      "print(feature_seq)\n",
      "AGCCTTTGCCGTC\n"
     ],
     "language": "python",
     "metadata": {},
     "outputs": []
    },
    {
     "cell_type": "markdown",
     "metadata": {},
     "source": [
      "The length of a __SeqFeature__ or location matches\n",
      "that of the region of sequence it describes.\n"
     ]
    },
    {
     "cell_type": "code",
     "collapsed": false,
     "input": [
      "print(example_feature.extract(example_parent))\n",
      "AGCCTTTGCCGTC\n",
      "print(len(example_feature.extract(example_parent)))\n",
      "13\n",
      "print(len(example_feature))\n",
      "13\n",
      "print(len(example_feature.location))\n",
      "13\n"
     ],
     "language": "python",
     "metadata": {},
     "outputs": []
    },
    {
     "cell_type": "markdown",
     "metadata": {},
     "source": [
      "For simple __FeatureLocation__ objects the length is just\n",
      "the difference between the start and end positions. However,\n",
      "for a __CompoundLocation__ the length is the sum of the\n",
      "constituent regions.\n"
     ]
    },
    {
     "cell_type": "heading",
     "level": 2,
     "metadata": {},
     "source": [
      "References"
     ]
    },
    {
     "cell_type": "markdown",
     "metadata": {},
     "source": [
      "Another common annotation related to a sequence is a reference to a journal or other published work dealing with the sequence. We have a fairly simple way of representing a Reference in Biopython -- we have a __Bio.SeqFeature.Reference__ class that stores the relevant information about a reference as attributes of an object.\n",
      "\n",
      "The attributes include things that you would expect to see in a reference like __journal|, __title__ and __authors|. Additionally, it also can hold the __medline_id__ and __pubmed_id__ and a __comment__ about the reference. These are all accessed simply as attributes of the object.\n",
      "\n",
      "A reference also has a __location__ object so that it can specify a particular location on the sequence that the reference refers to. For instance, you might have a journal that is dealing with a particular gene located on a BAC, and want to specify that it only refers to this position exactly. The __location__ is a potentially fuzzy location, as described in section~\\ref{sec:locations}.\n",
      "\n",
      "Any reference objects are stored as a list in the __SeqRecord__ object's __annotations__ dictionary under the key ``references''.\n",
      "That's all there is too it. References are meant to be easy to deal with, and hopefully general enough to cover lots of usage cases.\n"
     ]
    },
    {
     "cell_type": "heading",
     "level": 2,
     "metadata": {},
     "source": [
      "The format method"
     ]
    },
    {
     "cell_type": "markdown",
     "metadata": {},
     "source": [
      "The __format()__ method of the __SeqRecord__ class gives a string\n",
      "containing your record formatted using one of the output file formats\n",
      "supported by __Bio.SeqIO|, such as FASTA:\n"
     ]
    },
    {
     "cell_type": "code",
     "collapsed": false,
     "input": [
      "from Bio.Seq import Seq\n",
      "from Bio.SeqRecord import SeqRecord\n",
      "from Bio.Alphabet import generic_protein\n",
      "\n",
      "record = SeqRecord(Seq(\"MMYQQGCFAGGTVLRLAKDLAENNRGARVLVVCSEITAVTFRGPSETHLDSMVGQALFGD\" \\\n",
      "                      +\"GAGAVIVGSDPDLSVERPLYELVWTGATLLPDSEGAIDGHLREVGLTFHLLKDVPGLISK\" \\\n",
      "                      +\"NIEKSLKEAFTPLGISDWNSTFWIAHPGGPAILDQVEAKLGLKEEKMRATREVLSEYGNM\" \\\n",
      "                      +\"SSAC\", generic_protein),\n",
      "                   id=\"gi|14150838|gb|AAK54648.1|AF376133_1\",\n",
      "                   description=\"chalcone synthase [Cucumis sativus]\")\n",
      "                   \n",
      "print(record.format(\"fasta\"))\n"
     ],
     "language": "python",
     "metadata": {},
     "outputs": []
    },
    {
     "cell_type": "markdown",
     "metadata": {},
     "source": [
      "This __format__ method takes a single mandatory argument, a lower case string which is\n",
      "supported by __Bio.SeqIO__ as an output format (see Chapter~\\ref{chapter:Bio.SeqIO}).\n",
      "However, some of the file formats __Bio.SeqIO__ can write to \\emph{require} more than\n",
      "one record (typically the case for multiple sequence alignment formats), and thus won't\n",
      "work via this __format()__ method.  See also Section~\\ref{sec:Bio.SeqIO-and-StringIO}.\n"
     ]
    },
    {
     "cell_type": "heading",
     "level": 2,
     "metadata": {},
     "source": [
      "Slicing a SeqRecord"
     ]
    },
    {
     "cell_type": "markdown",
     "metadata": {},
     "source": [
      "You can slice a __SeqRecord|, to give you a new __SeqRecord__ covering just\n",
      "part of the sequence. What is important\n",
      "here is that any per-letter annotations are also sliced, and any features which fall\n",
      "completely within the new sequence are preserved (with their locations adjusted).\n",
      "\n",
      "For example, taking the same GenBank file used earlier:\n"
     ]
    },
    {
     "cell_type": "code",
     "collapsed": false,
     "input": [
      "from Bio import SeqIO\n",
      "record = SeqIO.read(\"NC_005816.gb\", \"genbank\")\n",
      "\\end{verbatim}\n",
      "%TODO - support line wrapping in doctest\n",
      "\\begin{verbatim}\n",
      "record\n",
      "SeqRecord(seq=Seq('TGTAACGAACGGTGCAATAGTGATCCACACCCAACGCCTGAAATCAGATCCAGG...CTG',\n",
      "IUPACAmbiguousDNA()), id='NC_005816.1', name='NC_005816',\n",
      "description='Yersinia pestis biovar Microtus str. 91001 plasmid pPCP1, complete sequence.',\n",
      "dbxrefs=['Project:10638'])\n",
      "\\end{verbatim}\n",
      "%cont-doctest\n",
      "\\begin{verbatim}\n",
      "len(record)\n",
      "9609\n",
      "len(record.features)\n",
      "41\n"
     ],
     "language": "python",
     "metadata": {},
     "outputs": []
    },
    {
     "cell_type": "markdown",
     "metadata": {},
     "source": [
      "For this example we're going to focus in on the __pim__ gene, __YP_pPCP05|.\n",
      "If you have a look at the GenBank file directly you'll find this gene/CDS has\n",
      "location string \\texttt{4343..4780}, or in Python counting \\texttt{4342:4780}.\n",
      "From looking at the file you can work out that these are the twelfth and\n",
      "thirteenth entries in the file, so in Python zero-based counting they are\n",
      "entries $11$ and $12$ in the \\texttt{features} list:\n"
     ]
    },
    {
     "cell_type": "code",
     "collapsed": false,
     "input": [
      "print(record.features[20])\n",
      "type: gene\n",
      "location: [4342:4780](+)\n",
      "qualifiers: \n",
      "    Key: db_xref, Value: ['GeneID:2767712']\n",
      "    Key: gene, Value: ['pim']\n",
      "    Key: locus_tag, Value: ['YP_pPCP05']\n",
      "<BLANKLINE>\n",
      "\\end{verbatim}\n",
      "%This one is truncated so can't use for doctest\n",
      "\\begin{verbatim}\n",
      "print(record.features[21])\n",
      "type: CDS\n",
      "location: [4342:4780](+)\n",
      "qualifiers: \n",
      "    Key: codon_start, Value: ['1']\n",
      "    Key: db_xref, Value: ['GI:45478716', 'GeneID:2767712']\n",
      "    Key: gene, Value: ['pim']\n",
      "    Key: locus_tag, Value: ['YP_pPCP05']\n",
      "    Key: note, Value: ['similar to many previously sequenced pesticin immunity ...']\n",
      "    Key: product, Value: ['pesticin immunity protein']\n",
      "    Key: protein_id, Value: ['NP_995571.1']\n",
      "    Key: transl_table, Value: ['11']\n",
      "    Key: translation, Value: ['MGGGMISKLFCLALIFLSSSGLAEKNTYTAKDILQNLELNTFGNSLSH...']\n"
     ],
     "language": "python",
     "metadata": {},
     "outputs": []
    },
    {
     "cell_type": "markdown",
     "metadata": {},
     "source": [
      "Let's slice this parent record from 4300 to 4800 (enough to include the __pim|\n",
      "gene/CDS), and see how many features we get:"
     ]
    },
    {
     "cell_type": "code",
     "collapsed": false,
     "input": [
      "sub_record = record[4300:4800]\n",
      "\\end{verbatim}\n",
      "%TODO - Line wrapping for doctest?\n",
      "\\begin{verbatim}\n",
      "sub_record\n",
      "SeqRecord(seq=Seq('ATAAATAGATTATTCCAAATAATTTATTTATGTAAGAACAGGATGGGAGGGGGA...TTA',\n",
      "IUPACAmbiguousDNA()), id='NC_005816.1', name='NC_005816',\n",
      "description='Yersinia pestis biovar Microtus str. 91001 plasmid pPCP1, complete sequence.',\n",
      "dbxrefs=[])\n",
      "\\end{verbatim}\n",
      "%cont-doctest\n",
      "\\begin{verbatim}\n",
      "len(sub_record)\n",
      "500\n",
      "len(sub_record.features)\n",
      "2"
     ],
     "language": "python",
     "metadata": {},
     "outputs": []
    },
    {
     "cell_type": "markdown",
     "metadata": {},
     "source": [
      "Our sub-record just has two features, the gene and CDS entries for __YP_pPCP05|:\n",
      "\n"
     ]
    },
    {
     "cell_type": "code",
     "collapsed": false,
     "input": [
      "print(sub_record.features[0])\n",
      "type: gene\n",
      "location: [42:480](+)\n",
      "qualifiers: \n",
      "    Key: db_xref, Value: ['GeneID:2767712']\n",
      "    Key: gene, Value: ['pim']\n",
      "    Key: locus_tag, Value: ['YP_pPCP05']\n",
      "<BLANKLINE>\n",
      "\\end{verbatim}\n",
      "\\begin{verbatim}\n",
      "print(sub_record.features[20])\n",
      "type: CDS\n",
      "location: [42:480](+)\n",
      "qualifiers: \n",
      "    Key: codon_start, Value: ['1']\n",
      "    Key: db_xref, Value: ['GI:45478716', 'GeneID:2767712']\n",
      "    Key: gene, Value: ['pim']\n",
      "    Key: locus_tag, Value: ['YP_pPCP05']\n",
      "    Key: note, Value: ['similar to many previously sequenced pesticin immunity ...']\n",
      "    Key: product, Value: ['pesticin immunity protein']\n",
      "    Key: protein_id, Value: ['NP_995571.1']\n",
      "    Key: transl_table, Value: ['11']\n",
      "    Key: translation, Value: ['MGGGMISKLFCLALIFLSSSGLAEKNTYTAKDILQNLELNTFGNSLSH...']\n"
     ],
     "language": "python",
     "metadata": {},
     "outputs": []
    },
    {
     "cell_type": "markdown",
     "metadata": {},
     "source": [
      "Notice that their locations have been adjusted to reflect the new parent sequence!\n",
      "\n",
      "While Biopython has done something sensible and hopefully intuitive with the features\n",
      "(and any per-letter annotation), for the other annotation it is impossible to know if\n",
      "this still applies to the sub-sequence or not. To avoid guessing, the \\texttt{annotations}\n",
      "and \\texttt{dbxrefs} are omitted from the sub-record, and it is up to you to transfer\n",
      "any relevant information as appropriate."
     ]
    },
    {
     "cell_type": "code",
     "collapsed": false,
     "input": [
      "sub_record.annotations\n",
      "{}\n",
      "sub_record.dbxrefs\n",
      "[]"
     ],
     "language": "python",
     "metadata": {},
     "outputs": []
    },
    {
     "cell_type": "markdown",
     "metadata": {},
     "source": [
      "The same point could be made about the record \\texttt{id}, \\texttt{name}\n",
      "and \\texttt{description}, but for practicality these are preserved:\n"
     ]
    },
    {
     "cell_type": "code",
     "collapsed": false,
     "input": [
      "sub_record.id\n",
      "'NC_005816.1'\n",
      "sub_record.name\n",
      "'NC_005816'\n",
      "sub_record.description\n",
      "'Yersinia pestis biovar Microtus str. 91001 plasmid pPCP1, complete sequence.'\n"
     ],
     "language": "python",
     "metadata": {},
     "outputs": []
    },
    {
     "cell_type": "markdown",
     "metadata": {},
     "source": [
      "This illustrates the problem nicely though, our new sub-record is\n",
      "\\emph{not} the complete sequence of the plasmid, so the description is wrong!\n",
      "Let's fix this and then view the sub-record as a reduced GenBank file using\n",
      "the \\texttt{format} method described above in Section~\\ref{sec:SeqRecord-format}:"
     ]
    },
    {
     "cell_type": "code",
     "collapsed": false,
     "input": [
      "sub_record.description = \"Yersinia pestis biovar Microtus str. 91001 plasmid pPCP1, partial.\"\n",
      "print(sub_record.format(\"genbank\"))\n"
     ],
     "language": "python",
     "metadata": {},
     "outputs": []
    },
    {
     "cell_type": "heading",
     "level": 2,
     "metadata": {},
     "source": [
      "Adding SeqRecord objects"
     ]
    },
    {
     "cell_type": "markdown",
     "metadata": {},
     "source": [
      "You can add __SeqRecord__ objects together, giving a new __SeqRecord|.\n",
      "What is important here is that any common\n",
      "per-letter annotations are also added, all the features are preserved (with their\n",
      "locations adjusted), and any other common annotation is also kept (like the id, name\n",
      "and description).\n",
      "\n",
      "For an example with per-letter annotation, we'll use the first record in a\n",
      "FASTQ file. Chapter~\\ref{chapter:Bio.SeqIO} will explain the __SeqIO__ functions:"
     ]
    },
    {
     "cell_type": "code",
     "collapsed": false,
     "input": [
      "from Bio import SeqIO\n",
      "record = next(SeqIO.parse(\"example.fastq\", \"fastq\"))\n",
      "len(record)\n",
      "25\n",
      "print(record.seq)\n",
      "CCCTTCTTGTCTTCAGCGTTTCTCC\n",
      "\\end{verbatim}\n",
      "%TODO - doctest wrapping\n",
      "\\begin{verbatim}\n",
      "print(record.letter_annotations[\"phred_quality\"])\n",
      "[26, 26, 18, 26, 26, 26, 26, 26, 26, 26, 26, 26, 26, 26, 26, 22, 26, 26, 26, 26,\n",
      "26, 26, 26, 23, 23]\n"
     ],
     "language": "python",
     "metadata": {},
     "outputs": []
    },
    {
     "cell_type": "markdown",
     "metadata": {},
     "source": [
      "Let's suppose this was Roche 454 data, and that from other information\n",
      "you think the \\texttt{TTT} should be only \\texttt{TT}. We can make a new edited\n",
      "record by first slicing the __SeqRecord__ before and after the ``extra''\n",
      "third \\texttt{T}:"
     ]
    },
    {
     "cell_type": "code",
     "collapsed": false,
     "input": [
      "left = record[:20]\n",
      "print(left.seq)\n",
      "CCCTTCTTGTCTTCAGCGTT\n",
      "print(left.letter_annotations[\"phred_quality\"])\n",
      "[26, 26, 18, 26, 26, 26, 26, 26, 26, 26, 26, 26, 26, 26, 26, 22, 26, 26, 26, 26]\n",
      "right = record[21:]\n",
      "print(right.seq)\n",
      "CTCC\n",
      "print(right.letter_annotations[\"phred_quality\"])\n",
      "[26, 26, 23, 23]"
     ],
     "language": "python",
     "metadata": {},
     "outputs": []
    },
    {
     "cell_type": "markdown",
     "metadata": {},
     "source": [
      "Now add the two parts together:"
     ]
    },
    {
     "cell_type": "code",
     "collapsed": false,
     "input": [
      "edited = left + right\n",
      "len(edited)\n",
      "24\n",
      "print(edited.seq)\n",
      "CCCTTCTTGTCTTCAGCGTTCTCC\n",
      "\\end{verbatim}\n",
      "\\begin{verbatim}\n",
      "print(edited.letter_annotations[\"phred_quality\"])\n",
      "[26, 26, 18, 26, 26, 26, 26, 26, 26, 26, 26, 26, 26, 26, 26, 22, 26, 26, 26, 26,\n",
      "26, 26, 23, 23]\n"
     ],
     "language": "python",
     "metadata": {},
     "outputs": []
    },
    {
     "cell_type": "markdown",
     "metadata": {},
     "source": [
      "Easy and intuitive? We hope so! You can make this shorter with just:\n"
     ]
    },
    {
     "cell_type": "code",
     "collapsed": false,
     "input": [
      "edited = record[:20] + record[21:]\n"
     ],
     "language": "python",
     "metadata": {},
     "outputs": []
    },
    {
     "cell_type": "markdown",
     "metadata": {},
     "source": [
      "Now, for an example with features, we'll use a GenBank file.\n",
      "Suppose you have a circular genome:\n"
     ]
    },
    {
     "cell_type": "code",
     "collapsed": false,
     "input": [
      "from Bio import SeqIO\n",
      "record = SeqIO.read(\"NC_005816.gb\", \"genbank\")\n",
      "\\end{verbatim}\n",
      "%TODO - doctest wrapping\n",
      "\\begin{verbatim}\n",
      "record\n",
      "SeqRecord(seq=Seq('TGTAACGAACGGTGCAATAGTGATCCACACCCAACGCCTGAAATCAGATCCAGG...CTG',\n",
      "IUPACAmbiguousDNA()), id='NC_005816.1', name='NC_005816',\n",
      "description='Yersinia pestis biovar Microtus str. 91001 plasmid pPCP1, complete sequence.',\n",
      "dbxrefs=['Project:10638'])\n",
      "\\end{verbatim}\n",
      "%cont-doctest\n",
      "\\begin{verbatim}\n",
      "len(record)\n",
      "9609\n",
      "len(record.features)\n",
      "41\n",
      "record.dbxrefs\n",
      "['Project:58037']\n",
      "\\end{verbatim}\n",
      "%TODO - doctest wrapping\n",
      "\\begin{verbatim}\n",
      "record.annotations.keys()\n",
      "['comment', 'sequence_version', 'source', 'taxonomy', 'keywords', 'references',\n",
      "'accessions', 'data_file_division', 'date', 'organism', 'gi']\n"
     ],
     "language": "python",
     "metadata": {},
     "outputs": []
    },
    {
     "cell_type": "markdown",
     "metadata": {},
     "source": [
      "You can shift the origin like this:"
     ]
    },
    {
     "cell_type": "code",
     "collapsed": false,
     "input": [
      "shifted = record[2000:] + record[:2000]\n",
      "\\end{verbatim}\n",
      "%TODO - doctest wrapping\n",
      "\\begin{verbatim}\n",
      "shifted\n",
      "SeqRecord(seq=Seq('GATACGCAGTCATATTTTTTACACAATTCTCTAATCCCGACAAGGTCGTAGGTC...GGA',\n",
      "IUPACAmbiguousDNA()), id='NC_005816.1', name='NC_005816',\n",
      "description='Yersinia pestis biovar Microtus str. 91001 plasmid pPCP1, complete sequence.',\n",
      "dbxrefs=[])\n",
      "\\end{verbatim}\n",
      "%cont-doctest\n",
      "\\begin{verbatim}\n",
      "len(shifted)\n",
      "9609\n"
     ],
     "language": "python",
     "metadata": {},
     "outputs": []
    },
    {
     "cell_type": "markdown",
     "metadata": {},
     "source": [
      "Note that this isn't perfect in that some annotation like the database cross references\n",
      "and one of the features (the source feature) have been lost:\n"
     ]
    },
    {
     "cell_type": "code",
     "collapsed": false,
     "input": [
      "len(shifted.features)\n",
      "40\n",
      "shifted.dbxrefs\n",
      "[]\n",
      "shifted.annotations.keys()\n",
      "[]"
     ],
     "language": "python",
     "metadata": {},
     "outputs": []
    },
    {
     "cell_type": "markdown",
     "metadata": {},
     "source": [
      "This is because the __SeqRecord__ slicing step is cautious in what annotation\n",
      "it preserves (erroneously propagating annotation can cause major problems). If\n",
      "you want to keep the database cross references or the annotations dictionary,\n",
      "this must be done explicitly:\n"
     ]
    },
    {
     "cell_type": "code",
     "collapsed": false,
     "input": [
      "shifted.dbxrefs = record.dbxrefs[:]\n",
      "shifted.annotations = record.annotations.copy()\n",
      "shifted.dbxrefs\n",
      "['Project:10638']\n",
      "shifted.annotations.keys()\n",
      "['comment', 'sequence_version', 'source', 'taxonomy', 'keywords', 'references',\n",
      "'accessions', 'data_file_division', 'date', 'organism', 'gi']\n"
     ],
     "language": "python",
     "metadata": {},
     "outputs": []
    },
    {
     "cell_type": "markdown",
     "metadata": {},
     "source": [
      "Also note that in an example like this, you should probably change the record\n",
      "identifiers since the NCBI references refer to the \\emph{original} unmodified\n",
      "sequence.\n"
     ]
    },
    {
     "cell_type": "heading",
     "level": 2,
     "metadata": {},
     "source": [
      "Reverse-complementing SeqRecord objects"
     ]
    },
    {
     "cell_type": "markdown",
     "metadata": {},
     "source": [
      "One of the new features in Biopython 1.57 was the __SeqRecord__ object's\n",
      "__reverse_complement__ method. This tries to balance easy of use with worries\n",
      "about what to do with the annotation in the reverse complemented record.\n",
      "\n",
      "For the sequence, this uses the Seq object's reverse complement method. Any\n",
      "features are transferred with the location and strand recalculated. Likewise\n",
      "any per-letter-annotation is also copied but reversed (which makes sense for\n",
      "typical examples like quality scores). However, transfer of most annotation\n",
      "is problematical.\n",
      "\n",
      "For instance, if the record ID was an accession, that accession should not really\n",
      "apply to the reverse complemented sequence, and transferring the identifier by\n",
      "default could easily cause subtle data corruption in downstream analysis.\n",
      "Therefore by default, the __SeqRecord|'s id, name, description, annotations\n",
      "and database cross references are all \\emph{not} transferred by default.\n",
      "\n",
      "The __SeqRecord__ object's __reverse_complement__ method takes a number\n",
      "of optional arguments corresponding to properties of the record. Setting these\n",
      "arguments to __True__ means copy the old values, while __False__ means\n",
      "drop the old values and use the default value. You can alternatively provide\n",
      "the new desired value instead.\n",
      "\n",
      "Consider this example record:\n"
     ]
    },
    {
     "cell_type": "code",
     "collapsed": false,
     "input": [
      "from Bio import SeqIO\n",
      "record = SeqIO.read(\"NC_005816.gb\", \"genbank\")\n",
      "print(\"%s %i %i %i %i\" % (record.id, len(record), len(record.features), len(record.dbxrefs), len(record.annotations)))\n",
      "NC_005816.1 9609 41 1 11\n"
     ],
     "language": "python",
     "metadata": {},
     "outputs": []
    },
    {
     "cell_type": "markdown",
     "metadata": {},
     "source": [
      "Here we take the reverse complement and specify a new identifier -- but notice\n",
      "how most of the annotation is dropped (but not the features):"
     ]
    },
    {
     "cell_type": "code",
     "collapsed": false,
     "input": [
      "rc = record.reverse_complement(id=\"TESTING\")\n",
      "print(\"%s %i %i %i %i\" % (rc.id, len(rc), len(rc.features), len(rc.dbxrefs), len(rc.annotations)))\n",
      "TESTING 9609 41 0 0\n"
     ],
     "language": "python",
     "metadata": {},
     "outputs": []
    },
    {
     "cell_type": "code",
     "collapsed": false,
     "input": [],
     "language": "python",
     "metadata": {},
     "outputs": []
    }
   ],
   "metadata": {}
  }
 ]
}