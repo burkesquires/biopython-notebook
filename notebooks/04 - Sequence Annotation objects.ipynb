{
 "metadata": {
  "name": "",
  "signature": "sha256:a060ecb120d539572559e4987cdcab41808eeeee3abf2001364683cfd36940ca"
 },
 "nbformat": 3,
 "nbformat_minor": 0,
 "worksheets": [
  {
   "cells": [
    {
     "cell_type": "markdown",
     "metadata": {},
     "source": [
      "**Source of the materials**: Biopython Tutorial and Cookbook (adapted)"
     ]
    },
    {
     "cell_type": "heading",
     "level": 1,
     "metadata": {},
     "source": [
      "Sequence annotation objects"
     ]
    },
    {
     "cell_type": "markdown",
     "metadata": {},
     "source": [
      "Chapter~\\ref{chapter:Bio.Seq} introduced the sequence classes.  Immediately ``above'' the \\verb|Seq| class is the Sequence Record or \\verb|SeqRecord| class, defined in the \\verb|Bio.SeqRecord| module. This class allows higher level features such as identifiers and features (as \\verb|SeqFeature| objects) to be associated with the sequence, and is used throughout the sequence input/output interface \\verb|Bio.SeqIO| described fully in Chapter~\\ref{chapter:Bio.SeqIO}.\n",
      "\n",
      "If you are only going to be working with simple data like FASTA files, you can probably skip this chapter\n",
      "for now. If on the other hand you are going to be using richly annotated sequence data, say from GenBank\n",
      "or EMBL files, this information is quite important.\n",
      "\n",
      "While this chapter should cover most things to do with the \\verb|SeqRecord| and \\verb|SeqFeature| objects in this chapter, you may also want to read the \\verb|SeqRecord| wiki page (\\url{http://biopython.org/wiki/SeqRecord}), and the built in documentation (also online -- \\href{http://biopython.org/DIST/docs/api/Bio.SeqRecord.SeqRecord-class.html}{SeqRecord} and \\href{http://biopython.org/DIST/docs/api/Bio.SeqFeature.SeqFeature-class.html}{SeqFeature}):\n"
     ]
    },
    {
     "cell_type": "code",
     "collapsed": false,
     "input": [
      "from Bio.SeqRecord import SeqRecord\n",
      "help(SeqRecord)"
     ],
     "language": "python",
     "metadata": {},
     "outputs": []
    },
    {
     "cell_type": "heading",
     "level": 2,
     "metadata": {},
     "source": [
      "The SeqRecord Object"
     ]
    },
    {
     "cell_type": "markdown",
     "metadata": {},
     "source": [
      "The \\verb|SeqRecord| (Sequence Record) class is defined in the \\verb|Bio.SeqRecord| module. This class allows higher level features such as identifiers and features to be associated with a sequence (see Chapter~\\ref{chapter:Bio.Seq}), and is the basic data type for the \\verb|Bio.SeqIO| sequence input/output interface (see Chapter~\\ref{chapter:Bio.SeqIO}).\n",
      "\n",
      "The \\verb|SeqRecord| class itself is quite simple, and offers the following information as attributes:\n",
      "\n",
      "\\begin{description}\n",
      "  \\item[.seq] -- The sequence itself, typically a \\verb|Seq| object.\n",
      "\n",
      "  \\item[.id] -- The primary ID used to identify the sequence -- a string. In most cases this is something like an accession number.\n",
      "\n",
      "  \\item[.name] -- A ``common'' name/id for the sequence -- a string. In some cases this will be the same as the accession number, but it could also be a clone name. I think of this as being analogous to the LOCUS id in a GenBank record.\n",
      "\n",
      "  \\item[.description] -- A human readable description or expressive name for the sequence -- a string.\n",
      "  \n",
      "  \\item[.letter\\_annotations] -- Holds per-letter-annotations using a (restricted) dictionary of additional information about the letters in the sequence. The keys are the name of the information, and the information is contained in the value as a Python sequence (i.e. a list, tuple or string) with the same length as the sequence itself.  This is often used for quality scores (e.g. Section~\\ref{sec:FASTQ-filtering-example}) or secondary structure information (e.g. from Stockholm/PFAM alignment files).\n",
      "\n",
      "  \\item[.annotations] -- A dictionary of additional information about the sequence. The keys are the name of the information, and the information is contained in the value. This allows the addition of more ``unstructured'' information to the sequence.\n",
      "  \n",
      "  \\item[.features] -- A list of \\verb|SeqFeature| objects with more structured information about the features on a sequence (e.g. position of genes on a genome, or domains on a protein sequence). The structure of sequence features is described below in Section~\\ref{sec:seq_features}.\n",
      "  \n",
      "  \\item[.dbxrefs] - A list of database cross-references as strings.\n",
      "\\end{description}"
     ]
    },
    {
     "cell_type": "heading",
     "level": 2,
     "metadata": {},
     "source": [
      "Creating a SeqRecord"
     ]
    },
    {
     "cell_type": "markdown",
     "metadata": {},
     "source": [
      "Using a \\verb|SeqRecord| object is not very complicated, since all of the\n",
      "information is presented as attributes of the class. Usually you won't create\n",
      "a \\verb|SeqRecord| ``by hand'', but instead use \\verb|Bio.SeqIO| to read in a\n",
      "sequence file for you (see Chapter~\\ref{chapter:Bio.SeqIO} and the examples\n",
      "below).  However, creating \\verb|SeqRecord| can be quite simple."
     ]
    },
    {
     "cell_type": "heading",
     "level": 3,
     "metadata": {},
     "source": [
      "SeqRecord objects from scratch"
     ]
    },
    {
     "cell_type": "markdown",
     "metadata": {},
     "source": [
      "To create a \\verb|SeqRecord| at a minimum you just need a \\verb|Seq| object:"
     ]
    },
    {
     "cell_type": "code",
     "collapsed": false,
     "input": [
      "from Bio.Seq import Seq\n",
      "simple_seq = Seq(\"GATC\")\n",
      "from Bio.SeqRecord import SeqRecord\n",
      "simple_seq_r = SeqRecord(simple_seq)\n"
     ],
     "language": "python",
     "metadata": {},
     "outputs": []
    },
    {
     "cell_type": "markdown",
     "metadata": {},
     "source": [
      "Additionally, you can also pass the id, name and description to the initialization function, but if not they will be set as strings indicating they are unknown, and can be modified subsequently:"
     ]
    },
    {
     "cell_type": "code",
     "collapsed": false,
     "input": [
      "simple_seq_r.id\n",
      "'<unknown id>'\n",
      "simple_seq_r.id = \"AC12345\"\n",
      "simple_seq_r.description = \"Made up sequence I wish I could write a paper about\"\n",
      "print(simple_seq_r.description)\n",
      "Made up sequence I wish I could write a paper about\n",
      "simple_seq_r.seq\n",
      "Seq('GATC', Alphabet())"
     ],
     "language": "python",
     "metadata": {},
     "outputs": []
    },
    {
     "cell_type": "markdown",
     "metadata": {},
     "source": [
      "Including an identifier is very important if you want to output your \\verb|SeqRecord| to a file.  You would normally include this when creating the object:\n"
     ]
    },
    {
     "cell_type": "code",
     "collapsed": false,
     "input": [
      "from Bio.Seq import Seq\n",
      "simple_seq = Seq(\"GATC\")\n",
      "from Bio.SeqRecord import SeqRecord\n",
      "simple_seq_r = SeqRecord(simple_seq, id=\"AC12345\")\n"
     ],
     "language": "python",
     "metadata": {},
     "outputs": []
    },
    {
     "cell_type": "markdown",
     "metadata": {},
     "source": [
      "As mentioned above, the \\verb|SeqRecord| has an dictionary attribute \\verb|annotations|. This is used\n",
      "for any miscellaneous annotations that doesn't fit under one of the other more specific attributes.\n",
      "Adding annotations is easy, and just involves dealing directly with the annotation dictionary:\n"
     ]
    },
    {
     "cell_type": "code",
     "collapsed": false,
     "input": [
      "simple_seq_r.annotations[\"evidence\"] = \"None. I just made it up.\"\n",
      "print(simple_seq_r.annotations)\n",
      "{'evidence': 'None. I just made it up.'}\n",
      "print(simple_seq_r.annotations[\"evidence\"])\n",
      "None. I just made it up."
     ],
     "language": "python",
     "metadata": {},
     "outputs": []
    },
    {
     "cell_type": "markdown",
     "metadata": {},
     "source": [
      "Working with per-letter-annotations is similar, \\verb|letter_annotations| is a\n",
      "dictionary like attribute which will let you assign any Python sequence (i.e.\n",
      "a string, list or tuple) which has the same length as the sequence:\n"
     ]
    },
    {
     "cell_type": "code",
     "collapsed": false,
     "input": [
      "simple_seq_r.letter_annotations[\"phred_quality\"] = [40, 40, 38, 30]\n",
      "print(simple_seq_r.letter_annotations)\n",
      "{'phred_quality': [40, 40, 38, 30]}\n",
      "print(simple_seq_r.letter_annotations[\"phred_quality\"])\n",
      "[40, 40, 38, 30]\n"
     ],
     "language": "python",
     "metadata": {},
     "outputs": []
    },
    {
     "cell_type": "markdown",
     "metadata": {},
     "source": [
      "The \\verb|dbxrefs| and \\verb|features| attributes are just Python lists, and\n",
      "should be used to store strings and \\verb|SeqFeature| objects (discussed later\n",
      "in this chapter) respectively.\n"
     ]
    },
    {
     "cell_type": "heading",
     "level": 3,
     "metadata": {},
     "source": [
      "SeqRecord objects from FASTA files"
     ]
    },
    {
     "cell_type": "markdown",
     "metadata": {},
     "source": [
      "This example uses a fairly large FASTA file containing the whole sequence for \\textit{Yersinia pestis biovar Microtus} str. 91001 plasmid pPCP1, originally downloaded from the NCBI.  This file is included with the Biopython unit tests under the GenBank folder, or online \\href{http://biopython.org/SRC/biopython/Tests/GenBank/NC_005816.fna}{\\texttt{NC\\_005816.fna}} from our website.\n",
      "\n",
      "The file starts like this - and you can check there is only one record present (i.e. only one line starting with a greater than symbol):\n",
      "\n",
      "\\begin{verbatim}\n",
      ">gi|45478711|ref|NC_005816.1| Yersinia pestis biovar Microtus ... pPCP1, complete sequence\n",
      "TGTAACGAACGGTGCAATAGTGATCCACACCCAACGCCTGAAATCAGATCCAGGGGGTAATCTGCTCTCC\n",
      "...\n",
      "\\end{verbatim}\n",
      "\n",
      "Back in Chapter~\\ref{chapter:quick-start} you will have seen the function \\verb|Bio.SeqIO.parse(...)|\n",
      "used to loop over all the records in a file as \\verb|SeqRecord| objects. The \\verb|Bio.SeqIO| module\n",
      "has a sister function for use on files which contain just one record which we'll use here (see Chapter~\\ref{chapter:Bio.SeqIO} for details):\n"
     ]
    },
    {
     "cell_type": "code",
     "collapsed": false,
     "input": [
      "from Bio import SeqIO\n",
      "record = SeqIO.read(\"NC_005816.fna\", \"fasta\")\n",
      "record\n",
      "SeqRecord(seq=Seq('TGTAACGAACGGTGCAATAGTGATCCACACCCAACGCCTGAAATCAGATCCAGG...CTG',\n",
      "SingleLetterAlphabet()), id='gi|45478711|ref|NC_005816.1|', name='gi|45478711|ref|NC_005816.1|',\n",
      "description='gi|45478711|ref|NC_005816.1| Yersinia pestis biovar Microtus ... sequence',\n",
      "dbxrefs=[])"
     ],
     "language": "python",
     "metadata": {},
     "outputs": []
    },
    {
     "cell_type": "markdown",
     "metadata": {},
     "source": [
      "Now, let's have a look at the key attributes of this \\verb|SeqRecord|\n",
      "individually -- starting with the \\verb|seq| attribute which gives you a\n",
      "\\verb|Seq| object:"
     ]
    },
    {
     "cell_type": "code",
     "collapsed": false,
     "input": [
      "record.seq\n",
      "Seq('TGTAACGAACGGTGCAATAGTGATCCACACCCAACGCCTGAAATCAGATCCAGG...CTG', SingleLetterAlphabet())\n"
     ],
     "language": "python",
     "metadata": {},
     "outputs": []
    },
    {
     "cell_type": "markdown",
     "metadata": {},
     "source": [
      "Here \\verb|Bio.SeqIO| has defaulted to a generic alphabet, rather\n",
      "than guessing that this is DNA. If you know in advance what kind of sequence\n",
      "your FASTA file contains, you can tell \\verb|Bio.SeqIO| which alphabet to use\n",
      "(see Chapter~\\ref{chapter:Bio.SeqIO}).\n",
      "\n",
      "Next, the identifiers and description:"
     ]
    },
    {
     "cell_type": "code",
     "collapsed": false,
     "input": [
      "record.id\n",
      "'gi|45478711|ref|NC_005816.1|'\n",
      "record.name\n",
      "'gi|45478711|ref|NC_005816.1|'\n",
      "record.description\n",
      "'gi|45478711|ref|NC_005816.1| Yersinia pestis biovar Microtus ... pPCP1, complete sequence'"
     ],
     "language": "python",
     "metadata": {},
     "outputs": []
    },
    {
     "cell_type": "markdown",
     "metadata": {},
     "source": [
      "As you can see above, the first word of the FASTA record's title line (after\n",
      "removing the greater than symbol) is used for both the \\verb|id| and\n",
      "\\verb|name| attributes. The whole title line (after removing the greater than\n",
      "symbol) is used for the record description. This is deliberate, partly for\n",
      "backwards compatibility reasons, but it also makes sense if you have a FASTA\n",
      "file like this:\n",
      "\n",
      "\\begin{verbatim}\n",
      ">Yersinia pestis biovar Microtus str. 91001 plasmid pPCP1\n",
      "TGTAACGAACGGTGCAATAGTGATCCACACCCAACGCCTGAAATCAGATCCAGGGGGTAATCTGCTCTCC\n",
      "...\n",
      "\\end{verbatim}\n",
      "\n",
      "Note that none of the other annotation attributes get populated when reading a\n",
      "FASTA file:\n"
     ]
    },
    {
     "cell_type": "code",
     "collapsed": false,
     "input": [
      "record.dbxrefs\n",
      "[]\n",
      "record.annotations\n",
      "{}\n",
      "record.letter_annotations\n",
      "{}\n",
      "record.features\n",
      "[]"
     ],
     "language": "python",
     "metadata": {},
     "outputs": []
    },
    {
     "cell_type": "markdown",
     "metadata": {},
     "source": [
      "In this case our example FASTA file was from the NCBI, and they have a fairly well defined set of conventions for formatting their FASTA lines. This means it would be possible to parse this information and extract the GI number and accession for example. However, FASTA files from other sources vary, so this isn't possible in general.\n"
     ]
    },
    {
     "cell_type": "heading",
     "level": 3,
     "metadata": {},
     "source": [
      "SeqRecord objects from GenBank files"
     ]
    },
    {
     "cell_type": "markdown",
     "metadata": {},
     "source": [
      "As in the previous example, we're going to look at the whole sequence for \\textit{Yersinia pestis biovar Microtus} str. 91001 plasmid pPCP1, originally downloaded from the NCBI, but this time as a GenBank file.\n",
      "Again, this file is included with the Biopython unit tests under the GenBank folder, or online \\href{http://biopython.org/SRC/biopython/Tests/GenBank/NC_005816.gb}{\\texttt{NC\\_005816.gb}} from our website.\n",
      "\n",
      "This file contains a single record (i.e. only one LOCUS line) and starts:\n",
      "\\begin{verbatim}\n",
      "LOCUS       NC_005816               9609 bp    DNA     circular BCT 21-JUL-2008\n",
      "DEFINITION  Yersinia pestis biovar Microtus str. 91001 plasmid pPCP1, complete\n",
      "            sequence.\n",
      "ACCESSION   NC_005816\n",
      "VERSION     NC_005816.1  GI:45478711\n",
      "PROJECT     GenomeProject:10638\n",
      "...\n",
      "\\end{verbatim}\n",
      "\n",
      "Again, we'll use \\verb|Bio.SeqIO| to read this file in, and the code is almost identical to that for used above for the FASTA file (see Chapter~\\ref{chapter:Bio.SeqIO} for details):\n"
     ]
    },
    {
     "cell_type": "code",
     "collapsed": false,
     "input": [
      "from Bio import SeqIO\n",
      "record = SeqIO.read(\"NC_005816.gb\", \"genbank\")\n",
      "record\n",
      "SeqRecord(seq=Seq('TGTAACGAACGGTGCAATAGTGATCCACACCCAACGCCTGAAATCAGATCCAGG...CTG',\n",
      "IUPACAmbiguousDNA()), id='NC_005816.1', name='NC_005816',\n",
      "description='Yersinia pestis biovar Microtus str. 91001 plasmid pPCP1, complete sequence.',\n",
      "dbxrefs=['Project:10638'])"
     ],
     "language": "python",
     "metadata": {},
     "outputs": []
    },
    {
     "cell_type": "markdown",
     "metadata": {},
     "source": [
      "You should be able to spot some differences already! But taking the attributes individually,\n",
      "the sequence string is the same as before, but this time \\verb|Bio.SeqIO| has been able to automatically assign a more specific alphabet (see Chapter~\\ref{chapter:Bio.SeqIO} for details):\n"
     ]
    },
    {
     "cell_type": "code",
     "collapsed": false,
     "input": [
      "record.seq\n",
      "Seq('TGTAACGAACGGTGCAATAGTGATCCACACCCAACGCCTGAAATCAGATCCAGG...CTG', IUPACAmbiguousDNA())\n"
     ],
     "language": "python",
     "metadata": {},
     "outputs": []
    },
    {
     "cell_type": "code",
     "collapsed": false,
     "input": [
      "The \\verb|name| comes from the LOCUS line, while the \\verb|id| includes the version suffix.\n",
      "The description comes from the DEFINITION line:\n",
      "\n",
      "\\begin{verbatim}\n",
      "record.id\n",
      "'NC_005816.1'\n",
      "record.name\n",
      "'NC_005816'\n",
      "record.description\n",
      "'Yersinia pestis biovar Microtus str. 91001 plasmid pPCP1, complete sequence.'\n",
      "\\end{verbatim}\n",
      "\n",
      "GenBank files don't have any per-letter annotations:\n",
      "\n",
      "\\begin{verbatim}\n",
      "record.letter_annotations\n",
      "{}\n",
      "\\end{verbatim}\n",
      "\n",
      "Most of the annotations information gets recorded in the \\verb|annotations| dictionary, for example:\n",
      "\n",
      "\\begin{verbatim}\n",
      "len(record.annotations)\n",
      "11\n",
      "record.annotations[\"source\"]\n",
      "'Yersinia pestis biovar Microtus str. 91001'\n",
      "\\end{verbatim}\n",
      "\n",
      "The \\verb|dbxrefs| list gets populated from any PROJECT or DBLINK lines:\n",
      "\n",
      "\\begin{verbatim}\n",
      "record.dbxrefs\n",
      "['Project:10638']\n",
      "\\end{verbatim}\n",
      "\n",
      "Finally, and perhaps most interestingly, all the entries in the features table (e.g. the genes or CDS features) get recorded as \\verb|SeqFeature| objects in the \\verb|features| list.\n",
      "\n",
      "\\begin{verbatim}\n",
      "len(record.features)\n",
      "29\n",
      "\\end{verbatim}\n",
      "\n",
      "\\noindent We'll talk about \\verb|SeqFeature| objects next, in\n",
      "Section~\\ref{sec:seq_features}.\n",
      "\n",
      "\\section{Feature, location and position objects}\n",
      "\\label{sec:seq_features}\n"
     ],
     "language": "python",
     "metadata": {},
     "outputs": []
    },
    {
     "cell_type": "heading",
     "level": 3,
     "metadata": {},
     "source": [
      "SeqFeature objects"
     ]
    },
    {
     "cell_type": "markdown",
     "metadata": {},
     "source": [
      "Sequence features are an essential part of describing a sequence. Once you get beyond the sequence itself, you need some way to organize and easily get at the more ``abstract'' information that is known about the sequence. While it is probably impossible to develop a general sequence feature class that will cover everything, the Biopython \\verb|SeqFeature| class attempts to encapsulate as much of the information about the sequence as possible. The design is heavily based on the GenBank/EMBL feature tables, so if you understand how they look, you'll probably have an easier time grasping the structure of the Biopython classes.\n",
      "\n",
      "The key idea about each \\verb|SeqFeature| object is to describe a region on a parent sequence, typically a \\verb|SeqRecord| object. That region is described with a location object, typically a range between two positions (see Section~\\ref{sec:locations} below).\n",
      "\n",
      "The \\verb|SeqFeature| class has a number of attributes, so first we'll list them and their general features, and then later in the chapter work through examples to show how this applies to a real life example. The attributes of a SeqFeature are:\n",
      "\n",
      "\\begin{description}\n",
      "  \\item[.type] -- This is a textual description of the type of feature (for instance, this will be something like `CDS' or `gene').\n",
      "\n",
      "  \\item[.location] -- The location of the \\verb|SeqFeature| on the sequence\n",
      "  that you are dealing with, see Section~\\ref{sec:locations} below. The\n",
      "  \\verb|SeqFeature| delegates much of its functionality to the location\n",
      "  object, and includes a number of shortcut attributes for properties\n",
      "  of the location:\n",
      "\n",
      "  \\begin{description}\n",
      "    \\item[.ref] -- shorthand for \\verb|.location.ref| -- any (different)\n",
      "    reference sequence the location is referring to. Usually just None.\n",
      "\n",
      "    \\item[.ref\\_db] -- shorthand for \\verb|.location.ref_db| -- specifies\n",
      "    the database any identifier in \\verb|.ref| refers to. Usually just None.\n",
      "\n",
      "    \\item[.strand] -- shorthand for \\verb|.location.strand| -- the strand on\n",
      "    the sequence that the feature is located on. For double stranded nucleotide\n",
      "    sequence this may either be $1$ for the top strand, $-1$ for the bottom\n",
      "    strand, $0$ if the strand is important but is unknown, or \\texttt{None}\n",
      "    if it doesn't matter. This is None for proteins, or single stranded sequences.\n",
      "  \\end{description}\n",
      "\n",
      "  \\item[.qualifiers] -- This is a Python dictionary of additional information about the feature. The key is some kind of terse one-word description of what the information contained in the value is about, and the value is the actual information. For example, a common key for a qualifier might be ``evidence'' and the value might be ``computational (non-experimental).'' This is just a way to let the person who is looking at the feature know that it has not be experimentally (i.~e.~in a wet lab) confirmed. Note that other the value will be a list of strings (even when there is only one string). This is a reflection of the feature tables in GenBank/EMBL files.\n",
      " \n",
      "  \\item[.sub\\_features] -- This used to be used to represent features with complicated locations like `joins' in GenBank/EMBL files. This has been deprecated with the introduction of the \\verb|CompoundLocation| object, and should now be ignored.\n",
      "  \n",
      "\\end{description}"
     ]
    },
    {
     "cell_type": "heading",
     "level": 3,
     "metadata": {},
     "source": [
      "Positions and locations"
     ]
    },
    {
     "cell_type": "markdown",
     "metadata": {},
     "source": [
      "The key idea about each \\verb|SeqFeature| object is to describe a\n",
      "region on a parent sequence, for which we use a location object,\n",
      "typically describing a range between two positions. Two try to\n",
      "clarify the terminology we're using:\n",
      "\n",
      "\\begin{description}\n",
      "  \\item[position] -- This refers to a single position on a sequence,\n",
      "  which may be fuzzy or not. For instance, 5, 20, \\verb|<100| and\n",
      "  \\verb|>200| are all positions.\n",
      "\n",
      "  \\item[location] -- A location is region of sequence bounded by\n",
      "  some positions. For instance 5..20 (i.~e.~5 to 20) is a location.\n",
      "\\end{description}\n",
      "\n",
      "I just mention this because sometimes I get confused between the two."
     ]
    },
    {
     "cell_type": "heading",
     "level": 4,
     "metadata": {},
     "source": [
      "FeatureLocation object"
     ]
    },
    {
     "cell_type": "markdown",
     "metadata": {},
     "source": [
      "Unless you work with eukaryotic genes, most \\verb|SeqFeature| locations are\n",
      "extremely simple - you just need start and end coordinates and a strand.\n",
      "That's essentially all the basic \\verb|FeatureLocation| object does.\n",
      "\n",
      "%TODO -- add example here\n",
      "\n",
      "In practise of course, things can be more complicated. First of all\n",
      "we have to handle compound locations made up of several regions.\n",
      "Secondly, the positions themselves may be fuzzy (inexact)."
     ]
    },
    {
     "cell_type": "heading",
     "level": 4,
     "metadata": {},
     "source": [
      "CompoundLocation object"
     ]
    },
    {
     "cell_type": "markdown",
     "metadata": {},
     "source": [
      "Biopython 1.62 introduced the \\verb|CompoundLocation| as part of\n",
      "a restructuring of how complex locations made up of multiple regions\n",
      "are represented.\n",
      "The main usage is for handling `join' locations in EMBL/GenBank files.\n"
     ]
    },
    {
     "cell_type": "heading",
     "level": 4,
     "metadata": {},
     "source": [
      "Fuzzy Positions"
     ]
    },
    {
     "cell_type": "markdown",
     "metadata": {},
     "source": [
      "So far we've only used simple positions. One complication in dealing\n",
      "with feature locations comes in the positions themselves.\n",
      "In biology many times things aren't entirely certain\n",
      "(as much as us wet lab biologists try to make them certain!). For\n",
      "instance, you might do a dinucleotide priming experiment and discover\n",
      "that the start of mRNA transcript starts at one of two sites. This\n",
      "is very useful information, but the complication comes in how to\n",
      "represent this as a position. To help us deal with this, we have\n",
      "the concept of fuzzy positions. Basically there are several types\n",
      "of fuzzy positions, so we have five classes do deal with them:\n",
      "\n",
      "\\begin{description}\n",
      "  \\item[ExactPosition] -- As its name suggests, this class represents a position which is specified as exact along the sequence. This is represented as just a number, and you can get the position by looking at the \\verb|position| attribute of the object.\n",
      "\n",
      "  \\item[BeforePosition] -- This class represents a fuzzy position\n",
      "  that occurs prior to some specified site. In GenBank/EMBL notation,\n",
      "  this is represented as something like \\verb|`<13'|, signifying that\n",
      "  the real position is located somewhere less than 13. To get\n",
      "  the specified upper boundary, look at the \\verb|position|\n",
      "  attribute of the object.\n",
      "\n",
      "  \\item[AfterPosition] -- Contrary to \\verb|BeforePosition|, this\n",
      "  class represents a position that occurs after some specified site.\n",
      "  This is represented in GenBank as \\verb|`>13'|, and like\n",
      "  \\verb|BeforePosition|, you get the boundary number by looking\n",
      "  at the \\verb|position| attribute of the object.\n",
      "\n",
      "  \\item[WithinPosition] -- Occasionally used for GenBank/EMBL locations,\n",
      "  this class models a position which occurs somewhere between two\n",
      "  specified nucleotides. In GenBank/EMBL notation, this would be\n",
      "  represented as `(1.5)', to represent that the position is somewhere\n",
      "  within the range 1 to 5. To get the information in this class you\n",
      "  have to look at two attributes. The \\verb|position| attribute\n",
      "  specifies the lower boundary of the range we are looking at, so in\n",
      "  our example case this would be one. The \\verb|extension| attribute\n",
      "  specifies the range to the higher boundary, so in this case it\n",
      "  would be 4. So \\verb|object.position| is the lower boundary and\n",
      "  \\verb|object.position + object.extension| is the upper boundary.\n",
      "\n",
      "  \\item[OneOfPosition] -- Occasionally used for GenBank/EMBL locations,\n",
      "  this class deals with a position where several possible values exist,\n",
      "  for instance you could use this if the start codon was unclear and\n",
      "  there where two candidates for the start of the gene. Alternatively,\n",
      "  that might be handled explicitly as two related gene features.\n",
      "\n",
      "  \\item[UnknownPosition] -- This class deals with a position of unknown\n",
      "  location. This is not used in GenBank/EMBL, but corresponds to the `?'\n",
      "  feature coordinate used in UniProt.\n",
      "\n",
      "\\end{description}\n",
      "\n",
      "Here's an example where we create a location with fuzzy end points:"
     ]
    },
    {
     "cell_type": "code",
     "collapsed": false,
     "input": [
      "from Bio import SeqFeature\n",
      "start_pos = SeqFeature.AfterPosition(5)\n",
      "end_pos = SeqFeature.BetweenPosition(9, left=8, right=9)\n",
      "my_location = SeqFeature.FeatureLocation(start_pos, end_pos)\n"
     ],
     "language": "python",
     "metadata": {},
     "outputs": []
    },
    {
     "cell_type": "markdown",
     "metadata": {},
     "source": [
      "Note that the details of some of the fuzzy-locations changed in Biopython 1.59,\n",
      "in particular for BetweenPosition and WithinPosition you must now make it explicit\n",
      "which integer position should be used for slicing etc. For a start position this\n",
      "is generally the lower (left) value, while for an end position this would generally\n",
      "be the higher (right) value.\n",
      "\n",
      "If you print out a \\verb|FeatureLocation| object, you can get a nice representation of the information:\n"
     ]
    },
    {
     "cell_type": "code",
     "collapsed": false,
     "input": [
      "print(my_location)\n",
      "[>5:(8^9)]"
     ],
     "language": "python",
     "metadata": {},
     "outputs": []
    },
    {
     "cell_type": "markdown",
     "metadata": {},
     "source": [
      "We can access the fuzzy start and end positions using the start and end attributes of the location:\n"
     ]
    },
    {
     "cell_type": "code",
     "collapsed": false,
     "input": [
      "my_location.start\n",
      "AfterPosition(5)\n",
      "print(my_location.start)\n",
      ">5\n",
      "my_location.end\n",
      "BetweenPosition(9, left=8, right=9)\n",
      "print(my_location.end)\n",
      "(8^9)"
     ],
     "language": "python",
     "metadata": {},
     "outputs": []
    },
    {
     "cell_type": "markdown",
     "metadata": {},
     "source": [
      "If you don't want to deal with fuzzy positions and just want numbers,\n",
      "they are actually subclasses of integers so should work like integers:"
     ]
    },
    {
     "cell_type": "code",
     "collapsed": false,
     "input": [
      "int(my_location.start)\n",
      "5\n",
      "int(my_location.end)\n",
      "9"
     ],
     "language": "python",
     "metadata": {},
     "outputs": []
    },
    {
     "cell_type": "markdown",
     "metadata": {},
     "source": [
      "\n",
      "For compatibility with older versions of Biopython you can ask for the\n",
      "\\verb|nofuzzy_start| and \\verb|nofuzzy_end| attributes of the location\n",
      "which are plain integers:\n",
      "\n"
     ]
    },
    {
     "cell_type": "code",
     "collapsed": false,
     "input": [
      "my_location.nofuzzy_start\n",
      "5\n",
      "my_location.nofuzzy_end\n",
      "9\n"
     ],
     "language": "python",
     "metadata": {},
     "outputs": []
    },
    {
     "cell_type": "markdown",
     "metadata": {},
     "source": [
      "Notice that this just gives you back the position attributes of the fuzzy locations.\n",
      "\n",
      "Similarly, to make it easy to create a position without worrying about fuzzy positions, you can just pass in numbers to the \\verb|FeaturePosition| constructors, and you'll get back out \\verb|ExactPosition| objects:"
     ]
    },
    {
     "cell_type": "code",
     "collapsed": false,
     "input": [
      "exact_location = SeqFeature.FeatureLocation(5, 9)\n",
      "print(exact_location)\n",
      "[5:9]\n",
      "exact_location.start\n",
      "ExactPosition(5)\n",
      "int(exact_location.start)\n",
      "5\n",
      "exact_location.nofuzzy_start\n",
      "5"
     ],
     "language": "python",
     "metadata": {},
     "outputs": []
    },
    {
     "cell_type": "markdown",
     "metadata": {},
     "source": [
      "That is most of the nitty gritty about dealing with fuzzy positions in Biopython.\n",
      "It has been designed so that dealing with fuzziness is not that much more\n",
      "complicated than dealing with exact positions, and hopefully you find that true!\n"
     ]
    },
    {
     "cell_type": "heading",
     "level": 4,
     "metadata": {},
     "source": [
      "Location testing"
     ]
    },
    {
     "cell_type": "markdown",
     "metadata": {},
     "source": [
      "You can use the Python keyword \\verb|in| with a \\verb|SeqFeature| or location\n",
      "object to see if the base/residue for a parent coordinate is within the\n",
      "feature/location or not.\n",
      "\n",
      "For example, suppose you have a SNP of interest and you want to know which\n",
      "features this SNP is within, and lets suppose this SNP is at index 4350\n",
      "(Python counting!). Here is a simple brute force solution where we just\n",
      "check all the features one by one in a loop:\n"
     ]
    },
    {
     "cell_type": "code",
     "collapsed": false,
     "input": [
      "from Bio import SeqIO\n",
      "my_snp = 4350\n",
      "record = SeqIO.read(\"NC_005816.gb\", \"genbank\")\n",
      "for feature in record.features:\n",
      "...     if my_snp in feature:\n",
      "...         print(\"%s %s\" % (feature.type, feature.qualifiers.get('db_xref')))\n",
      "... \n",
      "source ['taxon:229193']\n",
      "gene ['GeneID:2767712']\n",
      "CDS ['GI:45478716', 'GeneID:2767712']"
     ],
     "language": "python",
     "metadata": {},
     "outputs": []
    },
    {
     "cell_type": "markdown",
     "metadata": {},
     "source": [
      "Note that gene and CDS features from GenBank or EMBL files defined with joins\n",
      "are the union of the exons -- they do not cover any introns.\n"
     ]
    },
    {
     "cell_type": "heading",
     "level": 3,
     "metadata": {},
     "source": [
      "Sequence described by a feature or location"
     ]
    },
    {
     "cell_type": "markdown",
     "metadata": {},
     "source": [
      "A \\verb|SeqFeature| or location object doesn't directly contain a sequence, instead the location (see Section~\\ref{sec:locations}) describes how to get this from the parent sequence. For example consider a (short) gene sequence with location 5:18 on the reverse strand, which in GenBank/EMBL notation using 1-based counting would be \\texttt{complement(6..18)}, like this:\n"
     ]
    },
    {
     "cell_type": "code",
     "collapsed": false,
     "input": [
      "from Bio.Seq import Seq\n",
      "from Bio.SeqFeature import SeqFeature, FeatureLocation\n",
      "example_parent = Seq(\"ACCGAGACGGCAAAGGCTAGCATAGGTATGAGACTTCCTTCCTGCCAGTGCTGAGGAACTGGGAGCCTAC\")\n",
      "example_feature = SeqFeature(FeatureLocation(5, 18), type=\"gene\", strand=-1)\n"
     ],
     "language": "python",
     "metadata": {},
     "outputs": []
    },
    {
     "cell_type": "markdown",
     "metadata": {},
     "source": [
      "You could take the parent sequence, slice it to extract 5:18, and then take the reverse complement.\n",
      "If you are using Biopython 1.59 or later, the feature location's start and end are integer like so this works:\n"
     ]
    },
    {
     "cell_type": "code",
     "collapsed": false,
     "input": [
      "feature_seq = example_parent[example_feature.location.start:example_feature.location.end].reverse_complement()\n",
      "print(feature_seq)\n",
      "AGCCTTTGCCGTC\n"
     ],
     "language": "python",
     "metadata": {},
     "outputs": []
    },
    {
     "cell_type": "markdown",
     "metadata": {},
     "source": [
      "This is a simple example so this isn't too bad -- however once you have to deal with compound features (joins) this is rather messy. Instead, the \\verb|SeqFeature| object has an \\verb|extract| method to take care of all this:\n"
     ]
    },
    {
     "cell_type": "code",
     "collapsed": false,
     "input": [
      "feature_seq = example_feature.extract(example_parent)\n",
      "print(feature_seq)\n",
      "AGCCTTTGCCGTC\n"
     ],
     "language": "python",
     "metadata": {},
     "outputs": []
    },
    {
     "cell_type": "markdown",
     "metadata": {},
     "source": [
      "The length of a \\verb|SeqFeature| or location matches\n",
      "that of the region of sequence it describes.\n"
     ]
    },
    {
     "cell_type": "code",
     "collapsed": false,
     "input": [
      "print(example_feature.extract(example_parent))\n",
      "AGCCTTTGCCGTC\n",
      "print(len(example_feature.extract(example_parent)))\n",
      "13\n",
      "print(len(example_feature))\n",
      "13\n",
      "print(len(example_feature.location))\n",
      "13\n"
     ],
     "language": "python",
     "metadata": {},
     "outputs": []
    },
    {
     "cell_type": "markdown",
     "metadata": {},
     "source": [
      "For simple \\verb|FeatureLocation| objects the length is just\n",
      "the difference between the start and end positions. However,\n",
      "for a \\verb|CompoundLocation| the length is the sum of the\n",
      "constituent regions.\n"
     ]
    },
    {
     "cell_type": "heading",
     "level": 2,
     "metadata": {},
     "source": [
      "References"
     ]
    },
    {
     "cell_type": "markdown",
     "metadata": {},
     "source": [
      "Another common annotation related to a sequence is a reference to a journal or other published work dealing with the sequence. We have a fairly simple way of representing a Reference in Biopython -- we have a \\verb|Bio.SeqFeature.Reference| class that stores the relevant information about a reference as attributes of an object.\n",
      "\n",
      "The attributes include things that you would expect to see in a reference like \\verb|journal|, \\verb|title| and \\verb|authors|. Additionally, it also can hold the \\verb|medline_id| and \\verb|pubmed_id| and a \\verb|comment| about the reference. These are all accessed simply as attributes of the object.\n",
      "\n",
      "A reference also has a \\verb|location| object so that it can specify a particular location on the sequence that the reference refers to. For instance, you might have a journal that is dealing with a particular gene located on a BAC, and want to specify that it only refers to this position exactly. The \\verb|location| is a potentially fuzzy location, as described in section~\\ref{sec:locations}.\n",
      "\n",
      "Any reference objects are stored as a list in the \\verb|SeqRecord| object's \\verb|annotations| dictionary under the key ``references''.\n",
      "That's all there is too it. References are meant to be easy to deal with, and hopefully general enough to cover lots of usage cases.\n"
     ]
    },
    {
     "cell_type": "heading",
     "level": 2,
     "metadata": {},
     "source": [
      "The format method"
     ]
    },
    {
     "cell_type": "markdown",
     "metadata": {},
     "source": [
      "The \\verb|format()| method of the \\verb|SeqRecord| class gives a string\n",
      "containing your record formatted using one of the output file formats\n",
      "supported by \\verb|Bio.SeqIO|, such as FASTA:\n"
     ]
    },
    {
     "cell_type": "code",
     "collapsed": false,
     "input": [
      "from Bio.Seq import Seq\n",
      "from Bio.SeqRecord import SeqRecord\n",
      "from Bio.Alphabet import generic_protein\n",
      "\n",
      "record = SeqRecord(Seq(\"MMYQQGCFAGGTVLRLAKDLAENNRGARVLVVCSEITAVTFRGPSETHLDSMVGQALFGD\" \\\n",
      "                      +\"GAGAVIVGSDPDLSVERPLYELVWTGATLLPDSEGAIDGHLREVGLTFHLLKDVPGLISK\" \\\n",
      "                      +\"NIEKSLKEAFTPLGISDWNSTFWIAHPGGPAILDQVEAKLGLKEEKMRATREVLSEYGNM\" \\\n",
      "                      +\"SSAC\", generic_protein),\n",
      "                   id=\"gi|14150838|gb|AAK54648.1|AF376133_1\",\n",
      "                   description=\"chalcone synthase [Cucumis sativus]\")\n",
      "                   \n",
      "print(record.format(\"fasta\"))\n"
     ],
     "language": "python",
     "metadata": {},
     "outputs": []
    },
    {
     "cell_type": "markdown",
     "metadata": {},
     "source": [
      "This \\verb|format| method takes a single mandatory argument, a lower case string which is\n",
      "supported by \\verb|Bio.SeqIO| as an output format (see Chapter~\\ref{chapter:Bio.SeqIO}).\n",
      "However, some of the file formats \\verb|Bio.SeqIO| can write to \\emph{require} more than\n",
      "one record (typically the case for multiple sequence alignment formats), and thus won't\n",
      "work via this \\verb|format()| method.  See also Section~\\ref{sec:Bio.SeqIO-and-StringIO}.\n"
     ]
    },
    {
     "cell_type": "heading",
     "level": 2,
     "metadata": {},
     "source": [
      "Slicing a SeqRecord"
     ]
    },
    {
     "cell_type": "markdown",
     "metadata": {},
     "source": [
      "You can slice a \\verb|SeqRecord|, to give you a new \\verb|SeqRecord| covering just\n",
      "part of the sequence. What is important\n",
      "here is that any per-letter annotations are also sliced, and any features which fall\n",
      "completely within the new sequence are preserved (with their locations adjusted).\n",
      "\n",
      "For example, taking the same GenBank file used earlier:\n"
     ]
    },
    {
     "cell_type": "code",
     "collapsed": false,
     "input": [
      "from Bio import SeqIO\n",
      "record = SeqIO.read(\"NC_005816.gb\", \"genbank\")\n",
      "\\end{verbatim}\n",
      "%TODO - support line wrapping in doctest\n",
      "\\begin{verbatim}\n",
      "record\n",
      "SeqRecord(seq=Seq('TGTAACGAACGGTGCAATAGTGATCCACACCCAACGCCTGAAATCAGATCCAGG...CTG',\n",
      "IUPACAmbiguousDNA()), id='NC_005816.1', name='NC_005816',\n",
      "description='Yersinia pestis biovar Microtus str. 91001 plasmid pPCP1, complete sequence.',\n",
      "dbxrefs=['Project:10638'])\n",
      "\\end{verbatim}\n",
      "%cont-doctest\n",
      "\\begin{verbatim}\n",
      "len(record)\n",
      "9609\n",
      "len(record.features)\n",
      "41\n"
     ],
     "language": "python",
     "metadata": {},
     "outputs": []
    },
    {
     "cell_type": "markdown",
     "metadata": {},
     "source": [
      "For this example we're going to focus in on the \\verb|pim| gene, \\verb|YP_pPCP05|.\n",
      "If you have a look at the GenBank file directly you'll find this gene/CDS has\n",
      "location string \\texttt{4343..4780}, or in Python counting \\texttt{4342:4780}.\n",
      "From looking at the file you can work out that these are the twelfth and\n",
      "thirteenth entries in the file, so in Python zero-based counting they are\n",
      "entries $11$ and $12$ in the \\texttt{features} list:\n"
     ]
    },
    {
     "cell_type": "code",
     "collapsed": false,
     "input": [
      "print(record.features[20])\n",
      "type: gene\n",
      "location: [4342:4780](+)\n",
      "qualifiers: \n",
      "    Key: db_xref, Value: ['GeneID:2767712']\n",
      "    Key: gene, Value: ['pim']\n",
      "    Key: locus_tag, Value: ['YP_pPCP05']\n",
      "<BLANKLINE>\n",
      "\\end{verbatim}\n",
      "%This one is truncated so can't use for doctest\n",
      "\\begin{verbatim}\n",
      "print(record.features[21])\n",
      "type: CDS\n",
      "location: [4342:4780](+)\n",
      "qualifiers: \n",
      "    Key: codon_start, Value: ['1']\n",
      "    Key: db_xref, Value: ['GI:45478716', 'GeneID:2767712']\n",
      "    Key: gene, Value: ['pim']\n",
      "    Key: locus_tag, Value: ['YP_pPCP05']\n",
      "    Key: note, Value: ['similar to many previously sequenced pesticin immunity ...']\n",
      "    Key: product, Value: ['pesticin immunity protein']\n",
      "    Key: protein_id, Value: ['NP_995571.1']\n",
      "    Key: transl_table, Value: ['11']\n",
      "    Key: translation, Value: ['MGGGMISKLFCLALIFLSSSGLAEKNTYTAKDILQNLELNTFGNSLSH...']\n"
     ],
     "language": "python",
     "metadata": {},
     "outputs": []
    },
    {
     "cell_type": "markdown",
     "metadata": {},
     "source": [
      "Let's slice this parent record from 4300 to 4800 (enough to include the \\verb|pim|\n",
      "gene/CDS), and see how many features we get:"
     ]
    },
    {
     "cell_type": "code",
     "collapsed": false,
     "input": [
      "sub_record = record[4300:4800]\n",
      "\\end{verbatim}\n",
      "%TODO - Line wrapping for doctest?\n",
      "\\begin{verbatim}\n",
      "sub_record\n",
      "SeqRecord(seq=Seq('ATAAATAGATTATTCCAAATAATTTATTTATGTAAGAACAGGATGGGAGGGGGA...TTA',\n",
      "IUPACAmbiguousDNA()), id='NC_005816.1', name='NC_005816',\n",
      "description='Yersinia pestis biovar Microtus str. 91001 plasmid pPCP1, complete sequence.',\n",
      "dbxrefs=[])\n",
      "\\end{verbatim}\n",
      "%cont-doctest\n",
      "\\begin{verbatim}\n",
      "len(sub_record)\n",
      "500\n",
      "len(sub_record.features)\n",
      "2"
     ],
     "language": "python",
     "metadata": {},
     "outputs": []
    },
    {
     "cell_type": "markdown",
     "metadata": {},
     "source": [
      "Our sub-record just has two features, the gene and CDS entries for \\verb|YP_pPCP05|:\n",
      "\n"
     ]
    },
    {
     "cell_type": "code",
     "collapsed": false,
     "input": [
      "print(sub_record.features[0])\n",
      "type: gene\n",
      "location: [42:480](+)\n",
      "qualifiers: \n",
      "    Key: db_xref, Value: ['GeneID:2767712']\n",
      "    Key: gene, Value: ['pim']\n",
      "    Key: locus_tag, Value: ['YP_pPCP05']\n",
      "<BLANKLINE>\n",
      "\\end{verbatim}\n",
      "\\begin{verbatim}\n",
      "print(sub_record.features[20])\n",
      "type: CDS\n",
      "location: [42:480](+)\n",
      "qualifiers: \n",
      "    Key: codon_start, Value: ['1']\n",
      "    Key: db_xref, Value: ['GI:45478716', 'GeneID:2767712']\n",
      "    Key: gene, Value: ['pim']\n",
      "    Key: locus_tag, Value: ['YP_pPCP05']\n",
      "    Key: note, Value: ['similar to many previously sequenced pesticin immunity ...']\n",
      "    Key: product, Value: ['pesticin immunity protein']\n",
      "    Key: protein_id, Value: ['NP_995571.1']\n",
      "    Key: transl_table, Value: ['11']\n",
      "    Key: translation, Value: ['MGGGMISKLFCLALIFLSSSGLAEKNTYTAKDILQNLELNTFGNSLSH...']\n"
     ],
     "language": "python",
     "metadata": {},
     "outputs": []
    },
    {
     "cell_type": "markdown",
     "metadata": {},
     "source": [
      "Notice that their locations have been adjusted to reflect the new parent sequence!\n",
      "\n",
      "While Biopython has done something sensible and hopefully intuitive with the features\n",
      "(and any per-letter annotation), for the other annotation it is impossible to know if\n",
      "this still applies to the sub-sequence or not. To avoid guessing, the \\texttt{annotations}\n",
      "and \\texttt{dbxrefs} are omitted from the sub-record, and it is up to you to transfer\n",
      "any relevant information as appropriate."
     ]
    },
    {
     "cell_type": "code",
     "collapsed": false,
     "input": [
      "sub_record.annotations\n",
      "{}\n",
      "sub_record.dbxrefs\n",
      "[]"
     ],
     "language": "python",
     "metadata": {},
     "outputs": []
    },
    {
     "cell_type": "markdown",
     "metadata": {},
     "source": [
      "The same point could be made about the record \\texttt{id}, \\texttt{name}\n",
      "and \\texttt{description}, but for practicality these are preserved:\n"
     ]
    },
    {
     "cell_type": "code",
     "collapsed": false,
     "input": [
      "sub_record.id\n",
      "'NC_005816.1'\n",
      "sub_record.name\n",
      "'NC_005816'\n",
      "sub_record.description\n",
      "'Yersinia pestis biovar Microtus str. 91001 plasmid pPCP1, complete sequence.'\n"
     ],
     "language": "python",
     "metadata": {},
     "outputs": []
    },
    {
     "cell_type": "markdown",
     "metadata": {},
     "source": [
      "This illustrates the problem nicely though, our new sub-record is\n",
      "\\emph{not} the complete sequence of the plasmid, so the description is wrong!\n",
      "Let's fix this and then view the sub-record as a reduced GenBank file using\n",
      "the \\texttt{format} method described above in Section~\\ref{sec:SeqRecord-format}:"
     ]
    },
    {
     "cell_type": "code",
     "collapsed": false,
     "input": [
      "sub_record.description = \"Yersinia pestis biovar Microtus str. 91001 plasmid pPCP1, partial.\"\n",
      "print(sub_record.format(\"genbank\"))\n"
     ],
     "language": "python",
     "metadata": {},
     "outputs": []
    },
    {
     "cell_type": "heading",
     "level": 2,
     "metadata": {},
     "source": [
      "Adding SeqRecord objects"
     ]
    },
    {
     "cell_type": "markdown",
     "metadata": {},
     "source": [
      "You can add \\verb|SeqRecord| objects together, giving a new \\verb|SeqRecord|.\n",
      "What is important here is that any common\n",
      "per-letter annotations are also added, all the features are preserved (with their\n",
      "locations adjusted), and any other common annotation is also kept (like the id, name\n",
      "and description).\n",
      "\n",
      "For an example with per-letter annotation, we'll use the first record in a\n",
      "FASTQ file. Chapter~\\ref{chapter:Bio.SeqIO} will explain the \\verb|SeqIO| functions:"
     ]
    },
    {
     "cell_type": "code",
     "collapsed": false,
     "input": [
      "from Bio import SeqIO\n",
      "record = next(SeqIO.parse(\"example.fastq\", \"fastq\"))\n",
      "len(record)\n",
      "25\n",
      "print(record.seq)\n",
      "CCCTTCTTGTCTTCAGCGTTTCTCC\n",
      "\\end{verbatim}\n",
      "%TODO - doctest wrapping\n",
      "\\begin{verbatim}\n",
      "print(record.letter_annotations[\"phred_quality\"])\n",
      "[26, 26, 18, 26, 26, 26, 26, 26, 26, 26, 26, 26, 26, 26, 26, 22, 26, 26, 26, 26,\n",
      "26, 26, 26, 23, 23]\n"
     ],
     "language": "python",
     "metadata": {},
     "outputs": []
    },
    {
     "cell_type": "markdown",
     "metadata": {},
     "source": [
      "Let's suppose this was Roche 454 data, and that from other information\n",
      "you think the \\texttt{TTT} should be only \\texttt{TT}. We can make a new edited\n",
      "record by first slicing the \\verb|SeqRecord| before and after the ``extra''\n",
      "third \\texttt{T}:"
     ]
    },
    {
     "cell_type": "code",
     "collapsed": false,
     "input": [
      "left = record[:20]\n",
      "print(left.seq)\n",
      "CCCTTCTTGTCTTCAGCGTT\n",
      "print(left.letter_annotations[\"phred_quality\"])\n",
      "[26, 26, 18, 26, 26, 26, 26, 26, 26, 26, 26, 26, 26, 26, 26, 22, 26, 26, 26, 26]\n",
      "right = record[21:]\n",
      "print(right.seq)\n",
      "CTCC\n",
      "print(right.letter_annotations[\"phred_quality\"])\n",
      "[26, 26, 23, 23]"
     ],
     "language": "python",
     "metadata": {},
     "outputs": []
    },
    {
     "cell_type": "markdown",
     "metadata": {},
     "source": [
      "Now add the two parts together:"
     ]
    },
    {
     "cell_type": "code",
     "collapsed": false,
     "input": [
      "edited = left + right\n",
      "len(edited)\n",
      "24\n",
      "print(edited.seq)\n",
      "CCCTTCTTGTCTTCAGCGTTCTCC\n",
      "\\end{verbatim}\n",
      "\\begin{verbatim}\n",
      "print(edited.letter_annotations[\"phred_quality\"])\n",
      "[26, 26, 18, 26, 26, 26, 26, 26, 26, 26, 26, 26, 26, 26, 26, 22, 26, 26, 26, 26,\n",
      "26, 26, 23, 23]\n"
     ],
     "language": "python",
     "metadata": {},
     "outputs": []
    },
    {
     "cell_type": "markdown",
     "metadata": {},
     "source": [
      "Easy and intuitive? We hope so! You can make this shorter with just:\n"
     ]
    },
    {
     "cell_type": "code",
     "collapsed": false,
     "input": [
      "edited = record[:20] + record[21:]\n"
     ],
     "language": "python",
     "metadata": {},
     "outputs": []
    },
    {
     "cell_type": "markdown",
     "metadata": {},
     "source": [
      "Now, for an example with features, we'll use a GenBank file.\n",
      "Suppose you have a circular genome:\n"
     ]
    },
    {
     "cell_type": "code",
     "collapsed": false,
     "input": [
      "from Bio import SeqIO\n",
      "record = SeqIO.read(\"NC_005816.gb\", \"genbank\")\n",
      "\\end{verbatim}\n",
      "%TODO - doctest wrapping\n",
      "\\begin{verbatim}\n",
      "record\n",
      "SeqRecord(seq=Seq('TGTAACGAACGGTGCAATAGTGATCCACACCCAACGCCTGAAATCAGATCCAGG...CTG',\n",
      "IUPACAmbiguousDNA()), id='NC_005816.1', name='NC_005816',\n",
      "description='Yersinia pestis biovar Microtus str. 91001 plasmid pPCP1, complete sequence.',\n",
      "dbxrefs=['Project:10638'])\n",
      "\\end{verbatim}\n",
      "%cont-doctest\n",
      "\\begin{verbatim}\n",
      "len(record)\n",
      "9609\n",
      "len(record.features)\n",
      "41\n",
      "record.dbxrefs\n",
      "['Project:58037']\n",
      "\\end{verbatim}\n",
      "%TODO - doctest wrapping\n",
      "\\begin{verbatim}\n",
      "record.annotations.keys()\n",
      "['comment', 'sequence_version', 'source', 'taxonomy', 'keywords', 'references',\n",
      "'accessions', 'data_file_division', 'date', 'organism', 'gi']\n"
     ],
     "language": "python",
     "metadata": {},
     "outputs": []
    },
    {
     "cell_type": "markdown",
     "metadata": {},
     "source": [
      "You can shift the origin like this:"
     ]
    },
    {
     "cell_type": "code",
     "collapsed": false,
     "input": [
      "shifted = record[2000:] + record[:2000]\n",
      "\\end{verbatim}\n",
      "%TODO - doctest wrapping\n",
      "\\begin{verbatim}\n",
      "shifted\n",
      "SeqRecord(seq=Seq('GATACGCAGTCATATTTTTTACACAATTCTCTAATCCCGACAAGGTCGTAGGTC...GGA',\n",
      "IUPACAmbiguousDNA()), id='NC_005816.1', name='NC_005816',\n",
      "description='Yersinia pestis biovar Microtus str. 91001 plasmid pPCP1, complete sequence.',\n",
      "dbxrefs=[])\n",
      "\\end{verbatim}\n",
      "%cont-doctest\n",
      "\\begin{verbatim}\n",
      "len(shifted)\n",
      "9609\n"
     ],
     "language": "python",
     "metadata": {},
     "outputs": []
    },
    {
     "cell_type": "markdown",
     "metadata": {},
     "source": [
      "Note that this isn't perfect in that some annotation like the database cross references\n",
      "and one of the features (the source feature) have been lost:\n"
     ]
    },
    {
     "cell_type": "code",
     "collapsed": false,
     "input": [
      "len(shifted.features)\n",
      "40\n",
      "shifted.dbxrefs\n",
      "[]\n",
      "shifted.annotations.keys()\n",
      "[]"
     ],
     "language": "python",
     "metadata": {},
     "outputs": []
    },
    {
     "cell_type": "markdown",
     "metadata": {},
     "source": [
      "This is because the \\verb|SeqRecord| slicing step is cautious in what annotation\n",
      "it preserves (erroneously propagating annotation can cause major problems). If\n",
      "you want to keep the database cross references or the annotations dictionary,\n",
      "this must be done explicitly:\n"
     ]
    },
    {
     "cell_type": "code",
     "collapsed": false,
     "input": [
      "shifted.dbxrefs = record.dbxrefs[:]\n",
      "shifted.annotations = record.annotations.copy()\n",
      "shifted.dbxrefs\n",
      "['Project:10638']\n",
      "shifted.annotations.keys()\n",
      "['comment', 'sequence_version', 'source', 'taxonomy', 'keywords', 'references',\n",
      "'accessions', 'data_file_division', 'date', 'organism', 'gi']\n"
     ],
     "language": "python",
     "metadata": {},
     "outputs": []
    },
    {
     "cell_type": "markdown",
     "metadata": {},
     "source": [
      "Also note that in an example like this, you should probably change the record\n",
      "identifiers since the NCBI references refer to the \\emph{original} unmodified\n",
      "sequence.\n"
     ]
    },
    {
     "cell_type": "heading",
     "level": 2,
     "metadata": {},
     "source": [
      "Reverse-complementing SeqRecord objects"
     ]
    },
    {
     "cell_type": "markdown",
     "metadata": {},
     "source": [
      "One of the new features in Biopython 1.57 was the \\verb|SeqRecord| object's\n",
      "\\verb|reverse_complement| method. This tries to balance easy of use with worries\n",
      "about what to do with the annotation in the reverse complemented record.\n",
      "\n",
      "For the sequence, this uses the Seq object's reverse complement method. Any\n",
      "features are transferred with the location and strand recalculated. Likewise\n",
      "any per-letter-annotation is also copied but reversed (which makes sense for\n",
      "typical examples like quality scores). However, transfer of most annotation\n",
      "is problematical.\n",
      "\n",
      "For instance, if the record ID was an accession, that accession should not really\n",
      "apply to the reverse complemented sequence, and transferring the identifier by\n",
      "default could easily cause subtle data corruption in downstream analysis.\n",
      "Therefore by default, the \\verb|SeqRecord|'s id, name, description, annotations\n",
      "and database cross references are all \\emph{not} transferred by default.\n",
      "\n",
      "The \\verb|SeqRecord| object's \\verb|reverse_complement| method takes a number\n",
      "of optional arguments corresponding to properties of the record. Setting these\n",
      "arguments to \\verb|True| means copy the old values, while \\verb|False| means\n",
      "drop the old values and use the default value. You can alternatively provide\n",
      "the new desired value instead.\n",
      "\n",
      "Consider this example record:\n"
     ]
    },
    {
     "cell_type": "code",
     "collapsed": false,
     "input": [
      "from Bio import SeqIO\n",
      "record = SeqIO.read(\"NC_005816.gb\", \"genbank\")\n",
      "print(\"%s %i %i %i %i\" % (record.id, len(record), len(record.features), len(record.dbxrefs), len(record.annotations)))\n",
      "NC_005816.1 9609 41 1 11\n"
     ],
     "language": "python",
     "metadata": {},
     "outputs": []
    },
    {
     "cell_type": "markdown",
     "metadata": {},
     "source": [
      "Here we take the reverse complement and specify a new identifier -- but notice\n",
      "how most of the annotation is dropped (but not the features):"
     ]
    },
    {
     "cell_type": "code",
     "collapsed": false,
     "input": [
      "rc = record.reverse_complement(id=\"TESTING\")\n",
      "print(\"%s %i %i %i %i\" % (rc.id, len(rc), len(rc.features), len(rc.dbxrefs), len(rc.annotations)))\n",
      "TESTING 9609 41 0 0\n"
     ],
     "language": "python",
     "metadata": {},
     "outputs": []
    },
    {
     "cell_type": "code",
     "collapsed": false,
     "input": [],
     "language": "python",
     "metadata": {},
     "outputs": []
    }
   ],
   "metadata": {}
  }
 ]
}