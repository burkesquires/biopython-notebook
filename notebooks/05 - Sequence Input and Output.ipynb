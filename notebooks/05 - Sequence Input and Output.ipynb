{
 "metadata": {
  "name": "",
  "signature": "sha256:e37eb6fbc9551b1043f2e47b75fedff127db1b0d14287e76934f15e4b3fd0fd9"
 },
 "nbformat": 3,
 "nbformat_minor": 0,
 "worksheets": [
  {
   "cells": [
    {
     "cell_type": "raw",
     "metadata": {},
     "source": []
    },
    {
     "cell_type": "markdown",
     "metadata": {},
     "source": [
      "**Source of the materials**: Biopython Tutorial and Cookbook (adapted)"
     ]
    },
    {
     "cell_type": "heading",
     "level": 1,
     "metadata": {},
     "source": [
      "Sequence Input/Output"
     ]
    },
    {
     "cell_type": "markdown",
     "metadata": {},
     "source": [
      "In this chapter we'll discuss in more detail the __Bio.SeqIO__ module, which was briefly introduced in Chapter~\\ref{chapter:quick-start} and also used in Chapter~\\ref{chapter:SeqRecord}. This aims to provide a simple interface for working with assorted sequence file formats in a uniform way.\n",
      "See also the __Bio.SeqIO__ wiki page (\\url{http://biopython.org/wiki/SeqIO}), and the built in documentation (also \\href{http://biopython.org/DIST/docs/api/Bio.SeqIO-module.html}{online}):"
     ]
    },
    {
     "cell_type": "code",
     "collapsed": false,
     "input": [
      "from Bio import SeqIO\n",
      "help(SeqIO)"
     ],
     "language": "python",
     "metadata": {},
     "outputs": [
      {
       "output_type": "stream",
       "stream": "stdout",
       "text": [
        "Help on package Bio.SeqIO in Bio:\n",
        "\n",
        "NAME\n",
        "    Bio.SeqIO - Sequence input/output as SeqRecord objects.\n",
        "\n",
        "FILE\n",
        "    /Users/squiresrb/anaconda/lib/python2.7/site-packages/Bio/SeqIO/__init__.py\n",
        "\n",
        "DESCRIPTION\n",
        "    Bio.SeqIO is also documented at U{http://biopython.org/wiki/SeqIO} and by\n",
        "    a whole chapter in our tutorial:\n",
        "     - U{http://biopython.org/DIST/docs/tutorial/Tutorial.html}\n",
        "     - U{http://biopython.org/DIST/docs/tutorial/Tutorial.pdf}\n",
        "    \n",
        "    Input\n",
        "    =====\n",
        "    The main function is Bio.SeqIO.parse(...) which takes an input file handle\n",
        "    (or in recent versions of Biopython alternatively a filename as a string),\n",
        "    and format string.  This returns an iterator giving SeqRecord objects:\n",
        "    \n",
        "        >>> from Bio import SeqIO\n",
        "        >>> for record in SeqIO.parse(\"Fasta/f002\", \"fasta\"):\n",
        "        ...     print(\"%s %i\" % (record.id, len(record)))\n",
        "        gi|1348912|gb|G26680|G26680 633\n",
        "        gi|1348917|gb|G26685|G26685 413\n",
        "        gi|1592936|gb|G29385|G29385 471\n",
        "    \n",
        "    Note that the parse() function will invoke the relevant parser for the\n",
        "    format with its default settings.  You may want more control, in which case\n",
        "    you need to create a format specific sequence iterator directly.\n",
        "    \n",
        "    Input - Single Records\n",
        "    ======================\n",
        "    If you expect your file to contain one-and-only-one record, then we provide\n",
        "    the following 'helper' function which will return a single SeqRecord, or\n",
        "    raise an exception if there are no records or more than one record:\n",
        "    \n",
        "        >>> from Bio import SeqIO\n",
        "        >>> record = SeqIO.read(\"Fasta/f001\", \"fasta\")\n",
        "        >>> print(\"%s %i\" % (record.id, len(record)))\n",
        "        gi|3318709|pdb|1A91| 79\n",
        "    \n",
        "    This style is useful when you expect a single record only (and would\n",
        "    consider multiple records an error).  For example, when dealing with GenBank\n",
        "    files for bacterial genomes or chromosomes, there is normally only a single\n",
        "    record.  Alternatively, use this with a handle when downloading a single\n",
        "    record from the internet.\n",
        "    \n",
        "    However, if you just want the first record from a file containing multiple\n",
        "    record, use the next() function on the iterator (or under Python 2, the\n",
        "    iterator's next() method):\n",
        "    \n",
        "        >>> from Bio import SeqIO\n",
        "        >>> record = next(SeqIO.parse(\"Fasta/f002\", \"fasta\"))\n",
        "        >>> print(\"%s %i\" % (record.id, len(record)))\n",
        "        gi|1348912|gb|G26680|G26680 633\n",
        "    \n",
        "    The above code will work as long as the file contains at least one record.\n",
        "    Note that if there is more than one record, the remaining records will be\n",
        "    silently ignored.\n",
        "    \n",
        "    \n",
        "    Input - Multiple Records\n",
        "    ========================\n",
        "    For non-interlaced files (e.g. Fasta, GenBank, EMBL) with multiple records\n",
        "    using a sequence iterator can save you a lot of memory (RAM).  There is\n",
        "    less benefit for interlaced file formats (e.g. most multiple alignment file\n",
        "    formats).  However, an iterator only lets you access the records one by one.\n",
        "    \n",
        "    If you want random access to the records by number, turn this into a list:\n",
        "    \n",
        "        >>> from Bio import SeqIO\n",
        "        >>> records = list(SeqIO.parse(\"Fasta/f002\", \"fasta\"))\n",
        "        >>> len(records)\n",
        "        3\n",
        "        >>> print(records[1].id)\n",
        "        gi|1348917|gb|G26685|G26685\n",
        "    \n",
        "    If you want random access to the records by a key such as the record id,\n",
        "    turn the iterator into a dictionary:\n",
        "    \n",
        "        >>> from Bio import SeqIO\n",
        "        >>> record_dict = SeqIO.to_dict(SeqIO.parse(\"Fasta/f002\", \"fasta\"))\n",
        "        >>> len(record_dict)\n",
        "        3\n",
        "        >>> print(len(record_dict[\"gi|1348917|gb|G26685|G26685\"]))\n",
        "        413\n",
        "    \n",
        "    However, using list() or the to_dict() function will load all the records\n",
        "    into memory at once, and therefore is not possible on very large files.\n",
        "    Instead, for *some* file formats Bio.SeqIO provides an indexing approach\n",
        "    providing dictionary like access to any record. For example,\n",
        "    \n",
        "        >>> from Bio import SeqIO\n",
        "        >>> record_dict = SeqIO.index(\"Fasta/f002\", \"fasta\")\n",
        "        >>> len(record_dict)\n",
        "        3\n",
        "        >>> print(len(record_dict[\"gi|1348917|gb|G26685|G26685\"]))\n",
        "        413\n",
        "        >>> record_dict.close()\n",
        "    \n",
        "    Many but not all of the supported input file formats can be indexed like\n",
        "    this. For example \"fasta\", \"fastq\", \"qual\" and even the binary format \"sff\"\n",
        "    work, but alignment formats like \"phylip\", \"clustalw\" and \"nexus\" will not.\n",
        "    \n",
        "    In most cases you can also use SeqIO.index to get the record from the file\n",
        "    as a raw string (not a SeqRecord). This can be useful for example to extract\n",
        "    a sub-set of records from a file where SeqIO cannot output the file format\n",
        "    (e.g. the plain text SwissProt format, \"swiss\") or where it is important to\n",
        "    keep the output 100% identical to the input). For example,\n",
        "    \n",
        "        >>> from Bio import SeqIO\n",
        "        >>> record_dict = SeqIO.index(\"Fasta/f002\", \"fasta\")\n",
        "        >>> len(record_dict)\n",
        "        3\n",
        "        >>> print(record_dict.get_raw(\"gi|1348917|gb|G26685|G26685\").decode())\n",
        "        >gi|1348917|gb|G26685|G26685 human STS STS_D11734.\n",
        "        CGGAGCCAGCGAGCATATGCTGCATGAGGACCTTTCTATCTTACATTATGGCTGGGAATCTTACTCTTTC\n",
        "        ATCTGATACCTTGTTCAGATTTCAAAATAGTTGTAGCCTTATCCTGGTTTTACAGATGTGAAACTTTCAA\n",
        "        GAGATTTACTGACTTTCCTAGAATAGTTTCTCTACTGGAAACCTGATGCTTTTATAAGCCATTGTGATTA\n",
        "        GGATGACTGTTACAGGCTTAGCTTTGTGTGAAANCCAGTCACCTTTCTCCTAGGTAATGAGTAGTGCTGT\n",
        "        TCATATTACTNTAAGTTCTATAGCATACTTGCNATCCTTTANCCATGCTTATCATANGTACCATTTGAGG\n",
        "        AATTGNTTTGCCCTTTTGGGTTTNTTNTTGGTAAANNNTTCCCGGGTGGGGGNGGTNNNGAAA\n",
        "        <BLANKLINE>\n",
        "        >>> print(record_dict[\"gi|1348917|gb|G26685|G26685\"].format(\"fasta\"))\n",
        "        >gi|1348917|gb|G26685|G26685 human STS STS_D11734.\n",
        "        CGGAGCCAGCGAGCATATGCTGCATGAGGACCTTTCTATCTTACATTATGGCTGGGAATC\n",
        "        TTACTCTTTCATCTGATACCTTGTTCAGATTTCAAAATAGTTGTAGCCTTATCCTGGTTT\n",
        "        TACAGATGTGAAACTTTCAAGAGATTTACTGACTTTCCTAGAATAGTTTCTCTACTGGAA\n",
        "        ACCTGATGCTTTTATAAGCCATTGTGATTAGGATGACTGTTACAGGCTTAGCTTTGTGTG\n",
        "        AAANCCAGTCACCTTTCTCCTAGGTAATGAGTAGTGCTGTTCATATTACTNTAAGTTCTA\n",
        "        TAGCATACTTGCNATCCTTTANCCATGCTTATCATANGTACCATTTGAGGAATTGNTTTG\n",
        "        CCCTTTTGGGTTTNTTNTTGGTAAANNNTTCCCGGGTGGGGGNGGTNNNGAAA\n",
        "        <BLANKLINE>\n",
        "        >>> record_dict.close()\n",
        "    \n",
        "    Here the original file and what Biopython would output differ in the line\n",
        "    wrapping. Also note that under Python 3, the get_raw method will return a\n",
        "    bytes string, hence the use of decode to turn it into a (unicode) string.\n",
        "    This is uncessary on Python 2.\n",
        "    \n",
        "    Also note that the get_raw method will preserve the newline endings. This\n",
        "    example FASTQ file uses Unix style endings (b\"\\n\" only),\n",
        "    \n",
        "        >>> from Bio import SeqIO\n",
        "        >>> fastq_dict = SeqIO.index(\"Quality/example.fastq\", \"fastq\")\n",
        "        >>> len(fastq_dict)\n",
        "        3\n",
        "        >>> raw = fastq_dict.get_raw(\"EAS54_6_R1_2_1_540_792\")\n",
        "        >>> raw.count(b\"\\n\")\n",
        "        4\n",
        "        >>> raw.count(b\"\\r\\n\")\n",
        "        0\n",
        "        >>> b\"\\r\" in raw\n",
        "        False\n",
        "        >>> len(raw)\n",
        "        78\n",
        "        >>> fastq_dict.close()\n",
        "    \n",
        "    Here is the same file but using DOS/Windows new lines (b\"\\r\\n\" instead),\n",
        "    \n",
        "        >>> from Bio import SeqIO\n",
        "        >>> fastq_dict = SeqIO.index(\"Quality/example_dos.fastq\", \"fastq\")\n",
        "        >>> len(fastq_dict)\n",
        "        3\n",
        "        >>> raw = fastq_dict.get_raw(\"EAS54_6_R1_2_1_540_792\")\n",
        "        >>> raw.count(b\"\\n\")\n",
        "        4\n",
        "        >>> raw.count(b\"\\r\\n\")\n",
        "        4\n",
        "        >>> b\"\\r\\n\" in raw\n",
        "        True\n",
        "        >>> len(raw)\n",
        "        82\n",
        "        >>> fastq_dict.close()\n",
        "    \n",
        "    Because this uses two bytes for each new line, the file is longer than\n",
        "    the Unix equivalent with only one byte.\n",
        "    \n",
        "    \n",
        "    Input - Alignments\n",
        "    ==================\n",
        "    You can read in alignment files as alignment objects using Bio.AlignIO.\n",
        "    Alternatively, reading in an alignment file format via Bio.SeqIO will give\n",
        "    you a SeqRecord for each row of each alignment:\n",
        "    \n",
        "        >>> from Bio import SeqIO\n",
        "        >>> for record in SeqIO.parse(\"Clustalw/hedgehog.aln\", \"clustal\"):\n",
        "        ...     print(\"%s %i\" % (record.id, len(record)))\n",
        "        gi|167877390|gb|EDS40773.1| 447\n",
        "        gi|167234445|ref|NP_001107837. 447\n",
        "        gi|74100009|gb|AAZ99217.1| 447\n",
        "        gi|13990994|dbj|BAA33523.2| 447\n",
        "        gi|56122354|gb|AAV74328.1| 447\n",
        "    \n",
        "    \n",
        "    Output\n",
        "    ======\n",
        "    Use the function Bio.SeqIO.write(...), which takes a complete set of\n",
        "    SeqRecord objects (either as a list, or an iterator), an output file handle\n",
        "    (or in recent versions of Biopython an output filename as a string) and of\n",
        "    course the file format::\n",
        "    \n",
        "        from Bio import SeqIO\n",
        "        records = ...\n",
        "        SeqIO.write(records, \"example.faa\", \"fasta\")\n",
        "    \n",
        "    Or, using a handle::\n",
        "    \n",
        "        from Bio import SeqIO\n",
        "        records = ...\n",
        "        with open(\"example.faa\", \"w\") as handle:\n",
        "            SeqIO.write(records, handle, \"fasta\")\n",
        "    \n",
        "    You are expected to call this function once (with all your records) and if\n",
        "    using a handle, make sure you close it to flush the data to the hard disk.\n",
        "    \n",
        "    \n",
        "    Output - Advanced\n",
        "    =================\n",
        "    The effect of calling write() multiple times on a single file will vary\n",
        "    depending on the file format, and is best avoided unless you have a strong\n",
        "    reason to do so.\n",
        "    \n",
        "    If you give a filename, then each time you call write() the existing file\n",
        "    will be overwriten. For sequential files formats (e.g. fasta, genbank) each\n",
        "    \"record block\" holds a single sequence.  For these files it would probably\n",
        "    be safe to call write() multiple times by re-using the same handle.\n",
        "    \n",
        "    \n",
        "    However, trying this for certain alignment formats (e.g. phylip, clustal,\n",
        "    stockholm) would have the effect of concatenating several multiple sequence\n",
        "    alignments together.  Such files are created by the PHYLIP suite of programs\n",
        "    for bootstrap analysis, but it is clearer to do this via Bio.AlignIO instead.\n",
        "    \n",
        "    \n",
        "    Conversion\n",
        "    ==========\n",
        "    The Bio.SeqIO.convert(...) function allows an easy interface for simple\n",
        "    file format conversions. Additionally, it may use file format specific\n",
        "    optimisations so this should be the fastest way too.\n",
        "    \n",
        "    In general however, you can combine the Bio.SeqIO.parse(...) function with\n",
        "    the Bio.SeqIO.write(...) function for sequence file conversion. Using\n",
        "    generator expressions or generator functions provides a memory efficient way\n",
        "    to perform filtering or other extra operations as part of the process.\n",
        "    \n",
        "    \n",
        "    File Formats\n",
        "    ============\n",
        "    When specifying the file format, use lowercase strings.  The same format\n",
        "    names are also used in Bio.AlignIO and include the following:\n",
        "    \n",
        "     - abif    - Applied Biosystem's sequencing trace format\n",
        "     - ace     - Reads the contig sequences from an ACE assembly file.\n",
        "     - embl    - The EMBL flat file format. Uses Bio.GenBank internally.\n",
        "     - fasta   - The generic sequence file format where each record starts with\n",
        "                 an identifer line starting with a \">\" character, followed by\n",
        "                 lines of sequence.\n",
        "     - fastq   - A \"FASTA like\" format used by Sanger which also stores PHRED\n",
        "                 sequence quality values (with an ASCII offset of 33).\n",
        "     - fastq-sanger - An alias for \"fastq\" for consistency with BioPerl and EMBOSS\n",
        "     - fastq-solexa - Original Solexa/Illumnia variant of the FASTQ format which\n",
        "                 encodes Solexa quality scores (not PHRED quality scores) with an\n",
        "                 ASCII offset of 64.\n",
        "     - fastq-illumina - Solexa/Illumina 1.3 to 1.7 variant of the FASTQ format\n",
        "                 which encodes PHRED quality scores with an ASCII offset of 64\n",
        "                 (not 33). Note as of version 1.8 of the CASAVA pipeline Illumina\n",
        "                 will produce FASTQ files using the standard Sanger encoding.\n",
        "     - genbank - The GenBank or GenPept flat file format.\n",
        "     - gb      - An alias for \"genbank\", for consistency with NCBI Entrez Utilities\n",
        "     - ig      - The IntelliGenetics file format, apparently the same as the\n",
        "                 MASE alignment format.\n",
        "     - imgt    - An EMBL like format from IMGT where the feature tables are more\n",
        "                 indented to allow for longer feature types.\n",
        "     - phd     - Output from PHRED, used by PHRAP and CONSED for input.\n",
        "     - pir     - A \"FASTA like\" format introduced by the National Biomedical\n",
        "                 Research Foundation (NBRF) for the Protein Information Resource\n",
        "                 (PIR) database, now part of UniProt.\n",
        "     - seqxml  - SeqXML, simple XML format described in Schmitt et al (2011).\n",
        "     - sff     - Standard Flowgram Format (SFF), typical output from Roche 454.\n",
        "     - sff-trim - Standard Flowgram Format (SFF) with given trimming applied.\n",
        "     - swiss   - Plain text Swiss-Prot aka UniProt format.\n",
        "     - tab     - Simple two column tab separated sequence files, where each\n",
        "                 line holds a record's identifier and sequence. For example,\n",
        "                 this is used as by Aligent's eArray software when saving\n",
        "                 microarray probes in a minimal tab delimited text file.\n",
        "     - qual    - A \"FASTA like\" format holding PHRED quality values from\n",
        "                 sequencing DNA, but no actual sequences (usually provided\n",
        "                 in separate FASTA files).\n",
        "     - uniprot-xml - The UniProt XML format (replacement for the SwissProt plain\n",
        "                 text format which we call \"swiss\")\n",
        "    \n",
        "    Note that while Bio.SeqIO can read all the above file formats, it cannot\n",
        "    write to all of them.\n",
        "    \n",
        "    You can also use any file format supported by Bio.AlignIO, such as \"nexus\",\n",
        "    \"phlip\" and \"stockholm\", which gives you access to the individual sequences\n",
        "    making up each alignment as SeqRecords.\n",
        "\n",
        "PACKAGE CONTENTS\n",
        "    AbiIO\n",
        "    AceIO\n",
        "    FastaIO\n",
        "    IgIO\n",
        "    InsdcIO\n",
        "    Interfaces\n",
        "    PdbIO\n",
        "    PhdIO\n",
        "    PirIO\n",
        "    QualityIO\n",
        "    SeqXmlIO\n",
        "    SffIO\n",
        "    SwissIO\n",
        "    TabIO\n",
        "    UniprotIO\n",
        "    _convert\n",
        "    _index\n",
        "\n",
        "FUNCTIONS\n",
        "    convert(in_file, in_format, out_file, out_format, alphabet=None)\n",
        "        Convert between two sequence file formats, return number of records.\n",
        "        \n",
        "         - in_file - an input handle or filename\n",
        "         - in_format - input file format, lower case string\n",
        "         - out_file - an output handle or filename\n",
        "         - out_format - output file format, lower case string\n",
        "         - alphabet - optional alphabet to assume\n",
        "        \n",
        "        NOTE - If you provide an output filename, it will be opened which will\n",
        "        overwrite any existing file without warning. This may happen if even\n",
        "        the conversion is aborted (e.g. an invalid out_format name is given).\n",
        "        \n",
        "        For example, going from a filename to a handle:\n",
        "        \n",
        "        >>> from Bio import SeqIO\n",
        "        >>> try:\n",
        "        ...     from StringIO import StringIO # Python 2\n",
        "        ... except ImportError:\n",
        "        ...     from io import StringIO # Python 3\n",
        "        ...\n",
        "        >>> handle = StringIO(\"\")\n",
        "        >>> SeqIO.convert(\"Quality/example.fastq\", \"fastq\", handle, \"fasta\")\n",
        "        3\n",
        "        >>> print(handle.getvalue())\n",
        "        >EAS54_6_R1_2_1_413_324\n",
        "        CCCTTCTTGTCTTCAGCGTTTCTCC\n",
        "        >EAS54_6_R1_2_1_540_792\n",
        "        TTGGCAGGCCAAGGCCGATGGATCA\n",
        "        >EAS54_6_R1_2_1_443_348\n",
        "        GTTGCTTCTGGCGTGGGTGGGGGGG\n",
        "        <BLANKLINE>\n",
        "    \n",
        "    index(filename, format, alphabet=None, key_function=None)\n",
        "        Indexes a sequence file and returns a dictionary like object.\n",
        "        \n",
        "         - filename - string giving name of file to be indexed\n",
        "         - format   - lower case string describing the file format\n",
        "         - alphabet - optional Alphabet object, useful when the sequence type\n",
        "                      cannot be automatically inferred from the file itself\n",
        "                      (e.g. format=\"fasta\" or \"tab\")\n",
        "         - key_function - Optional callback function which when given a\n",
        "                      SeqRecord identifier string should return a unique\n",
        "                      key for the dictionary.\n",
        "        \n",
        "        This indexing function will return a dictionary like object, giving the\n",
        "        SeqRecord objects as values:\n",
        "        \n",
        "        >>> from Bio import SeqIO\n",
        "        >>> records = SeqIO.index(\"Quality/example.fastq\", \"fastq\")\n",
        "        >>> len(records)\n",
        "        3\n",
        "        >>> sorted(records)\n",
        "        ['EAS54_6_R1_2_1_413_324', 'EAS54_6_R1_2_1_443_348', 'EAS54_6_R1_2_1_540_792']\n",
        "        >>> print(records[\"EAS54_6_R1_2_1_540_792\"].format(\"fasta\"))\n",
        "        >EAS54_6_R1_2_1_540_792\n",
        "        TTGGCAGGCCAAGGCCGATGGATCA\n",
        "        <BLANKLINE>\n",
        "        >>> \"EAS54_6_R1_2_1_540_792\" in records\n",
        "        True\n",
        "        >>> print(records.get(\"Missing\", None))\n",
        "        None\n",
        "        >>> records.close()\n",
        "        \n",
        "        If the file is BGZF compressed, this is detected automatically. Ordinary\n",
        "        GZIP files are not supported:\n",
        "        \n",
        "        >>> from Bio import SeqIO\n",
        "        >>> records = SeqIO.index(\"Quality/example.fastq.bgz\", \"fastq\")\n",
        "        >>> len(records)\n",
        "        3\n",
        "        >>> print(records[\"EAS54_6_R1_2_1_540_792\"].seq)\n",
        "        TTGGCAGGCCAAGGCCGATGGATCA\n",
        "        >>> records.close()\n",
        "        \n",
        "        Note that this pseudo dictionary will not support all the methods of a\n",
        "        true Python dictionary, for example values() is not defined since this\n",
        "        would require loading all of the records into memory at once.\n",
        "        \n",
        "        When you call the index function, it will scan through the file, noting\n",
        "        the location of each record. When you access a particular record via the\n",
        "        dictionary methods, the code will jump to the appropriate part of the\n",
        "        file and then parse that section into a SeqRecord.\n",
        "        \n",
        "        Note that not all the input formats supported by Bio.SeqIO can be used\n",
        "        with this index function. It is designed to work only with sequential\n",
        "        file formats (e.g. \"fasta\", \"gb\", \"fastq\") and is not suitable for any\n",
        "        interlaced file format (e.g. alignment formats such as \"clustal\").\n",
        "        \n",
        "        For small files, it may be more efficient to use an in memory Python\n",
        "        dictionary, e.g.\n",
        "        \n",
        "        >>> from Bio import SeqIO\n",
        "        >>> records = SeqIO.to_dict(SeqIO.parse(\"Quality/example.fastq\", \"fastq\"))\n",
        "        >>> len(records)\n",
        "        3\n",
        "        >>> sorted(records)\n",
        "        ['EAS54_6_R1_2_1_413_324', 'EAS54_6_R1_2_1_443_348', 'EAS54_6_R1_2_1_540_792']\n",
        "        >>> print(records[\"EAS54_6_R1_2_1_540_792\"].format(\"fasta\"))\n",
        "        >EAS54_6_R1_2_1_540_792\n",
        "        TTGGCAGGCCAAGGCCGATGGATCA\n",
        "        <BLANKLINE>\n",
        "        \n",
        "        As with the to_dict() function, by default the id string of each record\n",
        "        is used as the key. You can specify a callback function to transform\n",
        "        this (the record identifier string) into your preferred key. For example:\n",
        "        \n",
        "        >>> from Bio import SeqIO\n",
        "        >>> def make_tuple(identifier):\n",
        "        ...     parts = identifier.split(\"_\")\n",
        "        ...     return int(parts[-2]), int(parts[-1])\n",
        "        >>> records = SeqIO.index(\"Quality/example.fastq\", \"fastq\",\n",
        "        ...                       key_function=make_tuple)\n",
        "        >>> len(records)\n",
        "        3\n",
        "        >>> sorted(records)\n",
        "        [(413, 324), (443, 348), (540, 792)]\n",
        "        >>> print(records[(540, 792)].format(\"fasta\"))\n",
        "        >EAS54_6_R1_2_1_540_792\n",
        "        TTGGCAGGCCAAGGCCGATGGATCA\n",
        "        <BLANKLINE>\n",
        "        >>> (540, 792) in records\n",
        "        True\n",
        "        >>> \"EAS54_6_R1_2_1_540_792\" in records\n",
        "        False\n",
        "        >>> print(records.get(\"Missing\", None))\n",
        "        None\n",
        "        >>> records.close()\n",
        "        \n",
        "        Another common use case would be indexing an NCBI style FASTA file,\n",
        "        where you might want to extract the GI number from the FASTA identifer\n",
        "        to use as the dictionary key.\n",
        "        \n",
        "        Notice that unlike the to_dict() function, here the key_function does\n",
        "        not get given the full SeqRecord to use to generate the key. Doing so\n",
        "        would impose a severe performance penalty as it would require the file\n",
        "        to be completely parsed while building the index. Right now this is\n",
        "        usually avoided.\n",
        "        \n",
        "        See also: Bio.SeqIO.index_db() and Bio.SeqIO.to_dict()\n",
        "    \n",
        "    index_db(index_filename, filenames=None, format=None, alphabet=None, key_function=None)\n",
        "        Index several sequence files and return a dictionary like object.\n",
        "        \n",
        "        The index is stored in an SQLite database rather than in memory (as in the\n",
        "        Bio.SeqIO.index(...) function).\n",
        "        \n",
        "         - index_filename - Where to store the SQLite index\n",
        "         - filenames - list of strings specifying file(s) to be indexed, or when\n",
        "                      indexing a single file this can be given as a string.\n",
        "                      (optional if reloading an existing index, but must match)\n",
        "         - format   - lower case string describing the file format\n",
        "                      (optional if reloading an existing index, but must match)\n",
        "         - alphabet - optional Alphabet object, useful when the sequence type\n",
        "                      cannot be automatically inferred from the file itself\n",
        "                      (e.g. format=\"fasta\" or \"tab\")\n",
        "         - key_function - Optional callback function which when given a\n",
        "                      SeqRecord identifier string should return a unique\n",
        "                      key for the dictionary.\n",
        "        \n",
        "        This indexing function will return a dictionary like object, giving the\n",
        "        SeqRecord objects as values:\n",
        "        \n",
        "        >>> from Bio.Alphabet import generic_protein\n",
        "        >>> from Bio import SeqIO\n",
        "        >>> files = [\"GenBank/NC_000932.faa\", \"GenBank/NC_005816.faa\"]\n",
        "        >>> def get_gi(name):\n",
        "        ...     parts = name.split(\"|\")\n",
        "        ...     i = parts.index(\"gi\")\n",
        "        ...     assert i != -1\n",
        "        ...     return parts[i+1]\n",
        "        >>> idx_name = \":memory:\" #use an in memory SQLite DB for this test\n",
        "        >>> records = SeqIO.index_db(idx_name, files, \"fasta\", generic_protein, get_gi)\n",
        "        >>> len(records)\n",
        "        95\n",
        "        >>> records[\"7525076\"].description\n",
        "        'gi|7525076|ref|NP_051101.1| Ycf2 [Arabidopsis thaliana]'\n",
        "        >>> records[\"45478717\"].description\n",
        "        'gi|45478717|ref|NP_995572.1| pesticin [Yersinia pestis biovar Microtus str. 91001]'\n",
        "        >>> records.close()\n",
        "        \n",
        "        In this example the two files contain 85 and 10 records respectively.\n",
        "        \n",
        "        BGZF compressed files are supported, and detected automatically. Ordinary\n",
        "        GZIP compressed files are not supported.\n",
        "        \n",
        "        See also: Bio.SeqIO.index() and Bio.SeqIO.to_dict(), and the Python module\n",
        "        glob which is useful for building lists of files.\n",
        "    \n",
        "    parse(handle, format, alphabet=None)\n",
        "        Turns a sequence file into an iterator returning SeqRecords.\n",
        "        \n",
        "         - handle   - handle to the file, or the filename as a string\n",
        "                      (note older versions of Biopython only took a handle).\n",
        "         - format   - lower case string describing the file format.\n",
        "         - alphabet - optional Alphabet object, useful when the sequence type\n",
        "                      cannot be automatically inferred from the file itself\n",
        "                      (e.g. format=\"fasta\" or \"tab\")\n",
        "        \n",
        "        Typical usage, opening a file to read in, and looping over the record(s):\n",
        "        \n",
        "        >>> from Bio import SeqIO\n",
        "        >>> filename = \"Fasta/sweetpea.nu\"\n",
        "        >>> for record in SeqIO.parse(filename, \"fasta\"):\n",
        "        ...    print(\"ID %s\" % record.id)\n",
        "        ...    print(\"Sequence length %i\" % len(record))\n",
        "        ...    print(\"Sequence alphabet %s\" % record.seq.alphabet)\n",
        "        ID gi|3176602|gb|U78617.1|LOU78617\n",
        "        Sequence length 309\n",
        "        Sequence alphabet SingleLetterAlphabet()\n",
        "        \n",
        "        For file formats like FASTA where the alphabet cannot be determined, it\n",
        "        may be useful to specify the alphabet explicitly:\n",
        "        \n",
        "        >>> from Bio import SeqIO\n",
        "        >>> from Bio.Alphabet import generic_dna\n",
        "        >>> filename = \"Fasta/sweetpea.nu\"\n",
        "        >>> for record in SeqIO.parse(filename, \"fasta\", generic_dna):\n",
        "        ...    print(\"ID %s\" % record.id)\n",
        "        ...    print(\"Sequence length %i\" % len(record))\n",
        "        ...    print(\"Sequence alphabet %s\" % record.seq.alphabet)\n",
        "        ID gi|3176602|gb|U78617.1|LOU78617\n",
        "        Sequence length 309\n",
        "        Sequence alphabet DNAAlphabet()\n",
        "        \n",
        "        If you have a string 'data' containing the file contents, you must\n",
        "        first turn this into a handle in order to parse it:\n",
        "        \n",
        "        >>> data = \">Alpha\\nACCGGATGTA\\n>Beta\\nAGGCTCGGTTA\\n\"\n",
        "        >>> from Bio import SeqIO\n",
        "        >>> try:\n",
        "        ...     from StringIO import StringIO # Python 2\n",
        "        ... except ImportError:\n",
        "        ...     from io import StringIO # Python 3\n",
        "        ...\n",
        "        >>> for record in SeqIO.parse(StringIO(data), \"fasta\"):\n",
        "        ...     print(\"%s %s\" % (record.id, record.seq))\n",
        "        Alpha ACCGGATGTA\n",
        "        Beta AGGCTCGGTTA\n",
        "        \n",
        "        Use the Bio.SeqIO.read(...) function when you expect a single record\n",
        "        only.\n",
        "    \n",
        "    read(handle, format, alphabet=None)\n",
        "        Turns a sequence file into a single SeqRecord.\n",
        "        \n",
        "         - handle   - handle to the file, or the filename as a string\n",
        "                      (note older versions of Biopython only took a handle).\n",
        "         - format   - string describing the file format.\n",
        "         - alphabet - optional Alphabet object, useful when the sequence type\n",
        "                      cannot be automatically inferred from the file itself\n",
        "                      (e.g. format=\"fasta\" or \"tab\")\n",
        "        \n",
        "        This function is for use parsing sequence files containing\n",
        "        exactly one record.  For example, reading a GenBank file:\n",
        "        \n",
        "        >>> from Bio import SeqIO\n",
        "        >>> record = SeqIO.read(\"GenBank/arab1.gb\", \"genbank\")\n",
        "        >>> print(\"ID %s\" % record.id)\n",
        "        ID AC007323.5\n",
        "        >>> print(\"Sequence length %i\" % len(record))\n",
        "        Sequence length 86436\n",
        "        >>> print(\"Sequence alphabet %s\" % record.seq.alphabet)\n",
        "        Sequence alphabet IUPACAmbiguousDNA()\n",
        "        \n",
        "        If the handle contains no records, or more than one record,\n",
        "        an exception is raised.  For example:\n",
        "        \n",
        "        >>> from Bio import SeqIO\n",
        "        >>> record = SeqIO.read(\"GenBank/cor6_6.gb\", \"genbank\")\n",
        "        Traceback (most recent call last):\n",
        "            ...\n",
        "        ValueError: More than one record found in handle\n",
        "        \n",
        "        If however you want the first record from a file containing\n",
        "        multiple records this function would raise an exception (as\n",
        "        shown in the example above).  Instead use:\n",
        "        \n",
        "        >>> from Bio import SeqIO\n",
        "        >>> record = next(SeqIO.parse(\"GenBank/cor6_6.gb\", \"genbank\"))\n",
        "        >>> print(\"First record's ID %s\" % record.id)\n",
        "        First record's ID X55053.1\n",
        "        \n",
        "        Use the Bio.SeqIO.parse(handle, format) function if you want\n",
        "        to read multiple records from the handle.\n",
        "    \n",
        "    to_dict(sequences, key_function=None)\n",
        "        Turns a sequence iterator or list into a dictionary.\n",
        "        \n",
        "         - sequences  - An iterator that returns SeqRecord objects,\n",
        "                        or simply a list of SeqRecord objects.\n",
        "         - key_function - Optional callback function which when given a\n",
        "                        SeqRecord should return a unique key for the dictionary.\n",
        "        \n",
        "        e.g. key_function = lambda rec : rec.name\n",
        "        or,  key_function = lambda rec : rec.description.split()[0]\n",
        "        \n",
        "        If key_function is omitted then record.id is used, on the assumption\n",
        "        that the records objects returned are SeqRecords with a unique id.\n",
        "        \n",
        "        If there are duplicate keys, an error is raised.\n",
        "        \n",
        "        Example usage, defaulting to using the record.id as key:\n",
        "        \n",
        "        >>> from Bio import SeqIO\n",
        "        >>> filename = \"GenBank/cor6_6.gb\"\n",
        "        >>> format = \"genbank\"\n",
        "        >>> id_dict = SeqIO.to_dict(SeqIO.parse(filename, format))\n",
        "        >>> print(sorted(id_dict))\n",
        "        ['AF297471.1', 'AJ237582.1', 'L31939.1', 'M81224.1', 'X55053.1', 'X62281.1']\n",
        "        >>> print(id_dict[\"L31939.1\"].description)\n",
        "        Brassica rapa (clone bif72) kin mRNA, complete cds.\n",
        "        \n",
        "        A more complex example, using the key_function argument in order to\n",
        "        use a sequence checksum as the dictionary key:\n",
        "        \n",
        "        >>> from Bio import SeqIO\n",
        "        >>> from Bio.SeqUtils.CheckSum import seguid\n",
        "        >>> filename = \"GenBank/cor6_6.gb\"\n",
        "        >>> format = \"genbank\"\n",
        "        >>> seguid_dict = SeqIO.to_dict(SeqIO.parse(filename, format),\n",
        "        ...               key_function = lambda rec : seguid(rec.seq))\n",
        "        >>> for key, record in sorted(seguid_dict.items()):\n",
        "        ...     print(\"%s %s\" % (key, record.id))\n",
        "        /wQvmrl87QWcm9llO4/efg23Vgg AJ237582.1\n",
        "        BUg6YxXSKWEcFFH0L08JzaLGhQs L31939.1\n",
        "        SabZaA4V2eLE9/2Fm5FnyYy07J4 X55053.1\n",
        "        TtWsXo45S3ZclIBy4X/WJc39+CY M81224.1\n",
        "        l7gjJFE6W/S1jJn5+1ASrUKW/FA X62281.1\n",
        "        uVEYeAQSV5EDQOnFoeMmVea+Oow AF297471.1\n",
        "        \n",
        "        This approach is not suitable for very large sets of sequences, as all\n",
        "        the SeqRecord objects are held in memory. Instead, consider using the\n",
        "        Bio.SeqIO.index() function (if it supports your particular file format).\n",
        "    \n",
        "    write(sequences, handle, format)\n",
        "        Write complete set of sequences to a file.\n",
        "        \n",
        "         - sequences - A list (or iterator) of SeqRecord objects, or (if using\n",
        "                       Biopython 1.54 or later) a single SeqRecord.\n",
        "         - handle    - File handle object to write to, or filename as string\n",
        "                       (note older versions of Biopython only took a handle).\n",
        "         - format    - lower case string describing the file format to write.\n",
        "        \n",
        "        You should close the handle after calling this function.\n",
        "        \n",
        "        Returns the number of records written (as an integer).\n",
        "\n",
        "DATA\n",
        "    __docformat__ = 'epytext en'\n",
        "    print_function = _Feature((2, 6, 0, 'alpha', 2), (3, 0, 0, 'alpha', 0)...\n",
        "\n",
        "\n"
       ]
      }
     ],
     "prompt_number": 1
    },
    {
     "cell_type": "markdown",
     "metadata": {},
     "source": [
      "The ``catch'' is that you have to work with __SeqRecord__ objects (see Chapter~\\ref{chapter:SeqRecord}), which contain a __Seq__ object (see Chapter~\\ref{chapter:Bio.Seq}) plus annotation like an identifier and description."
     ]
    },
    {
     "cell_type": "heading",
     "level": 2,
     "metadata": {},
     "source": [
      "Parsing or Reading Sequences"
     ]
    },
    {
     "cell_type": "markdown",
     "metadata": {},
     "source": [
      "The workhorse function __Bio.SeqIO.parse()__ is used to read in sequence data as SeqRecord objects.  This function expects two arguments:\n",
      "\n",
      "- The first argument is a {\\it handle} to read the data from, or a filename. A handle is typically a file opened for reading, but could be the output from a command line program, or data downloaded from the internet (see Section~\\ref{sec:SeqIO_Online}).  See Section~\\ref{sec:appendix-handles} for more about handles.\n",
      "- The second argument is a lower case string specifying sequence format -- we don't try and guess the file format for you!  See \\url{http://biopython.org/wiki/SeqIO} for a full listing of supported formats.\n",
      "\n",
      "There is an optional argument __alphabet__ to specify the alphabet to be used.  This is useful for file formats like FASTA where otherwise __Bio.SeqIO__ will default to a generic alphabet.\n",
      "\n",
      "The __Bio.SeqIO.parse()__ function returns an {\\it iterator} which gives __SeqRecord__ objects.  Iterators are typically used in a for loop as shown below.\n",
      "\n",
      "Sometimes you'll find yourself dealing with files which contain only a single record.  For this situation use the function __Bio.SeqIO.read()__ which takes the same arguments.  Provided there is one and only one record in the file, this is returned as a __SeqRecord__ object.  Otherwise an exception is raised."
     ]
    },
    {
     "cell_type": "heading",
     "level": 3,
     "metadata": {},
     "source": [
      "Reading Sequence Files"
     ]
    },
    {
     "cell_type": "markdown",
     "metadata": {},
     "source": [
      "In general __Bio.SeqIO.parse()__ is used to read in sequence files as __SeqRecord__ objects, and is typically used with a for loop like this:"
     ]
    },
    {
     "cell_type": "code",
     "collapsed": false,
     "input": [
      "from Bio import SeqIO\n",
      "for seq_record in SeqIO.parse(\"data/ls_orchid.fasta\", \"fasta\"):\n",
      "    print(seq_record.id)\n",
      "    print(repr(seq_record.seq))\n",
      "    print(len(seq_record))\n"
     ],
     "language": "python",
     "metadata": {},
     "outputs": [
      {
       "output_type": "stream",
       "stream": "stdout",
       "text": [
        "gi|2765658|emb|Z78533.1|CIZ78533\n",
        "Seq('CGTAACAAGGTTTCCGTAGGTGAACCTGCGGAAGGATCATTGATGAGACCGTGG...CGC', SingleLetterAlphabet())\n",
        "740\n",
        "gi|2765657|emb|Z78532.1|CCZ78532\n",
        "Seq('CGTAACAAGGTTTCCGTAGGTGAACCTGCGGAAGGATCATTGTTGAGACAACAG...GGC', SingleLetterAlphabet())\n",
        "753\n",
        "gi|2765656|emb|Z78531.1|CFZ78531\n",
        "Seq('CGTAACAAGGTTTCCGTAGGTGAACCTGCGGAAGGATCATTGTTGAGACAGCAG...TAA', SingleLetterAlphabet())\n",
        "748\n",
        "gi|2765655|emb|Z78530.1|CMZ78530\n",
        "Seq('CGTAACAAGGTTTCCGTAGGTGAACCTGCGGAAGGATCATTGTTGAAACAACAT...CAT', SingleLetterAlphabet())\n",
        "744\n",
        "gi|2765654|emb|Z78529.1|CLZ78529\n",
        "Seq('ACGGCGAGCTGCCGAAGGACATTGTTGAGACAGCAGAATATACGATTGAGTGAA...AAA', SingleLetterAlphabet())\n",
        "733\n",
        "gi|2765652|emb|Z78527.1|CYZ78527\n",
        "Seq('CGTAACAAGGTTTCCGTAGGTGAACCTGCGGAAGGATCATTGTTGAGACAGTAG...CCC', SingleLetterAlphabet())\n",
        "718\n",
        "gi|2765651|emb|Z78526.1|CGZ78526\n",
        "Seq('CGTAACAAGGTTTCCGTAGGTGAACCTGCGGAAGGATCATTGTTGAGACAGTAG...TGT', SingleLetterAlphabet())\n",
        "730\n",
        "gi|2765650|emb|Z78525.1|CAZ78525\n",
        "Seq('TGTTGAGATAGCAGAATATACATCGAGTGAATCCGGAGGACCTGTGGTTATTCG...GCA', SingleLetterAlphabet())\n",
        "704\n",
        "gi|2765649|emb|Z78524.1|CFZ78524\n",
        "Seq('CGTAACAAGGTTTCCGTAGGTGAACCTGCGGAAGGATCATTGTTGAGATAGTAG...AGC', SingleLetterAlphabet())\n",
        "740\n",
        "gi|2765648|emb|Z78523.1|CHZ78523\n",
        "Seq('CGTAACCAGGTTTCCGTAGGTGAACCTGCGGCAGGATCATTGTTGAGACAGCAG...AAG', SingleLetterAlphabet())\n",
        "709\n",
        "gi|2765647|emb|Z78522.1|CMZ78522\n",
        "Seq('CGTAACAAGGTTTCCGTAGGTGAACCTGCGGAAGGATCATTGTTGAGACAGCAG...GAG', SingleLetterAlphabet())\n",
        "700\n",
        "gi|2765646|emb|Z78521.1|CCZ78521\n",
        "Seq('GTAGGTGAACCTGCGGAAGGATCATTGTTGAGACAGTAGAATATATGATCGAGT...ACC', SingleLetterAlphabet())\n",
        "726\n",
        "gi|2765645|emb|Z78520.1|CSZ78520\n",
        "Seq('CGTAACAAGGTTTCCGTAGGTGAACCTGCGGAAGGATCATTGTTGAGACAGCAG...TTT', SingleLetterAlphabet())\n",
        "753\n",
        "gi|2765644|emb|Z78519.1|CPZ78519\n",
        "Seq('ATATGATCGAGTGAATCTGGTGGACTTGTGGTTACTCAGCTCGCCATAGGCTTT...TTA', SingleLetterAlphabet())\n",
        "699\n",
        "gi|2765643|emb|Z78518.1|CRZ78518\n",
        "Seq('CGTAACAAGGTTTCCGTAGGTGAACCTGCGGGAGGATCATTGTTGAGATAGTAG...TCC', SingleLetterAlphabet())\n",
        "658\n",
        "gi|2765642|emb|Z78517.1|CFZ78517\n",
        "Seq('CGTAACAAGGTTTCCGTAGGTGAACCTGCGGAAGGATCATTGTTGAGACAGTAG...AGC', SingleLetterAlphabet())\n",
        "752\n",
        "gi|2765641|emb|Z78516.1|CPZ78516\n",
        "Seq('CGTAACAAGGTTTCCGTAGGTGAACCTGCGGAAGGATCATTGTTGAGACAGTAT...TAA', SingleLetterAlphabet())\n",
        "726\n",
        "gi|2765640|emb|Z78515.1|MXZ78515\n",
        "Seq('CGTAACAAGGTTTCCGTAGGTGAACCTGCGGAAGGATCATTGCTGAGACCGTAG...AGC', SingleLetterAlphabet())\n",
        "765\n",
        "gi|2765639|emb|Z78514.1|PSZ78514\n",
        "Seq('CGTAACAAGGTTTCCGTAGGTGGACCTTCGGGAGGATCATTTTTGAAGCCCCCA...CTA', SingleLetterAlphabet())\n",
        "755\n",
        "gi|2765638|emb|Z78513.1|PBZ78513\n",
        "Seq('CGTAACAAGGTTTCCGTAGGTGAACCTGCGGAAGGATCATTGTTGAGACCGCCA...GAG', SingleLetterAlphabet())\n",
        "742\n",
        "gi|2765637|emb|Z78512.1|PWZ78512\n",
        "Seq('CGTAACAAGGTTTCCGTAGGTGGACCTTCGGGAGGATCATTTTTGAAGCCCCCA...AGC', SingleLetterAlphabet())\n",
        "762\n",
        "gi|2765636|emb|Z78511.1|PEZ78511\n",
        "Seq('CGTAACAAGGTTTCCGTAGGTGAACCTTCGGAAGGATCATTGTTGAGACCCCCA...GGA', SingleLetterAlphabet())\n",
        "745\n",
        "gi|2765635|emb|Z78510.1|PCZ78510\n",
        "Seq('CTAACCAGGGTTCCGAGGTGACCTTCGGGAGGATTCCTTTTTAAGCCCCCGAAA...TTA', SingleLetterAlphabet())\n",
        "750\n",
        "gi|2765634|emb|Z78509.1|PPZ78509\n",
        "Seq('CGTAACAAGGTTTCCGTAGGTGAACCTGCGGAAGGATCATTGTTGAGACCGCCA...GGA', SingleLetterAlphabet())\n",
        "731\n",
        "gi|2765633|emb|Z78508.1|PLZ78508\n",
        "Seq('CGTAACAAGGTTTCCGTAGGTGAACCTGCGGAAGGATCATTGTTGAGACCGCCA...TGA', SingleLetterAlphabet())\n",
        "741\n",
        "gi|2765632|emb|Z78507.1|PLZ78507\n",
        "Seq('CGTAACAAGGTTTCCGTAGGTGAACCTGCGGAAGGATCATTGTTGAGACCCCCA...TGA', SingleLetterAlphabet())\n",
        "740\n",
        "gi|2765631|emb|Z78506.1|PLZ78506\n",
        "Seq('CGTAACAAGGTTTCCGTAGGTGAACCTGCGGAAGGATCATTGTTGAGACCGCAA...TGA', SingleLetterAlphabet())\n",
        "727\n",
        "gi|2765630|emb|Z78505.1|PSZ78505\n",
        "Seq('CGTAACAAGGTTTCCGTAGGTGAACCTGCGGAAGGATCATTGTTGAGACCGCCA...TTT', SingleLetterAlphabet())\n",
        "711\n",
        "gi|2765629|emb|Z78504.1|PKZ78504\n",
        "Seq('CGTAACAAGGTTTCCGTAGGTGAACCTTCGGAAGGATCATTGTTGAGACCGCAA...TAA', SingleLetterAlphabet())\n",
        "743\n",
        "gi|2765628|emb|Z78503.1|PCZ78503\n",
        "Seq('CGTAACCAGGTTTCCGTAGGTGAACCTCCGGAAGGATCCTTGTTGAGACCGCCA...TAA', SingleLetterAlphabet())\n",
        "727\n",
        "gi|2765627|emb|Z78502.1|PBZ78502\n",
        "Seq('CGTAACCAGGTTTCCGTAGGTGAACCTCCGGAAGGATCATTGTTGAGACCGCCA...CGC', SingleLetterAlphabet())\n",
        "757\n",
        "gi|2765626|emb|Z78501.1|PCZ78501\n",
        "Seq('CGTAACAAGGTTTCCGTAGGTGAACCTGCGGAAGGATCATTGTTGAGACCGCAA...AGA', SingleLetterAlphabet())\n",
        "770\n",
        "gi|2765625|emb|Z78500.1|PWZ78500\n",
        "Seq('CGTAACAAGGTTTCCGTAGGTGAACCTGCGGAAGGCTCATTGTTGAGACCGCAA...AAG', SingleLetterAlphabet())\n",
        "767\n",
        "gi|2765624|emb|Z78499.1|PMZ78499\n",
        "Seq('CGTAACAAGGTTTCCGTAGGTGAACCTGCGGAGGGATCATTGTTGAGATCGCAT...ACC', SingleLetterAlphabet())\n",
        "759\n",
        "gi|2765623|emb|Z78498.1|PMZ78498\n",
        "Seq('CGTAACAAGGTTTCCGTAGGTGAACCTGCGGAAAGGTCATTGTTGAGATCACAT...AGC', SingleLetterAlphabet())\n",
        "750\n",
        "gi|2765622|emb|Z78497.1|PDZ78497\n",
        "Seq('CGTAACAAGGTTTCCGTAGGTGAACCTGCGGAAGGATCATTGTTGAGATCACAT...AGC', SingleLetterAlphabet())\n",
        "788\n",
        "gi|2765621|emb|Z78496.1|PAZ78496\n",
        "Seq('CGTAACAAGGTTTCCGTAGGTGAACCTGCGGAAGGATCATTGTTGAGATCGCAT...AGC', SingleLetterAlphabet())\n",
        "774\n",
        "gi|2765620|emb|Z78495.1|PEZ78495\n",
        "Seq('CGTAACAAGGTTTCCGTAGGTGAACCTCCGGAAGGATCATTGTTGAGATCACAT...GTG', SingleLetterAlphabet())\n",
        "789\n",
        "gi|2765619|emb|Z78494.1|PNZ78494\n",
        "Seq('CGTAACAAGGTTTCCGTAGGTGAACCTGCGGAAGGATCATTGTTGAGGTCGCAT...AAG', SingleLetterAlphabet())\n",
        "688\n",
        "gi|2765618|emb|Z78493.1|PGZ78493\n",
        "Seq('CGTAACAAGGATTCCGTAGGTGAACCTGCGGAAGGATCATTGTTGAGATCGCAT...CCC', SingleLetterAlphabet())\n",
        "719\n",
        "gi|2765617|emb|Z78492.1|PBZ78492\n",
        "Seq('CGTAACAAGGTTTCCGTAGGTGAACCTGCGGAAGGATCATTGTTGAGATCGCAT...ATA', SingleLetterAlphabet())\n",
        "743\n",
        "gi|2765616|emb|Z78491.1|PCZ78491\n",
        "Seq('CGTAACAAGGTTTCCGTAGGTGAACCTGCGGAAGGATCATTGTTGAGATCGCAT...AGC', SingleLetterAlphabet())\n",
        "737\n",
        "gi|2765615|emb|Z78490.1|PFZ78490\n",
        "Seq('CGTAACAAGGTTTCCGTAGGTGAACCTGCGGAAGGATCATTGTTGAGATCACAT...TGA', SingleLetterAlphabet())\n",
        "728\n",
        "gi|2765614|emb|Z78489.1|PDZ78489\n",
        "Seq('CGTAACAAGGTTTCCGTAGGTGAACCTGCGGAAGGATCATTGTTGAGATCACAT...GGC', SingleLetterAlphabet())\n",
        "740\n",
        "gi|2765613|emb|Z78488.1|PTZ78488\n",
        "Seq('CTGTAGGTGAACCTGCGGAAGGATCATTGTTGAGATCACGCAATAATTGATCGA...GCT', SingleLetterAlphabet())\n",
        "696\n",
        "gi|2765612|emb|Z78487.1|PHZ78487\n",
        "Seq('CGTAACAAGGTTTCCGTAGGTGAACCTGCGGAAGGATCATTGTTGAGATCACAT...TAA', SingleLetterAlphabet())\n",
        "732\n",
        "gi|2765611|emb|Z78486.1|PBZ78486\n",
        "Seq('CGTCACGAGGTTTCCGTAGGTGAATCTGCGGGAGGATCATTGTTGAGATCACAT...TGA', SingleLetterAlphabet())\n",
        "731\n",
        "gi|2765610|emb|Z78485.1|PHZ78485\n",
        "Seq('CTGAACCTGGTGTCCGAAGGTGAATCTGCGGATGGATCATTGTTGAGATATCAT...GTA', SingleLetterAlphabet())\n",
        "735\n",
        "gi|2765609|emb|Z78484.1|PCZ78484\n",
        "Seq('CGTAACAAGGTTTCCGTAGGTGAACCTGGGGAAGGATCATTGTTGAGATCACAT...TTT', SingleLetterAlphabet())\n",
        "720\n",
        "gi|2765608|emb|Z78483.1|PVZ78483\n",
        "Seq('CGTAACAAGGTTTCCGTAGGTGAACCTGCGGAAGGATCATTGTTGAGATCACAT...GCA', SingleLetterAlphabet())\n",
        "740\n",
        "gi|2765607|emb|Z78482.1|PEZ78482\n",
        "Seq('TCTACTGCAGTGACCGAGATTTGCCATCGAGCCTCCTGGGAGCTTTCTTGCTGG...GCA', SingleLetterAlphabet())\n",
        "629\n",
        "gi|2765606|emb|Z78481.1|PIZ78481\n",
        "Seq('CGTAACAAGGTTTCCGTAGGTGAACCTGCGGAAGGATCATTGTTGAGATCACAT...TGA', SingleLetterAlphabet())\n",
        "572\n",
        "gi|2765605|emb|Z78480.1|PGZ78480\n",
        "Seq('CGTAACAAGGTTTCCGTAGGTGAACCTGCGGAAGGATCATTGTTGAGATCACAT...TGA', SingleLetterAlphabet())\n",
        "587\n",
        "gi|2765604|emb|Z78479.1|PPZ78479\n",
        "Seq('CGTAACAAGGTTTCCGTAGGTGAACCTGCGGAAGGATCATTGTTGAGATCACAT...AGT', SingleLetterAlphabet())\n",
        "700\n",
        "gi|2765603|emb|Z78478.1|PVZ78478\n",
        "Seq('CGTAACAAGGTTTCCGTAGGTGAACCTCCGGAAGGATCAGTGTTGAGATCACAT...GGC', SingleLetterAlphabet())\n",
        "636\n",
        "gi|2765602|emb|Z78477.1|PVZ78477\n",
        "Seq('CGTAACAAGGTTTCCGTAGGTGAACCTGCGGAAGGATCATTGTTGAGATCACAT...TGC', SingleLetterAlphabet())\n",
        "716\n",
        "gi|2765601|emb|Z78476.1|PGZ78476\n",
        "Seq('CGTAACAAGGTTTCCGTAGGTGAACCTGCGGAAGGATCATTGTTGAGATCACAT...CCC', SingleLetterAlphabet())\n",
        "592\n",
        "gi|2765600|emb|Z78475.1|PSZ78475\n",
        "Seq('CGTAACAAGGTTTCCGTAGGTGAACCTGCGGAAGGATCATTGTTGAGATCACAT...GGT', SingleLetterAlphabet())\n",
        "716\n",
        "gi|2765599|emb|Z78474.1|PKZ78474\n",
        "Seq('CGTAACAAGGTTTCCGTAGGTGAACCTGCGGAAGGATCATTGTTGAGATCACGT...CTT', SingleLetterAlphabet())\n",
        "733\n",
        "gi|2765598|emb|Z78473.1|PSZ78473\n",
        "Seq('CGTAACAAGGTTTCCGTAGGTGAACCTGCGGAAGGATCATTGTTGAGATCACAT...AGG', SingleLetterAlphabet())\n",
        "626\n",
        "gi|2765597|emb|Z78472.1|PLZ78472\n",
        "Seq('CGTAACAAGGTTTCCGTAGGTGAACCTGCGGAAGGATCATTGTTGAGATCACAT...AGC', SingleLetterAlphabet())\n",
        "737\n",
        "gi|2765596|emb|Z78471.1|PDZ78471\n",
        "Seq('CGTAACAAGGTTTCCGTAGGTGAACCTGCGGAAGGATCATTGTTGAGATCACAT...AGC', SingleLetterAlphabet())\n",
        "740\n",
        "gi|2765595|emb|Z78470.1|PPZ78470\n",
        "Seq('CGTAACAAGGTTTCCGTAGGTGAACCTGCGGAAGGATCATTGTTGAGATCACAT...GTT', SingleLetterAlphabet())\n",
        "574\n",
        "gi|2765594|emb|Z78469.1|PHZ78469\n",
        "Seq('CGTAACAAGGTTTCCGTAGGTGAACCTGCGGAAGGATCATTGTTGAGATCACAT...GTT', SingleLetterAlphabet())\n",
        "594\n",
        "gi|2765593|emb|Z78468.1|PAZ78468\n",
        "Seq('CGTAACAAGGTTTCCGTAGGTGAACCTGCGGAAGGATCATTGTTGAGATCGCAT...GTT', SingleLetterAlphabet())\n",
        "610\n",
        "gi|2765592|emb|Z78467.1|PSZ78467\n",
        "Seq('CGTAACAAGGTTTCCGTAGGTGAACCTGCGGAAGGATCATTGTTGAGATCACAT...TGA', SingleLetterAlphabet())\n",
        "730\n",
        "gi|2765591|emb|Z78466.1|PPZ78466\n",
        "Seq('CGTAACAAGGTTTCCGTAGGTGAACCTGCGGAAGGATCATTGTTGAGATCACAT...CCC', SingleLetterAlphabet())\n",
        "641\n",
        "gi|2765590|emb|Z78465.1|PRZ78465\n",
        "Seq('CGTAACAAGGTTTCCGTAGGTGAACCTGCGGAAGGATCATTGTTGAGATCACAT...TGC', SingleLetterAlphabet())\n",
        "702\n",
        "gi|2765589|emb|Z78464.1|PGZ78464\n",
        "Seq('CGTAACAAGGTTTCCGTAGGTGAGCGGAAGGGTCATTGTTGAGATCACATAATA...AGC', SingleLetterAlphabet())\n",
        "733\n",
        "gi|2765588|emb|Z78463.1|PGZ78463\n",
        "Seq('CGTAACAAGGTTTCCGTAGGTGAACCTGCGGAAGGTTCATTGTTGAGATCACAT...AGC', SingleLetterAlphabet())\n",
        "738\n",
        "gi|2765587|emb|Z78462.1|PSZ78462\n",
        "Seq('CGTCACGAGGTCTCCGGATGTGACCCTGCGGAAGGATCATTGTTGAGATCACAT...CAT', SingleLetterAlphabet())\n",
        "736\n",
        "gi|2765586|emb|Z78461.1|PWZ78461\n",
        "Seq('CGTAACAAGGTTTCCGTAGGTGAACCTCCGGAAGGATCATTGTTGAGATCACAT...TAA', SingleLetterAlphabet())\n",
        "732\n",
        "gi|2765585|emb|Z78460.1|PCZ78460\n",
        "Seq('CGTAACAAGGTTTCCGTAGGTGAACCTCCGGAAGGATCATTGTTGAGATCACAT...TTA', SingleLetterAlphabet())\n",
        "745\n",
        "gi|2765584|emb|Z78459.1|PDZ78459\n",
        "Seq('CGTAACAAGGTTTCCGTAGGTGAACCTGCGGAAGGATCATTGTTGAGATCACAT...TTT', SingleLetterAlphabet())\n",
        "744\n",
        "gi|2765583|emb|Z78458.1|PHZ78458\n",
        "Seq('CGTAACAAGGTTTCCGTAGGTGAACCTGCGGAAGGATCATTGTTGAGATCACAT...TTG', SingleLetterAlphabet())\n",
        "738\n",
        "gi|2765582|emb|Z78457.1|PCZ78457\n",
        "Seq('CGTAACAAGGTTTCCGTAGGTGAACCTCCGGAAGGATCATTGTTGAGATCACAT...GAG', SingleLetterAlphabet())\n",
        "739\n",
        "gi|2765581|emb|Z78456.1|PTZ78456\n",
        "Seq('CGTAACAAGGTTTCCGTAGGTGAACCTGCGGAAGGATCATTGTTGAGATCACAT...AGC', SingleLetterAlphabet())\n",
        "740\n",
        "gi|2765580|emb|Z78455.1|PJZ78455\n",
        "Seq('CGTAACCAGGTTTCCGTAGGTGGACCTTCGGGAGGATCATTTTTGAGATCACAT...GCA', SingleLetterAlphabet())\n",
        "745\n",
        "gi|2765579|emb|Z78454.1|PFZ78454\n",
        "Seq('CGTAACAAGGTTTCCGTAGGTGAACCTGCGGAAGGATCATTGTTGAGATCACAT...AAC', SingleLetterAlphabet())\n",
        "695\n",
        "gi|2765578|emb|Z78453.1|PSZ78453\n",
        "Seq('CGTAACAAGGTTTCCGTAGGTGAACCTGCGGAAGGATCATTGTTGAGATCACAT...GCA', SingleLetterAlphabet())\n",
        "745\n",
        "gi|2765577|emb|Z78452.1|PBZ78452\n",
        "Seq('CGTAACAAGGTTTCCGTAGGTGAACCTGCGGAAGGATCATTGTTGAGATCACAT...GCA', SingleLetterAlphabet())\n",
        "743\n",
        "gi|2765576|emb|Z78451.1|PHZ78451\n",
        "Seq('CGTAACAAGGTTTCCGTAGGTGTACCTCCGGAAGGATCATTGTTGAGATCACAT...AGC', SingleLetterAlphabet())\n",
        "730\n",
        "gi|2765575|emb|Z78450.1|PPZ78450\n",
        "Seq('GGAAGGATCATTGCTGATATCACATAATAATTGATCGAGTTAAGCTGGAGGATC...GAG', SingleLetterAlphabet())\n",
        "706\n",
        "gi|2765574|emb|Z78449.1|PMZ78449\n",
        "Seq('CGTAACAAGGTTTCCGTAGGTGAACCTGCGGAAGGATCATTGTTGAGATCACAT...TGC', SingleLetterAlphabet())\n",
        "744\n",
        "gi|2765573|emb|Z78448.1|PAZ78448\n",
        "Seq('CGTAACAAGGTTTCCGTAGGTGAACCTGCGGAAGGATCATTGTTGAGATCACAT...AGG', SingleLetterAlphabet())\n",
        "742\n",
        "gi|2765572|emb|Z78447.1|PVZ78447\n",
        "Seq('CGTAACAAGGATTCCGTAGGTGAACCTGCGGGAGGATCATTGTTGAGATCACAT...AGC', SingleLetterAlphabet())\n",
        "694\n",
        "gi|2765571|emb|Z78446.1|PAZ78446\n",
        "Seq('CGTAACAAGGTTTCCGTAGGTGAACCTCCGGAAGGATCATTGTTGAGATCACAT...CCC', SingleLetterAlphabet())\n",
        "712\n",
        "gi|2765570|emb|Z78445.1|PUZ78445\n",
        "Seq('CGTAACAAGGTTTCCGTAGGTGAACCTGCGGAAGGATCATTGTTGAGATCACAT...TGT', SingleLetterAlphabet())\n",
        "715\n",
        "gi|2765569|emb|Z78444.1|PAZ78444\n",
        "Seq('CGTAACAAGGTTTCCGTAGGGTGAACTGCGGAAGGATCATTGTTGAGATCACAT...ATT', SingleLetterAlphabet())\n",
        "688\n",
        "gi|2765568|emb|Z78443.1|PLZ78443\n",
        "Seq('CGTAACAAGGTTTCCGTAGGTGAACCTGCGGAAGGATCATTGTTGAGATCACAT...AGG', SingleLetterAlphabet())\n",
        "784\n",
        "gi|2765567|emb|Z78442.1|PBZ78442\n",
        "Seq('GTAGGTGAACCTGCGGAAGGATCATTGTTGAGATCACATAATAATTGATCGAGT...AGT', SingleLetterAlphabet())\n",
        "721\n",
        "gi|2765566|emb|Z78441.1|PSZ78441\n",
        "Seq('GGAAGGTCATTGCCGATATCACATAATAATTGATCGAGTTAATCTGGAGGATCT...GAG', SingleLetterAlphabet())\n",
        "703\n",
        "gi|2765565|emb|Z78440.1|PPZ78440\n",
        "Seq('CGTAACAAGGTTTCCGTAGGTGGACCTCCGGGAGGATCATTGTTGAGATCACAT...GCA', SingleLetterAlphabet())\n",
        "744\n",
        "gi|2765564|emb|Z78439.1|PBZ78439\n",
        "Seq('CATTGTTGAGATCACATAATAATTGATCGAGTTAATCTGGAGGATCTGTTTACT...GCC', SingleLetterAlphabet())\n",
        "592\n"
       ]
      }
     ],
     "prompt_number": 2
    },
    {
     "cell_type": "markdown",
     "metadata": {},
     "source": [
      "The above example is repeated from the introduction in Section~\\ref{sec:sequence-parsing}, and will load the orchid DNA sequences in the FASTA format file \\href{http://biopython.org/DIST/docs/tutorial/examples/ls_orchid.fasta}{ls\\_orchid.fasta}.  If instead you wanted to load a GenBank format file like \\href{http://biopython.org/DIST/docs/tutorial/examples/ls_orchid.gbk}{ls\\_orchid.gbk} then all you need to do is change the filename and the format string:\n"
     ]
    },
    {
     "cell_type": "code",
     "collapsed": false,
     "input": [
      "from Bio import SeqIO\n",
      "for seq_record in SeqIO.parse(\"data/ls_orchid.gbk\", \"genbank\"):\n",
      "    print(seq_record.id)\n",
      "    print(seq_record.seq)\n",
      "    print(len(seq_record))"
     ],
     "language": "python",
     "metadata": {},
     "outputs": [
      {
       "output_type": "stream",
       "stream": "stdout",
       "text": [
        "Z78533.1\n",
        "CGTAACAAGGTTTCCGTAGGTGAACCTGCGGAAGGATCATTGATGAGACCGTGGAATAAACGATCGAGTGAATCCGGAGGACCGGTGTACTCAGCTCACCGGGGGCATTGCTCCCGTGGTGACCCTGATTTGTTGTTGGGCCGCCTCGGGAGCGTCCATGGCGGGTTTGAACCTCTAGCCCGGCGCAGTTTGGGCGCCAAGCCATATGAAAGCATCACCGGCGAATGGCATTGTCTTCCCCAAAACCCGGAGCGGCGGCGTGCTGTCGCGTGCCCAATGAATTTTGATGACTCTCGCAAACGGGAATCTTGGCTCTTTGCATCGGATGGAAGGACGCAGCGAAATGCGATAAGTGGTGTGAATTGCAAGATCCCGTGAACCATCGAGTCTTTTGAACGCAAGTTGCGCCCGAGGCCATCAGGCTAAGGGCACGCCTGCTTGGGCGTCGCGCTTCGTCTCTCTCCTGCCAATGCTTGCCCGGCATACAGCCAGGCCGGCGTGGTGCGGATGTGAAAGATTGGCCCCTTGTGCCTAGGTGCGGCGGGTCCAAGAGCTGGTGTTTTGATGGCCCGGAACCCGGCAAGAGGTGGACGGATGCTGGCAGCAGCTGCCGTGCGAATCCCCCATGTTGTCGTGCTTGTCGGACAGGCAGGAGAACCCTTCCGAACCCCAATGGAGGGCGGTTGACCGCCATTCGGATGTGACCCCAGGTCAGGCGGGGGCACCCGCTGAGTTTACGC\n",
        "740\n",
        "Z78532.1\n",
        "CGTAACAAGGTTTCCGTAGGTGAACCTGCGGAAGGATCATTGTTGAGACAACAGAATATATGATCGAGTGAATCTGGAGGACCTGTGGTAACTCAGCTCGTCGTGGCACTGCTTTTGTCGTGACCCTGCTTTGTTGTTGGGCCTCCTCAAGAGCTTTCATGGCAGGTTTGAACTTTAGTACGGTGCAGTTTGCGCCAAGTCATATAAAGCATCACTGATGAATGACATTATTGTCAGAAAAAATCAGAGGGGCAGTATGCTACTGAGCATGCCAGTGAATTTTTATGACTCTCGCAACGGATATCTTGGCTCTAACATCGATGAAGAACGCAGCTAAATGCGATAAGTGGTGTGAATTGCAGAATCCCGTGAACCATCGAGTCTTTGAACGCAAGTTGCGCTCGAGGCCATCAGGCTAAGGGCACGCCTGCCTGGGCGTCGTGTGTTGCGTCTCTCCTACCAATGCTTGCTTGGCATATCGCTAAGCTGGCATTATACGGATGTGAATGATTGGCCCCTTGTGCCTAGGTGCGGTGGGTCTAAGGATTGTTGCTTTGATGGGTAGGAATGTGGCACGAGGTGGAGAATGCTAACAGTCATAAGGCTGCTATTTGAATCCCCCATGTTGTTGTATTTTTTCGAACCTACACAAGAACCTAATTGAACCCCAATGGAGCTAAAATAACCATTGGGCAGTTGATTTCCATTCAGATGCGACCCCAGGTCAGGCGGGGCCACCCGCTGAGTTGAGGC\n",
        "753\n",
        "Z78531.1\n",
        "CGTAACAAGGTTTCCGTAGGTGAACCTGCGGAAGGATCATTGTTGAGACAGCAGAACATACGATCGAGTGAATCCGGAGGACCCGTGGTTACACGGCTCACCGTGGCTTTGCTCTCGTGGTGAACCCGGTTTGCGACCGGGCCGCCTCGGGAACTTTCATGGCGGGTTTGAACGTCTAGCGCGGCGCAGTTTGCGCCAAGTCATATGGAGCGTCACCGATGGATGGCATTTTTGTCAAGAAAAACTCGGAGGGGCGGCGTCTGTTGCGCGTGCCAATGAATTTATGACGACTCTCGGCAACGGGATATCTGGCTCTTGCATCGATGAAGAACGCAGCGAAATGCGATAAGTGGTGTGAATTGCAGAATCCCGCGAACCATCGAGTCTTTGAACGCAAGTTGCGCCCGAGGCCATCAGGCTAAGGGCACGCCTGCCTGGGCGTCGTGTGCTGCGTCTCTCCTGATAATGCTTGATTGGCATGCGGCTAGTCTGTCATTGTGAGGACGTGAAAGATTGGCCCCTTGCGCCTAGGTGCGGCGGGTCTAAGCATCGGTGTTCTGATGGCCCGGAACTTGGCAGTAGGTGGAGGATGCTGGCAGCCGCAAGGCTGCCGTTCGAATCCCCCGTGTTGTCGTACTCGTCAGGCCTACAGAAGAACCTGTTTGAACCCCCAGTGGACGCAAAACCGCCCTCGGGCGGTGATTTCCATTCAGATGCGACCCCAGTCAGGCGGGCCACCCGTGAGTAA\n",
        "748\n",
        "Z78530.1\n",
        "CGTAACAAGGTTTCCGTAGGTGAACCTGCGGAAGGATCATTGTTGAAACAACATAATAAACGATTGAGTGAATCTGGAGGACTTGTGGTAATTTGGCTCGCTAGGGATATCCTTTTGTGGTGACCATGATTTGTCATTGGGCCTCATTGAGAGCTTTCATGGCGGGTTTGAACCTCTAGCACGGTCCAGTTTGCACCAAGGTATATAAAGAATCACCGATGAATGACATTATTGCCCCACACAACGTCGGAGGTGTGGTGTGTTAATGTTCATTCCAATGAATTTTGATGACTCTCGGCAGACGGATATCTTGACTCTTGCATCGATGAAGAACGCACCGAAATGTGATAAGTGGTGTGAATTGCAGAATCCCGTGAACCATCGAGTCTTTGAACGCAAGTTGCGCCCGAGGCCATCAGGCTAAGGGCACGCCTGCCTGGGCGTCGTATGTTTTATCTCTCCTTCCAATGCTTGTCCAGCATATAGCTAGGCCATCATTGTGTGGATGTGAAAGATTGGCCCCTTGTGCTTAGGTGCGGTGGGTCTAAGGATATGTGTTTTGATGGTCTGAAACTTGGCAAGAGGTGGAGGATGCTGGCAGCCGCAAGGCTATTGTTTGAATCCCCCATGTTGTCATGTTTGTTGGGCCTATAGAACAACTTGTTTGGACCCTAATTAAGGCAAAACAATCCTTGGGTGGTTGATTTCCAATCAGATGCGACCCCAGTCAGGGGGCCACCCCAT\n",
        "744\n",
        "Z78529.1\n",
        "ACGGCGAGCTGCCGAAGGACATTGTTGAGACAGCAGAATATACGATTGAGTGAATCTGGAGGACTTGTGGTTATTTGGCTCGCTAGGGATTTCCTTTTGTGGTGACCATGATTTGTCATTGGGCCTCATTGAGAGCTTTCATGGCGGGTTTGAACCTCTAGCACGGTGCAGTTTGCACCAAGGTATATAAAGAATCACCGATGAATGACATTATTGTCAAAAAAGTCGGAGGTGTGGTGTGTTATTGGTCATGCCAATGAATTGTTGATGACTCTCGCCGAGGGATATCTTGGCTCTTGCATCGATGAAGAATCCCACCGAAATGTGATAAGTGGTGTGAATTGCAGAATCCCGTGAACCATCGAGTCTTTGAACGCAAGTTGCGCCCGAGGCCATCAGGCTAAGGGCACGCCTGCCTGGGCGTCGTATGTTTTATCTCTCCTTCCAATGCTTGTCCAGCATATAGCTAGGCCATCATTGTGTGGATGTGAAAGATTGGCCCCTTGTGCTTAGGTGCGGTGGGTCTAAGGATATGTGTTTTGATGGTCTGAAACTTGGCAAGAGGTGGAGGATGCTGGCAGCCGCAAGGCTATTGTTTGAATCCCCCATGTTGTCATATTTGTTGGGCCTATAGAACAACTTGTTTGGACCCTAATTAAGGCAAAACAATCCTTGGGTGGTTGATTTCCAATCAGATGCGACCCCAGTCAGCGGGCCACCAGCTGAGCTAAAA\n",
        "733\n",
        "Z78527.1\n",
        "CGTAACAAGGTTTCCGTAGGTGAACCTGCGGAAGGATCATTGTTGAGACAGTAGAATATATGATCGAGTGAATCTGGATGACCTGTGGTTACTCGGCTCGCCTGATTTGTTGTTGGGCTTCCTTAGGAGCTTACATGGCGGGTTTGAACCTCTACCACGGTGCAGTTTGCGCCAAGTCATATGAAGCATAACTGCAAATGGCACTACTGTCACCAAAAGTTGGAGTGGCAGTGTGTTATTGCATGCGCTAATGGATTTTTGATGACTCTCGGCCAACGGATATCTGGCTCTTTGCATCGATGAAGGAACGCAGCGAAATGCGATAAGTGGTGTGAATTGCAGAATCCCGCGAACCATCGAGTCTTTGAACGCAAGTTGCGCCCGAGGCCATCAGGCTAAGGGCACGCCTGCCTGGGCGTCGTGTATCGCATCTCTCTTGCCAATGCTTACCCGGCATACAACTAGGCTGGCATTGGGTGGATGTGAAAGATTGGCCCCTTGTGCCTAGGTGCGGTGGGTCTAAGGATTGATGTTTTGATGGATCGAAACCTGGCAGGAGGTGGAGGATGCTGGAAGCCGCAAGGCTGTCGTTCGAATCCCCCATGTTGTCATATTTGTCGAACCTATAAAAGAACATGCTTGAACCCCAATGGATTGTAAAATGACCCTTGGCGGTTGATTTCCATTTAGATGCGACCCCAGGTCAGGCGGGCCACCC\n",
        "718\n",
        "Z78526.1\n",
        "CGTAACAAGGTTTCCGTAGGTGAACCTGCGGAAGGATCATTGTTGAGACAGTAGAATATATGATCGAGTGAATCTGGAGGACCTGTGGTTACTCGGCTCCCCTGATTTGTTGTTGGGCTTCCTTAGGAGCTTACATGCCGGGTTTGAACCTCTACCACGGTGCAGTTTGCGCCAAGTCATATGAAGCATAACTGAACAATGGCATTATTGTCACCAAAAGTTGGAGTGGCAGTGTGCTATTGCATGCGCTAATGGATTTTTGATGACTCTCGCCAACGGATATCTTGGCTCTTGCATCGATGAAGAACCCAGCGAAATGCGATAAGTGGTGTGAATTGCAGAATCCCGCGAACCATCGAGTCTTTGAACGCAAGTTGCGCCCGAGGCCATCAGGCTAAGGGCACGCCTGCCTGGGCGTCGTGTATCGCATCTCTCTTGCCAATGCTTACCCGGCATACAACTAGGCTGGCATTGTGCGGATGTGAAAGATTGGCCCCTTGTGCCTAGGTGCGGTGGGTCTAAGGATTGATGTTTTGATGGATCGAAACCTGGCAGGAGGTGGAGGATGCTGGAAGCCGCAAGGCTGTCGTTCGAATCCCCCATGTTGTCATATTTGTCGAACCTATAAAAGAACATGCTTGAACCCCAATGGATGTAAAATGACCCTTGGCGGTTGATTTCCATTTAGATGCGACCCCAGGTCAGGCGGGGCCACCCGCTGAGTTTATGT\n",
        "730\n",
        "Z78525.1\n",
        "TGTTGAGATAGCAGAATATACATCGAGTGAATCCGGAGGACCTGTGGTTATTCGGCTTGCCGAGGGCTTTGCTTTTGTGGTGACCCAAATTTGTCGTTGGGCCTCCTCGGGAGCTTTCATGGCAGGTTTCAAACTCTAGCACGGCACAGTTTGTGCCAAGTCATATGAAGCATCACCGACAAATGACATTATTGTCAAAAAAGTTGGAGGGGCGGTGTCCTCCTGTGCATGCCGAATATAATTTTGATGACTCTCGACAAGCGGATATCTTGGCTCTTGCATCGGATGAAGAACCCAGCGAAATGCGATAAGTGGTGTGAATTGCAAGATCCCGTGAACCATCGAGTCTTTTGAACGCAAGTTGCGCCCGAGGCCATCAGGCTAAGGGCACGCCTGCCTGGGCGTCGTGTGTTGTGTCTCTCTTGCCAATGCCTGTCCATATATCTAGGCTTGCATTGTGCGGATGCGAAAGATTGGCCCCTTGTGCCTTGGCGCGTTGGGTCTAAGGAATGTTTTGATGGCCCGAAACTTGGCAGGAGGTGGAGGACATTGGCTGCCACAAGGTTGTCATTTAAATCCCCCATGTTATCGTATTTATCGGACCTATATAATAACTTGTTTGAACCCCAGTGGAGGCAAAATGACCCTTGGATGGTTGACTGCCATTCATATGCGACCCCAGGTCAGGCGGGCCACCCGCTGCA\n",
        "704\n",
        "Z78524.1\n",
        "CGTAACAAGGTTTCCGTAGGTGAACCTGCGGAAGGATCATTGTTGAGATAGTAGAATATATGATTGAGTGAATATGGAGGACATGTGGTTACTTGGCTCGTCAGTGCTTTGCTTTTGTGGTGACCTTAATTGGGCCTCCTTAGGAGCTTTCATGGCGGGTTCAAACCTTTAGCACGGCGCAGTTTGTGCCAAGTCATATAAGCATCCCTGATGAATGGCATTGTTGTTAAAAAAGTCGGAGGGGCGGCATGCTGTTGTGCATGCTAATGAATTTTTTGATGACTCTCGCAACGGAACTTGGCTCTTTACATCCGATGAAGAACGCAGCGAAATGCGATAAGTGGTGTGAATTGCAGAATCCCGTGAACCATCGAGTATTTGAACGCAAGTTGCGCCCAAGGCCATCAGGCTAAGGGCACGCCTGCCTGGGCGTCGTGTGCTGCATCTCTCCTNCCAATGCTTGCCCAGCATATAGCTAGGTTAGCATTGTGCGGATGAAATATTGGCCCCTTGTGCTTAGGTGCGGTGGGTCTAAGGATTAGTATTTTGATAGCTCGGAACTCGGCAGGAGGTGGAGAATGTTGGTAGCTGCAAGGCTGCCATTTGAATTCCCCATGTTGTCGTATTTGTTGAACCTATAAAAGAACTTGTTTGAACCCCAATGAAGGAAAAATGACCCTTGGGCGGTTGATTTTCATTCAGATGCAACCCCAGGTCAGGTGGCCACCCTGAGATTAAGC\n",
        "740\n",
        "Z78523.1\n",
        "CGTAACCAGGTTTCCGTAGGTGAACCTGCGGCAGGATCATTGTTGAGACAGCAGAATATATGATCGAGTGAATCCGGTGGACTTGTGGTTACTCAGCTCGACATAGGCTTTGCTTTTGCGGTGACCCTAACTTGTCATTGGGCCTCCTCCCAAGCTTTCCTTGTGGGTGTGAACCTCTAGCACGGTGCAGTATGCGCCAAGTCATATGAAGCATCACTGAGGAATGACATTATTGTCCCAAAAGCTAGAGTGGAAGCGTGCTCTTGCATGCATGCATAATGAATTTTTTATTGACTCTCGACATATGTGGTGTGAATTGCAGAATCCCGTGAACCATCGAGTCTTTGAACGCAAGTTGCGCCCGATGCCATCAGGCTAAGGGCACGCCTGCCTGGGCGTCGTGTGCTGCGTCTCTCCTATCAATGCTTTCCTATCATATAGATTGGTTTGCATTGCGTGGATGCGAAAGATTGGCCCCTTGTGCCTAGGTGCGGTGGGTCTAAGGACTAGTGTTTTGATGGTTCGAAACCTGGCAGGAGGTGGAGGATGTTGGCAGCTATAAGGCTATCGTTTGAACCCCCCATATTGTCGTGTTTGTCGGACCTAGAGAAGAACCTGTTTGAATCCCAATGGAGGCAAACAACCCTCGGGCGGTTGATTGCCATTCATATTGCGACCCAGGTCAGGCGGGGCCACCGCTGAGTTTAAG\n",
        "709\n",
        "Z78522.1\n",
        "CGTAACAAGGTTTCCGTAGGTGAACCTGCGGAAGGATCATTGTTGAGACAGCAGAATATATGATCGAGTGAATCCGGTGGACTTGTGGTTACTCAGCTCGACATAGGCTTTGCTTTTGCGGTGACCCTAATTTGTCATTGGGCCTCCCCCCAAGCTTTCCTTGTGGGTTTGAACCTCTAGCACGGTGCAGTATGCGCCAAGTCATATGAAGCATCACTGATGAATGACATTATTGTCCAAAAAGTTGGAGTGGAAGCGTGCTATTGCATACATGCAAATGAATTTTTTATGACTCTCGACATATCGTGGTGTGATCGCAGAATCCCGTGAACCATCGAGTCTTTGAACGCAAGTTGCGCCCGATGCCATCAGGCTAAGGGAACGCCTGCCTGGGCGTCGTGTGCTGCGTCTCTCCTGTCAATGGTTATACGTCATATAGACAGGTTTGCATTGCGTGGATGTGAAAGATTGGCCCCTTGTGCCTAGGTGCGGTGGGTCTAAGGACTAGTGTTTTGATGGTTCGAAACCTGGCAGGAGGTGGAGGATGTTGGCAGCTATAAGGCTATCATTTGAATCCCCCATATTGTCGTGTTTGTCGGACCTAGAGAAGAACATGTTTGAATCCCAATGGGGGCAAACAACCCTCGGGCGGTTGATTGCCATTCATATGCGACCCCAGGTCAGGCGGCCACCCGCTGAG\n",
        "700\n",
        "Z78521.1\n",
        "GTAGGTGAACCTGCGGAAGGATCATTGTTGAGACAGTAGAATATATGATCGAGTGAATCCGGTGGACTTGTGGTTACTCAGCTCGACATAGGCTTGGCTTTGGCGGTGACCCTAATTTGCCATTGGGCCTCCTCCAAAGCTTTCCTTGTGGGTTTGAACCTCTAGCACGGTGCAGTATGCGCCAAGTCATATGAAGCATCACCGATGAATGACATTATTGTCAAAAAGTTGGAGTGGAAGCGTGCTATTGCATGCATGCAAATGAATTTTTTATGACTCTCGACAACGGATATCTTGGCTCTTGCATCGATGAAGAACGCAGCAAAATGCGATAAGTGGTGTGAATTGCAGAATCCCGTGAACCATCGAGTCTTTGAACGCAAGTTGCGCCCGATGCCATCAGGCTAAGGGCACGCCTGCCTGGGCGTCGTGTGCTGCGTCTCTCCTGTCAATGCTTTCATGTCATATAGATAGGTTTGCATTGCGTGGATGTGAAAGAATGGCCCCTTGTGCCTAGGTACGGTGGGTCTAAGGACTAGTGTTTTGATGGTTCGAAACCTGGCAGGAGGTGGAGGATGTTGGCAGCTATAAGGCTATCATTTGAATCCCCCATATTGTCGTGTTTGTCGGACCTAGAGAAAAACATGTTTGAATCCCAATGGAGGCAAACAACTCTCGGGCGGTTGATTGCCATTCATATGCGACCCCAGGTCAGGCGGGGCCACC\n",
        "726\n",
        "Z78520.1\n",
        "CGTAACAAGGTTTCCGTAGGTGAACCTGCGGAAGGATCATTGTTGAGACAGCAGAATATATGATCGAGTGAATCCGGTGGACTTGTGGTTACTCAGCTCGCCATAGGCTTTGCTTTTGCGGTGACCCTAATTTGTCATTGGGCCTCCTCCAAAGCTTTCCTTGTGGGTTTGAACCTCTAGCACGGTGCAGTATGCGCCAAGTCATATGAATCATCACCGATGAATGACATTATTGTCCAAAAAGTTGGAGTAGAAGCGTGCTATTGCATGCATGCAATAGAATATTTTATGACTCTCGACAAGGGATATCTTGGCTCTTGCATCGGATGAAGAACGCAGCGAAATTGTGATAAGTGGTGTGAATTGCAGAATCCCGTGAACCATCGAGTATGTGAACGCAAGTTGCGCCCGATGCCATCAGGCTAAGGGCACGCCTGCCTGGGCGTCGTGTGCTGCGTCTCTCCTGTCAATGCTTTCCTGTCATATCGATAGGTTTGCATTGTGTGGATGTGAAAGATTGGCCCCTTGTGCCTAGGTGCGGTGGGTCTAAGGACTAGTGTTTTGATGGTTCGAAACCTGGCAGGAGGTGGAGGATGTTGGCAGCTATAAGGTTGTCATGTGAATCCCCCATATTGTCGTGTTTGTCGGACCTGGAGAAGAACCTGTTTGAATCCCAATGGAGGCAAACAACCCTCGGGCGGTTGATTGCCATTCATATGCGACCCCAGGTCAGGCGGGCCACCCGCTGAGTTT\n",
        "753\n",
        "Z78519.1\n",
        "ATATGATCGAGTGAATCTGGTGGACTTGTGGTTACTCAGCTCGCCATAGGCTTTGCTTTTGCGGTGACCCTAATTTGTCATTGGGCCTCCTCCCAAGCTTTCCTTGTGGGTTTGAACCTCTAGCACGGTGCAGTATGCACCAAGTCATATGAAGCATTGCCGATGAATGACATTATTGTCCAAAAGTTGGAGTGGAAGCGTGCTACTGCATGCATGCAAATGAATTTTTTTATGACTCTCGACAACGGATATCTTGGCTCTTGCATCGATGAAGAACGCAGCGAAATGCGATAAGTGGTGTGAATTGCAGAATCCCGTGAACCATCGAGTCTTTGAACGCAAGTTGCGCCCGATGCCATCAGGCTAAGGGCACGCCTGCCTGGGCGTCGTGTGCTGCGTCTCTCCTGTCAATGCTTTCCCATCATATAGATAGGTTTGCATTGTGTGGATGTGAAAGATTGGCCCCTTGTGCCTAGGTGCGGTGGGTCTAAGAACTTAATGTTTTGATGGTTCGAAACCTGGCAGGAGGTGGAGGATGTTGGCAGCTATATAAGGCTATCATTTGAATCCCCCATATTGTCGCGTTTGTTGGACCTAGAGAAGAACATGTTTGAATCCCAATGGAGGCAAACAACCCTCGGGCGGTTGATTGCCATTCATATGCGACCCCAGGTCAGGCGGGGCCACCCGCTGAGTTTA\n",
        "699\n",
        "Z78518.1\n",
        "CGTAACAAGGTTTCCGTAGGTGAACCTGCGGGAGGATCATTGTTGAGATAGTAGAATATTCGATCGAGTGAATCCGGAGGACTTGTGGTTACTCGGCTCGTCGAAGGCTTAACTTTTGTGGTGACCCTGATTTGTAGTTGGGCATCCTCGAGAGCTTTTATGGCGGGTTTGAGCCTCTATCACGGCGCAGTTTGCGCCAAGTCATATGAAGCATCGCCGACGAATTACATTATTGTCCCCCAAACTCGGATGGACGGTGTGTGTTACGCATACCCGTGAACCATCGAGTCTTTGAACGCAAGTTGCGCCCAAGGCCATCAGGCTAAGGGCACGCCTGCCTGGGCGTCGTGTGCTGCATCTCTTTTGCCAATGCTTGCTCGACATACAATTAGGCCAGTATTGCATAGATATGAAAGATTGACCCCTTGTGCTTAGGTGCGGTGGGTCTAAGGATTGGTGTTTTGATGGCCCAAACCCCGGCAGGAGGTGGAGCATGTTGATAGTCGCAAGGCTGTCGTTCAAATCCCACATGTTGTCGTATTTGCCGGACCCACAGAAGAACCTATTTGAACCCCTATGGAGGCAAAACAACCCTTGAGCGATTGATTGCCATTCAGATACGACCCCAGGTCAGGCGGGGCCACCCGCTGAGTTTTCC\n",
        "658\n",
        "Z78517.1\n",
        "CGTAACAAGGTTTCCGTAGGTGAACCTGCGGAAGGATCATTGTTGAGACAGTAGAATATACGATCGAGTGAATCCAGAGGACTTGTGGTTACTCGGCTCGTCCAAGTCTTAGCTTTTGTGGCCCTGATTTGTCGTTGGGCATCCTCAGGAGATTTTATGGCGGGTTTGAACCTCTATCACGGTGCAGTTTGCGCCAAGTCATATGAAGCATCACCGATGAATGACATTATTGTCACAAAAGTCGGATGGGCGGTGTGCTGTTGTGCATGCCAATAAATTTTTGATGACTCTCGGCCAACGGATATCTTGCTCTTCCATCGATGAAGAACGCAGCGAAATGCGATAAGTGGTGTGAATTGCAGAATCCCGTGAACCATCGAGTCTTTGAACGCAAGTTGCGCCCAAGGCCATCAGGCTAAGGGCACGCCTGCCTGGGCGTCGTGTGCTGCATCTCTTTTGCCAATGCTTGCCCGACATACAATTAGGACAGTATTGCATAGATATGAAAGATTGACCCCTTGTGCTTAGGTGCGGTGGGTCTAAGGATTGGTGTTTTGGTGGCCCGAACCCCGGCAGGAGGTGGATCATGTTGATAGTCGCAAGACTGTCATTCAAATCCCACATGTTGTCGTATTTGTCGGACCCACAGAAGAACCTATTTGAACCCCAATGGAGGCAAAACAACCCTCGAGCGATTGATTGCCATTCAGATACGACCCCAGGTCAGGCGGGGCCACCCGCTGAGTTTAAGC\n",
        "752\n",
        "Z78516.1\n",
        "CGTAACAAGGTTTCCGTAGGTGAACCTGCGGAAGGATCATTGTTGAGACAGTATAATATATGATCGAGTGAATCCGGAGGACTTGTGGTTACTCGGCTCGTCCAAGTCTTAGCTTTTGTGGCCCTGATTTGTCGTTGGGCATCCTCAGGAGCTTTTATGGCGGGTTTGAACCTCTATCACGGCGCAGTTTGCGCCAAGTCATATGAAGCATCACCGACGAATGACATTATTGTCACCAAAGTCGGATGGGCGGTGTGCTATTGTGCATACCAATAATTTTTTGATGACTCTCGTCAACGGATATCTTAGCGAAATGCGATAAGTGGTGTGAATTGCAGAATCCCGTGAACCATCGAGTCTTTGAACGCAAGTTGCGCCCAAGGCCATCAGGCTAAGGGCACGCCTGCCTGGGCGTCGTGTGCTGCATCTCTTTTGCCAATGCTTGCCCGACATACAATTAGGCCAGTATTGCATAGATATGAAAGATTGACCCCTTGTGCTTAGGTGCGGTGGGTCTAAGGATTGGTGTTTTGATGTCCCGAACCCCGGCAGGAGGTGGAGCATGTTGATAGTCGCAAGACTATCGTTCAAATCCCACATGTTGTCGTATTTGTCGGACCCACAGAAGAACCTATTTGAACCCCAATGGAGGCAAAACAACCCTCGAGTGATTGATTGCCATTCAGATATGACCCCAGGTCAGGCGGGGCCACCCGCTGAGTTTAA\n",
        "726\n",
        "Z78515.1\n",
        "CGTAACAAGGTTTCCGTAGGTGAACCTGCGGAAGGATCATTGCTGAGACCGTAGAATAAACGATCGAGTTAATCTGGAGGACCGGTGTACTTCGATCTCCCAGGGGCTTTCGCTACTGTGGTGGCCTTTGATCTGCCATCGGGCCTCCTTGGGAGTGTTCTTGAAGGCGATCAAACTTCTAGCCCGGCGCAGCTTCGCGCCAAGTCTTTTGAGACAAGAATCGGCATAGGGGTGTTCCCTTGTAGCCGGTGGGGGTGGCACTTGATTCGTGCCCCCCAAGTTACATTTTTACAACTCTCGGCAACGGATATCTCGGCTCTTGCATCGATGGAGGACGCAGCGAAATGCGATAAGTGGTGTGAATTGCAGAATCCCGTGAACATCGAGTCTTTGAACGCAAGTTGCGCTCGAGGCCGTCAGGCTAAGGGCACGCCTGCCTGGGCGTTGTGTACTGTGTCTCTCCCACCAATGGTTGTCCAAGAATACCGTTCGGTCGGTGCGGATGTGAGTTTGGCCCCTTGTTCTTCGGTTCAATGGGTCTAAGACCTCGGGCTTTTGATGGTCCAAAATTCGACAAGAGGTGGATGGGCAATGGCTGAGCCAAAGCTGTTGTGCGAATGCCGTATGTTGTCCGATTTGATGGGCCATCATAATTCGTAGGACCCTTCGGAACCCCATTGGTGCCACATCAACCCAACCCATGGGCGGTTGATTGCCATTTGGAAGCAACCCCAGGTCAGGTGAGGCCACCCGCTGAGTTTAAGC\n",
        "765\n",
        "Z78514.1\n",
        "CGTAACAAGGTTTCCGTAGGTGGACCTTCGGGAGGATCATTTTTGAAGCCCCCAAATATACGATCGAGATAATCCGGAGGACCGGTGTACTTTGGTCTCCCAGGGGCTTCCGCCGCTGTGGTGACCATGATTTCCCATCGAACCTCCTTGGGAGAGTTCTCTATGGCAATTGAACCCTTGGCCCGGCGCAGTTTCGCTCCAAGTCAAATGAGATAGAACCGACAAGGGTCTTCGTCCTCCATGGATGGACCGGGGAGGGCCGGCGTGCTGCTGTGCCCCCTTAAGATTCGTCTGACAACTCTCGTCAACGGATATCTCGGCTCTTGCATCGATGAAGAACCCAGCGAAATGTGATAAGTGGTGTGAATTGCAGAATCCCGTGAACCATCGAGTCTTTGAACGCAAGTTGCGCCCGAGGCCATCAGGCTAAGGGCACGCCTGCCTGGGCGTTGCGTGCTGCATCTCTCCCAATGCTAAGGTTGAACAGCCATACTGTTCGGCCGGCGAGGATGAGAGTTTGGCCCCTTGTTCTTCGGTGCGATGGGTCCAAGACTTGGGCTTGTGACGGTCCACAAATCCGGCAAGAGGTGGACGGACGGTGGCTGCGACAAAGCTGTTGTGCGAATGCCCTATGTTGTCGTATTTGATGGGCCGGAATGATCCCTTTCGAACCCCGTCGGAGGCACGTCGACCCAACCCATGGGCGGTTGACGGCCATTAGGATGCAACCCCAGGTCAGGTGAGACTACCCGCTA\n",
        "755\n",
        "Z78513.1\n",
        "CGTAACAAGGTTTCCGTAGGTGAACCTGCGGAAGGATCATTGTTGAGACCGCCAAATACACGATCGAGTTAATCCGGAGGACCGGTGTACTTTGGTCTCCCAGGGGCTTCCGCCGCTGTGGTGACCATGATTTGCCATCGAGCCTCATTGGGAGATTTCTCCATGGCAATTGAACCCTTGGCCCGGCGCAGTTTCGCGCCAAGTCAAATGAGATAGAACCGGCAAGGGCATCGTCCTCCATGGAGCCGGGGAGGCCGGCATGCTGCTGTGCCCGAAAGAATTTTCGACAACTCTCGGCAACGGATATCTCGGCTCTTGCATCGATGAAGAACGCAGCGAAATGTGATAAGTGGTGTGAATTGCAGAATCCCGTGAACCATCGAGTCTTTGAACGCAAGTTGCGCCCGAGGCCATCAGGCTAAGGGCACGCCTGCCTGGGCGTTGCGTGCTGCATCTCTCCCAATGCTAAGGTTGAACAGCCATACTGTTCGGCCGGCGAGGATGAGAGTTTGGCCCCTTGTTCTTCTGTGCGATGGGTCCAAGACTTGGGCTTGTGACGGTCCACAAATCCGGCAAGAGGTGGACGGACGGTGGCTGCGACGAAGCTTTTGTGCGAATGCCCTATGTTGTCGTATTTGATGTGCCAGAACGATCCCTTTCGAACCCCTTCGGAGGCACGTCGACCCAACCCATGGGCGGTGACGCCATTAGGATGCAACCCAGTCAGTGAGCTACCGCTGAG\n",
        "742\n",
        "Z78512.1\n",
        "CGTAACAAGGTTTCCGTAGGTGGACCTTCGGGAGGATCATTTTTGAAGCCCCCAAAAAAACGATCGAATTAATCCGGAGGGCCGGTGTAGTTTGGTCTCCCAGGGGCCTTGGCTACTGTGGTGACCGTGAATTTCCGTCGAACCCTCTGGGAGGAATTCTTGATGGCAAATGAAACCCTTGGCCCGGCGCAGTTTCGCCCCAAATCAAATGAGATGGAACCGGCGGAGGGCATCGTCCCCCATGGAACCGGGGAGGGCCGGCGTTCTTCCGTTCCCCCAATGAAATTATTTTTTGACAACTCTCGCAACGGATATCTCGGCTCTTGCATCGATGAAGAACGCAGCGAAATGTGATAAGCTGGTGTGAATTGCAGAATCCCGTGAACCATCGAGTCTTTGAACGCAAGTTGCGCCCGAGGCCATCAGGCTAAGGGCACGCCTGCCTGGGCGTTGCGTGCTGCATCTCTCTCCCATTGCTAAGGCTGAACAGGCATACTGTTCGGCCGGCGCGGATGAGTGTTTGGCCCCTTGTTCTTCGGTGCGATGGGTCCAAGACCTGGGCTTTTGACGGCCGGAAATCCGGCAAGAGGTGGACGGACGGTGGCTGCGACGAAGCTGTCGTGCGAATGCCCTGCGTTGTCGTATTTGATGGGCCGGAATAAATCCCTTTTGAACCCCATTGGAGGCACGTCAACCCGTGGGCGGTCGACGGTCATTTGGATCCAACCCCAGGTCAGGTGAGGCCACCCGCTGAGTTTAAGC\n",
        "762\n",
        "Z78511.1\n",
        "CGTAACAAGGTTTCCGTAGGTGAACCTTCGGAAGGATCATTGTTGAGACCCCCAAAAAAACGATCGAGTTAATCCGGAGGACCGGTGTAGTTTGGTCTCCCAGGGGCTTTGGCTACTGTGGTGGCCGTGAATTTCCGTCGAACCTCCTTGGGAGAATTCTTGATGGCAATTGAACCCTTGGCCCGGCGCAGTTTCGCCCCAAGTCAAATGAGATGGAACCGGCGGAGGGCATCGTCCTCCATGGAACCGGGGAGGGCCGGCGTTCTTCCGTTCCCCCCATGAATTTTTTTTTGACAACTCTCGGCAACGGATATCTCGGCTCTTTGCATCCGATGAAAGAACCCAGCGAAATGTGATAAGTGGTGTGAATTGCAGAATCCCGTGAACCATCGAGTCTTTGAACGCAAGTTGCGCCCGAGGCCATCAGGCTAAGGGCACGCCTGCCTGGGCGTTGCGTGCTGCATCTCTCTCCCATTGCTAAGGCTGAACAGGCATACTGTTCGGCCGGCGCGGATGAGTGTTTGGCCCCTTGTTCTTCGGTGCGATGGGTCCAAGACCTGGGCTTTTGACGGCCGGAAATCCGGCAAGAGGTGGACGGACGGTGGCTGCGACGAAGCTGTCGTGCGAATGCCCTACGCTGTCGTATTTGATGGGCCGGAATAAATCCCTTTTGAGCCCCATTGGAGGCACGTCAACCCGTGGGCGGTCGACGGCCATTTGGATGCAACCCCAGGTCAGGTGAGGA\n",
        "745\n",
        "Z78510.1\n",
        "CTAACCAGGGTTCCGAGGTGACCTTCGGGAGGATTCCTTTTTAAGCCCCCGAAAAAACGATCGAATTAAACCGGAGGACCGGTTTAATTTGGTCTCCCCAGGGGCTTTCCCCCCTTGGTGGCCGTGAATTTCCATCGAACCCCCCTGGGAGAATTCTTGGTGGCCAATGGACCCTTGGCCCGGCGCAATTTCCCCCCCAATCAAATGAGATAGGACCGGCAGGGGGCGTCCCCCCCCATGGAACCGGGGAGGGCCGGCATTCTTCCGTTCCCCCCTCGGATTTTTTGACAACTCTCGCAACGGATATCTCGCCTCTTTGCATCGGATGGAAGAACGCAGCGAAATGTGATAAGTGGTGTGAATTGCAGAATCCCGTGAACCATCGAGTCTTTGAACGCAAGTTGCGCCCGAGGCCATCAGGCTAAGGGCACGCCTGCCTGGGCGTTGCGTGCTGCATCTCTCCCATTGCTAAGGTTGAACGGGCATACTGTTCGGCCGGCGCGGATGAGAGATTGGCCCCTTGTTCTTCGGTGCGATGGGTCCAAGACCTGGGCTTTTGACGGTCCAAAATCCGGCAAGAGGTGGACGGACGGTGGCTGCGACAAAGCTGTCGTGCGAATGCCCTGCGTTGTCGTTTTTGATGGGCCGGAATAAATCCCTTTTGAACCCCATTGGAGGCACGTCAACCCATGGGCGGTTGACGGCCATTTGGATGCAACCCCAGGTCAGGTGAGCCACCCGCTGAGTTTA\n",
        "750\n",
        "Z78509.1\n",
        "CGTAACAAGGTTTCCGTAGGTGAACCTGCGGAAGGATCATTGTTGAGACCGCCAAATATACGATCGAGTTAATCCGGAGGACCGGTGTAGTTTGGTCTCCCAGGGGCTTTCGCCGCTGTGGTGACCGTGATTTGCCATCGAGCCTCCTTGGGAGATTTCTTGATGGCAATTGAACCCTTGGCCCGGCGCAGTTTCGCGCCAAGTCATATGAGATAGAACCGGCGGAGGGCGTCGTCCTCCATGGAGCGGGGAGGGCCGGCATGCTCCGTGCCCCCCCATGAATTTTTCTGACAACTCTCGGCAACGGACGTAACAAGGTTTAAATGTGATAAGCAGGTGTGAATTGCAGAATCCCGTGAACCATCGAGTCTTTGAACGCAAGTTGCGCCCGAGGCCATCAGGTTAAGGGCACGCCTGCCTGGGCGTTGCGTGCTGCATCTCTCCCATTGCTAAGGTTGAACGGGCATACTGTTCGGCCGGCGCGGATGAGAGTTTGGCCCCTTGTTCTTCGGTGCGATGGGTCCAAGACCTGGGCTTTTGACGGTCCAAAATCCGGCAAGAGGTGGACGGACGGTGGCTGCGACAGAGCTGTCGTGCGAATGCCCTACGTTGTCGTTTTTGATGGGCCAGAATAAATCCCTTTTGAACCCCATTGGAGGCACGTCAACCCAATGGGGGGTGACGGGCATTTGGTTAACCCCGGCAAGTTAAGGCACCCGTTAATTTTAGGA\n",
        "731\n",
        "Z78508.1\n",
        "CGTAACAAGGTTTCCGTAGGTGAACCTGCGGAAGGATCATTGTTGAGACCGCCAAATATACGATCGAGTTAATCCGGAGGACCGGTGTAGTTTGGTCTCCCAGGGGCTTTCGCCGCTGTGGTGACCGTGATTTGCCATCGAGCCTCCTTGGGAGATTTCTTGATGGCAATTGAACCCTTGGCCCGGCGCAGTTTCGCGCCAAGTCATATGAGATAGAACCGGCAGGGGGCGTCGTCCTCCATGGAGCCGGGGAGGGCCGGCATGCTGCCGTGCCCCCAATGAATTTTTTGACAACTCTCGGCAACGGATATCTCGGCTCTTGCATCGATGAAGAACGCAGCGAAATGTGATAAGTGGTGTGAATTGCAGAATCCCGTGAACCATCGAGTCTTTGAACGCAAGTTGCGCCCGAGGCCATCAGGCTAAGGGCACGCCTGCCTGGGCGTTGCGTGCTGCATCTCTCCCATTGCTAAGGTTGAACGGGCATACTGTTCGGCCGGCGCGGATGAGAGTTTGGCCCCTTGTTCTTCGGTGCGATGGGTCCAAGACCTGGGCTTTTGACGGTCCAAAATCCGGCAAGAGGTGGACGGACGGTGGCTGCGACAGAGCTGTCGTGCGAATGCCCTACGTTGTCGTATTTGATGGGCCGGAATAAATCCCTTTGAACCCCATTGGAGGCACGTCAACCCCATGGGCGGTGACGGCCACTTGGATGCAACCCAGTCAGTGAGCCACCGCTGA\n",
        "741\n",
        "Z78507.1\n",
        "CGTAACAAGGTTTCCGTAGGTGAACCTGCGGAAGGATCATTGTTGAGACCCCCAAAAAAACGATCGAGTTAATCCGGAGGACCGGTGTAGTTTGGTCTCCCAGGGGCTTTGGCTACTGTGGTGACCGTGAATTTCCGTCGAGCCTCCTTGGGAGATTTCTTGATGGCAATTGAACCCTTGGCCCGGCGCAGTTTCGCCCCAAGTCAAATGAGATGGAACCGGCGGAGGGCATCGTCCTCCATGGAACCGGGGAGGGCCGGCGTGCTTCCGTCCCCCAATGAATTTTTTTGACAACTCTCGCAACGGATATCTCGCTCTTGCATCGATGAAGAACACAGCGAAATGTGATAAGTGGTGTGAATTGCAGAATCCCGTGAACCATCGAGTCTTTGAACGCAAGTTGCGCCCGAGGCCATCAGGCTAAGGGCACGCCTGCCTGGGCGTTGCGTGCTGCATCTCTCTCCCATTGCTAAGGCTGAACAGGCATACTGTTCGGCCGGCGCGGATGAGTGTTTGGCCCCTTGTTCTTCGGTGCGATGGGTCCAAGACCTGGGCTTTTGACGGCCGGAAATCCGGCAAGAGGTGGACGGACGGTGGCTGCGACGAAGCTGTCGTGCGAATGCCCTGCGTTGTCGTATTTGATGGGCCGGAATAAATCCCTTTGAACCCCATTGGAGGCACGTCAACCCGTGGCGGTCGACGGCCATTTGGATGCAACCCAGTCAGTGAGCCACCGCTGA\n",
        "740\n",
        "Z78506.1\n",
        "CGTAACAAGGTTTCCGTAGGTGAACCTGCGGAAGGATCATTGTTGAGACCGCAAAATATACGATCGAGTTAATCCGGAGGACTGGTGTAGTTTGGTCTCCCAGGGGCGTTGGCTACTGCGGTGACCATGATTTTCCATCGAGCCTCCTCGGGAGATTTCTTGATGGCAATTGAACCCTTGGCCCGGCGCAGTTTCGCGCCAAGTCGTATGAGATAGAACCGGCAGAGGGCTTCGTCCTCCATGGAACCGGGGAGGACCGGCATGCCGCCGTACCCCCTTTGAATCGGGCTGACAACTCTCGTTCAAGGAGCCCTCAGCTCATAATGTGATAAGTGGTGTGAATTGCAGAATCCCGTGAACCATCGAGTCTTTGAACGCAAGTTGCGCCCGAGGCCATCAGGCTAAGGGCACGCCTGCCTGGGCGTTGCGTGCTGCATCTCTCCCGTTGCTAAGGTCGAACAGGCATATACTGTTCGGCCGGCGCGGATGAGAGTTTGGCCCCTTGTTCTTCGGTGCGATGGGTCCAAGACCTGGGCTTTTGACGGTAAAAAATCCGGCAAGAGGTGGACGGACGGTGGCTGCGACAAAGCTGTCGTGCGAATGCCCTACGTTGTCGTATTTGATGGGCCAGAATAAATCCCTTTTGAACCCCATTGGAGGCACGTCAACCCATGGGCGGTTTGACGGCCATTGGATGCCAACCCAGTCAGGTGAGGCCACCCGCTGA\n",
        "727\n",
        "Z78505.1\n",
        "CGTAACAAGGTTTCCGTAGGTGAACCTGCGGAAGGATCATTGTTGAGACCGCCAAATATACGATCGAGTTAATCCGGAGGACTGGTGTAGTTTGGTCTCCCAGGGGCGGTGGCTACTGCGGTGACCATGATATTCCATCGAGCCTCCTCGGGAGATTTCTTGATGGCAATTGAACCCGTGGCCCGGCGCAGTTTCGCGCCAAGTCGTATGAGATAGAACCGGCAGAGGTCTTCGTCCTCCATGGAACCGGGGAGGCCCGGCATACCACCATACCCCCAATGAATCTTTGTGACAACTCTCGTCAATGTGATAAGTGGTGTGAATTGCAGAATCCCGTGAACCATCGAGTCTTTGAACGCAAGTTGCGCCCGAGGCCATCAGGCTAAGGGCACGCCTGCCTGGGCGTTGCGTGCTGCATCTCTCCCGTTGCTAAGGTCGAACAGGCATACTGTTCGGTCGGCGCGGATGAGAGTTTGGCCCCTTGTTCTTCGGTGCGATGGGTCCAAGACCTGGGCTTTTGACGGTAAAAAATCCGGCAAGAGGTGGACGGACGGTGGCTGCGACAAAGCTGTCGTGCGAATGCCCTGCGTTGTCGTATTTGATGGGCCGGAATAAATCCCTTTTGAACCCCATTGGAGGCACGTCAACCCATGGGCGGTTGACGGCCATTTGGATGCAACCCCAGGTCAGGTGAGCCACCCGCTGAGTTTT\n",
        "711\n",
        "Z78504.1\n",
        "CGTAACAAGGTTTCCGTAGGTGAACCTTCGGAAGGATCATTGTTGAGACCGCAAAATATACGATCGAGTTAATCCGGAGGACTGGTGTAGTTTGTCTCCCAGGGGCGTTGGCTACTGCGGTGACCATGATTTTCCATCGAGCCTCCTCGGGAGATTTCTTGATGGCAATTGAACCCTTGGCCCGGCGCAGTTTCGCGCCAAGTCGTATGAGATAGAACCGTCAGAGGGCATCGTCCCTCCATGGAGCCGGGGAGGGCCGGCATGCCCGCCGTGCCCCCAATGAATCTTTTTGACAACTCTCGCAACGGATATCTCGCTCTTCATCGATGAAGAACGCAGCGAAATGTGATAAGTGGTGTGAATTGCAGAATCCCGTGAACCATCGAGTCTTTGAACGCAAGTTGCGCCCGAGCCATCAGGCTAAGGGCACGCCTGCCTGGGCGTTGCGTGCTGCATCTCTCCCGTTGCTAAGGTCGAACAGACATACTGTTCGGCCGGCGCGGATGAGAGTTTGGCCCCTTGTTCTTCGGTGCGATGGGTCCAAGACCTGGGCTTTTGACGGTACCAAATCCGACAAGAGGTGGACGGACGGTGGCTGCGACAAAACTGTCGTGCGAATGCCCTACGTTGTCGTATTTGATGGGCCAGAATAAATCCCTTTTGAACCCCATTGGAGGCACGTCAACCCATGGGCGGTGACGGCCATTGGATGCAACCCCAGTCAGTGAGCCACCGCTGAGTAA\n",
        "743\n",
        "Z78503.1\n",
        "CGTAACCAGGTTTCCGTAGGTGAACCTCCGGAAGGATCCTTGTTGAGACCGCCAAATATACGATCGAGTTAATCCGGAGGACCGGTGTAGTTTGGTCTCCCAGGGGCTTTCGCCGCTGTGGTGTCCGTGATTTACCATCGAGCCTCCTTGGGAGATTTCTTGATGGCAATTGAACCCATGGCCCGGCGCAGTTTCGCGCCAAGTCATATGAGATAGAACCGGCAGGGGGCGTCGTCCTCCATGGAACCGGGGAGGGCCGGCATGCTACCGTACCCCCAATGAATTATTTTGACAACTCTCGGCAACGGAGTCTCAGCTCTTTGTGATAAGTGGTGTGAATTGCAGAATCCCGTGAACCATCGAGTCTTTGAACGCAAGTTGCGCCCGAGGCCATCAGGCTAAGGGCACGCCTGCCTGGGCGTTGCGTGCTGCATCTCTCCCATTGCTAAGGTTGAACGGGCATACTGTTCGGCCGGCGCGGACGAGAGTTTGGCCCCTTGTTCTTCGGTGCGATGGGTCCAAGACCTGGGCTTTTGACGGTCCAAAATCCGGCAAGAGGTGGACGGACGGTGGCTGCGACAAAGCTGTCGTGCGAATGCCCTACGTTGTCGTATTTGATGGGCCAGAATAAATCCCTTTTGAACCCCATTGGAGGCACGTCAACCCATGGGCGGTTGACGGCCATTTGGATGCAACCCCAGGTCAGGTGAGCCACCCGCTGAGATAA\n",
        "727\n",
        "Z78502.1\n",
        "CGTAACCAGGTTTCCGTAGGTGAACCTCCGGAAGGATCATTGTTGAGACCGCCAAATATACGATCGAGTTAATCCGGAGGACCGGTGTAGTTTGGTCTCCCAGGGGCTTTCGCCCCTGTGGTGACCGTGATTTGCCATCGAGCCTCCTTGGGAGATTTCTTGATGGCAATTGAACCCATGACCCGGCGCAGTTTCGCGCCAAGTCATATGAGATAGAACCGGCAGGGGTCGTCGTCCTCCATGGAGCCGGGGAGGGCCGGCATACTACCGTCCCCCCAATGAATTTTATATTGACAACTCTCGGCCGGAATCTCGGCTCTTGCATCGATGGAAGGACGCAGCGAAAATGTGATAAGTGGTGTGAATTGCAGAATCCCGTGAACCATCGAGTCTTTGAACGCAAGTTGCGCCCGAGGCCATCAGGCTAAGGGCACGCCTGCCTGGGCGTTGCGTGCTGCATCTCTCCCATTGCTAAGGTTGAACGGGCGTACTGTTCGGCCGGCGCGGACGAGAGTTTGGCCCCTTGTTCTTCGGTGCGATGGGTCCAAGACCTGGGCTTTTGACGGTCCAAAATCCGGCAAGAGGTGGACGGACGGTGGCTGCGACAAAGCTGTCGTGCGAATGCCCTACGTTGTCGTATTTGATGGGCCAGAATAAATCCCTTTTGAACCCCATTGGAGGCACGTCAACCCATGGGCGGTTGACGGCCATTTGGATGCAACCCCAGGTCAGGTGAGGCCACCCCGTGAGTTTACGC\n",
        "757\n",
        "Z78501.1\n",
        "CGTAACAAGGTTTCCGTAGGTGAACCTGCGGAAGGATCATTGTTGAGACCGCAAAATATACGATCGAGTTAATCCGGAGGACCGGTGTAGTTTGGTCTCCCAGGGGCTTTGGTTACTGTGGTGACCGTGACTTTGCCGTCGAGCCTCCTTGGGAGATTTCTTGATGGAAATTGAACCCTTGGCCCGGCGCAGTTTCGCGCCAAGTCATATGAGATGGAACCGGCGGAGGGAATCGTCCTCCATGGAGCCGGGGAGGGCCGGCGTGTTGCCGTGCCCCCAATGAATTTTTTTTTGGGCAACTCTCGGCCAAACGGGAAATCTCGGCTCCTTGCATCGGATGGAAGGACGCAGCGAAATTGTGATAAGTGTTGTGAATTGCAGAATCCCGTGAACCATCGAGTCTTTTGAACGCAAGTTGCGCCCGAGGCCATCAGGCTAAGGGCACGCCTGCCTGGGCGTTGCGTGCTGCATCTCTCTCCCATTGCTAAGGCTGAACAGGCATACTGTTCGGCCGGCGCGGATGAGTGTTTGGCCCCTTGTTCTTCGGTGCGATGGGTCCAAGACCTGGGCTTTTGACGGCCGGAAATCCGGCAAGAGGTGGACGGACGGTGGCTGCGACGAAGCTGTCGAGCGAATGCCCTACGCTGTCGTATTTGATGGGCCGGAATAAATCCCTTTTGAACCCCATTGGAGGCACGTCAACCCGTGGGCGGTCGACGGCCATTTGGATGCAACCCCAGGTCAGGTGAGGCCACCCGCTGAGTTTAAGA\n",
        "770\n",
        "Z78500.1\n",
        "CGTAACAAGGTTTCCGTAGGTGAACCTGCGGAAGGCTCATTGTTGAGACCGCAAAATAATTGATCGAGTTAATCCGGAGGACCGGTGTAGTTTGGTCTCCCAGGGGCTTTGGTTACTGTGGTGACCGTGACTTTGCCGTCGAGCCTCCTTGGGAGATTTCTTGATGGCAATTGAACCCTTGGCCCGGCGCAGTTTCGCGCCAAGTCATATGAGATGGAACCGGCGGAGGGCATCGCCCTCCATGGAGCCGGGGAGGGCCGGCGTCCTGCCGTGCCCCCAATGAATTTTTCTTTGGGAAAACTTCTCGGCCAACGGGAATCTCGGCTCTTTGCATCGGATGGAAGGACGCAGCGAATTGTGATAAGTGGTGTGAATTGCAGAATCCCGTGAACCATCGAGTCTTTGAACGCAAGTTGCGCCCGAGGCCATCAGGCTAAGGGCACGCCTGCCTGGGCGTTGCGTGCTGCATCTCTCTCCCATTGCTAAGGCTGAACAGGCATACTGTTCGGCCGGCGCGGATGAGTGTTTGGCCCCTTGTTCTTCGGTGCGATGGGTCCAAGACCTGGGCTTTTGACGGCCGGAAATCCGGCAAGAGGTGGACGGACGGTGGCTGCGACGAAGCTGTCGTGCGAATGCCCTACGCTGTCGTATTTGATGGGCCGGAATAAATCCCTTTTGAACCCCATTGGAGGCACGTCAACCCGTGGGCGGTCGACGGCCATTTGGATGCAACCCCAGGTCAGGTGAGGCCACCCGCTGAGTTTAAG\n",
        "767\n",
        "Z78499.1\n",
        "CGTAACAAGGTTTCCGTAGGTGAACCTGCGGAGGGATCATTGTTGAGATCGCATAATAATTGATCGAGATAATCCAGAGGATCGGTTTACTTTGGTCACCCTTGGGCGCCTGCTATTGCGGTGACCTAGATTTTCCATGGAGGGAGCCTCCTTGGGAGCTTTCTTGCCGGCGATCTAACCCTTGCCCGTCGCAGTTTTGCACCAAGTCATATGACACATAAATGGTGAAGGACATACCCCCTTCGTTGAATTCGAGGAGGGGACGGCATGTGGCCTTGACCTCTCCCAATTATTTTTTTGACAACTCTCAGCCAACGGATATCTCGGCTCTTTGCATCGGATGGAGGACGCAGCGAAATGCGATAAGTGTGTGAATTGCAAGATCCCGTGAACCATCGAGTCTTTGAACGCAAGTTGCGCCCAAGCCATCAGGCCAAGGGCACGCCTGCCTGGGCATTGCGAGTCATATCTCTCCCTTAATGAGGCTGTCCATGCATACTGTTCAGCCGGTGCGGATGTGAGTTTGCCCCCTTGTTCTTTGGTGCTGGGGGTCTAAGAGCTGCAGGGGCTTTTGATGGTCCTAAATTCGGCAAGAGGTGGACGAATCATGCTACAACAAAACTGTTGGGCGAATGCTCCAGGTTGTCGTATTAGATGGGCCATCATAATCTAGAGACCCTTGTGAACCCCATTGGAGGCCCATCAACCCATGATCAGTTGATGGCCTTTTGGATGCGACCCCAGGTCAGGTGAGCAACC\n",
        "759\n",
        "Z78498.1\n",
        "CGTAACAAGGTTTCCGTAGGTGAACCTGCGGAAAGGTCATTGTTGAGATCACATAATAATTGATCGAGTTACTCCAGAGGATCAGTTTACTCCGGTCACCCATGGGTGCTTGCTATTGCGGTGACCTAGATTTGCCATGGAGCCTCCTTGGGAGTTTTCTTGCCGGCGATCTTACCCTTGCCCGGGGCAGTTTTGCCCCAAGTCATATGACACAATAATGGCGAAGGAGGGGGCGGCATTTTGCCCTTGACCCTACAATCACTCCCCCTCTCCAAATTATTTTTGGACAACTCTCAGCAACGGATATCTCGGCTCTTGCATCGATGAAGAACCCAGCGAAATGCGATAAGTGGTGTGAATTGCAGGATCCCGTGAACCATCGAGTCTTTGAACGCAAGTTGCGCCCAAGGCCATCAGGCCAAGGGCACGCCTGCCTGGGCATTGCGAGTCATATCTCTCCCTTAATGAGGCTGTACATGCATACTGTTCAGCCGGTGCGGATGTGAGTTTGGCCCCTTGTTCTTCGGTGCTGGGGGTCTAAGAGCTGCAGGGGCTTTTGATGGTCCTAAATTCGGCAAGAGGTGGACGAATTACAACAAAACTGTTGTGCGAATGCTCCAGGTTGTCGTATTAGATGGGCCAGCATAATCTAAAGACCCTTGTGAACCCCACTGGAGGCACATCAACCCGTGATCAGTTGATGGCCATTTGTTGCGACCCCAGTCAGTGAGCAACCCGCTGAGTTTAAGC\n",
        "750\n",
        "Z78497.1\n",
        "CGTAACAAGGTTTCCGTAGGTGAACCTGCGGAAGGATCATTGTTGAGATCACATAATAATTGATCGAGTGAATCCAGAGGATCAGTTTACTTTGGTCGCCCATGGGCGCTTGCTATTGCGGTGACCTAGATTTGCCATGGAGCCTCCTTGGGAGCTTTCTTGCCGGCGATCTAACCCTTGCCCGGCGCAGTTTTGCGCCAAGTCACATGACACATAAATGGTGAAGGGCACGGCCCTTTGTGAATTCAAGGAGGTGAAGGGCATGTGGCCTTGAGCCTACACTCCCTCCCCCTCTCCAAATTATTTTTTGTGAAACAACTCTCAGCAACGGAGATCTCAGCTCTTGCATCGATGAAGGAACGCAGCGAAATGCGATAAGTGGTGTGAATTGCAGAATCCCGTGAACCATCGAGTCTTTGAACGCAAGTTGCGCCCAAGGCCATCAGGCCAAGGGCACGCCTGCCTGGGCATTGCGAGTCATATCTCTCCCTTAACGAGGCTGTCCAGGCATACTGTTCAGCCGGTGCGGGTGTGAGTTTGGCCCCTTGTTCTTTGGTGCTGGGGGTCTAAGAGCTGCAGGGGCTTTTGATGGTCCTAAATTCGGCAAGAGGTGGACGCAACGCGCTACAACAAAACTGTTGTGCGAATGCCCCGGGTTGTCGTATTAGATGGGCCAGCATAATCTAAACACCCTTGTGAACCCCATTGGAGGCCCATCAACCCATGATCAGTTGATGGCCATTTGGTTGCGACCCCAGGTCAGGTGAGGCAACCCGCTGAGTTTAAGC\n",
        "788\n",
        "Z78496.1\n",
        "CGTAACAAGGTTTCCGTAGGTGAACCTGCGGAAGGATCATTGTTGAGATCGCATAATAATTGATCGAGTTAATCCAGAGGATCGGTTTACTTTGGTCACCCTTGGGCGCCTGCTATTGCGGTGACCTAGATTTGCCATGGAGGGAGCCTCCTTGGGAGCTTTCTTGCCGGCGATCTAACCCTTGCCCGGCGCAGTTTTGCGCCAAGTCATATGACACATAATTGGTGAAGGGCATATCCCTTCGTGAATTCGAGGAGGGGCCGGCATGTGGCCTTGACCTCTCCAATTAATTTTTTGAACAACTCTCAGCAACGGATATCTCGGCTCTTGCATCGATGGAGGGACGCACCGAAATGCGATAAGTGGTGTGAATTGCAGAATCCCGTGAACCATCGAGTCTTTTGAACGCAAGTTGCGCCCAAGGCCATCAGGCCAAGGGCACGCCTGCCTGGGCATTGCGAGTCATATCTCTCCCTTAATGAGGCTGTCCATGCATACTGTTCAGCCGGTGCGGATGTGAGTTTGGCCCCTTGTTCTTTGGTGCTGGGGGTCTAAGAGCTGCAGGGGCTTTTGATGGTCCTAAATTCGGCAAGAGGTGGACGAATCATGCTACAACAAAACTGTTGGGCGAATGCTCCAGGTTGTCGTATTAGATGGGCCATCATAATCTAGAGACCCTTGTGAACCCCATTGGAGGCCCATCAACCCATGATCAGTTGATGGCCTTTTGGGTTGCGACCCCAGGTCAGGTGAGGCAACCAGCTGAGTTTAAGC\n",
        "774\n",
        "Z78495.1\n",
        "CGTAACAAGGTTTCCGTAGGTGAACCTCCGGAAGGATCATTGTTGAGATCACATAATAATTGATCGAGATAATCCAGAGGATCGGTTTACTTTGGTCACCCATGGGCGCTTGCTATTGCGGTGACCTAGAGTTGCCATGGAGAGCCTCCTTGGGAGCTTTCTTGCCGGCGATCTAACCCTTGTCCGGCGCGGTTTTGCGCCAAGTCATATGACACATAATTGGTGAAGGGCATAGCCCTTCGTGTATTCAAGGAGGGGGGGCGGCATGTGGCCTTGACACTGCACTCGCTCTCCCCCTCTCCAAAGTATTTTTCTGAACAACTCTCAGCAACGGATATCTCAGCTCTTGCATCGGATGGAGGAACGCAGCGAAATCCGATAAGTGGTGTGAATTGCAGAATCCCGTGAACCATCGAGTCTTTTGAACGCAAGTTGCGCCCGAGGCCATGAGGCCAAGGGCACGCCTGCCTGGGCATTGCGAGTCATCTCTCTCCCTCAATGAGGCTGTCCATGCATACTGTTCAGCCGGTGCGGATGTGAGTTTGGCCCCTTGTTCTTTGGTGCTGGGGGTCTAAGAGCAGCAGGGGCTTTTGATGGTCCTAAATTCGGCAAGAGGTGGACGAATCAGGCTACAACAACACTGTTGTTGTGCGAATGCTCCAGGTTGTCGTATTAGATGGGCCGGCATAATCCAGAGACCCTTGTGAACCCCATTGGAGGCCCATCAACCCATGATCAGTTGATGGCCATTCGGTTGCGACCCCAGGTCAGTGAGCAACCCGCTGAGTG\n",
        "789\n",
        "Z78494.1\n",
        "CGTAACAAGGTTTCCGTAGGTGAACCTGCGGAAGGATCATTGTTGAGGTCGCATAATAATTGATCGAGTTAATCTGGAGGATCAGTTTACTTTGGTCACCCATGGACATTTACTGTTGCAGTGACCTAGATTTACCATCGGGCCTCCTTGGGAACTTTCCTGCTGGCGATCTATACCCTTGCCCGGCGCAGTAATGCGCCAAATCAAATGACCCATAATTAATGAAGGGGGACGGCATACTGCCTTGACCAACTCCCCATTATTGAGGTAACACTCTCAACTTCGGATATCTCAGGTGTGAATTGCAGAATCCCGTTAACATCGAGTCTTTGAACGCAAGTTGGGCCCGAGGCCAACAGGCCAAGGGAACGCCTGTCTGGGCATTGCGAGTCATATCTCTCCCTTAATGAGGCTGTCCATACGTACTGTTCAGCCGGTGCGGATGTGAGTTTGGCCCCTTGTTCTTCGGTACGGGGGGTCTAAGAGCTGCATGGGCTTTTGATGGTCCTAAATACGGCAAGAGGTGGACGAACTATGCTACAACAAAACTGTTGTGCGAATGCCCCGGGTTGTTGTGTTTAATCAGAAGACCCTTTTGAACCCCATTGGAGGCCCATCGACCCATGATCAGTTGAATGGCCATTTGGTTGCGATCCCAGGTCAGGTGAGGCAACCCGCTGAGTTTAAG\n",
        "688\n",
        "Z78493.1\n",
        "CGTAACAAGGATTCCGTAGGTGAACCTGCGGAAGGATCATTGTTGAGATCGCATAATAATTGATCGAGTTAATCTGGAGGATCGGTTTACTTTGGTCACCCATGGGCATTTTCTGTTGCAGTGACCTAGAATTTCCATCGGGCCTCCCTGGGAGCTTTCCTGCTGGCGATCTATACCCTTGCCCGGCGCAGTTTTGCGCCAAGTCAAATTTTACATAAGTGGTGAAGGGGGGCGGCATTCTTCCTTGACCAGCCCCCAAGTATTTAGGTAACAACTCTCAGCAACGGATATCTCGGCTCATGCATCGATGAAGGAACGCAGCGAGATTCGATAAATGGTGTGCCTTGCAGAATCCCGTGAACCATCGAATCTTTGAACGCAAGTTGCGCGCGAGGCCATCAGCCCAAGGGGACGCCTGCCTGGACATTGCGACTCATATCTCTCCCTTAATGAGGCTGTCCAAACGTACTGGTCATCCGGTGTGGATGTGAGTTTGGCCCCTTGTTCTTCGGTACGGGGGGTCTAAGAGCTGCATGGGCTTTTGATGGTCCTAAATACGGCAAGAGGTGGACGAACTATGCTACAACAAAACTGTTGTGCGAATGCCCCGGGTTGTTGTGTTTAATCAGAAGACCCTTTTGAACCCCATTGGAGGCCCATCGACCCATGATCAGTTGAATGGCCATTTGGTTGCGATCCCAGGTCAGGTGAGGCAACCC\n",
        "719\n",
        "Z78492.1\n",
        "CGTAACAAGGTTTCCGTAGGTGAACCTGCGGAAGGATCATTGTTGAGATCGCATAATAATTGATCGAGTTAATCTGGAGGATCAGTTTACTTTGGTCACCCACGGGCATTTGCTGTTGCAGTGACCTAGAATTTGCCATCGAGCCTCCTTGGGAGCTTTCTTGCTGGCGATCTATACCCTTGCCCGGCGCAGTTTTGCGCCAAGTCATATGTCACATAATTGGTGAAGGGGGGGAGCGTACTGCCTTGACCCACTCCAAATTATTTTTTTAACAACTCTCAGCAACGGATATCTCGGCTCTTGCATCGATGTAGAACCCAGCGAAATGCGATACTGGTGTGATTTGCAGAATCCCGTGGACCATCGAGTCTTTGAACGCAAGTTGCGCCCGAGGCCATCAGGCCAAGGGCACGCCTGCCTGGGCATTGCGAGTCAAATCTCTCCCTTAATGAGGCTGTCCATACATACTGTTCAGCCGGTGCGGATGTGAGTTTGGCCCCTTGTTCTTTGGGACGGGGGGTCTAAGAGCTGCACGGGCTTTTGATGGTCCTAAATACGGCAAGAGGTGGACGAATTATGCTACAACAAAACTGTTGTGCGAATGCCCCGGGTTGTTGTGTTACATGGGCCAGCTTAATCAGAAGACCCTTTTGGACCCCATTGGAGGCCCATCAACCCATGATCAGTTGATTGGCCATTTGGTTGCGATCCCAGTCAGGTGAGGCACACCGCTGAGTTTAATA\n",
        "743\n",
        "Z78491.1\n",
        "CGTAACAAGGTTTCCGTAGGTGAACCTGCGGAAGGATCATTGTTGAGATCGCATAATAATTGATCGAGTTAATCTGGAGGATCAGTTTACTTTGGTCACCCACGGGCATTTGCTGTTGCAGTGACCTAGATTTGCCATCGGGCCTCCTTAGGAGCTTTCTTGCTGGCGATCTATACCCTTGCCCGGCGCAGTTTTGCGCCAAGTCATATGACACATAATTGGTGTTGGGGGGAGGCGTGCTGCCTTGACCCGCTCCAAATTATATTTTTAACAACTCTCAGCAACGGATATCTCGGCTCTTGCATCGATGAAGAACCAGCGAAATGCGATAAATGGTGTGAATTGCAGAATCCCGTGAACCATCGAGTCTTTGAACGCAAGTTGCGCCCGAGGCCATCAGGCCAAGGGCACGCCTGCCTGGGCATTGCGAGTCATATCTCTCCCTTAATGAGGCTGTCCATACATACTGTTCAGCCGGTGCGGATGTGAGTTTGGCCCCTTGTTCTTTGGTACGGGGGGTCTAAGAGCTGCATGGGCTTTTGATGGTCCTAAATACGGCAAGAGGTGGACGAACTATGCTACAACAAAATGTTGTGCGAATGCCCCGGGTTGTTGTGTTACATGGACCAGCATAATCAGAAGACCCTTTGGACCCCATTAGAGGCCCATCAACCCATGATCAGTTGAATGGCCATTTGTTGCGATCCCAGTCAGGTGAGCAACCCGCTGAGATAAGC\n",
        "737\n",
        "Z78490.1\n",
        "CGTAACAAGGTTTCCGTAGGTGAACCTGCGGAAGGATCATTGTTGAGATCACATAATAATTGATCGAGTTAATCTGGAGGATCAGTTTACTTTGGTCACCCATGGGCATTTGCTGTTGCAGTGACCGAGATTTGCCATCGAGCCTCCTTGGGAGCTTTCTTGCTGGCGATCTGAACCCTAGTCCGGCGCAGTTTTGCGCCAAGTCATATGGCACATAATTGGTGAAGGGGGCGGCATGCTGCCTCGACCCTCCCCAAATTATTTTTTAACAACTCTCAGCAACGGATATCTCGGCTCTTGCATCGATGAAGAACGCAGCGAAATGCGATAAATGGTGTGAATTGCAGAATCCCGTGAACCATCGAGTCTTTGAACGCAAGTTGCGCCCGAGGCCATCAGGCCAAGGGCACGCCTGCCTGGGCATTGCGAGTCATATCTCTCCCTTAATGAGGCTGTCCAAACATACTGTTCAGCCGGTGCGGATGTGAGTTTGGCCCCTTGTTCTTTGGTACGGGGGGTCTAAACGCTGCATGGGCTTTTGATGGTCCTAAATACGGCAAGAGGTGGACGACTGTTCTGCAACAAGTGTTGTGCGAATGCCCCGCGTTGTCGTATTAGATGGGCCAGCATAATTTGAAGACCCTTTTGAACCCCATTGGAGGCCCGTCAACCCATGATCAGTTGACGGCCATTTGGTTGCGACCCCAGTCAGGTGAGCAACCAGCTGA\n",
        "728\n",
        "Z78489.1\n",
        "CGTAACAAGGTTTCCGTAGGTGAACCTGCGGAAGGATCATTGTTGAGATCACATAATAATTGATCGAGTTAATCTGGAGGATCAGTTTACTTTGGTCACCCGAGGGCATTTGCTATTGCAGTGACCGAGATTTGCCATCGAGCCTCCTTGGGAGCTTTCTTGCTGGCGATCTAAACCCGAGCCCGGCGCAGTTTTGCGCCAAGTCATATGACACATAATTGGTGAAGGGGGCGGCATGCTGCCTTGACCCTCCCCAGATTATTTTTTAACAACTCTCAGCAACGGATATCTCGGCTCTTGCATCGATGAAGAACGCAGCGAAATGCGATAAATGGTGTGAATTGCAGAATCCCGTGAACCATCGAGTCTTTGAACGCAAGTTGCGCCCGAGGCCATCAGGCCAAGGGCACGCCTGCCTGGGCATTGCGAGTCATATCTCTCCCTTAATGAGGCTGTCCATACATACTGTTCAGCCGGTGGGGATGTGGGTTTGGCCCCTTGTTCATTGGTACGGGGGGTCTAAGAGCTGCATGGGATTTTGATGGTCCTAAATACGGCAAGAGGTGGACGAACTATGCTACAACAAAACTGTTGTGCGAATGCCCCGAGTTGTCGTATTAGATGGGCCCAGCATATCTGAAGACCCTTTTGAACCCCATGGAGGCCCATCAACCCATGATCAGTTGATGGCCATTTGGTTGCGACCCCAGGTCAGGTGAGGCAACCCGCTGAGTTTAGGC\n",
        "740\n",
        "Z78488.1\n",
        "CTGTAGGTGAACCTGCGGAAGGATCATTGTTGAGATCACGCAATAATTGATCGAGTTAATCTGGAGGATCAGTTTACTTTGGTCACCCATGGGCATTTGTTATTGCAGTGACCGAGATTTGCCATCGAGCCTCCTTGGGAGCTTTCTTGCTGGCGATCTTAACCCTAGCCCGGCGCAGTTTTGCGCCAAGTCATACGACACATAATTGGTGAAGGGGGCGGCATGGTGCCTTGACCCTCCCCTAATTATTTTCTAACAACTCTCATCAACGGGATGGAGAACGCAGCGAAATGCGATAAATGGTGTGAATTGCAGAATCCCGTGAACCATCGAGTCTTTGAACCCAAGTTGCGCCCGAGGCCATCAGGCCAAGGGCACGCCTGCCTGGGCATTGCGAGTCAAATCTCTCCCTTAATGAGGCTGTCCATACATACTGTTCAACCGGTGCGGATGTGAGTTTGCCCCCTTGTTCATTGGTACGGGGGGTCTAAGAGCTGCATGGGCTTTTGATGGTCCTAAAAACGGCAAGAGGTGGACGAACAACGCCACAACCAAACTGTTGTGCGGATCCCCCGGGTTGTCGTATTAGATGGGCCATCATAATCTGAAGACCCTTTTGAACCCCATCGGAGGCCCATCAACCCATGATCAGTTGATGGACATTTGTTGCGACCCCAGTCAGGTGAGCAACCGGCT\n",
        "696\n",
        "Z78487.1\n",
        "CGTAACAAGGTTTCCGTAGGTGAACCTGCGGAAGGATCATTGTTGAGATCACATAATAATTGATCGAGTTACTCTGGAGGATCAGTTTACTTTGGTCACCCATGGGCATTTGCTATTGCAGTGACCGGGATTTGCCATCGAGCCTCCTTGGGAGCTTTCTTGCTGGCGATCTAAACCCTAGCCCGGCGCAGTTTTGCGCCAAGTCATATGACACATAATTGGTGAAGGGGGCGGCATGCTGCCTTTACCCTCCCCAAATTATTTTTTAACAACTCTCAGCAACGGATATCTCGGCTCTTGCATCGATGAAGAACGCAGCGAAATGCGATAAATGGTGTGAATTGCAGAATCCCGTGAACCATCGAGTCTTTGAACGCAAGTTGCGCCCGAGGCCATCAGGCCAAGGGCACGCCTGCCTGGGCATTGCGAGTCATATCTCTCCCTTAATGAGGCTGTCCATACATATTGTTCAGCCGGTGCGGATGTGAGTTCGGCCCCTTGTTCTTCGGTACGGGGGGTCTAAGAGCAGCATGGGCTATCGATGGTCCTAAATGCGGCAAGAGGTGGACGAACTATGCTACAACAAAACTGTTGTGCGAATGCCCCGGGTTGTCGTATTAGATGGGCCAGCGTAATCTAAAGACCCTTTTGAACCCCATTAGAGGCCCATCAACCCATGATCAGTTGGGGCCACTTGTTGCGACCCCAGTCAGGTGAGCAACCGCTGAGTAA\n",
        "732\n",
        "Z78486.1\n",
        "CGTCACGAGGTTTCCGTAGGTGAATCTGCGGGAGGATCATTGTTGAGATCACATAATAATTGATCGAGATTATCTGGAGGATCAGTTTACTTTGGTCACCCATGGACATTTGCTATTGCAGTGCCCGAGATTTGCCATCGAGCCTCCTTGGGAGCTTTCTTGCTGGCGATCTAAACCCTAGCCCGGCGCAGTTTTGCGCCAAGTCATATGACACATAATTGGTGAAGGGTGCGGCATGGTGCCTGACCCTCCCCAAATTATTTCTTAACAACTCTCAGCAACGGATATCTCGCTCTTGCATCGATGAAGAACGCAGCGAAATGCGATAAATGGTGTGAATTGCAGAATCCCGTGAACCATCGAGTCTTTGAACGCAAGTTGCGCCCGAGGCCATCAGGCCAAGGGCACGCCTGCCTGGGCATTGCGAGTCATATCTCTCCCTTAATGAGGCTGTCCATACATACTGTTCAGCCGGTGCGGATGTGAGTTTGGCCCCTTGTTCATTGGTACGGGGGGTCTAAGAGCTGCGTGGGCTTTTGATGGTCCTAAATACGGCAAGAGGTGGACGAACTATGCTACAACAAAACTGTTGTGCGAATGCCCCGGGTTGTCGTATTAGATGGGCCAGCATAATCTAAAGACCCTTTTGAACCCCATTGGAGGCCCATCAACCCATGATCAGTTGATGGCCATTTGGTAGCGACCCCAGGTCAGGTGAGGCAACCCGCTGA\n",
        "731\n",
        "Z78485.1\n",
        "CTGAACCTGGTGTCCGAAGGTGAATCTGCGGATGGATCATTGTTGAGATATCATAATAATTGATCGAGTTAATCTGGAGGATCAGTTTACTTTGGTCACCATGGGCATTTGCTATTGCAGTGACCGAGATTTGCCATCGAGCCTCCTTGGGAGCTTTCTTGCTGGCGATCTAAACCCTAGCCCGGGGCAGTTTTGCGCCAAGTCATATGACACATAATTGGTGAAGGGTGCGGCATGGTGCCTTGACCCTCCCCAAATTATTTCTTAACAACTCTCAGCAACGGATATCTCGGCTCTTGCATCGATGAAGAACGCAGCGAAATGCGATAAATGGTGTGAATTGCAGAATCCCCGTGAACATCGAGTCTTTGAACGCAAGTTGCGCCCGAGGCCATCAGGCCAAGGGCACGCCTGCCTGGGCATTGCGAGTCATATCTCTCCCTTAATGAGGCTGTCCATACATACTGTGCAGCCGGTGCGGATGTGAGTTTGGGCCCTTGTTCATTGGTACGGGGGGTCTAAGAGCTGCGTGGGCTTTTGATGGTCCTAAATACGCCAAGAGGTGGACGAACTATGCTACAACAAAACTGTTGTGCGAATGCCCCGGGTTGTCGTATTAGACGGGCCAGCACAATCTAAAGACCCCTTTGAACCCCATTGGAGGCCCATCAACCCATGATCAGTTGATGGCCATGTGTTGCGACCCCAGTCAGCTGAGCAACCCCTGATTTAGTA\n",
        "735\n",
        "Z78484.1\n",
        "CGTAACAAGGTTTCCGTAGGTGAACCTGGGGAAGGATCATTGTTGAGATCACATAATAATTGATCGAGTTAATCTGGAGGATCAGTTTACTTTGGTCACCCATGGGCATTTGGCTATTGCAGTGACCGAGAGTTTACCATCGAGCCTCCATGGGAGCTTTCTTGCTGGCGATCTAAACCCTAGCCCGGCGCAGTTTTGGCCCAAGTCATATGACACATAATTGTGAAGGGGCGGCATGTTTCCTACCCTCCCAACTCTCAGCAACGGATATCTCGCTCTTGCATCGATGAAGAACGCAGCGAAATGCGATAAATGGTGTGAATTGCAGAATCCCGTGAACCATCGAGTCTTGGAACGCAAGTTGCGCCCGAGGCCATCAGGCCAAGGGCACGCCTGCCTGGGCATTGCGAGTCATATCTCTCCCTTAATGAGGCTGTCCATACATACTGTTCAGCCGGTGCGGATGTGAGTTTGGCCCCTTGTTCATTGGTACGGGGGGTCTAAGAGCTGCGTGGGCTTTTGATGGTCCTAAATACGGCAAGAGGTGGACGAACTATGCTACAACAAAACTGTTGTGCGAATGCCCCGGGTTGTCGTATTAGATGGGCCAGCATAATCTAAAGACCCTTTGACACCCCATTGGAGGCCCATCAACCCATGATCAGTTGATGGTCCATTGGGTTGCGACCCCAAGTCAGGTGAAGCAACTCCCTGAGTTTT\n",
        "720\n",
        "Z78483.1\n",
        "CGTAACAAGGTTTCCGTAGGTGAACCTGCGGAAGGATCATTGTTGAGATCACATAATAATTGATCGAGTTAATCTGGAGGATCAGTTTACTTTGGTCACCCATGGGCATTTGCTATTGCAGTGACCGAGATTTGCCATCGAGCCTCCTTGGGAGCTTTCTTGCTGGCGATCTAAACCCTAGCCCGGCGCAGTTTTGCGCCAAGTCATATGACACATAATTGGTGAAGGGGGCGGCATGCTGCCTTGACCCTCCCCCAAATTATTTTTTAACAACTCTCAGCAACGGAAATCTGGCCTCTTGCATGGATGAAGACCAAACCGAAATCATAAATGGTGTGAATTGCAGAATCCCGTGAACAATCGAGTCTTTGAACGCAAGTTGCGCCCGAGGCCATCAGGCCAAGGGCACGCCTGCCTGGGCATTGCGAGTCATATCTCTCCCTTAATGAGGCTGTCCACACATATCTGTTCAGCCGGTGCGGATGTGAGTTTGGCCCCTTGTTCATTGGTACGGGGGGTCTAAGAGCTGCATGGGCTTTTGTTGGTCCTAAATACGGCAAGAGGTGGACGAACTATGCTACAACAAAACTGTTGTGCGAATGCCCCGGGTTGTCGTATTAGATGGGCCAGCATAATCTAAAGACCCTTTTGAACCCCATTGGAGGCCCATCAACCCATGATCAGTTGATGGCCATTTGGTTGCGACCCCAGGTCAAGTGAAGCAACCCCTGAGTTTAGCA\n",
        "740\n",
        "Z78482.1\n",
        "TCTACTGCAGTGACCGAGATTTGCCATCGAGCCTCCTGGGAGCTTTCTTGCTGGCGATCTAAACCGTAGCCCGGCGCAGTTTTGCGCCAAGTCATATGACACATAATTGGTGAAGGGGGCGGCATGCTGCCTTGACCCTCCCCAAATTATTTTTTAACAACTCTCNGCAACGGATATCTCGCCTCTTCATCGATGAAGAACGCAGCGAAATGCGATAAATGGTGTGAATTGCAGAATCCCGTGAANCCATCGAGTCTTTGAACGCAAGTTGCGCCCGAGGCCATCAGGCCAAGGGCACGCCTGCCTGGGCATTGCGAGTCATATCTCTCCCTTAATGAGGCTGTCCATACATACTGTTCAGCCGGTGCGGATGTGCGTTTGGCCCCTTGTTCATTGGTACGGGGGGTCTAAGAGCTGCGTGGGCTTTTGATGGTCCTAAATACGGCAAGAGGTGGACGAACTATGCTACAACAAAACTGTTGTGCGAATGCCCCGGGTTGTCGTATTAGATGGGCCAGCATAATCTAAAGACCCTTTTGAACCCCATTGGAGGCCCATCAACCCATGATCAGTTGATGGCCATTTGGTTGCGACCCCAGGTCAGGTGAGGCAACCCGCTGAGTTTAGCA\n",
        "629\n",
        "Z78481.1\n",
        "CGTAACAAGGTTTCCGTAGGTGAACCTGCGGAAGGATCATTGTTGAGATCACATAATAATTGATCGAGTTAATCTGGAGGATCAGTTTACTTTGGTCACCCATGGGCATTTGCTATTGCAGTGACCGAGATTTGCCATCGAGCCTCCTTGGGAGCTTTCTTGCTGGCGATCTAAACCCTAGCCCGGCGCAGTTTTGCGCCAAGTCATATGACACATAATTGGCGAAGGGGGCGGCATGGTGCCTTGACCCTCCCCAAATCATTTTTTTAACAACTCTCAGCAACGGAAGGGCACGCCTGCCTGGGCATTGCGAGTCATATCTCTCCCTTAATGAGGCTGTCCACACATACTGTTCAGCCGGTGCGGATGTGAGTTTGGCCCCTTGTTCATTGGTACGGGGGGTCTAAGAGCTGCGTGGGCTTTTGTTGGTCCTAAATACGGCAAGAGGTGGACGAACTATGCTACAACAAAACTGTTGTGCGAATGCCCCGGGTTGTCGTATTAGATGGGCCAGCATAATCTAAAGACCCTTTTGAACCCCATTGGAGGCCCATCAACCCATGATCAGTTGA\n",
        "572\n",
        "Z78480.1\n",
        "CGTAACAAGGTTTCCGTAGGTGAACCTGCGGAAGGATCATTGTTGAGATCACATAATAATTGATCGAGTTAATCTGGAGGATCAGTTTACTTTGGTCACCCATGGGCATTTGCTATTGCAGTGACCGAGATTTGCCATCGAGCCTCCTTGGGAGCTTTCTTGCTGGCGATCTAAACCCTAGCCCGGCGCAGTTTTGCGCCAAGTCATATGACACATAATTGGCGAAGGGGGCGGCATGCTGCCTTGACCCTCCCCAAATTATTTTTTAACAACTCTCAGCAACGGATAGGCCATCAGGCTAAGGGCACGCCTGCCTGGGCATTGCGAGTCATATCTCTCCCTTCAATGAGGCTGTCCACACATACTGTTCAGCCGGTGCGGATGTGAGTTTGGCCCCTTGTTCATTGGTACGGGGGGTCTAAGAGCTGCGTGGGCTTTTGTTGGTACCTAAATACGGCAAGAGGTGGACGAACTATGCTACAACAAAAATGTTGTGCGAATGCCCCGGGTTGTCGTATAGATGGGCCAGCATAATCTAAAGACCCTTTTGAACCCCATTGGAGGCCCATCAACCCATGATCAGTTGA\n",
        "587\n",
        "Z78479.1\n",
        "CGTAACAAGGTTTCCGTAGGTGAACCTGCGGAAGGATCATTGTTGAGATCACATAATAATTGATCGAGTTAATCAGGAGGATCAGGTTACTTTGGTCACCCATGGGCATTTGCTGTTTCAGTGACCTAGATTTGCCATCGAGCCGAACTAAACCCTTGCCCGGCGCAGATTTGCGCCAATTTATATGAGACATTACTGGAAGGGGAGGGATGCTGCCTTGCCTTGCCCCCCAAATTATTTTTTAACAACTCTCAGCAACGGATATCTCGCCTCTTGCATCGATGAAGAACGCAGCGAAATGCGATAAATGGTGTGAATACAGAGATCCCGTGAACCATCGAGTCTTGAACGCAAGTTGCGCCCGAGGCCATCAGGCCAAGGGCACGCCTGCCTGGGCATTGCGAGACATATCTCTCCCTTAATGAGGCTGTCGTTCAGCCGGTGCGGATGTGAGTTTGGCCCCTTGTTCTTTGGTACGGGGGGTCTAAGAGCTGCATGGGCTTTTGATGGTCCTAAATACGGCAAGAGGTGGACGAACTATGCGACAACAGAACTGTTGTGCGAATGCCCCGGGTTGTCGTATTAGATGGGCCAGCATAATCTAAAGACCCTTTTGAACCCCATTGGAGGCCCATCAACCCAAGATCAGTTGACGGCCATTTGGATGCGACCCCAGGTCAGGTGAGGCAACCCTCTGAGT\n",
        "700\n",
        "Z78478.1\n",
        "CGTAACAAGGTTTCCGTAGGTGAACCTCCGGAAGGATCAGTGTTGAGATCACATAATAATTGATCGAGTTAATCTGGGGGATCAGTTTACTTTGGTCACCCATGGGCATTTGCTGTTGCAGTGGCCTAGAGTTTGCCATCGAGCCGATCTAAACCCTTGCCCGGCGCAGTTTTGCGCCAAGTCATATGACACATAACTGGAAGGGGCGGCATGCTGCCATGGCTCCCCCAAATATTGATAATGGCGTGATAGCAGATCCCTGAACATCGAGTTTTGAACGCATGTTGCGTCCGAGGCCATCAGGTCAAGGGGACGCCTGCCTGGAAATTGTGAGACATATCTCTCCCTTAATGAGGCTGCCATACATACTGTTCAGCCGGTGCGGATGTGAGTTTGGCCCCTTGTCCTTTGGTACGGGGGTCTAAGAGCTGTATGGGTTGGATGGTCCTAAATACGGCAAGAGGTGGACGAGCTATGTGACAACAGAACTGTTGTGCGAATGCCCCGGTTGTCGTTTAGATGGGTCAGCATAATCTAAAGACCCTTTTGACCCCCATTGGAGGCCCATCAACCCATTATCAGTTGAGGACATTTGGTTGCGACCCAGGTCAGATGAGGCACCCGCTGAGTTTAGGC\n",
        "636\n",
        "Z78477.1\n",
        "CGTAACAAGGTTTCCGTAGGTGAACCTGCGGAAGGATCATTGTTGAGATCACATGATAATTGATCGAGTTAATCTGGAGGATCAGTTTGCTTTGGTCACCCATGGGCATTTGCTGTTGCAGTGACCTAGATTTGCCATCGAGCCGATCTAAACCCTTGCCCGGCGCAGTTTTGCGCCAAGTCATATGACACATAATTGGAAGGGGCGGCATGCTGCCTTGCCCTCCCCAAATATTTGTTAACCAACTCTCAGCAACGAGTATCTCGGCTCTTGCATCGGATGGAAGGACGCAGCGAAATGCGATAAATGGTGTGAATTGCAAGAATCCCTGAACCATCGAGTCTTTGGAACGCAAGTTGCGGCCGAGGCCATCAGGCCAAGGGCACGCCTGCCTGGGCATTGCGAGACATATCTCTCCCTTAATGAGGCTGTCCACACATACTGTTCAGCCGGTGCGGATGTGAGTTTGGCCCCTTGTTCTTTGGTACGGGGGGTCTAAGAGCTGCATGGGCTTTTGATGGTCCTAAATACGGCAAGAGGTGGACGAACTATGCGACAACAGAACTGTTGTGCGAATGCCCCGGGTTGTCGTATTAGATGGGCCAGCATAATCTAAAGACCCTTTTGAACCCCATTGGAGGCCCATCAACCCATGATCAGTTGACGGCCATTTGGTTGCGACCCCAGGTCAGGTGAGGCAACCGCTGAGTTTATGC\n",
        "716\n",
        "Z78476.1\n",
        "CGTAACAAGGTTTCCGTAGGTGAACCTGCGGAAGGATCATTGTTGAGATCACATGATAATTGATCGAGTTAATCTGGAGGATCAGTTTACTTTGGTCACCCATGGGCATTTGCTGTTGTAGTGACCTAGATTTGCCATCGAGCCGATCTAAACCCTTGCCCGGCGCAGTTTTGCGCCAAGTCATATGACACATAATTGGAAGGGCGGCATGCTGCCTTGGCCCTCCCCAAATTATTTTTTTAACAACTCTCAGCAACGGATATCTCGGCTCTTAGGCCATCCGGCCAAGGGCACGCCTGCCTGGGCATTGCGAGACATATCTCTCCCTTAATGAGGCTGTCCATACATACAGTTCAGCCGGTGCGGATGTGAGTTTGGCCCCTTGTTCTTTGGTACGGGGGGTCTAAGAGCTGCATGGGCTTTTGATCCACCTAAATACGGCAAGAGGTGGACGAACTATGCGACAACAGAACTGTTGCGCGAATGCCCCGGGTTGTCGTATTAGATGGGCCAGCATAATCTAAAGACCCTTTTGAATCCCATTGGAGGCCCATCAACCCATGATCAGTTGACGGCCATTTGGTTGCGACCC\n",
        "592\n",
        "Z78475.1\n",
        "CGTAACAAGGTTTCCGTAGGTGAACCTGCGGAAGGATCATTGTTGAGATCACATAATAATTGATCGAGTTAATCTGGAGGATCAGTTTACTTTGGTCACCCATGGGCATCTGCTCTTGCAGTGACCTGGATTTGCCATCGAGCCTCCTTGGGAGCTTTCTTGCTGGCGATCTAAACCCGTCCCGGCGCAGTTTTGCGCCAAGTCATATGACACATAATTGGAAGGGGGTGGCATGCTGCCTTGACCCTCCCCAAATTATTTTTTTGACAACTCTCAGCAACGGATATCTCGGCTCTTNNNNNNNNNNNNNNNNNNNNNNNNNNNNNNNNNNNNNNNNNNNNNNNNNNNNNNNNNNNNNNNNNNNNNNNNNNNNNNNNNNNNNNNNNNNNNNNNATCAGGCCAAGGGCACGCCTGCCTGGGCATTGCGAGTCATATCTCTCCCTTAATGAGGCTGTCCATACATACTGTTCAGCCAATGCGGATGTGAGTTTGGCCCCTTGTTCTTTGGTACGGGGGGTCTAAGAGCTGCATGGGCTTTTGATGGTCCAAAATACGGCAAGAGGTGGACGAACTATGCTACAACAAAATTGTTGTGCGAATGCCCCGGGTTGTCGTATTAGATGGGCCAGCATAATCTAAAGACCCTTTTGAACCCCATTGGAGGCCCATCAACCCATGATCAGTTGACGGCCATTTGGTTGCGACCCAGGTCAGGT\n",
        "716\n",
        "Z78474.1\n",
        "CGTAACAAGGTTTCCGTAGGTGAACCTGCGGAAGGATCATTGTTGAGATCACGTAATAATTGATCGAGTTAATCTGGAGGATCAGTTTACTTTGGTCACCCATGGGCATCTGCTCTTTCAGTGACCTGGATTTGCCATCGAGCCTCCTTGGGAGCTTTCTTGCTGGCGATCTAAACCCTTGCCCGGCGCAGTTTTGCGCCCAATCATATGACACATAATTGGAAGGGCGGCATCCTGCCTTGACCCTCCCCAAATTATATTTTTGACAACTCTCAGCAACGGATATCTCGCCTCTTGCATCGATGAAGACACAGCGAAATGCGATAAATGGTGTGAATTGCAGAATCCCGTGAACCATCGAGTCTTTGAACGCAAGTTGCGCCCGAGGCCATCAGGCCAAGGGCACGCCTGCCTGGGCATTGCGAGTCATATCTCTCCCTTAATGAGGCTGTCCATACATACTGTTCAGCCGGTGCGGATGTGAGTTTGGCCCCTTGTTCTTTGGTACGGGGGGTCTAAGAGCTGCATGGGCTTTTGATGGTCCAAAATACGGCAAGAGGTGGACGAACTATGCTACAACAAAATTGTTGTGCGAATGCCCCGGGTTGTCGTATTAGATGGGCCAGCATAATCTACAGACCCTTCTGAACCCCATTGGAGGCCCATCAACCCATGATCAGTTGACGGCCATTTGGTTGCGACCCCAGGTCAGGTGAAGCAACCCGTTGAGCTT\n",
        "733\n",
        "Z78473.1\n",
        "CGTAACAAGGTTTCCGTAGGTGAACCTGCGGAAGGATCATTGTTGAGATCACATAATAATTGATCGGGTTAATCTGGAGGATCAGTTTACTTTGGTCACCCATGGGCATCTGCTCTTGTAGTGACCTGGATTTGCCATCGAGCCTCCATGGGAGCTTTCTTGGTGGCGATCTAAACCCTTGCCCGGCGCAGTTTTGCGCCAAGTCATATGACACATAATTGGAAGGGGGCGGCATGCTGCCTTGACCCTCCCCAAATTATTTTGTTAACAACTCTCAGCAACGGATATCTCGGCTCTTCCCGAGGCCATCAGGCCAAGGGCACGCCTGCCTGGGCATTGCGAGTCATATCTCTCCCTTCAATGAGGCTGTCCATACATACTGTTCAGTCGGTGCGGATGTGAGTTTGGCCCCTTGTTCTTGCCTACGGGGGGTCTAAGAGCTGCATGGGCTTTTGATGGTACCTAAATACGGCAAGAGGTGGACGAACTATGCTACAACAAAATTGTTGTGCGAATGCCCCGGGTTGTCGTATTAGATGGGCCAGCATAATCTAAAGACCCTTTTGAACCCCATTGGAGGCCCATCAACCCATGATCAGTTGACGGCCATTTGGTTGCGACCCAGG\n",
        "626\n",
        "Z78472.1\n",
        "CGTAACAAGGTTTCCGTAGGTGAACCTGCGGAAGGATCATTGTTGAGATCACATAATAATTGATCGAGTTAATCTGGAGGATCAGTTTACTTTAGTCACCCATGGGCATCTGCTCTTGCAGTGACCTGGATTTGCCATCGAGCCTCCTTGGGAGCTTTCTTGCTGGCGATCTAAATCGTTGCCCGGCGCAGTCTTGCGCCAAGTCATTTCACACATAATTGGAAGGGGGCGGCATGCAGTCTAAGACCCTCCCCAAATTATTTTTTGATAACTCTCAGCAACGGAATCTCGGCTCTTGCATCGATGGAGGACGCAGCGAAATGCGATAAATGGTGTGAATTGCAGAATCCCGTGAACCATCGAGTCTTTGAACGCAAGTTGCGCCCGAGGCCATCAGGCCAAGGGCACGCCTGCCTGGGCATTGCGAGTCATATCTCTCCTTTAATGAGGCTGTCTATACATACTGTTCAGCCACAGCGGATGTGAGTTTGGCCCCTTGTTCTTTGGTACGGGGGGTCTAAGAGCTGCATGGGCTTTTGATGGTCTTAAATACGGCAAGAGGTGGACGAAGTATGCTACAACAAAATTGTAGTTCGAATGCCCAGGGTTGTCGTATTAGATGGGCCAGCATAATCTAAAGACCCTTTGAACCCCTTTAGAGGCCAATCAACCCATGATCAGTTGATGGCCATTTGGTTGCGACCCCAAGTCAGGTGAGGCAACCGCTGAGTTTAAGC\n",
        "737\n",
        "Z78471.1\n",
        "CGTAACAAGGTTTCCGTAGGTGAACCTGCGGAAGGATCATTGTTGAGATCACATAATAATTGATCGAGTTAATCTAGAGGATCGGTTTACTTTGGTCACCCATGGGCATCTGCTCTTACAGTGACCTGGATTTGCCATCGAGCCTCCTTGGGAGCTGTCTTGCTGGCGATCTAAATCGTTGCCCGACGCAGCCTTGCGTCAAGTCACCCCGACACATAATGGAAGGGGGCGGCATGCTGCCTTGACCCTTCCCCAAATTAATTTTTTGACAACTCTCAACATCGGATATCTCGGCTCTTGCATCGATGAAGAACGCAGCGAAATGCGATAAATGGTGTGAATTGCAGAATCCCGTGAACCATCGAGTCTTTGAACGCAAGTTGCGCCCGAGGCCATCAGGCCAAGGGCACGCCTGCTTGGGCATTGCGAGTCATATCTCTCCCTTAATGAGGCTGTCCATACATACTGTTCAGCCAGTGCGGATGTGAGTTTGGCCCCTTGTTCTTTAGTACGGGGGGTCTAAAAGCTGCATGGGCTTTTGCTGGTCCTAAATACGGCAAGAGGTGGACAAAGTATGCTACAACAAAATTGTAGTGCGAATGCCCCGGGTTGTCGTATTAGATGGGCCAGCATAATTTAAAGACCCTTTTGAACCCCATTAGAGGCCCATCAACCCTGATCAGTTGATGGCCATTTGGTTGCGACCCCAAGTCAGGTGAGGCAACCCGCTGAGTTTAAGC\n",
        "740\n",
        "Z78470.1\n",
        "CGTAACAAGGTTTCCGTAGGTGAACCTGCGGAAGGATCATTGTTGAGATCACATAATAATTGATCGAGTTAATCTAGAGGATCAGTTTACTTTGGTCACCCATGGGCATCTGCTCTTACAGTGACCTGGATTTGCCATCGAGCCTCCTTGGGAGCTTTCTTGCTGGCGATCTAAATCGTTGCCCGACGCAGCCTTGCGTCAAGTCATATGACACATAATTGGAAGGGGGCGGCATGCTGCCTTGACCCTTCCCAAATTATTTTTTTAAGTTGCGCCCGAGGCCATCAGGCCAAGGGCACGCCTGCTTGGGCATTGCGAGTCATATCTCTCCCTTAATGAGGCTGTCCATACATACTGTTCAGCCAGTGCGGATGTGAGTTTGGCCCCTTGTTCTTTACTACGGGGGGTCTAAAAGCTGCATGGGCTTTTGCTGGTCCTAAATACGGCAAGAGGTGGACAAAGTATGCTACAACAAAATTGTAGTGCGAATGCCCCGGGTTGTCGTATTAGATGGGCCAGCATAATTTAAAGACCCTTTTGAACCCCATTAGAGGCCCATCAACCCTGATCAGTT\n",
        "574\n",
        "Z78469.1\n",
        "CGTAACAAGGTTTCCGTAGGTGAACCTGCGGAAGGATCATTGTTGAGATCACATAATAATTGATCGAGTTAATCTGGAGGATCAGTTTACTTTAGTCACCCATGGGCATCTGCTCTTGCAGTGACCTGGATTTGCCATCGAGCCTCCTTGGGAGCTTTCTTGCTGGCGATCTAAATTCGTTGCCCGGCGCAGTCTTGCGCCAAGTCATATCACACATAATTGGAAGGGGGCGGCATGCGGTCTAGACCCTCCCCAAATTATTTTTTTGACAACTCTCAGCAACGGATATCTCGGCTCTTCCATCAGGCCAAGGGCACGCCTGCCTGGGCATTGCGAGTCATATCTCTCCCTTAATGAGGCTGTCCATACATACTGTTCAGCCACAGCGGATGTGAGTTTGGCCCCTTGTTCTTTGGTACGGGGGGTCTAAGAGCTGCATGGGCTTTTGATGGTACCTAAATACGGCAAGAGGTGGACGAAGTATGCTACAACAAAATGATAGTGCGAATGCCCAGGGTTGTCGTATTAGATGGGCCAGCATAATCTAAAGACCCTTTTGAACCCCATTAGAGGCCCATCAACCCATGATCAGTT\n",
        "594\n",
        "Z78468.1\n",
        "CGTAACAAGGTTTCCGTAGGTGAACCTGCGGAAGGATCATTGTTGAGATCGCATAATAATTGATTGAGTTAATCTGGAGGATCAGTTTACTTTGGTCACTCATGGGAATCTGCTCTTGTAGTGACCTGGATTTGCCATCGAGCCTCCTTGGGAGCTTTCTTGATGGCGATCTGAACCCTTGCCCGGCGCAGTTTTGCGCCAAGTCATATGACACATAATTGGGAGGGGCAGCATGCTGCCTTGACCCTCCCCATATCATTTTTTTAACGACTCTCAGCTCCGGAACTCAAGTTGCGCCCGAGGCCATCAGGCTAAGGGCACGCCTGCCTGGGCATTGCGAGTCATATCTCTCCCTTAATGAGGCTGTCCATACATACTGTTCAGCCAGTGCGGATGTGAGTTTGGCCCCTTGTTCTTCGGTACGGGGGGTCTAAGAGCAGCTGGGCTTTTGATGGACCTAAATACGGCAAGAGGTGGACGAAGTATGCTACAACAAAATTATTGTGTGAATGCCCCGGGTTGTCGTATAGATGGGCCAGCATAATCTAAAGACCCTTTTGAACCCCATTGGAGGCCCATCAACCCATGATCAGTTGACGGCCATTTGGTT\n",
        "610\n",
        "Z78467.1\n",
        "CGTAACAAGGTTTCCGTAGGTGAACCTGCGGAAGGATCATTGTTGAGATCACATAATAATTGATCGAGTTAATCTGGAGGATCAGTTTACTTTGGTCACCCATGGGCATCTGCTCTTGCAGTGACCTGGATTTGCCATCGAGCCTCCTTGGGAGCTTTCTTGCTGGCGATCTAAACCCTTGCCCGGCGCAGTTTTGCGCCAAGTCATATGACACATAATTGGAAGGGGGTGGCATGCTGCCTTGACCCTCCCCAAATTATTTTTTGACAACTCTCAGCAACGGATATCTCGGCTCTTGCATCGATGAAGAACGCAGCGAAATGCGATAAATGGTGTGAATTGCAGAATCCCGTGAACCATCGAGTCTTTGAACGCAAGTTGCGCCCGAGGCCATCAGGCCAAGGGTACGCCTGCCTGGGCATTGCGAGTCATATCTCTCCCTTAATGAGGCTGTCCATACATACTGTTCAGCCGGTGCGGATGTGAGTTTGGCCCCTTGTTCTTTGGTACGGGGGGTCTAAGAGCTGCATGTGCCTTTGGTGGTCCAAAATACGGCAAGAGGTGGACGAACTATGCTACAACAAAATTGTTGTGCGAATGACCCGGGTTGTCGTATTAGCTGGGCCAGCATAATCTAAAGACCCTCTTGAACCCCATTGGAGGCCCATCAACCCATGATCAGTTGACGGCCATATGTTTGCGACCCAGGTCAGGTGAGGCAACCCGCTGA\n",
        "730\n",
        "Z78466.1\n",
        "CGTAACAAGGTTTCCGTAGGTGAACCTGCGGAAGGATCATTGTTGAGATCACATAATAATTGATCGAGTTAATCTGGAGGATCAGTTTACTTTGGTCACCCATGGGCATCTGCTCTTGTAGTGACCTGGATTTGCCATCGAGCCTTCATGGGAGCTTTCTTGCTGGCGATCTAAACCCTTGCCCGGCGCAGTTTTGCGCCAAGTCATATGACACATAATTGGAAGGGGGCGGCATGCTGCCTTGACCCTCCCCAAATTATTTTTGTAACAACTCTCAGCAACGGATATCTCGGCTCTTTGCCGAGGCCATCAGGCCAAGGGCACGCCTGCCTGGGCATTGCGAGTCATATCTCTCCCTTAATGAGGCTGTCCATACATACAGTTCAGCCTGTGCGGATGTGAGTTTGGCCCCTTGTTCTTGCGTACGGGGGGTCTAAGAGCTGCATGGGCTTTTGATGGTCCTAAATACGGCAAGAGGTGGACGAACTATGCTACAACAAAATTGTTGTGCGAATGCCCCGGGTTGTCGTATTAGATGGGCCAGCATAATCTAAAGACCCTTTTGAACCCCATTGGAGGCCCATCAACCCATGATCAGTTGACGGCCATTTGGTTGCGACCCAGGTCAGGTGAGGCAACCC\n",
        "641\n",
        "Z78465.1\n",
        "CGTAACAAGGTTTCCGTAGGTGAACCTGCGGAAGGATCATTGTTGAGATCACATAATAATTGATCGAGTTAATCTGGAGGATCAGTTTACTTTGGTCACCCATGGGCATCTGCTCTTGCAGTGACCTGGATTTGCCATCGAGCCTCCTTGGGAGCTTTCTTGCTGGCGATCTAAACCCTTGCCCGGCGCAGTTTTGCGCCAAGTCATATGACACATAATTGGAAGGGGGCGGCATGCTGCCTTGACCCTCCCCAAATTATTTTTTTGACAACTCTCAGCAACGGATTTCTCGGTTCTTGAATCGATGAGGAACGCAGCGAAATGCGATAATTGGTGTGAATTGAAGAATCCCGTAAACCATCGAGTCTTTGAACGAAAGTTGCGCCCGAGGCCATCAGGCCAAGGGAACGCCTGCCTGGGCATTGCGAGTCATATCTCTCCCTTAATGAGGCTGTCCATACATACTGTTCAGCGAGTGCGGATGTGAGTTTGGCCCCTTGTTCTTTGGTACGGGGGGTCTAAGAGCTGCATGGGCTTTTGATGGTCCTAAATACGGCAAGAGGTGGACGAACTATGCTACAACAAAATTGTTGTGCGAATGCCCCGGGTTGTCGTATTAGATGGGCCAGCATAATCTAAAGACCCTTTTGAACCCCATTGGAGGCCCATCAACCCATGATCAGTTGACGGCCATTTGGTTGC\n",
        "702\n",
        "Z78464.1\n",
        "CGTAACAAGGTTTCCGTAGGTGAGCGGAAGGGTCATTGTTGAGATCACATAATAATTGATCGGTTGAGTCTGGAGGATCAGTTTACTTTGGTCACCCATGGGCATCTGCTCTTGTAGTGACCTGGATTGCCATCGAGCCTCCTTGGGAGCTTTCTTGCTGGAGATCTAAACCCTTGCCCGGAGCAGTTTTGCGCCAAGTCATATGACACATAATTGGAAGGGGGCGGCATGCTGCCTTGACCCTCCCCAAATTATTTTCTTAACAACTCTCAGCAACGGATATCTCGGCTCTTGCATCGATGAAGAACGCAGCGAAATCCGATAAATGGTGTGAATTTCAGAATCCCGTGAACCATCGAGTCTTTGAACGCCAAGTTCGCCCGAGGCCATCAGGCCAAGGGCACGCCTGCCTGGGCATTTCGAATCAAATCTCTCCCTTAATGAGGCTGTCCAAACATACTGTTCAACCGGTTCGGATGTGAGTTTGGCCCCTTTTTCTTTGGGGCGGGGGGTCTAAGAACTTCATGGGCTTTTGGTGGTCCTAAAAACGGCAAGAGGTGGGCGGACTATTCTTCAACCAAATTTCTGTTCGGATTCCCCGGGCTTTCGTAATAGATGGGCCAGCATAATCTAAAGACCCTTTTGAACCCCATTGGAGGCCCATCAACCCATGATCAGTTGACGGCCATTTGGTGCGACCCCAGGTCAGGTGAGCAACCCGCTGAGTTTAAGC\n",
        "733\n",
        "Z78463.1\n",
        "CGTAACAAGGTTTCCGTAGGTGAACCTGCGGAAGGTTCATTGTTGAGATCACATAATCATTGTTCGGTTGAGTCTGGAGGATCAGTTTACTTTGGTCACCATGGGCATCTGCTCTTGTAGTGACCTGGATTGCCATCGAGCCTCCTTGGGAGCTTTCTTGCTGGGGATCTAAACCCTCGCCCGGGGGAGTTTTGCGCCAAGTCATATGACACATAATTGGGAGGGGGCGGCATGTTGCCTTGACCCTCCCCAAATTATTTTCTTAACAACTCTCAGCAACGGATATCTCGGCTCTTGCATCGATGGAAGAACGCAGCGAAATGCGATAAATGGTGTGAATTGCAGAATCCCGTGAACCATCGAGTCTTTGAACGCAAGTTGCGCCCGAGGCCATCAGGCCAAGGGCACGCCTGCCTGGGCATTGCGAGTCATATCTCTCCCTTAATGAGGCTGTCCATACATACTGTTCAACCGGTGCGGATGTGAGTTTGGCCCCTTTTTCTTTGGGGCGGGGGGTCTAAGAGCTGCATGGGCTTTTGATGGTCCTAAATACGGCAAGAGGTGGACGAACTATGCTGCAACAAAATTGCTGTGCGAATACCCCGGGTTGTCGTATTAGATGGGCCAGCATAATCTAAAGACCCTTTTGAACCCCATTGGAGGCCCATCAACCCATGATCAGTTGACGGCCATTTGGTTGCGACCCCAGATCAGGTGAGCAACCCGCTGAGTTTAAGC\n",
        "738\n",
        "Z78462.1\n",
        "CGTCACGAGGTCTCCGGATGTGACCCTGCGGAAGGATCATTGTTGAGATCACATAATAATTGATCGAGTTAATCTGCAGGATCTGTTTACTTTGGTCACCCATGGGCATTTGCTGTTGAAGTGACCTAGATTTGCCATCGAGCCTCCTTGGGAGATTTCTTGTTGGCGAGATCTAAACCCTTGCCCGGCGCAGTTTTGCGCCAAGTCATANNNNNNNNNNNNNNNNNNNNNNNNNNNNNNNNNNNNNNNNNNNNNNNNNNNNNNNNNNNNNNNNNNNNNNNNNNNNNNNNNNNNNNNNNNNNNNNNNNNNNNNNNNNNNNNNNNNNNNNNNNNNNNNNNNNNNNNNNNNNNNNNNNNNNNNNNNNNNNNNNNNNNNNNNNNNNNNNNNNNNNNNNNNNNNNNNNNNNNNNNNNNNNNNNNNNNNNNNNNNNNNNNNNNNNNNNNNNNNNNNNNNNNNNNNNNNNNNNNNNNNNNNCGCCTGCCTGGGCATTGCGAGTCATATCTCTCCCTTAACGAGGCTGTCCATACATACTGTTCAGCCGGTGCGGATGTGAGTTTGGCCCCTTGTTCTTTGGTACGGGGGGTCTAAGAGCTGCATGGGCTTTTGATGGTCCTAAATACGGCAAGAGGTGGACGAACTATGCTACAACAAAATTGTTGTGCAAAGGCCCCGGGTTGTCGTATTAGATGGGCCACCGTAATCTGAAGACCCTTTTGAACCCCATTGGAGGCCCAT\n",
        "736\n",
        "Z78461.1\n",
        "CGTAACAAGGTTTCCGTAGGTGAACCTCCGGAAGGATCATTGTTGAGATCACATAATAATTGATCGAGGTAATCTGGAGGATCTGTTTACTTTGGTCACCCATGGGCAGTTGCTGCTGGAGTGACCTAGAATTTCCATCGAGCCTCCTTGGGAGCTTTCTTGTTGGCGAGATCTAAACCCTTACCCGGCGCAATTTTTCCCCCAGTCAAATGACACATAATTGGTGGAGGGGGTGGCATTCTTCCCTGACCCTCCCCCAAATAATTTTTTCACAACTCTCAGCAACGGATATCTCGGCTCTTGCATCGATGAAGAACGCACCGAAATCCGATAAATGGTGTGAATTCCAGAATCCCGTGAACCATCGAGTCTTTGAACCCAAGTTGCGCCCGAGGCCATCAGGCCAAGGGAACGCCTGCCTGGGCATTGCGAGTCATATCTCTCCCTTAACGAGCCTGTCCATACATCCTGTTCAGCCGGTGCGGATGTGAGTTTGCCCCCTTGTTCTTTGGTACGGGGGGTCTAAGACCTGCATGGGCTTTTGATGGTCCTAAATACGGCAAGAGGTGGACGAACTATGCTACACCAAAATTGTTGTCCAAAGCCCCCGGGTTGTCGTATAAGATGGGCCACCGTAATCTGAAGACCCTTTGAACCCCATTGGAGCCCATCAACCCATGATCAGTTGATGCCATTGTTGCGACCCAGTCAGTGAGCAAGCCGCTGAGTTAA\n",
        "732\n",
        "Z78460.1\n",
        "CGTAACAAGGTTTCCGTAGGTGAACCTCCGGAAGGATCATTGTTGAGATCACATAATAATTGATCGAGTTAATCTGGAGGATCTGTTTACTTTGGTCACCCATGAGCATTTGCTGTTGAAGTGACCTAGATTTGCCATCGAGCCTCCTTGGGAGCTTTCTTGTTGGCGAGATCTAAACCCTTGCCCGGCGCAGTTTTGCGCCAAGTCATATGACACATAATTGGTGAAGGGGGTGGCATCCTGCCCTGACCCTCCCCAAATTATTTTTTTAACAACTCTCAGCAACGGGATATCTCGGCTCTTGCATCGGATGGAGGAACGCAGCGAAATGCGATAAATGGTGTGAATTGCAGAATCCCGTGAACCATCGAGTCTTTGAACGCAAGTTGCGCCCGAGGCCATCAGGCCAAGGGCACGCCTGCCTGGGCATTGCGAGTCATATCTCTCCCTTAACGAGGCTGTCCATACATACTGTTCAGCCGGTGCGGATGTGAGTTTGGCCCCTTGTTCTTTGGTACGGGGGGTCTAAGAGCTGCATGGGCTTTTGATGGTCCCAAATACGGCAAGAGGTGGACGAACTATGCTACAACAAAATTGTTGTGCAAAGGCCCCGGGTTGTCGTATTAGATGGGCCACCGTAATCTGAAGACCCTTTTGAACCCCATTGGAGGCCCATCAACCCATGATCAGTTGATGGCCATTTGGGTTGCGACCCCAGGTCAGGTGAGGCAACCCGCTGAGTTTA\n",
        "745\n",
        "Z78459.1\n",
        "CGTAACAAGGTTTCCGTAGGTGAACCTGCGGAAGGATCATTGTTGAGATCACATAATAATTGATCGAGTTAATCTGGAGGATCTGTTTACTTTGGTCACCCATGAGCATTTGCTGTTGAAGTGACCTAGATTTGCCATCGAGCCTCCTTGGGAGCTTTCTTGTTGGCGAGATCTAAACCCTTGCCCGGCGCAGTTTTGCGCCAAGTCATATGACACATAATTGGTGAAGGGGGTGGCATCCTGCCCTGACCCTCCCCAAATTATTTTTTTAACAACTCTCAGCAACGGATATCTCGGCTCTTGCATCGGATGGAGGAACGCAGCGAAATTGCGATAAATTGGTGTGAATTGCAGAATCCCGTGAACCATCGAGTCTTTGAACGCAAGTTGCGCCCGAGGCCATCAGGCCAAGGGCACGCCTGCCTGGGCATTGCGAGTCATATCTCTCCCTTAACGAGGCTGTCCATACATACTGTTCAGCCGGTGCGGATGTGAGTTTGGCCCCTTGTTCTTTGGTACGGGGGGTCTAAGAGCTGCATGGGCTTTTGATGGTCCTAAATACGGCAAGAGGTGGACGAACTATGCTACAACAAAATTGTTGTGCAAAGGCCCCGGGTTGTCGTATTAGATGGGCCACCGTAATCTGAAGACCCTTTTGAACCCCATTGGAGGCCCATCAACCCATGATCAGTTGATGGCCATTTGGTTGCGACCCCAGGTCAGGTGAGGCAACCCGCTGAGTTT\n",
        "744\n",
        "Z78458.1\n",
        "CGTAACAAGGTTTCCGTAGGTGAACCTGCGGAAGGATCATTGTTGAGATCACATAATAATTGATCGAGTTAATCTGGAGGATCTGTTTACTTTGGTCACCCATGAGCATTTGCTGTTGAAGTGACCTAGATTTGCCATCGAGCCTCCTTGGGAGCTTTCTTGTTGGCGAGATCTAAACCCTTGCCCGGCGCAGTTTTGCGCCAAGTCGTACGACACATAATTGGTGAAGGGGGTGGCATCCTTCCCTGACCCTCCCCAAATTATTTTTTAACAACTCTCAGCAACGGATATCTCGGCTCTTGCATCGATGGAGGACGCAGCGAAATGCGATAAATGGTGTGAATTGCAGATCCCGTGAACCATCGAGTCTTTGAACGCAAGTTGCGCCCGAGGCCATCAGGCCAAGGGCACGCCTGCCTGGGCATTGCGAGTCATATCTCTCCCTTAACGAGGCTGTCCATACATACTGTTCAGCCGGTGCGGATGTGAGTTTGGCCCCTTGTTCTTTGGTACGGGGGGTCTAAGAGCTGCATGGGCTTTTGATGGTCCTAAATACGGCAAGAGGTGGACGAACTATGCTACAACAAAATTGTTGTGCAGAGGCCCCGGGTTGTCGTATTAGATGGGCCACCGTAATCTGAAGACCCTTTTGAACCCCATTGGAGGCCCATCAACCCATGATCAGTTGATGGCCATTTGGTTGCGACCCCAGGTCAGGTGAGGCAACCCGCTGAGTTG\n",
        "738\n",
        "Z78457.1\n",
        "CGTAACAAGGTTTCCGTAGGTGAACCTCCGGAAGGATCATTGTTGAGATCACATAATAATTGATCGAGTTAATCTGGAGGATCTGTTTACTTTGGTCACCCATGGGCATTTTCTGTTGTAGTGACCTAGAATTTCCATCGAGCCTCCTTGGGAGCTTTCTTGTTGGCGAGATCTAAACCCTTGCCCGGCGCAGTTTTTCCCCCAGTCAAATGGCACATAATTGGTGGAGGGGGTGGCATTCTTCCCTGACCCTCCCCCAAATATTTTTTTAACAACTCTCAACAACGGATATCTCGGCTCTTTCATCGGATGAAGGACCGCAGCGAAATGCGATAAATGGTGTGAATTGCAGAATCCCGTGAACCATCGAGTCTTTGAACGCAAGTTGCGCCCGAGGCCATCAGGCCAAGGGCACGCCTGCCTGGGCATTGCGAGTCATATCTCTCCCTTAACGAGGCTGTCCATACATACTGTTCAGCCGGTGCGGATGTGAGTTTGGCCCCTTGTTCTTTGGTACGGGGGGTCTAAGAGCTGCATGGGCTTTTGATGGTCCTAAATACGGCAAGAGGTGGACGAACTATGCTACAACAAAATCGTTGTGCAAAGGCCCCGGGTTGTCGTATTAGATGGGCCACCGTAATCTAAAGACCCTTTTGAACCCCATTGGAGGCCCATCAACCCATGATCAGTTGATGGCCATTTGGTTGCGACCCCAGGTCAGGTGAGGCAACCCGCTGAG\n",
        "739\n",
        "Z78456.1\n",
        "CGTAACAAGGTTTCCGTAGGTGAACCTGCGGAAGGATCATTGTTGAGATCACATAATAATTGATCGAGTTAATCTGGAGGATCTGTTTACTTTGGTCACCCATGAGCATTTGCTGTTGAAGTGACCTAGAATTTGCCATCGAGCCTCCTTGGGAGCTTTCTTGTTGGCGAGATCTAAACCCTTGCCCGGCGCAGTTTTGCGCCAAGTCATATGACACATAATTGGTGGAGGGGGTGGCATCCTGCCCTGACCCTCCCCAAATTATTTTTTTAACAACTCTCAGCAACGGATATCTCCGGTCTGGCATCGATGAAGAACGCAGCGAAATGCGATAAATGGTGTGATTGCAGAATCCCGTGAACATCGAGTCTTTGAACGCAAGTTGCGCCCGAGGCCATCAGGCCAAGGGCACGCCTGCCTGGGCATTGCGAGTCATATCTCTCCCTTAACGAGGCTGTCCATACATACTGTTCAGCCGGTGCGGATGTGAGTTTGGCCCCTTGTTCTTTGGTACGGGGGGTCTAAGAGCTGCATGGGCTTTTGATGGTCCTAAATACGGCAAGAGGTGGACGAACTATGCTACAACAAAATTGTTGTGCAAAGGCCCCGGGTTGTCGTATTAGATGGGCCACCGTAATCTGAAGACCCTTTTGGACCCCATTGGAGGCCCATCAACCCATGATCAGTTGATGGCCATTTGGGTTGCGACCCAGGTCAGGTGAGGCAACCCTGAGTTTAGC\n",
        "740\n",
        "Z78455.1\n",
        "CGTAACCAGGTTTCCGTAGGTGGACCTTCGGGAGGATCATTTTTGAGATCACATAAAAATTGATCGAGTTAATCTGGAGGAACTTTTTACTTTGGTCACCCATGAACAATTTCTTTTGGAGTGACCTAGAATTTCCATCGAACCCCCTTGGGAACTTTCTTTTTGGCGAGAACTAAACCCTTTCCCGGCGCAGTTTTTCCCCCAATCAAATTACACAAAAATGGTGGAGGGGGTGGCATCCTTCCCTTACCCTCCCCCAAATAATTTTTTAACAACTCTCAGCAACGGATATCTCGGCTCTTGCATCGGTTGAAGAACCAGCGAAATGCGATAAATGGTGTGAATTGCAGAATCCCGTGAACCATCGAGTCTTTGAACGCAAGTTGCGCCCGAGGCCATCAGGCCAAGGGCACGCCTGCCTGGGCATTGCGAGTCATATCTCTCCCTTAACGAGGCTGTCCATACATACTGTTCAGCCGGTGCGGATGTGAGTTTGGCCCCTTGTTCTTTGGCACGGGGGGTCTAAGAGCTTCATGGGCTTTTGATGGTCCTAAATACGGCAAGAGGTGGACGAACTATGCTACAACAAAATTGTTGTGCAAAGGCCCCGGGTTGTCGTATTAGATGGGCCACCGTAATCTGAAGACCCTTTTGAACCCCATTGGAGGCCCATCAACCCATGATCAGTTGATGGCCATTTGGGTTGCGACCCCAGGTCAGGTGAGGCAACCCGCTGAGTTTAGCA\n",
        "745\n",
        "Z78454.1\n",
        "CGTAACAAGGTTTCCGTAGGTGAACCTGCGGAAGGATCATTGTTGAGATCACATAATAATTGATCGAGATAATCTGGAGGATCTGTTTACTTTGGTCACCCATGAGCATTTGCTGTTGAAGTGACCTAGATTTACCATCGAGCCTCCTTGGGAGCTTTCTTGTTGGCGAGATCTAAACCCTTGCCCGGCGCAGTTTTTCTCCAAGTCATTTGACACATAATCGGTGAAGGGGGTGGCATCCTGCCCTGACCCTCCCCCCACTATTGTTAACAACTCTCATCAACGGAACTCATGCGATAAATGGTGTGATTTGCAGAATCCCGTGAACCATCGAGTCTGTGAACGCAAGTTGCGGCCGAGGCCATCAGACCAAGGGCACGCCTGCCTGGGCATTGCGAGTCATATCTCTCCCTTAACGAGGCTGTCCATACATACTGTTCAGCCGGTGCGGATGTGAGTTTGGCCCCTTGTTCTCTGGTACGGGGGGTCTAAGAGCTGCATGGGCTTTTGATGGTCCTAAATACGGCAAGAGGTGGACGAACTATGCTACAACAAAATTGTTGTGCAAAGGCCCCGGGTTGTCGTATTAGATGGGCCACCGTAATCTGAAGCCCCTTTTGAACCCATTGGAGGCCCATCAACCNCATGATCAGTTGATGGCCATTTGGATGCGACCCCAGGTCAGGTGAGGCAAC\n",
        "695\n",
        "Z78453.1\n",
        "CGTAACAAGGTTTCCGTAGGTGAACCTGCGGAAGGATCATTGTTGAGATCACATAATAATTGATCGAGTTAATCTGGAGGATCTGTTTACTTTGGTCACCCATGAGCATTTGCTGTTGAAGTGACCTAGAGTTGCCATCGAGCCTCCTTGGGAGCTTTCTTGTTGGCGAGATCTAAACCCTTGCCCGGCGCAGTTTTGCGCCAACTCATTTGACACATAACTGGTGAAGGGGGTGGCATCCTTCCCTGACCCTCCCCCAAATTATTTTTTAACAACTCTCAGCAACCGGATATCTCAGCTCTTGCATCGATGAAGAACGCAGCGAAATGCGATAAATGGTGTGAATTGCAGAATCCCGTGAACCATCGAGTCTTTGAACGCAAGTTGCGCCCGAGGCCATCAGGCCAAGGGCACGCCTGCCTGGGCATTGCGAGTCATATCTCTCCCTTAACGAGGCTGTCCATACATACTGTTCAGCCGGTGCGGATGTGAGTTTGGCCCCTTGTTCTTTGGTACGGGGGGTCTAAGAGCTGCATGGGCTTTTGATGGTCCTAAATACGGCAAGAGGTGGACGAACTATGCTACAACAAAATTGTTGTGCAAAGGCCCCGGGTTGTCGTATTAGATGGGCCACCGTAATCTGAAGACCCTTTTGAACCCCATTGGAGGCCCATCAACCCATGATCAGTTGATGGCCATTTGGTTGCGACCCCAGGTCAGGTGAGGCAACCCGCTGAGTTTAGCA\n",
        "745\n",
        "Z78452.1\n",
        "CGTAACAAGGTTTCCGTAGGTGAACCTGCGGAAGGATCATTGTTGAGATCACATAATAATTGATCGAGTTAATCTGGAGGATCTATTTACTTTGGTCACCCATGAGCATTTGCTGTTGAAGTGACCTAGATTTGCCATCAAGCCTCCTTGGGAGCTTTCTTTTTGGCGAGATCTAAACCCTTGCCCGGCGCAGTTTTGCGCCAAGTCATATGACACATAATTGGTGAAGGGGGTGGCATCCTGCCCTGACCCTCCCCAAATTATTTTTTTAACAACTCTCAGCAACGGATATCTCGGCTCTTGAATCGATGAAGAACGCAGCGAAATGCGATAAATGGTGTGAATTGCAGAATCCCGTGAACCATCGAGTCTTTGAACGCAAGTTGCGCCCGAGGCCATCAGGCCAAGGGCACGCCTGCCTGGGCATTGCGAGTCATATCTCTCCCTTAACGAGGCTGTCCATACATACTGTTCAGCCGGTGCGGATGTGAGTTTGGCCCCTTGTTCTTTGGTACGGGGGGTCTAAGAGCTGCATGGGCTTTTGATGGTCCTAAATACGGCAAGAGGTGGATGAACTATGCTACAACAAAATTGTTGTGCAAAGGCCCCGGGTTGTCGTATTAGATGGGCCACTGTAATCTGAAGACCCTTTTGAACCCCATTGGAGGCCCATCAACCCATGATCAGTTGATGGCCATTTGGATGCGACCCCAGGTCAGGTGAGGCAACCGCTGAGTTTAGCA\n",
        "743\n",
        "Z78451.1\n",
        "CGTAACAAGGTTTCCGTAGGTGTACCTCCGGAAGGATCATTGTTGAGATCACATAATAATTGATCGAGATAATCTGGAGGATCTGTTTACTTTGGTCACCCATGGGCATTTGCTGTTGTAGTGACCTAGATTTCCATGGAGCCCCCCTGGGAGCTTTCTTGCTGGCGAGATCTAAACCCGTGCCCGGCGCAGTTTTGCGCCAAGTCATATGACACATAATTGGTGTAGGGGGCGGGCATCCTGCCCTGACCCTCCCCAAAGTATTTTTTGCAACTCTCAACAACGGAAATCTCGCTCTTTCATCGATGAAGAACCAGCGAAATCGATAAATGGTGTGAATTGCAGAATCCCGTGAACCATCGAGTCTTTGAACCCAAGTTGCGCCCGAGGCCATCAGGCCAAGGGCACCCCTCCCTGGGCATCGCGAGTCAAATCTCTCCCTTAACGAGGCTGTCCATACATACTGTTCACCCGGTGCGGATGTGAGTTTGCCCCCTTGTTCTTTGGTACGGGGGGTCTAAGACCTGCATGGGATTTTGATGGTCCTAAAAACGGCAAGAGGTGGACGAACTATCCCTACAATAAAATTGTTGTGCGAAGCCCCCGGGTTGTCGTATTAGATGGGCCACCGTAATCTGAAGACCCTATAGAACCCCATTGGAGGCCCATCAACCCATGATCAGTTGATGGCCATTTGATGCGACACCAGTCAGTGAGCAACCAGCTGAGC\n",
        "730\n",
        "Z78450.1\n",
        "GGAAGGATCATTGCTGATATCACATAATAATTGATCGAGTTAAGCTGGAGGATCTGTTTACTTTGGTCATCCATGAGCATTTACTGTTGAAGTGACCTAGATTTGCCATCGAGCCTCCTTGGGAGCTTTCTTGTTGCCGAGATCTAAACCCTTGCCCGGCGCAGTTTTGCGCCAAGTCATATGACACATAATTGGTGAAGGGGGTGGCATCCTGCCCTGACCCTCCCCAAATTATTTTTTTAACAACTCTCAGCAACGGATATCTCGGCTCTTGCATCGATGAAGAACGCAGCGAAATGCGATAAATGGTGTGAATTGCAGAATCCCGTGAACCATCGAGTCTTTGAACGCAAGTTGCGCCCGAGGCCATCAGGCCAAGGGCACGCCTGCCTGGGCATTCCGAGTCATATCTCTCCCCTAACGAGGCTGTCCATACATACTGTTCATCCGGTGCGGATGTGAGTGTGGCCCCTTGTTCTTTGGTCCGGGGGGTCTAAGAACTGCATGGGCATATGATGGTCCTCAAAACTGGCAAGAGGTGGACGAACTATGCTACAACCAAATTGTTGTGCCAAGGCCCCGGGTTGTCGTATTAGATGGGCCACCGTAACCTGTAGACCCTGTTGAACCCCATTGGAGGACCATCAACCCATGATCAGTTGATGACCATGTGTTGCGACCCCAGATCAGCTGAGCAACCCCTGAG\n",
        "706\n",
        "Z78449.1\n",
        "CGTAACAAGGTTTCCGTAGGTGAACCTGCGGAAGGATCATTGTTGAGATCACATAATAATTGATCGAGTTAATCTGGAGGATCTGTTTACTTTGGTCACCCATGAGCATTTGCTGTTGAAGTGACCTAGATTTGCCATCGAGCCTCCTTGGGAGCTTTCTTGTTGGCGAGATCTAAACCCTTGCCCGGCGCAGTTTTGCGCCAACTCATTTGACACATAATTGGTGAAGGGTGGCATCCTGCCCTGACCCTCCCCCAAATTATTTTTTTAACAACTCTCAGCAACGGATATCTCAGCTCTTGCATCGATGAAGAACGCAGCGAAAATGCGATAAATGGTGTGAATTGCAGAATCCCGTGAACCATCGAGTCTTTGAACGCAAGTTGCGCCCGAGGCCATCAGGCCAAGGGCACGCCTGCCTGGGCATTGCGAGTCATATCTCTCCCTTAACGAGGCTGTCCATACATACTGTTCAGCCGGTGCGGATGTGAGTTTGGCCCCTTGTTCTTTGGTACGGGGGGTCTAAGAGCTGCATGGGCTTTTGATGGTCCTAAATACGGCAAGAGGTGGACGAACTATGCTACAACTAAATTGTTGTGCAAAGGCCCCGGGTTGTCGTATTAGATGGGCCACCGTAATCTGAAGACCCTTTTGAACCCCATTGGAGGCCCATCAACCCATGATCAGTTGATGGCCATTTGGTTGCGACCCCAGGTCAGGTGAGGCAACCCGCTGAGTTTATGC\n",
        "744\n",
        "Z78448.1\n",
        "CGTAACAAGGTTTCCGTAGGTGAACCTGCGGAAGGATCATTGTTGAGATCACATAATAATTGATCGAGTTAATCTGGAGGATCTGTTTACTTTGGTCACCCATGAGCATTTGCTGTTGAAGTGACCTAGAATTGCCATCGAGCCTCCTTGGGAGCTTTCTTGTTGGCGAGATCTAAACCCTTTCCCGGCGCAGTTTTGCGCCAAGTCGTATGACACATAATTGGTGAAGGGGGGTGGCATCCTTCCCTTGACCCTCCCCAAATTATTTTTTTAACAACTCTCAGCAACGGATATCTCAGCTCTTGCATCGGATGGAAGAACGCACCGAAATGCGATAAATGGTGTGAATTGCAGAATCCCGTGAACCATCGAGTCTTTGAACGCAAGTTGCGCCCGAGGCCATCAGGCCAAGGGCACGCCTGCCTGGGCATTGCGAGTCATATCTCTCCCTTAACGAGGCTGTCCATACATACTGTTCAGCCGGTGCGGATGTGAGTTTGGCCCCTTGTTCTTTGGTACGGGGGGTCTAAGAGCTGCATGGGCTTTTGATGGTCCTAAATACGGCAAGAGGTGGACGAACTATGCTACAANAAAATTGTTGTGCAAAGGCCCCGGGTTGTCGTATTAGATGGGCCACCGTAATCTGAAGACCCTTTTGAACCCCATTGGAGGCCCATCAGCCCATGATCAGTTGATGGCCATTTGGNTGCGACCCCAGGTCAGGTGAGGCAACCCGCTGAGG\n",
        "742\n",
        "Z78447.1\n",
        "CGTAACAAGGATTCCGTAGGTGAACCTGCGGGAGGATCATTGTTGAGATCACATAATAATTGATCGAGTAATCTGGAGGATCTGTTTACTTTGGTCACCCATGGGCATTTCCTGTTGAAGTGACCTAGAGTTGCCATCGAGCCTCCCTGGGAGCTTTCTTGTTGGCGAGAACTAAACCCTTACCCGGCGCAATTTTGCCCCCAGTCAAATGACACATAAGTGGTGAAGGGGGTGGCATCCTATCTCGGCTCTTGCATCGATGAAGAACCCAGCGAAATGCGATAAATGGTGTGAATTGCAGAATCCCGTGAACCATCGAGTCTTTGAACGCAAGTTGCGCCCGAGGCCATCAGGCCAAGGGCACGCCTGCCTGGGCATTGCGAGTCATATCTCTCCCTTAACGAGGCTGTCCATACATACTGTTCAGCCGGTGCGGATGTGAGTTTGGCCCCTTGTTCTTTGGTACGGGGGGTCTAAGAGCTGCATGGGCTTTTGATGGTCCTAAATACGGCAAGAGGTGGACGAACTATGCTACACCAAAATTGTTGTGCAAAGGCCCCGGGTTGTCGTATTAGATGGGCCACCGTAATCTGAAGACCCTTTTGAACCCCATTGGAGGCCCATCAACCCATGATCAGTTGATGGCCATTTGGTTGCGACCCCAGTCAGGTGAGGCAACCCGCTGAGTTTAAGC\n",
        "694\n",
        "Z78446.1\n",
        "CGTAACAAGGTTTCCGTAGGTGAACCTCCGGAAGGATCATTGTTGAGATCACATAATAATTGATCGAGTTAATCTGGAGGATCTGTTTACTTTGGTCACCCATGAGCATTTCCTGTTGAAGTGACCTAGATTTGCCATCGAGCCTCCTTGGGAGCTTTCTTGTTGGCGAGATCTAAACCCTTGCCCGGCGCAGTTTTGCGCCAAGTCATATGACACATAATTGGTGAAGGGGGTGGCATCCTCCCCAAATAATTTTTTAACAACTCTCAGCAACGGATACTCGGCTCTTCATCGATGGAGGACCAGCGAAATTGCGATAATGGTGTGATTGCAGAATCCCGTGAACATCGAGTCTTTGAACGCAAGTTGCGCCCGAGGCCATCAGGCCAAGGGCACGCCTGCCTGGGATTGCGAGTCATATCTCTCCCTTAACGAGGCTGTCCATACATACTGTTCAGCCGGTGCAGATGTGAGTTTGGCCCCTTGTTCTTCGGTACGGGGGGTCTAAGAGCTGCATGGGCTTTTGATGGCCCTAAATACGGCAAGAGGTGGACGAACTATGCTACAACAAAATTGTTGTGCAAAGGCTCCGGGTTGTCGTATTAGATGGGCCACCGTAATCTGAAGACCCTTTTGAACCCCATTGGAGGCCCATCAACCCATGATCAGTTGATGGCCATTTGGTTGCGACCCAGGTCAGGTGAGGCAACCC\n",
        "712\n",
        "Z78445.1\n",
        "CGTAACAAGGTTTCCGTAGGTGAACCTGCGGAAGGATCATTGTTGAGATCACATAATAATTGATCGGGTTAATCTGGAGGATCTGTTTACTTTGGTCACCCATGAGCATTTGCTGTTGAAGTGACCTAGAATTGCCATCGAGCCTCCTTGGGAGCTTTCTTGTTGGCGAGATCTAAACCCTTGCCCGGCGCAGTTTTGCTCCAAGTCGTTTGACACATAATTGGTGAAGGGGGTGGCATCCTTCCCTGACCCTCCCCCAACTATTTTTTTAACAACTCTCAGCAACGGAGACTCAGTCTTCGGCAAATGCGATAAATGGTGTGAATTGCAGAATCCCGTGCACCATCGAGTCTTTGAACGCAAGTTGCGCCCGAGGCCATCAGGCCAAGGGCACGCCTGCCTGGGCATTGCGAGTCATATCTCTCCCTTAACGAGGCTGTCCATACATACTGTTCAGCCGGTGCGGATGTGAGTTTGGCCCCTTGTTCTTTGGTACGGGGGGTCTAAGAGCTGCATGGGCTTTTGATGGTCCTAAATACGGCAAGAGGTGGACGAACTATGCTACAACAAAATTGTTGTGCAGAGGCCCCGGGTTGTCGTATTAGATGGGCCACCGTAATCTGAAGACCCTTTTGAACCCCATTGGAGGCCCATCAACCCATGATCAGTTGATGGCCATTTGGTTGCGACCCCAGGTCAGGTGAGCAACAGCTGT\n",
        "715\n",
        "Z78444.1\n",
        "CGTAACAAGGTTTCCGTAGGGTGAACTGCGGAAGGATCATTGTTGAGATCACATAATAATTGATCGAGTTAATCTGGAGGATCTGTTTACTTGGGTCACCCATGGGCATTTGCTGTTGAAGTGACCTAGATTTGCCATCGAGCCTCCTTGGGAGCATCCTTGTTGGCGATATCTAAACCCTCAATTTTTCCCCCAATCAAATTACACAAAATTGGTGGAGGGGGTGGCATTCTTCCCTTACCCTCCCCCAAATATTTTTTTAACAACTCTCAGCAACGGATATCTCAGCTCTTGCATCGATGAAGAACCCACCGAAATGCGATAAATGGTGTGAATTGCAGAATCCCGTGAACCATCGAGTCTTTGAACGCAAGTTGCGCCCGAGGCCATCAGGCCAAGGGCACGCCTGCCTGGGCATTGCGAGTCATATCTCTCCCTTAACGAGGCTGTCCATACATACTGTTCAGCCGGTGCGGATGTGAGTTTGGCCCCTTGTTCTTTGGTACGGGGGGTCTAAGAGATGCATGGGCTTTTGATGGTCCTAAATACGGCAAGAGGTGGACGAACTATGCTACAACAAAATTGTTGTGCAAAGGCCCCGGGTTGTCGTATAAGATGGGCCACCGATATCTGAAGACCCTTTTGGACCCCATTGGAGCCCATCAACCCATGTCAGTTGATGGCCATT\n",
        "688\n",
        "Z78443.1\n",
        "CGTAACAAGGTTTCCGTAGGTGAACCTGCGGAAGGATCATTGTTGAGATCACATAATAATTGATCGAGTTAATCTGGAGGATCTGTTTACTTGGGTCACCCATGGGCATTTGCTGTTGAAGTGACCTAGATTTGCCATCGAGCCTCCTTGGGAGCTTTCTTGTTGGCGATATCTAAACCCTTGCCCGGCAGAGTTTTGGGCCACANNNNNNNNNNNNNNNNNNNNNNNNNNNNNNNNNNNNNNNNNNNNNNNNNNNNNNNNNNNNNNNNNNNNNNNNNNNNNNNNNNNNNNNNNNNNNNNNNNNNNNNNNNNNNNNNNNNNNNNNNNNNNNNNNNNNNNNNNNNNNNNNNNNNNNNNNNNNNNNNNNNNNNNNNNNNNNCAGCGAAATGCGATAATGGTGTGAATTGCAGAATCCCGTGAACCATCGAGTCTTTGAACGCAAGTTGCGCCCGAGGCCATCAGGCCAAGGGCACGCCTGCCTGGGCATTGCGAGTCATATCTCTCCCTTAACGAGGCTGTCCATACACACCTGTTCAGCCGGTGCGGATGTGAGTTTGGCCCCTTGTTCTTTGGTACGGGGGGTCTAAGAGCTGCATGGGCTTTTGATGGTCCTAAATACGGCAAGAGGTGGACGAACTATGCTACAACAAAATTGTTGTGCAAAGGCCCCGGGTTGTCGTATTAGATGGGCCACCATAATCTGAAGACCCTTTTGAACCCCATTGGAGGCCCATCAACCCATGATCAGTTGATGGCCATTTGGTTGCGACCCAGTCAGGTGAGG\n",
        "784\n",
        "Z78442.1\n",
        "GTAGGTGAACCTGCGGAAGGATCATTGTTGAGATCACATAATAATTGATCGAGTTAATCTGGAGGATCTGTTTACTTTGGTCACCCATGGGCATTTGCTGTTGAAGTGACCTAGATTTGCCATCGAGCCTCCTTGGGAGCTTTCTTGTTGGCGAGATCTAAACCCTTGCCCGGCGGAGTTTGGCGCCAAGTCATATGACACATAATTGGTGAAGGGGGTGGCATCCTGCCCTGACCCTCCCCAAATTATTTTTTTAACAACTCTCAGCAACGGATATCTCGGCTCTTGCATCGATGAAGAACGCAGCGAAATGCGATAAATGGTGTGAATTGCAGAATCCCGTGAACCATCGAGTCTTTGGAACGCAAGTTGCGCCCGAGGCCATCAGGCCAAGGGCACGCCTGCCTGGGCATTGGGAATCATATCTCTCCCCTAACGAGGCTATCCAAACATACTGTTCATCCGGTGCGGATGTGAGTTTGGCCCCTTGTTCTTTGGTACCGGGGGTCTAAGAGCTGCATGGGCATTTGATGGTCCTCAAAACGGCAAGAGGTGGACGAACTATGCCACAACAAAATTGTTGTCCCAAGGCCCCGGGTTGTCGTATTAGATGGGCCACCGTAACCTGAAGACCCTTTTGAACCCCATTGGAGGCCCATCAACCCATGATCAGTTGATGACCATTTGTTGCGACCCCAGTCAGCTGAGCAACCCGCTGAGT\n",
        "721\n",
        "Z78441.1\n",
        "GGAAGGTCATTGCCGATATCACATAATAATTGATCGAGTTAATCTGGAGGATCTGTTTACTTGGTCACCCATGAGCATTTGCTGTTGAAGTGACCTAGATTTGCCATCGAGCCTCCTTGGGAGTTTTCTTGTTGGCGAGATCTAAACCCTTGCCCGGCGGAGTTGTGCGCCAAGTCATATGACACATAATTGGTGAAGGGGGTGGCATCCTGCCCTGACCCTCCCCAAATTATTTTTTTAACAACTCTCAGCAACGGATATCTCGGCTCTTGCATCGATGAAGAACGCAGCGAAATGCGATAAATGGTGTGAATTGCAGAATCCCGTGAACCATCGAGTCTTTGAACGCAAGTTGCGCCCGAGGCCATCAGGCCAAGGGCACGCCTGCCTGGGCATTGCGAGTCATATCTCTCCCTTAACGAGGCTGTCCATACATACTGTTCATCCGGTGCGGATGTGAGTTTGGCCCCTTGTTCTTTGGTACGGGGGGTCTAAGAGCTGCATGGGCATTTGATGGTCCTCAAAACGGCAAGAGGTGGACGAACTATGCTACAACCAAATTGTTGTCCCAAGGCCCCGGGTTGTCGTATTAGATGGGCCACCGTAACCTGAAGACCCTTTTGAACCCCATTGGAGGCCCATCAACCCATGATCAGTTGATGACCATGTGTTGCGACCCCAGTCAGCTGAGCAACGCGCTGAG\n",
        "703\n",
        "Z78440.1\n",
        "CGTAACAAGGTTTCCGTAGGTGGACCTCCGGGAGGATCATTGTTGAGATCACATAATAATTGATCGAGGTAATCTGGAGGATCTGCATATTTTGGTCACCCATGGGCAATTTCTGTTGTAGTGACCTAGAATTTCCATCGACCCTCCTTGGGAGCATTCTTGTTGGCGAGAACTAAACCCTTACCCGGCGCAGTTTTTCCCCCAATCAAATTACACAAAAATGGTGGAGGGGGTGGCATATCTTCCCTTACCCTCCCCCAAATAATTTTTTAACAACTCTCAGCAACGGATATCTCAGCTCTTGCATCGTTGAAGAACCCACCGAAATGCGATAAATGGTGTGAATTGCAGAATCCCGTGAACCATCGAGTCTTTGAACGCAAGTTGCGCCCGAGGCCATCAGGCCAAGGGCACGCCTGCCTGGGCATTGCGAGTCATATCTCTCCCTTAACGAGGCTGTCCATACATACTGTTCAGCCGGTGCGGATGTGAGTTTGGCCCCTTGTTCTTTGCTACGGGGGGTCTAAGAGCTGCATGGGCTTTTGATGGTCCTAAATACGGCAAGAGGTGGACGAACTATGCTACAGCAAAATTGTTGTGCAAAGGCCCCGGGTTGTCGTATTAGATGGGCCACCGTAATCTGAAGACCCTTTTGAACCCCATTGGAGGCCCATCAACCCATGATCAGTTGATGGCCATTTGGTTGCGACCCCAGGTCAGGTGAGGCAACCCCTGAGTTTAGCA\n",
        "744\n",
        "Z78439.1\n",
        "CATTGTTGAGATCACATAATAATTGATCGAGTTAATCTGGAGGATCTGTTTACTTTGGTCACCCATGGGCATTTGCTGTTGAAGTGACCTAGATTTGCCATCGAGCCTCCTTGGGAGCTTTCTTGTTGGCGAGATCTAAACCCCTGCCCGGCGGAGTTGGGCGCCAAGTCATATGACACATAATTGGTGAAGGGGGTGGTAATCCTGCCCTGACCCTCCCCAAATTATTTTTTTAACAACTCTCAGCAACGGATATCTCGGCTCTTGCATCGATGAAGAACGCAGCGAAATGCGATAATGGTGTGAATTGCAGAATCCCGTGAACATCGAGTCTTTGAACGCAAGTTGCGCCCGAGGCCATCAGGCCAAGGGCACGCCTGCCTGGGCATTGCGAGTCATATCTCTCCCTTAATGAGGCTGTCCATACATACTGTTCAGCCGGTGCGGATGTGAGTTTGGCCCCTTGTTCTTTGGTACGGGGGGTCTAAGAGCTGCATGGGCTTTGGATGGTCCTAAATACGGAAAGAGGTGGACGAACTATGCTACAACAAAATTGTTGTGCAAATGCCCCGGTTGGCCGTTTAGTTGGGCC\n",
        "592\n"
       ]
      }
     ],
     "prompt_number": 3
    },
    {
     "cell_type": "markdown",
     "metadata": {},
     "source": [
      "Similarly, if you wanted to read in a file in another file format, then assuming __Bio.SeqIO.parse()__ supports it you would just need to change the format string as appropriate, for example ``swiss'' for SwissProt files or ``embl'' for EMBL text files. There is a full listing on the wiki page (\\url{http://biopython.org/wiki/SeqIO}) and in the built in documentation (also \\href{http://biopython.org/DIST/docs/api/Bio.SeqIO-module.html}{online}).\n",
      "\n",
      "Another very common way to use a Python iterator is within a list comprehension (or\n",
      "a generator expression).  For example, if all you wanted to extract from the file was\n",
      "a list of the record identifiers we can easily do this with the following list comprehension:\n"
     ]
    },
    {
     "cell_type": "code",
     "collapsed": false,
     "input": [
      "from Bio import SeqIO\n",
      "identifiers = [seq_record.id for seq_record in SeqIO.parse(\"data/ls_orchid.gbk\", \"genbank\")]\n",
      "identifiers\n",
      "#['Z78533.1', 'Z78532.1', 'Z78531.1', 'Z78530.1', 'Z78529.1', 'Z78527.1', ..., 'Z78439.1']"
     ],
     "language": "python",
     "metadata": {},
     "outputs": [
      {
       "metadata": {},
       "output_type": "pyout",
       "prompt_number": 4,
       "text": [
        "['Z78533.1',\n",
        " 'Z78532.1',\n",
        " 'Z78531.1',\n",
        " 'Z78530.1',\n",
        " 'Z78529.1',\n",
        " 'Z78527.1',\n",
        " 'Z78526.1',\n",
        " 'Z78525.1',\n",
        " 'Z78524.1',\n",
        " 'Z78523.1',\n",
        " 'Z78522.1',\n",
        " 'Z78521.1',\n",
        " 'Z78520.1',\n",
        " 'Z78519.1',\n",
        " 'Z78518.1',\n",
        " 'Z78517.1',\n",
        " 'Z78516.1',\n",
        " 'Z78515.1',\n",
        " 'Z78514.1',\n",
        " 'Z78513.1',\n",
        " 'Z78512.1',\n",
        " 'Z78511.1',\n",
        " 'Z78510.1',\n",
        " 'Z78509.1',\n",
        " 'Z78508.1',\n",
        " 'Z78507.1',\n",
        " 'Z78506.1',\n",
        " 'Z78505.1',\n",
        " 'Z78504.1',\n",
        " 'Z78503.1',\n",
        " 'Z78502.1',\n",
        " 'Z78501.1',\n",
        " 'Z78500.1',\n",
        " 'Z78499.1',\n",
        " 'Z78498.1',\n",
        " 'Z78497.1',\n",
        " 'Z78496.1',\n",
        " 'Z78495.1',\n",
        " 'Z78494.1',\n",
        " 'Z78493.1',\n",
        " 'Z78492.1',\n",
        " 'Z78491.1',\n",
        " 'Z78490.1',\n",
        " 'Z78489.1',\n",
        " 'Z78488.1',\n",
        " 'Z78487.1',\n",
        " 'Z78486.1',\n",
        " 'Z78485.1',\n",
        " 'Z78484.1',\n",
        " 'Z78483.1',\n",
        " 'Z78482.1',\n",
        " 'Z78481.1',\n",
        " 'Z78480.1',\n",
        " 'Z78479.1',\n",
        " 'Z78478.1',\n",
        " 'Z78477.1',\n",
        " 'Z78476.1',\n",
        " 'Z78475.1',\n",
        " 'Z78474.1',\n",
        " 'Z78473.1',\n",
        " 'Z78472.1',\n",
        " 'Z78471.1',\n",
        " 'Z78470.1',\n",
        " 'Z78469.1',\n",
        " 'Z78468.1',\n",
        " 'Z78467.1',\n",
        " 'Z78466.1',\n",
        " 'Z78465.1',\n",
        " 'Z78464.1',\n",
        " 'Z78463.1',\n",
        " 'Z78462.1',\n",
        " 'Z78461.1',\n",
        " 'Z78460.1',\n",
        " 'Z78459.1',\n",
        " 'Z78458.1',\n",
        " 'Z78457.1',\n",
        " 'Z78456.1',\n",
        " 'Z78455.1',\n",
        " 'Z78454.1',\n",
        " 'Z78453.1',\n",
        " 'Z78452.1',\n",
        " 'Z78451.1',\n",
        " 'Z78450.1',\n",
        " 'Z78449.1',\n",
        " 'Z78448.1',\n",
        " 'Z78447.1',\n",
        " 'Z78446.1',\n",
        " 'Z78445.1',\n",
        " 'Z78444.1',\n",
        " 'Z78443.1',\n",
        " 'Z78442.1',\n",
        " 'Z78441.1',\n",
        " 'Z78440.1',\n",
        " 'Z78439.1']"
       ]
      }
     ],
     "prompt_number": 4
    },
    {
     "cell_type": "markdown",
     "metadata": {},
     "source": [
      "There are more examples using __SeqIO.parse()__ in a list\n",
      "comprehension like this in Section~\\ref{seq:sequence-parsing-plus-pylab}\n",
      "(e.g. for plotting sequence lengths or GC\\%).\n"
     ]
    },
    {
     "cell_type": "heading",
     "level": 3,
     "metadata": {},
     "source": [
      "Iterating over the records in a sequence file"
     ]
    },
    {
     "cell_type": "markdown",
     "metadata": {},
     "source": [
      "In the above examples, we have usually used a for loop to iterate over all the records one by one.  You can use the for loop with all sorts of Python objects (including lists, tuples and strings) which support the iteration interface.\n",
      "\n",
      "The object returned by __Bio.SeqIO__ is actually an iterator which returns __SeqRecord__ objects.  You get to see each record in turn, but once and only once.  The plus point is that an iterator can save you memory when dealing with large files.\n",
      "\n",
      "Instead of using a for loop, can also use the __next()__ function on an iterator to step through the entries, like this:\n",
      "\n"
     ]
    },
    {
     "cell_type": "code",
     "collapsed": false,
     "input": [
      "from Bio import SeqIO\n",
      "record_iterator = SeqIO.parse(\"data/ls_orchid.fasta\", \"fasta\")\n",
      "\n",
      "first_record = next(record_iterator)\n",
      "print(first_record.id)\n",
      "print(first_record.description)\n",
      "\n",
      "second_record = next(record_iterator)\n",
      "print(second_record.id)\n",
      "print(second_record.description)\n"
     ],
     "language": "python",
     "metadata": {},
     "outputs": [
      {
       "output_type": "stream",
       "stream": "stdout",
       "text": [
        "gi|2765658|emb|Z78533.1|CIZ78533\n",
        "gi|2765658|emb|Z78533.1|CIZ78533 C.irapeanum 5.8S rRNA gene and ITS1 and ITS2 DNA\n",
        "gi|2765657|emb|Z78532.1|CCZ78532\n",
        "gi|2765657|emb|Z78532.1|CCZ78532 C.californicum 5.8S rRNA gene and ITS1 and ITS2 DNA\n"
       ]
      }
     ],
     "prompt_number": 5
    },
    {
     "cell_type": "markdown",
     "metadata": {},
     "source": [
      "Note that if you try to use __next()__ and there are no more results, you'll get the special __StopIteration__ exception.\n",
      "\n",
      "One special case to consider is when your sequence files have multiple records, but you only want the first one.  In this situation the following code is very concise:\n"
     ]
    },
    {
     "cell_type": "code",
     "collapsed": false,
     "input": [
      "from Bio import SeqIO\n",
      "first_record = next(SeqIO.parse(\"data/ls_orchid.gbk\", \"genbank\"))\n"
     ],
     "language": "python",
     "metadata": {},
     "outputs": []
    },
    {
     "cell_type": "markdown",
     "metadata": {},
     "source": [
      "A word of warning here -- using the __next()__ function like this will silently ignore any additional records in the file.\n",
      "If your files have {\\it one and only one} record, like some of the online examples later in this chapter, or a GenBank file for a single chromosome, then use the new __Bio.SeqIO.read()__ function instead.\n",
      "This will check there are no extra unexpected records present.\n"
     ]
    },
    {
     "cell_type": "heading",
     "level": 3,
     "metadata": {},
     "source": [
      "Getting a list of the records in a sequence file"
     ]
    },
    {
     "cell_type": "markdown",
     "metadata": {},
     "source": [
      "In the previous section we talked about the fact that __Bio.SeqIO.parse()__ gives you a __SeqRecord__ iterator, and that you get the records one by one.  Very often you need to be able to access the records in any order. The Python __list__ data type is perfect for this, and we can turn the record iterator into a list of __SeqRecord__ objects using the built-in Python function __list()__ like so:\n"
     ]
    },
    {
     "cell_type": "code",
     "collapsed": false,
     "input": [
      "from Bio import SeqIO\n",
      "records = list(SeqIO.parse(\"data/ls_orchid.gbk\", \"genbank\"))\n",
      "\n",
      "print(\"Found %i records\" % len(records))\n",
      "\n",
      "print(\"The last record\")\n",
      "last_record = records[-1] #using Python's list tricks\n",
      "print(last_record.id)\n",
      "print(repr(last_record.seq))\n",
      "print(len(last_record))\n",
      "\n",
      "print(\"The first record\")\n",
      "first_record = records[0] #remember, Python counts from zero\n",
      "print(first_record.id)\n",
      "print(repr(first_record.seq))\n",
      "print(len(first_record))\n"
     ],
     "language": "python",
     "metadata": {},
     "outputs": [
      {
       "output_type": "stream",
       "stream": "stdout",
       "text": [
        "Found 94 records\n",
        "The last record\n",
        "Z78439.1\n",
        "Seq('CATTGTTGAGATCACATAATAATTGATCGAGTTAATCTGGAGGATCTGTTTACT...GCC', IUPACAmbiguousDNA())\n",
        "592\n",
        "The first record\n",
        "Z78533.1\n",
        "Seq('CGTAACAAGGTTTCCGTAGGTGAACCTGCGGAAGGATCATTGATGAGACCGTGG...CGC', IUPACAmbiguousDNA())\n",
        "740\n"
       ]
      }
     ],
     "prompt_number": 6
    },
    {
     "cell_type": "markdown",
     "metadata": {},
     "source": [
      "You can of course still use a for loop with a list of __SeqRecord__ objects.  Using a list is much more flexible than an iterator (for example, you can determine the number of records from the length of the list), but does need more memory because it will hold all the records in memory at once.\n"
     ]
    },
    {
     "cell_type": "heading",
     "level": 3,
     "metadata": {},
     "source": [
      "Extracting data"
     ]
    },
    {
     "cell_type": "markdown",
     "metadata": {},
     "source": [
      "The __SeqRecord__ object and its annotation structures are described more fully in\n",
      "Chapter~\\ref{chapter:SeqRecord}.  As an example of how annotations are stored, we'll look at the output from parsing the first record in the GenBank file \\href{http://biopython.org/DIST/docs/tutorial/examples/ls_orchid.gbk}{ls\\_orchid.gbk}.\n",
      "\n"
     ]
    },
    {
     "cell_type": "code",
     "collapsed": false,
     "input": [
      "from Bio import SeqIO\n",
      "record_iterator = SeqIO.parse(\"data/ls_orchid.gbk\", \"genbank\")\n",
      "first_record = next(record_iterator)\n",
      "print(first_record)\n"
     ],
     "language": "python",
     "metadata": {},
     "outputs": [
      {
       "output_type": "stream",
       "stream": "stdout",
       "text": [
        "ID: Z78533.1\n",
        "Name: Z78533\n",
        "Description: C.irapeanum 5.8S rRNA gene and ITS1 and ITS2 DNA.\n",
        "Number of features: 5\n",
        "/sequence_version=1\n",
        "/source=Cypripedium irapeanum\n",
        "/taxonomy=['Eukaryota', 'Viridiplantae', 'Streptophyta', 'Embryophyta', 'Tracheophyta', 'Spermatophyta', 'Magnoliophyta', 'Liliopsida', 'Asparagales', 'Orchidaceae', 'Cypripedioideae', 'Cypripedium']\n",
        "/keywords=['5.8S ribosomal RNA', '5.8S rRNA gene', 'internal transcribed spacer', 'ITS1', 'ITS2']\n",
        "/references=[Reference(title='Phylogenetics of the slipper orchids (Cypripedioideae: Orchidaceae): nuclear rDNA ITS sequences', ...), Reference(title='Direct Submission', ...)]\n",
        "/accessions=['Z78533']\n",
        "/data_file_division=PLN\n",
        "/date=30-NOV-2006\n",
        "/organism=Cypripedium irapeanum\n",
        "/gi=2765658\n",
        "Seq('CGTAACAAGGTTTCCGTAGGTGAACCTGCGGAAGGATCATTGATGAGACCGTGG...CGC', IUPACAmbiguousDNA())\n"
       ]
      }
     ],
     "prompt_number": 8
    },
    {
     "cell_type": "markdown",
     "metadata": {},
     "source": [
      "This gives a human readable summary of most of the annotation data for the __SeqRecord|.\n",
      "For this example we're going to use the __.annotations__ attribute which is just a Python dictionary.\n",
      "The contents of this annotations dictionary were shown when we printed the record above.\n",
      "You can also print them out directly:\n",
      "\\nprint(first_record.annotations)\n",
      "\\n\\noindent Like any Python dictionary, you can easily get a list of the keys:\n",
      "\\nprint(first_record.annotations.keys())\n",
      "\\n\\noindent or values:\n",
      "\\nprint(first_record.annotations.values())\n",
      "\\n\n",
      "In general, the annotation values are strings, or lists of strings.  One special case is any references in the file get stored as reference objects.  \n",
      "\n",
      "Suppose you wanted to extract a list of the species from the \\href{http://biopython.org/DIST/docs/tutorial/examples/ls_orchid.gbk}{ls\\_orchid.gbk} GenBank file.  The information we want, \\emph{Cypripedium irapeanum}, is held in the annotations dictionary under `source' and `organism', which we can access like this:\n"
     ]
    },
    {
     "cell_type": "code",
     "collapsed": false,
     "input": [
      "print(first_record.annotations[\"source\"])\n"
     ],
     "language": "python",
     "metadata": {},
     "outputs": [
      {
       "output_type": "stream",
       "stream": "stdout",
       "text": [
        "Cypripedium irapeanum\n"
       ]
      }
     ],
     "prompt_number": 9
    },
    {
     "cell_type": "code",
     "collapsed": false,
     "input": [
      "print(first_record.annotations[\"organism\"])"
     ],
     "language": "python",
     "metadata": {},
     "outputs": [
      {
       "output_type": "stream",
       "stream": "stdout",
       "text": [
        "Cypripedium irapeanum\n"
       ]
      }
     ],
     "prompt_number": 10
    },
    {
     "cell_type": "markdown",
     "metadata": {},
     "source": [
      "In general, `organism' is used for the scientific name (in Latin, e.g. \\textit{Arabidopsis thaliana}),\n",
      "while `source' will often be the common name (e.g. thale cress).  In this example, as is often the case,\n",
      "the two fields are identical.  \n",
      "\n",
      "Now let's go through all the records, building up a list of the species each orchid sequence is from:\n"
     ]
    },
    {
     "cell_type": "code",
     "collapsed": false,
     "input": [
      "from Bio import SeqIO\n",
      "all_species = []\n",
      "for seq_record in SeqIO.parse(\"data/ls_orchid.gbk\", \"genbank\"):\n",
      "    all_species.append(seq_record.annotations[\"organism\"])\n",
      "print(all_species)\n"
     ],
     "language": "python",
     "metadata": {},
     "outputs": []
    },
    {
     "cell_type": "markdown",
     "metadata": {},
     "source": [
      "Another way of writing this code is to use a list comprehension:\n"
     ]
    },
    {
     "cell_type": "code",
     "collapsed": false,
     "input": [
      "from Bio import SeqIO\n",
      "all_species = [seq_record.annotations[\"organism\"] for seq_record in \\\n",
      "               SeqIO.parse(\"data/ls_orchid.gbk\", \"genbank\")]\n",
      "print(all_species)\n"
     ],
     "language": "python",
     "metadata": {},
     "outputs": []
    },
    {
     "cell_type": "markdown",
     "metadata": {},
     "source": [
      "Great.  That was pretty easy because GenBank files are annotated in a standardised way.\n",
      "\n",
      "Now, let's suppose you wanted to extract a list of the species from a FASTA file, rather than the GenBank file.  The bad news is you will have to write some code to extract the data you want from the record's description line - if the information is in the file in the first place!  Our example FASTA format file \\href{http://biopython.org/DIST/docs/tutorial/examples/ls_orchid.fasta}{ls\\_orchid.fasta} starts like this:\n",
      "\n",
      "\\n>gi|2765658|emb|Z78533.1|CIZ78533 C.irapeanum 5.8S rRNA gene and ITS1 and ITS2 DNA\n",
      "CGTAACAAGGTTTCCGTAGGTGAACCTGCGGAAGGATCATTGATGAGACCGTGGAATAAACGATCGAGTG\n",
      "AATCCGGAGGACCGGTGTACTCAGCTCACCGGGGGCATTGCTCCCGTGGTGACCCTGATTTGTTGTTGGG\n",
      "...\n",
      "\\n\n",
      "You can check by hand, but for every record the species name is in the description line as the second word.  This means if we break up each record's __.description__ at the spaces, then the species is there as field number one (field zero is the record identifier).  That means we can do this:\n",
      "\n"
     ]
    },
    {
     "cell_type": "code",
     "collapsed": false,
     "input": [
      "from Bio import SeqIO\n",
      "all_species = []\n",
      "for seq_record in SeqIO.parse(\"data/ls_orchid.fasta\", \"fasta\"):\n",
      "    all_species.append(seq_record.description.split()[1])\n",
      "print(all_species)"
     ],
     "language": "python",
     "metadata": {},
     "outputs": []
    },
    {
     "cell_type": "markdown",
     "metadata": {},
     "source": [
      "The concise alternative using list comprehensions would be:\n"
     ]
    },
    {
     "cell_type": "code",
     "collapsed": false,
     "input": [
      "from Bio import SeqIO\n",
      "all_species == [seq_record.description.split()[1] for seq_record in \\\n",
      "                SeqIO.parse(\"data/ls_orchid.fasta\", \"fasta\")]\n",
      "print(all_species)\n"
     ],
     "language": "python",
     "metadata": {},
     "outputs": []
    },
    {
     "cell_type": "markdown",
     "metadata": {},
     "source": [
      "In general, extracting information from the FASTA description line is not very nice.\n",
      "If you can get your sequences in a well annotated file format like GenBank or EMBL,\n",
      "then this sort of annotation information is much easier to deal with.\n",
      "\n"
     ]
    },
    {
     "cell_type": "heading",
     "level": 2,
     "metadata": {},
     "source": [
      "Parsing sequences from compressed files"
     ]
    },
    {
     "cell_type": "markdown",
     "metadata": {},
     "source": [
      "In the previous section, we looked at parsing sequence data from a file.\n",
      "Instead of using a filename, you can give __Bio.SeqIO__ a handle\n",
      "(see Section~\\ref{sec:appendix-handles}), and in this section\n",
      "we'll use handles to parse sequence from compressed files.\n",
      "\n",
      "As you'll have seen above, we can use __Bio.SeqIO.read()__ or\n",
      "__Bio.SeqIO.parse()__ with a filename - for instance this quick\n",
      "example calculates the total length of the sequences in a multiple\n",
      "record GenBank file using a generator expression:\n"
     ]
    },
    {
     "cell_type": "code",
     "collapsed": false,
     "input": [
      "from Bio import SeqIO\n",
      "print(sum(len(r) for r in SeqIO.parse(\"data/ls_orchid.gbk\", \"gb\")))\n"
     ],
     "language": "python",
     "metadata": {},
     "outputs": [
      {
       "output_type": "stream",
       "stream": "stdout",
       "text": [
        "67518\n"
       ]
      }
     ],
     "prompt_number": 11
    },
    {
     "cell_type": "markdown",
     "metadata": {},
     "source": [
      "Here we use a file handle instead, using the __with__ statement\n",
      "to close the handle automatically:\n"
     ]
    },
    {
     "cell_type": "code",
     "collapsed": false,
     "input": [
      "from Bio import SeqIO\n",
      "with open(\"data/ls_orchid.gbk\") as handle:\n",
      "     print(sum(len(r) for r in SeqIO.parse(handle, \"gb\")))\n",
      "#67518\n"
     ],
     "language": "python",
     "metadata": {},
     "outputs": [
      {
       "output_type": "stream",
       "stream": "stdout",
       "text": [
        "67518\n"
       ]
      }
     ],
     "prompt_number": 13
    },
    {
     "cell_type": "markdown",
     "metadata": {},
     "source": [
      "Or, the old fashioned way where you manually close the handle:\n"
     ]
    },
    {
     "cell_type": "code",
     "collapsed": false,
     "input": [
      "from Bio import SeqIO\n",
      "handle = open(\"data/ls_orchid.gbk\")\n",
      "print(sum(len(r) for r in SeqIO.parse(handle, \"gb\")))\n",
      "67518\n",
      "handle.close()\n"
     ],
     "language": "python",
     "metadata": {},
     "outputs": [
      {
       "output_type": "stream",
       "stream": "stdout",
       "text": [
        "67518\n"
       ]
      }
     ],
     "prompt_number": 14
    },
    {
     "cell_type": "markdown",
     "metadata": {},
     "source": [
      "Now, suppose we have a gzip compressed file instead? These are very\n",
      "commonly used on Linux. We can use Python's __gzip__ module to open\n",
      "the compressed file for reading - which gives us a handle object:\n"
     ]
    },
    {
     "cell_type": "code",
     "collapsed": false,
     "input": [
      "import gzip\n",
      "from Bio import SeqIO\n",
      "handle = gzip.open(\"data/ls_orchid.gbk.gz\", \"r\")\n",
      "print(sum(len(r) for r in SeqIO.parse(handle, \"gb\")))\n",
      "67518\n",
      "handle.close()\n"
     ],
     "language": "python",
     "metadata": {},
     "outputs": [
      {
       "ename": "IOError",
       "evalue": "[Errno 2] No such file or directory: 'data/ls_orchid.gbk.gz'",
       "output_type": "pyerr",
       "traceback": [
        "\u001b[0;31m---------------------------------------------------------------------------\u001b[0m\n\u001b[0;31mIOError\u001b[0m                                   Traceback (most recent call last)",
        "\u001b[0;32m<ipython-input-15-6d0cb54011b1>\u001b[0m in \u001b[0;36m<module>\u001b[0;34m()\u001b[0m\n\u001b[1;32m      1\u001b[0m \u001b[0;32mimport\u001b[0m \u001b[0mgzip\u001b[0m\u001b[0;34m\u001b[0m\u001b[0m\n\u001b[1;32m      2\u001b[0m \u001b[0;32mfrom\u001b[0m \u001b[0mBio\u001b[0m \u001b[0;32mimport\u001b[0m \u001b[0mSeqIO\u001b[0m\u001b[0;34m\u001b[0m\u001b[0m\n\u001b[0;32m----> 3\u001b[0;31m \u001b[0mhandle\u001b[0m \u001b[0;34m=\u001b[0m \u001b[0mgzip\u001b[0m\u001b[0;34m.\u001b[0m\u001b[0mopen\u001b[0m\u001b[0;34m(\u001b[0m\u001b[0;34m\"data/ls_orchid.gbk.gz\"\u001b[0m\u001b[0;34m,\u001b[0m \u001b[0;34m\"r\"\u001b[0m\u001b[0;34m)\u001b[0m\u001b[0;34m\u001b[0m\u001b[0m\n\u001b[0m\u001b[1;32m      4\u001b[0m \u001b[0;32mprint\u001b[0m\u001b[0;34m(\u001b[0m\u001b[0msum\u001b[0m\u001b[0;34m(\u001b[0m\u001b[0mlen\u001b[0m\u001b[0;34m(\u001b[0m\u001b[0mr\u001b[0m\u001b[0;34m)\u001b[0m \u001b[0;32mfor\u001b[0m \u001b[0mr\u001b[0m \u001b[0;32min\u001b[0m \u001b[0mSeqIO\u001b[0m\u001b[0;34m.\u001b[0m\u001b[0mparse\u001b[0m\u001b[0;34m(\u001b[0m\u001b[0mhandle\u001b[0m\u001b[0;34m,\u001b[0m \u001b[0;34m\"gb\"\u001b[0m\u001b[0;34m)\u001b[0m\u001b[0;34m)\u001b[0m\u001b[0;34m)\u001b[0m\u001b[0;34m\u001b[0m\u001b[0m\n\u001b[1;32m      5\u001b[0m \u001b[0;36m67518\u001b[0m\u001b[0;34m\u001b[0m\u001b[0m\n",
        "\u001b[0;32m/Users/squiresrb/anaconda/python.app/Contents/lib/python2.7/gzip.pyc\u001b[0m in \u001b[0;36mopen\u001b[0;34m(filename, mode, compresslevel)\u001b[0m\n\u001b[1;32m     32\u001b[0m \u001b[0;34m\u001b[0m\u001b[0m\n\u001b[1;32m     33\u001b[0m     \"\"\"\n\u001b[0;32m---> 34\u001b[0;31m     \u001b[0;32mreturn\u001b[0m \u001b[0mGzipFile\u001b[0m\u001b[0;34m(\u001b[0m\u001b[0mfilename\u001b[0m\u001b[0;34m,\u001b[0m \u001b[0mmode\u001b[0m\u001b[0;34m,\u001b[0m \u001b[0mcompresslevel\u001b[0m\u001b[0;34m)\u001b[0m\u001b[0;34m\u001b[0m\u001b[0m\n\u001b[0m\u001b[1;32m     35\u001b[0m \u001b[0;34m\u001b[0m\u001b[0m\n\u001b[1;32m     36\u001b[0m \u001b[0;32mclass\u001b[0m \u001b[0mGzipFile\u001b[0m\u001b[0;34m(\u001b[0m\u001b[0mio\u001b[0m\u001b[0;34m.\u001b[0m\u001b[0mBufferedIOBase\u001b[0m\u001b[0;34m)\u001b[0m\u001b[0;34m:\u001b[0m\u001b[0;34m\u001b[0m\u001b[0m\n",
        "\u001b[0;32m/Users/squiresrb/anaconda/python.app/Contents/lib/python2.7/gzip.pyc\u001b[0m in \u001b[0;36m__init__\u001b[0;34m(self, filename, mode, compresslevel, fileobj, mtime)\u001b[0m\n\u001b[1;32m     92\u001b[0m             \u001b[0mmode\u001b[0m \u001b[0;34m+=\u001b[0m \u001b[0;34m'b'\u001b[0m\u001b[0;34m\u001b[0m\u001b[0m\n\u001b[1;32m     93\u001b[0m         \u001b[0;32mif\u001b[0m \u001b[0mfileobj\u001b[0m \u001b[0;32mis\u001b[0m \u001b[0mNone\u001b[0m\u001b[0;34m:\u001b[0m\u001b[0;34m\u001b[0m\u001b[0m\n\u001b[0;32m---> 94\u001b[0;31m             \u001b[0mfileobj\u001b[0m \u001b[0;34m=\u001b[0m \u001b[0mself\u001b[0m\u001b[0;34m.\u001b[0m\u001b[0mmyfileobj\u001b[0m \u001b[0;34m=\u001b[0m \u001b[0m__builtin__\u001b[0m\u001b[0;34m.\u001b[0m\u001b[0mopen\u001b[0m\u001b[0;34m(\u001b[0m\u001b[0mfilename\u001b[0m\u001b[0;34m,\u001b[0m \u001b[0mmode\u001b[0m \u001b[0;32mor\u001b[0m \u001b[0;34m'rb'\u001b[0m\u001b[0;34m)\u001b[0m\u001b[0;34m\u001b[0m\u001b[0m\n\u001b[0m\u001b[1;32m     95\u001b[0m         \u001b[0;32mif\u001b[0m \u001b[0mfilename\u001b[0m \u001b[0;32mis\u001b[0m \u001b[0mNone\u001b[0m\u001b[0;34m:\u001b[0m\u001b[0;34m\u001b[0m\u001b[0m\n\u001b[1;32m     96\u001b[0m             \u001b[0;31m# Issue #13781: os.fdopen() creates a fileobj with a bogus name\u001b[0m\u001b[0;34m\u001b[0m\u001b[0;34m\u001b[0m\u001b[0m\n",
        "\u001b[0;31mIOError\u001b[0m: [Errno 2] No such file or directory: 'data/ls_orchid.gbk.gz'"
       ]
      }
     ],
     "prompt_number": 15
    },
    {
     "cell_type": "markdown",
     "metadata": {},
     "source": [
      "\n",
      "Similarly if we had a bzip2 compressed file (sadly the function name isn't\n",
      "quite as consistent):\n",
      "\n"
     ]
    },
    {
     "cell_type": "code",
     "collapsed": false,
     "input": [
      "import bz2\n",
      "from Bio import SeqIO\n",
      "handle = bz2.BZ2File(\"data/ls_orchid.gbk.bz2\", \"r\")\n",
      "print(sum(len(r) for r in SeqIO.parse(handle, \"gb\")))\n",
      "67518\n",
      "handle.close()\n"
     ],
     "language": "python",
     "metadata": {},
     "outputs": []
    },
    {
     "cell_type": "markdown",
     "metadata": {},
     "source": [
      "If you are using Python 2.7 or later, the __with|-version works for\n",
      "gzip and bz2 as well. Unfortunately this is broken on older versions of\n",
      "Python (\\href{http://bugs.python.org/issue3860}{Issue 3860}) and you'd\n",
      "get an __AttributeError__ about ____exit____ being missing.\n",
      "\n",
      "There is a gzip (GNU Zip) variant called BGZF (Blocked GNU Zip Format),\n",
      "which can be treated like an ordinary gzip file for reading, but has\n",
      "advantages for random access later which we'll talk about later in\n",
      "Section~\\ref{sec:SeqIO-index-bgzf}.\n",
      "\n"
     ]
    },
    {
     "cell_type": "heading",
     "level": 2,
     "metadata": {},
     "source": [
      "Parsing sequences from the net"
     ]
    },
    {
     "cell_type": "markdown",
     "metadata": {},
     "source": [
      "In the previous sections, we looked at parsing sequence data from a file\n",
      "(using a filename or handle), and from compressed files (using a handle).\n",
      "Here we'll use __Bio.SeqIO__ with another type of handle, a network\n",
      "connection, to download and parse sequences from the internet.\n",
      "\n",
      "Note that just because you \\emph{can} download sequence data and parse it into\n",
      "a __SeqRecord__ object in one go doesn't mean this is a good idea.\n",
      "In general, you should probably download sequences \\emph{once} and save them to\n",
      "a file for reuse.\n"
     ]
    },
    {
     "cell_type": "heading",
     "level": 3,
     "metadata": {},
     "source": [
      "Parsing GenBank records from the net"
     ]
    },
    {
     "cell_type": "markdown",
     "metadata": {},
     "source": [
      "Section~\\ref{sec:efetch} talks about the Entrez EFetch interface in more detail,\n",
      "but for now let's just connect to the NCBI and get a few \\textit{Opuntia} (prickly-pear)\n",
      "sequences from GenBank using their GI numbers.\n",
      "\n",
      "First of all, let's fetch just one record.  If you don't care about the\n",
      "annotations and features downloading a FASTA file is a good choice as these\n",
      "are compact.  Now remember, when you expect the handle to contain one and\n",
      "only one record, use the __Bio.SeqIO.read()__ function:\n",
      "\n"
     ]
    },
    {
     "cell_type": "code",
     "collapsed": false,
     "input": [
      "from Bio import Entrez\n",
      "from Bio import SeqIO\n",
      "Entrez.email = \"A.N.Other@example.com\"\n",
      "handle = Entrez.efetch(db=\"nucleotide\", rettype=\"fasta\", retmode=\"text\", id=\"6273291\")\n",
      "seq_record = SeqIO.read(handle, \"fasta\")\n",
      "handle.close()\n",
      "print(\"%s with %i features\" % (seq_record.id, len(seq_record.features)))\n"
     ],
     "language": "python",
     "metadata": {},
     "outputs": [
      {
       "output_type": "stream",
       "stream": "stdout",
       "text": [
        "gi|6273291|gb|AF191665.1|AF191665 with 0 features\n"
       ]
      }
     ],
     "prompt_number": 16
    },
    {
     "cell_type": "markdown",
     "metadata": {},
     "source": [
      "The NCBI will also let you ask for the file in other formats, in particular as\n",
      "a GenBank file. Until Easter 2009, the Entrez EFetch API let you use ``genbank''\n",
      "as the return type, however the NCBI now insist on using the official\n",
      "return types of ``gb'' (or ``gp'' for proteins) as described on\n",
      "\\href{http://www.ncbi.nlm.nih.gov/entrez/query/static/efetchseq_help.html}\n",
      "{EFetch for Sequence and other Molecular Biology Databases}.\n",
      "As a result, in Biopython 1.50 onwards, we support ``gb'' as an\n",
      "alias for ``genbank'' in __Bio.SeqIO|.\n"
     ]
    },
    {
     "cell_type": "code",
     "collapsed": false,
     "input": [
      "from Bio import Entrez\n",
      "from Bio import SeqIO\n",
      "Entrez.email = \"A.N.Other@example.com\"\n",
      "handle = Entrez.efetch(db=\"nucleotide\", rettype=\"gb\", retmode=\"text\", id=\"6273291\")\n",
      "seq_record = SeqIO.read(handle, \"gb\") #using \"gb\" as an alias for \"genbank\"\n",
      "handle.close()\n",
      "print(\"%s with %i features\" % (seq_record.id, len(seq_record.features)))\n"
     ],
     "language": "python",
     "metadata": {},
     "outputs": [
      {
       "output_type": "stream",
       "stream": "stdout",
       "text": [
        "AF191665.1 with 3 features\n"
       ]
      }
     ],
     "prompt_number": 17
    },
    {
     "cell_type": "markdown",
     "metadata": {},
     "source": [
      "Notice this time we have three features.\n",
      "\n",
      "Now let's fetch several records.  This time the handle contains multiple records,\n",
      "so we must use the __Bio.SeqIO.parse()__ function:\n"
     ]
    },
    {
     "cell_type": "code",
     "collapsed": false,
     "input": [
      "from Bio import Entrez\n",
      "from Bio import SeqIO\n",
      "Entrez.email = \"A.N.Other@example.com\"\n",
      "handle = Entrez.efetch(db=\"nucleotide\", rettype=\"gb\", retmode=\"text\", id=\"6273291,6273290,6273289\")\n",
      "for seq_record in SeqIO.parse(handle, \"gb\"):\n",
      "    print seq_record.id, seq_record.description[:50] + \"...\"\n",
      "    print \"Sequence length %i,\" % len(seq_record),\n",
      "    print \"%i features,\" % len(seq_record.features),\n",
      "    print \"from: %s\" % seq_record.annotations[\"source\"]\n",
      "handle.close()\n"
     ],
     "language": "python",
     "metadata": {},
     "outputs": [
      {
       "output_type": "stream",
       "stream": "stdout",
       "text": [
        "AF191665.1 Opuntia marenae rpl16 gene; chloroplast gene for c...\n",
        "Sequence length 902, 3 features, from: chloroplast Corynopuntia marenae\n",
        "AF191664.1 Opuntia clavata rpl16 gene; chloroplast gene for c...\n",
        "Sequence length 899, 3 features, from: chloroplast Grusonia clavata\n",
        "AF191663.1 Opuntia bradtiana rpl16 gene; chloroplast gene for...\n",
        "Sequence length 899, 3 features, from: chloroplast Grusonia bradtiana\n"
       ]
      }
     ],
     "prompt_number": 2
    },
    {
     "cell_type": "heading",
     "level": 3,
     "metadata": {},
     "source": [
      "Parsing SwissProt sequences from the net"
     ]
    },
    {
     "cell_type": "markdown",
     "metadata": {},
     "source": [
      "Now let's use a handle to download a SwissProt file from ExPASy,\n",
      "something covered in more depth in Chapter~\\ref{chapter:swiss_prot}.\n",
      "As mentioned above, when you expect the handle to contain one and only one record,\n",
      "use the __Bio.SeqIO.read()__ function:\n",
      "\n"
     ]
    },
    {
     "cell_type": "code",
     "collapsed": false,
     "input": [
      "from Bio import ExPASy\n",
      "from Bio import SeqIO\n",
      "handle = ExPASy.get_sprot_raw(\"O23729\")\n",
      "seq_record = SeqIO.read(handle, \"swiss\")\n",
      "handle.close()\n",
      "print(seq_record.id)\n",
      "print(seq_record.name)\n",
      "print(seq_record.description)\n",
      "print(repr(seq_record.seq))\n",
      "print(\"Length %i\" % len(seq_record))\n",
      "print(seq_record.annotations[\"keywords\"])\n"
     ],
     "language": "python",
     "metadata": {},
     "outputs": []
    },
    {
     "cell_type": "heading",
     "level": 2,
     "metadata": {},
     "source": [
      "Sequence files as dictionaries"
     ]
    },
    {
     "cell_type": "markdown",
     "metadata": {},
     "source": [
      "We're now going to introduce three related functions in the __Bio.SeqIO|\n",
      "module which allow dictionary like random access to a multi-sequence file.\n",
      "There is a trade off here between flexibility and memory usage. In summary:\n",
      "\n",
      "- __Bio.SeqIO.to_dict()__ is the most flexible but also the most\n",
      "memory demanding option (see Section~\\ref{SeqIO:to_dict}). This is basically\n",
      "a helper function to build a normal Python __dictionary__ with each entry\n",
      "held as a __SeqRecord__ object in memory, allowing you to modify the\n",
      "records.\n",
      "- __Bio.SeqIO.index()__ is a useful middle ground, acting like a\n",
      "read only dictionary and parsing sequences into __SeqRecord__ objects\n",
      "on demand (see Section~\\ref{sec:SeqIO-index}).\n",
      "- __Bio.SeqIO.index_db()__ also acts like a read only dictionary\n",
      "but stores the identifiers and file offsets in a file on disk (as an\n",
      "SQLite3 database), meaning it has very low memory requirements (see\n",
      "Section~\\ref{sec:SeqIO-index-db}), but will be a little bit slower.\n",
      "\n",
      "See the discussion for an broad overview (Section~\\ref{sec:SeqIO-indexing-discussion}).\n"
     ]
    },
    {
     "cell_type": "heading",
     "level": 3,
     "metadata": {},
     "source": [
      "Sequence files as Dictionaries -- In memory"
     ]
    },
    {
     "cell_type": "markdown",
     "metadata": {},
     "source": [
      "The next thing that we'll do with our ubiquitous orchid files is to show how\n",
      "to index them and access them like a database using the Python __dictionary|\n",
      "data type (like a hash in Perl). This is very useful for moderately large files\n",
      "where you only need to access certain elements of the file, and makes for a nice\n",
      "quick 'n dirty database. For dealing with larger files where memory becomes a\n",
      "problem, see Section~\\ref{sec:SeqIO-index} below.\n",
      "\n",
      "You can use the function __Bio.SeqIO.to_dict()__ to make a SeqRecord dictionary\n",
      "(in memory).  By default this will use each record's identifier (i.e. the __.id|\n",
      "attribute) as the key.  Let's try this using our GenBank file:\n"
     ]
    },
    {
     "cell_type": "code",
     "collapsed": false,
     "input": [
      "from Bio import SeqIO\n",
      "orchid_dict = SeqIO.to_dict(SeqIO.parse(\"data/ls_orchid.gbk\", \"genbank\"))\n"
     ],
     "language": "python",
     "metadata": {},
     "outputs": [],
     "prompt_number": 23
    },
    {
     "cell_type": "markdown",
     "metadata": {},
     "source": [
      "There is just one required argument for __Bio.SeqIO.to_dict()|, a list or\n",
      "generator giving __SeqRecord__ objects. Here we have just used the output\n",
      "from the __SeqIO.parse__ function. As the name suggests, this returns a\n",
      "Python dictionary.\n",
      "\n",
      "Since this variable __orchid_dict__ is an ordinary Python dictionary, we can look at all of the keys we have available:\n",
      "\n"
     ]
    },
    {
     "cell_type": "code",
     "collapsed": false,
     "input": [
      "len(orchid_dict)\n",
      "94\n",
      "#\\n%Can't use following for doctest due to abbreviation\n",
      "#\\norchid_dict.keys()\n",
      "#['Z78484.1', 'Z78464.1', 'Z78455.1', 'Z78442.1', 'Z78532.1', 'Z78453.1', ..., 'Z78471.1']\n"
     ],
     "language": "python",
     "metadata": {},
     "outputs": [
      {
       "metadata": {},
       "output_type": "pyout",
       "prompt_number": 24,
       "text": [
        "94"
       ]
      }
     ],
     "prompt_number": 24
    },
    {
     "cell_type": "markdown",
     "metadata": {},
     "source": [
      "If you really want to, you can even look at all the records at once:\n"
     ]
    },
    {
     "cell_type": "code",
     "collapsed": false,
     "input": [
      "orchid_dict.values() #lots of output!\n"
     ],
     "language": "python",
     "metadata": {},
     "outputs": [
      {
       "metadata": {},
       "output_type": "pyout",
       "prompt_number": 26,
       "text": [
        "[SeqRecord(seq=Seq('CGTAACAAGGTTTCCGTAGGTGAACCTGGGGAAGGATCATTGTTGAGATCACAT...TTT', IUPACAmbiguousDNA()), id='Z78484.1', name='Z78484', description='P.charlesworthii 5.8S rRNA gene and ITS1 and ITS2 DNA.', dbxrefs=[]),\n",
        " SeqRecord(seq=Seq('CGTAACAAGGTTTCCGTAGGTGAGCGGAAGGGTCATTGTTGAGATCACATAATA...AGC', IUPACAmbiguousDNA()), id='Z78464.1', name='Z78464', description='P.glanduliferum 5.8S rRNA gene and ITS1 and ITS2 DNA.', dbxrefs=[]),\n",
        " SeqRecord(seq=Seq('CGTAACCAGGTTTCCGTAGGTGGACCTTCGGGAGGATCATTTTTGAGATCACAT...GCA', IUPACAmbiguousDNA()), id='Z78455.1', name='Z78455', description='P.javanicum 5.8S rRNA gene and ITS1 and ITS2 DNA.', dbxrefs=[]),\n",
        " SeqRecord(seq=Seq('GTAGGTGAACCTGCGGAAGGATCATTGTTGAGATCACATAATAATTGATCGAGT...AGT', IUPACAmbiguousDNA()), id='Z78442.1', name='Z78442', description='P.bullenianum 5.8S rRNA gene and ITS1 and ITS2 DNA.', dbxrefs=[]),\n",
        " SeqRecord(seq=Seq('CGTAACAAGGTTTCCGTAGGTGAACCTGCGGAAGGATCATTGTTGAGACAACAG...GGC', IUPACAmbiguousDNA()), id='Z78532.1', name='Z78532', description='C.californicum 5.8S rRNA gene and ITS1 and ITS2 DNA.', dbxrefs=[]),\n",
        " SeqRecord(seq=Seq('CGTAACAAGGTTTCCGTAGGTGAACCTGCGGAAGGATCATTGTTGAGATCACAT...GCA', IUPACAmbiguousDNA()), id='Z78453.1', name='Z78453', description='P.schoseri 5.8S rRNA gene and ITS1 and ITS2 DNA.', dbxrefs=[]),\n",
        " SeqRecord(seq=Seq('GGAAGGTCATTGCCGATATCACATAATAATTGATCGAGTTAATCTGGAGGATCT...GAG', IUPACAmbiguousDNA()), id='Z78441.1', name='Z78441', description='P.superbiens 5.8S rRNA gene and ITS1 and ITS2 DNA.', dbxrefs=[]),\n",
        " SeqRecord(seq=Seq('CGTAACAAGGTTTCCGTAGGGTGAACTGCGGAAGGATCATTGTTGAGATCACAT...ATT', IUPACAmbiguousDNA()), id='Z78444.1', name='Z78444', description='P.appletonianum 5.8S rRNA gene and ITS1 and ITS2 DNA.', dbxrefs=[]),\n",
        " SeqRecord(seq=Seq('ACGGCGAGCTGCCGAAGGACATTGTTGAGACAGCAGAATATACGATTGAGTGAA...AAA', IUPACAmbiguousDNA()), id='Z78529.1', name='Z78529', description='C.lichiangense 5.8S rRNA gene and ITS1 and ITS2 DNA.', dbxrefs=[]),\n",
        " SeqRecord(seq=Seq('CGTAACAAGGTTTCCGTAGGTGAACCTGCGGAAGGATCATTGTTGAGACCGCCA...TTT', IUPACAmbiguousDNA()), id='Z78505.1', name='Z78505', description='P.sargentianum 5.8S rRNA gene and ITS1 and ITS2 DNA.', dbxrefs=[]),\n",
        " SeqRecord(seq=Seq('CGTAACAAGGTTTCCGTAGGTGAACCTGCGGAAGGATCATTGTTGAGATCACAT...AGG', IUPACAmbiguousDNA()), id='Z78443.1', name='Z78443', description='P.lawrenceanum 5.8S rRNA gene and ITS1 and ITS2 DNA.', dbxrefs=[]),\n",
        " SeqRecord(seq=Seq('CGTAACAAGGTTTCCGTAGGTGAACCTGCGGAAGGATCATTGTTGAGACAGCAG...TAA', IUPACAmbiguousDNA()), id='Z78531.1', name='Z78531', description='C.fasciculatum 5.8S rRNA gene and ITS1 and ITS2 DNA.', dbxrefs=[]),\n",
        " SeqRecord(seq=Seq('CGTAACAAGGTTTCCGTAGGTGAACCTCCGGAAGGATCATTGTTGAGATCACAT...CCC', IUPACAmbiguousDNA()), id='Z78446.1', name='Z78446', description='P.acmodontum 5.8S rRNA gene and ITS1 and ITS2 DNA.', dbxrefs=[]),\n",
        " SeqRecord(seq=Seq('CGTAACAAGGTTTCCGTAGGTGAACCTGCGGAAGGATCATTGTTGAGATCACAT...TGC', IUPACAmbiguousDNA()), id='Z78449.1', name='Z78449', description='P.mastersianum 5.8S rRNA gene and ITS1 and ITS2 DNA.', dbxrefs=[]),\n",
        " SeqRecord(seq=Seq('CTGTAGGTGAACCTGCGGAAGGATCATTGTTGAGATCACGCAATAATTGATCGA...GCT', IUPACAmbiguousDNA()), id='Z78488.1', name='Z78488', description='P.tigrinum 5.8S rRNA gene and ITS1 and ITS2 DNA.', dbxrefs=[]),\n",
        " SeqRecord(seq=Seq('CGTAACAAGGTTTCCGTAGGTGAACCTGCGGAAGGATCATTGTTGAGATCACAT...TGA', IUPACAmbiguousDNA()), id='Z78467.1', name='Z78467', description='P.stonei 5.8S rRNA gene and ITS1 and ITS2 DNA.', dbxrefs=[]),\n",
        " SeqRecord(seq=Seq('CGTCACGAGGTCTCCGGATGTGACCCTGCGGAAGGATCATTGTTGAGATCACAT...CAT', IUPACAmbiguousDNA()), id='Z78462.1', name='Z78462', description='P.sukhakulii 5.8S rRNA gene and ITS1 and ITS2 DNA.', dbxrefs=[]),\n",
        " SeqRecord(seq=Seq('CGTAACAAGGTTTCCGTAGGTGAACCTGCGGAAGGATCATTGTTGAGATCGCAT...AGC', IUPACAmbiguousDNA()), id='Z78496.1', name='Z78496', description='P.armeniacum 5.8S rRNA gene and ITS1 and ITS2 DNA.', dbxrefs=[]),\n",
        " SeqRecord(seq=Seq('CGTAACAAGGTTTCCGTAGGTGAACCTGCGGGAGGATCATTGTTGAGATAGTAG...TCC', IUPACAmbiguousDNA()), id='Z78518.1', name='Z78518', description='C.reginae 5.8S rRNA gene and ITS1 and ITS2 DNA.', dbxrefs=[]),\n",
        " SeqRecord(seq=Seq('CGTAACCAGGTTTCCGTAGGTGAACCTGCGGCAGGATCATTGTTGAGACAGCAG...AAG', IUPACAmbiguousDNA()), id='Z78523.1', name='Z78523', description='C.himalaicum 5.8S rRNA gene and ITS1 and ITS2 DNA.', dbxrefs=[]),\n",
        " SeqRecord(seq=Seq('CGTAACAAGGTTTCCGTAGGTGAACCTGCGGAAGGATCATTGTTGAGGTCGCAT...AAG', IUPACAmbiguousDNA()), id='Z78494.1', name='Z78494', description='P.niveum 5.8S rRNA gene and ITS1 and ITS2 DNA.', dbxrefs=[]),\n",
        " SeqRecord(seq=Seq('GTAGGTGAACCTGCGGAAGGATCATTGTTGAGACAGTAGAATATATGATCGAGT...ACC', IUPACAmbiguousDNA()), id='Z78521.1', name='Z78521', description='C.calceolus 5.8S rRNA gene and ITS1 and ITS2 DNA.', dbxrefs=[]),\n",
        " SeqRecord(seq=Seq('CGTAACAAGGTTTCCGTAGGTGAACCTGCGGAAGGATCATTGTTGAGACAGTAT...TAA', IUPACAmbiguousDNA()), id='Z78516.1', name='Z78516', description='C.passerinum 5.8S rRNA gene and ITS1 and ITS2 DNA.', dbxrefs=[]),\n",
        " SeqRecord(seq=Seq('CGTAACAAGGTTTCCGTAGGTGAACCTGCGGAAGGATCATTGTTGAGACAGTAG...CCC', IUPACAmbiguousDNA()), id='Z78527.1', name='Z78527', description='C.yatabeanum 5.8S rRNA gene and ITS1 and ITS2 DNA.', dbxrefs=[]),\n",
        " SeqRecord(seq=Seq('CGTAACAAGGTTTCCGTAGGTGAACCTCCGGAAGGATCATTGTTGAGATCACAT...GAG', IUPACAmbiguousDNA()), id='Z78457.1', name='Z78457', description='P.callosum 5.8S rRNA gene and ITS1 and ITS2 DNA.', dbxrefs=[]),\n",
        " SeqRecord(seq=Seq('CGTAACAAGGTTTCCGTAGGTGAACCTGCGGAAGGATCATTGTTGAGATCACAT...TGA', IUPACAmbiguousDNA()), id='Z78481.1', name='Z78481', description='P.insigne 5.8S rRNA gene and ITS1 and ITS2 DNA.', dbxrefs=[]),\n",
        " SeqRecord(seq=Seq('CGTAACAAGGTTTCCGTAGGTGAACCTGCGGAAGGATCATTGTTGAGATCACAT...GCA', IUPACAmbiguousDNA()), id='Z78483.1', name='Z78483', description='P.villosum 5.8S rRNA gene and ITS1 and ITS2 DNA.', dbxrefs=[]),\n",
        " SeqRecord(seq=Seq('CATTGTTGAGATCACATAATAATTGATCGAGTTAATCTGGAGGATCTGTTTACT...GCC', IUPACAmbiguousDNA()), id='Z78439.1', name='Z78439', description='P.barbatum 5.8S rRNA gene and ITS1 and ITS2 DNA.', dbxrefs=[]),\n",
        " SeqRecord(seq=Seq('CGTAACAAGGTTTCCGTAGGTGGACCTCCGGGAGGATCATTGTTGAGATCACAT...GCA', IUPACAmbiguousDNA()), id='Z78440.1', name='Z78440', description='P.purpuratum 5.8S rRNA gene and ITS1 and ITS2 DNA.', dbxrefs=[]),\n",
        " SeqRecord(seq=Seq('CGTAACAAGGTTTCCGTAGGTGAACCTGCGGAAGGATCATTGTTGAAACAACAT...CAT', IUPACAmbiguousDNA()), id='Z78530.1', name='Z78530', description='C.margaritaceum 5.8S rRNA gene and ITS1 and ITS2 DNA.', dbxrefs=[]),\n",
        " SeqRecord(seq=Seq('CGTAACAAGGTTTCCGTAGGTGAACCTGCGGAAGGATCATTGTTGAGATCACAT...AGG', IUPACAmbiguousDNA()), id='Z78448.1', name='Z78448', description='P.argus 5.8S rRNA gene and ITS1 and ITS2 DNA.', dbxrefs=[]),\n",
        " SeqRecord(seq=Seq('CGTAACAAGGTTTCCGTAGGTGAACCTTCGGAAGGATCATTGTTGAGACCCCCA...GGA', IUPACAmbiguousDNA()), id='Z78511.1', name='Z78511', description='P.exstaminodium 5.8S rRNA gene and ITS1 and ITS2 DNA.', dbxrefs=[]),\n",
        " SeqRecord(seq=Seq('CGTAACAAGGTTTCCGTAGGTGAACCTGCGGAAGGATCATTGTTGAGATCACAT...AGC', IUPACAmbiguousDNA()), id='Z78497.1', name='Z78497', description='P.delenatii 5.8S rRNA gene and ITS1 and ITS2 DNA.', dbxrefs=[]),\n",
        " SeqRecord(seq=Seq('ATATGATCGAGTGAATCTGGTGGACTTGTGGTTACTCAGCTCGCCATAGGCTTT...TTA', IUPACAmbiguousDNA()), id='Z78519.1', name='Z78519', description='C.pubescens 5.8S rRNA gene and ITS1 and ITS2 DNA.', dbxrefs=[]),\n",
        " SeqRecord(seq=Seq('CGTAACAAGGTTTCCGTAGGTGAACCTCCGGAAGGATCATTGTTGAGATCACAT...GTG', IUPACAmbiguousDNA()), id='Z78495.1', name='Z78495', description='P.emersonii 5.8S rRNA gene and ITS1 and ITS2 DNA.', dbxrefs=[]),\n",
        " SeqRecord(seq=Seq('CGTAACAAGGTTTCCGTAGGTGAACCTGCGGAAGGATCATTGTTGAGATCACAT...AGC', IUPACAmbiguousDNA()), id='Z78472.1', name='Z78472', description='P.lowii 5.8S rRNA gene and ITS1 and ITS2 DNA.', dbxrefs=[]),\n",
        " SeqRecord(seq=Seq('CGTAACAAGGTTTCCGTAGGTGAACCTGCGGAAGGATCATTGTTGAGATCACAT...TGA', IUPACAmbiguousDNA()), id='Z78480.1', name='Z78480', description='P.gratrixianum 5.8S rRNA gene and ITS1 and ITS2 DNA.', dbxrefs=[]),\n",
        " SeqRecord(seq=Seq('TCTACTGCAGTGACCGAGATTTGCCATCGAGCCTCCTGGGAGCTTTCTTGCTGG...GCA', IUPACAmbiguousDNA()), id='Z78482.1', name='Z78482', description='P.exul 5.8S rRNA gene and ITS1 and ITS2 DNA.', dbxrefs=[]),\n",
        " SeqRecord(seq=Seq('CGTAACAAGGTTTCCGTAGGTGAACCTGCGGAAGGATCATTGTTGAGATCACAT...CCC', IUPACAmbiguousDNA()), id='Z78466.1', name='Z78466', description='P.philippinense 5.8S rRNA gene and ITS1 and ITS2 DNA.', dbxrefs=[]),\n",
        " SeqRecord(seq=Seq('CGTAACAAGGTTTCCGTAGGTGAACCTGCGGAAGGATCATTGTTGAGATCACGT...CTT', IUPACAmbiguousDNA()), id='Z78474.1', name='Z78474', description='P.kolopakingii 5.8S rRNA gene and ITS1 and ITS2 DNA.', dbxrefs=[]),\n",
        " SeqRecord(seq=Seq('CGTAACAAGGTTTCCGTAGGTGAACCTGCGGAAGGCTCATTGTTGAGACCGCAA...AAG', IUPACAmbiguousDNA()), id='Z78500.1', name='Z78500', description='P.warszewiczianum 5.8S rRNA gene and ITS1 and ITS2 DNA.', dbxrefs=[]),\n",
        " SeqRecord(seq=Seq('CGTAACAAGGTTTCCGTAGGTGAACCTGCGGAAGGATCATTGTTGAGATCGCAT...AGC', IUPACAmbiguousDNA()), id='Z78491.1', name='Z78491', description='P.concolor 5.8S rRNA gene and ITS1 and ITS2 DNA.', dbxrefs=[]),\n",
        " SeqRecord(seq=Seq('CGTAACCAGGTTTCCGTAGGTGAACCTCCGGAAGGATCATTGTTGAGACCGCCA...CGC', IUPACAmbiguousDNA()), id='Z78502.1', name='Z78502', description='P.boissierianum 5.8S rRNA gene and ITS1 and ITS2 DNA.', dbxrefs=[]),\n",
        " SeqRecord(seq=Seq('CGTAACAAGGTTTCCGTAGGTGAACCTCCGGAAGGATCATTGTTGAGATCACAT...TAA', IUPACAmbiguousDNA()), id='Z78461.1', name='Z78461', description='P.wardii 5.8S rRNA gene and ITS1 and ITS2 DNA.', dbxrefs=[]),\n",
        " SeqRecord(seq=Seq('CGTAACAAGGTTTCCGTAGGTGAACCTGCGGAAGGATCATTGTTGAGATCACAT...TGA', IUPACAmbiguousDNA()), id='Z78490.1', name='Z78490', description='P.fairrieanum 5.8S rRNA gene and ITS1 and ITS2 DNA.', dbxrefs=[]),\n",
        " SeqRecord(seq=Seq('CGTAACAAGGTTTCCGTAGGTGAACCTGCGGAAGGATCATTGTTGAGATCACAT...CCC', IUPACAmbiguousDNA()), id='Z78476.1', name='Z78476', description='P.glaucophyllum 5.8S rRNA gene and ITS1 and ITS2 DNA.', dbxrefs=[]),\n",
        " SeqRecord(seq=Seq('CGTAACAAGGTTTCCGTAGGTGAACCTCCGGAAGGATCAGTGTTGAGATCACAT...GGC', IUPACAmbiguousDNA()), id='Z78478.1', name='Z78478', description='P.victoria 5.8S rRNA gene and ITS1 and ITS2 DNA.', dbxrefs=[]),\n",
        " SeqRecord(seq=Seq('CGTAACAAGGTTTCCGTAGGTGAACCTGCGGAAGGATCATTGTTGAGATAGTAG...AGC', IUPACAmbiguousDNA()), id='Z78524.1', name='Z78524', description='C.formosanum 5.8S rRNA gene and ITS1 and ITS2 DNA.', dbxrefs=[]),\n",
        " SeqRecord(seq=Seq('CGTAACAAGGTTTCCGTAGGTGAACCTGCGGAAGGATCATTGTTGAGACCGCCA...TGA', IUPACAmbiguousDNA()), id='Z78508.1', name='Z78508', description='P.longifolium 5.8S rRNA gene and ITS1 and ITS2 DNA.', dbxrefs=[]),\n",
        " SeqRecord(seq=Seq('CGTAACAAGGTTTCCGTAGGTGAACCTGCGGAAAGGTCATTGTTGAGATCACAT...AGC', IUPACAmbiguousDNA()), id='Z78498.1', name='Z78498', description='P.malipoense 5.8S rRNA gene and ITS1 and ITS2 DNA.', dbxrefs=[]),\n",
        " SeqRecord(seq=Seq('CGTAACAAGGTTTCCGTAGGTGAACCTGCGGAAGGATCATTGTTGAGACCGCCA...GAG', IUPACAmbiguousDNA()), id='Z78513.1', name='Z78513', description='P.besseae 5.8S rRNA gene and ITS1 and ITS2 DNA.', dbxrefs=[]),\n",
        " SeqRecord(seq=Seq('CGTAACAAGGTTTCCGTAGGTGAACCTGCGGAAGGATCATTGTTGAGATCACAT...GTT', IUPACAmbiguousDNA()), id='Z78470.1', name='Z78470', description='P.parishii 5.8S rRNA gene and ITS1 and ITS2 DNA.', dbxrefs=[]),\n",
        " SeqRecord(seq=Seq('CGTCACGAGGTTTCCGTAGGTGAATCTGCGGGAGGATCATTGTTGAGATCACAT...TGA', IUPACAmbiguousDNA()), id='Z78486.1', name='Z78486', description='P.barbigerum 5.8S rRNA gene and ITS1 and ITS2 DNA.', dbxrefs=[]),\n",
        " SeqRecord(seq=Seq('CGTAACAAGGTTTCCGTAGGTGAACCTGCGGAAGGATCATTGTTGAGATCACAT...TTG', IUPACAmbiguousDNA()), id='Z78458.1', name='Z78458', description='P.hennisianum 5.8S rRNA gene and ITS1 and ITS2 DNA.', dbxrefs=[]),\n",
        " SeqRecord(seq=Seq('CGTAACAAGGTTTCCGTAGGTGAACCTGCGGAAGGATCATTGTTGAGATCGCAT...GTT', IUPACAmbiguousDNA()), id='Z78468.1', name='Z78468', description='P.adductum 5.8S rRNA gene and ITS1 and ITS2 DNA.', dbxrefs=[]),\n",
        " SeqRecord(seq=Seq('CGTAACAAGGTTTCCGTAGGTGAACCTGCGGAAGGATCATTGTTGAGATCACAT...AAC', IUPACAmbiguousDNA()), id='Z78454.1', name='Z78454', description='P.fowliei 5.8S rRNA gene and ITS1 and ITS2 DNA.', dbxrefs=[]),\n",
        " SeqRecord(seq=Seq('CGTAACAAGGTTTCCGTAGGTGAACCTGCGGAAGGATCATTGTTGAGATCACAT...TAA', IUPACAmbiguousDNA()), id='Z78487.1', name='Z78487', description='P.hirsutissimum 5.8S rRNA gene and ITS1 and ITS2 DNA.', dbxrefs=[]),\n",
        " SeqRecord(seq=Seq('CGTAACAAGGTTTCCGTAGGTGAACCTGCGGAAGGATCATTGTTGAGATCACAT...AGG', IUPACAmbiguousDNA()), id='Z78473.1', name='Z78473', description='P.sanderianum 5.8S rRNA gene and ITS1 and ITS2 DNA.', dbxrefs=[]),\n",
        " SeqRecord(seq=Seq('CGTAACAAGGTTTCCGTAGGTGAACCTGCGGAAGGATCATTGTTGAGATCACAT...TGC', IUPACAmbiguousDNA()), id='Z78465.1', name='Z78465', description='P.rothschildianum 5.8S rRNA gene and ITS1 and ITS2 DNA.', dbxrefs=[]),\n",
        " SeqRecord(seq=Seq('CGTAACAAGGTTTCCGTAGGTGAACCTGCGGAAGGATCATTGTTGAGACCCCCA...TGA', IUPACAmbiguousDNA()), id='Z78507.1', name='Z78507', description='P.lindenii 5.8S rRNA gene and ITS1 and ITS2 DNA.', dbxrefs=[]),\n",
        " SeqRecord(seq=Seq('CGTAACAAGGTTTCCGTAGGTGAACCTGCGGAAGGATCATTGTTGAGATCACAT...GGT', IUPACAmbiguousDNA()), id='Z78475.1', name='Z78475', description='P.supardii 5.8S rRNA gene and ITS1 and ITS2 DNA.', dbxrefs=[]),\n",
        " SeqRecord(seq=Seq('CGTAACAAGGTTTCCGTAGGTGAACCTTCGGAAGGATCATTGTTGAGACCGCAA...TAA', IUPACAmbiguousDNA()), id='Z78504.1', name='Z78504', description='P.kaiteurum 5.8S rRNA gene and ITS1 and ITS2 DNA.', dbxrefs=[]),\n",
        " SeqRecord(seq=Seq('CGTAACAAGGTTTCCGTAGGTGAACCTGCGGAAGGATCATTGATGAGACCGTGG...CGC', IUPACAmbiguousDNA()), id='Z78533.1', name='Z78533', description='C.irapeanum 5.8S rRNA gene and ITS1 and ITS2 DNA.', dbxrefs=[]),\n",
        " SeqRecord(seq=Seq('CGTAACAAGGTTTCCGTAGGTGAACCTGCGGAAGGATCATTGTTGAGATCACAT...GCA', IUPACAmbiguousDNA()), id='Z78452.1', name='Z78452', description='P.bougainvilleanum 5.8S rRNA gene and ITS1 and ITS2 DNA.', dbxrefs=[]),\n",
        " SeqRecord(seq=Seq('CTAACCAGGGTTCCGAGGTGACCTTCGGGAGGATTCCTTTTTAAGCCCCCGAAA...TTA', IUPACAmbiguousDNA()), id='Z78510.1', name='Z78510', description='P.caricinum 5.8S rRNA gene and ITS1 and ITS2 DNA.', dbxrefs=[]),\n",
        " SeqRecord(seq=Seq('CGTAACAAGGTTTCCGTAGGTGAACCTGCGGAAGGATCATTGTTGAGACCGCAA...AGA', IUPACAmbiguousDNA()), id='Z78501.1', name='Z78501', description='P.caudatum 5.8S rRNA gene and ITS1 and ITS2 DNA.', dbxrefs=[]),\n",
        " SeqRecord(seq=Seq('CGTAACAAGGTTTCCGTAGGTGAACCTGCGGAAGGATCATTGTTGAGATCACAT...TGT', IUPACAmbiguousDNA()), id='Z78445.1', name='Z78445', description='P.urbanianum 5.8S rRNA gene and ITS1 and ITS2 DNA.', dbxrefs=[]),\n",
        " SeqRecord(seq=Seq('CGTAACAAGGTTTCCGTAGGTGAACCTGCGGAAGGATCATTGTTGAGACCGCAA...TGA', IUPACAmbiguousDNA()), id='Z78506.1', name='Z78506', description='P.lindleyanum 5.8S rRNA gene and ITS1 and ITS2 DNA.', dbxrefs=[]),\n",
        " SeqRecord(seq=Seq('CGTAACCAGGTTTCCGTAGGTGAACCTCCGGAAGGATCCTTGTTGAGACCGCCA...TAA', IUPACAmbiguousDNA()), id='Z78503.1', name='Z78503', description='P.czerwiakowianum 5.8S rRNA gene and ITS1 and ITS2 DNA.', dbxrefs=[]),\n",
        " SeqRecord(seq=Seq('CGTAACAAGGTTTCCGTAGGTGTACCTCCGGAAGGATCATTGTTGAGATCACAT...AGC', IUPACAmbiguousDNA()), id='Z78451.1', name='Z78451', description='P.hookerae 5.8S rRNA gene and ITS1 and ITS2 DNA.', dbxrefs=[]),\n",
        " SeqRecord(seq=Seq('CGTAACAAGGTTTCCGTAGGTGAACCTGCGGAAGGTTCATTGTTGAGATCACAT...AGC', IUPACAmbiguousDNA()), id='Z78463.1', name='Z78463', description='P.glanduliferum 5.8S rRNA gene and ITS1 and ITS2 DNA.', dbxrefs=[]),\n",
        " SeqRecord(seq=Seq('CGTAACAAGGATTCCGTAGGTGAACCTGCGGGAGGATCATTGTTGAGATCACAT...AGC', IUPACAmbiguousDNA()), id='Z78447.1', name='Z78447', description='P.venustum 5.8S rRNA gene and ITS1 and ITS2 DNA.', dbxrefs=[]),\n",
        " SeqRecord(seq=Seq('CGTAACAAGGTTTCCGTAGGTGAACCTGCGGAAGGATCATTGTTGAGATCGCAT...ATA', IUPACAmbiguousDNA()), id='Z78492.1', name='Z78492', description='P.bellatulum 5.8S rRNA gene and ITS1 and ITS2 DNA.', dbxrefs=[]),\n",
        " SeqRecord(seq=Seq('CGTAACAAGGTTTCCGTAGGTGAACCTGCGGAAGGATCATTGTTGAGATCACAT...GGC', IUPACAmbiguousDNA()), id='Z78489.1', name='Z78489', description='P.druryi 5.8S rRNA gene and ITS1 and ITS2 DNA.', dbxrefs=[]),\n",
        " SeqRecord(seq=Seq('CGTAACAAGGTTTCCGTAGGTGAACCTGCGGAAGGATCATTGTTGAGACAGCAG...GAG', IUPACAmbiguousDNA()), id='Z78522.1', name='Z78522', description='C.macranthum 5.8S rRNA gene and ITS1 and ITS2 DNA.', dbxrefs=[]),\n",
        " SeqRecord(seq=Seq('CGTAACAAGGATTCCGTAGGTGAACCTGCGGAAGGATCATTGTTGAGATCGCAT...CCC', IUPACAmbiguousDNA()), id='Z78493.1', name='Z78493', description='P.godefroyae 5.8S rRNA gene and ITS1 and ITS2 DNA.', dbxrefs=[]),\n",
        " SeqRecord(seq=Seq('CGTAACAAGGTTTCCGTAGGTGAACCTGCGGAAGGATCATTGTTGAGATCACAT...TGC', IUPACAmbiguousDNA()), id='Z78477.1', name='Z78477', description='P.victoria 5.8S rRNA gene and ITS1 and ITS2 DNA.', dbxrefs=[]),\n",
        " SeqRecord(seq=Seq('CGTAACAAGGTTTCCGTAGGTGAACCTCCGGAAGGATCATTGTTGAGATCACAT...TTA', IUPACAmbiguousDNA()), id='Z78460.1', name='Z78460', description='P.ciliolare 5.8S rRNA gene and ITS1 and ITS2 DNA.', dbxrefs=[]),\n",
        " SeqRecord(seq=Seq('GGAAGGATCATTGCTGATATCACATAATAATTGATCGAGTTAAGCTGGAGGATC...GAG', IUPACAmbiguousDNA()), id='Z78450.1', name='Z78450', description='P.papuanum 5.8S rRNA gene and ITS1 and ITS2 DNA.', dbxrefs=[]),\n",
        " SeqRecord(seq=Seq('CGTAACAAGGTTTCCGTAGGTGAACCTGCGGAAGGATCATTGTTGAGACAGCAG...TTT', IUPACAmbiguousDNA()), id='Z78520.1', name='Z78520', description='C.segawai 5.8S rRNA gene and ITS1 and ITS2 DNA.', dbxrefs=[]),\n",
        " SeqRecord(seq=Seq('CGTAACAAGGTTTCCGTAGGTGGACCTTCGGGAGGATCATTTTTGAAGCCCCCA...CTA', IUPACAmbiguousDNA()), id='Z78514.1', name='Z78514', description='P.schlimii 5.8S rRNA gene and ITS1 and ITS2 DNA.', dbxrefs=[]),\n",
        " SeqRecord(seq=Seq('TGTTGAGATAGCAGAATATACATCGAGTGAATCCGGAGGACCTGTGGTTATTCG...GCA', IUPACAmbiguousDNA()), id='Z78525.1', name='Z78525', description='C.acaule 5.8S rRNA gene and ITS1 and ITS2 DNA.', dbxrefs=[]),\n",
        " SeqRecord(seq=Seq('CGTAACAAGGTTTCCGTAGGTGAACCTGCGGAAGGATCATTGTTGAGACCGCCA...GGA', IUPACAmbiguousDNA()), id='Z78509.1', name='Z78509', description='P.pearcei 5.8S rRNA gene and ITS1 and ITS2 DNA.', dbxrefs=[]),\n",
        " SeqRecord(seq=Seq('CGTAACAAGGTTTCCGTAGGTGAACCTGCGGAAGGATCATTGTTGAGACAGTAG...AGC', IUPACAmbiguousDNA()), id='Z78517.1', name='Z78517', description='C.flavum 5.8S rRNA gene and ITS1 and ITS2 DNA.', dbxrefs=[]),\n",
        " SeqRecord(seq=Seq('CGTAACAAGGTTTCCGTAGGTGGACCTTCGGGAGGATCATTTTTGAAGCCCCCA...AGC', IUPACAmbiguousDNA()), id='Z78512.1', name='Z78512', description='P.wallisii 5.8S rRNA gene and ITS1 and ITS2 DNA.', dbxrefs=[]),\n",
        " SeqRecord(seq=Seq('CGTAACAAGGTTTCCGTAGGTGAACCTGCGGAAGGATCATTGTTGAGATCACAT...AGT', IUPACAmbiguousDNA()), id='Z78479.1', name='Z78479', description='P.primulinum 5.8S rRNA gene and ITS1 and ITS2 DNA.', dbxrefs=[]),\n",
        " SeqRecord(seq=Seq('CGTAACAAGGTTTCCGTAGGTGAACCTGCGGAAGGATCATTGCTGAGACCGTAG...AGC', IUPACAmbiguousDNA()), id='Z78515.1', name='Z78515', description='M.xerophyticum 5.8S rRNA gene and ITS1 and ITS2 DNA.', dbxrefs=[]),\n",
        " SeqRecord(seq=Seq('CGTAACAAGGTTTCCGTAGGTGAACCTGCGGAGGGATCATTGTTGAGATCGCAT...ACC', IUPACAmbiguousDNA()), id='Z78499.1', name='Z78499', description='P.micranthum 5.8S rRNA gene and ITS1 and ITS2 DNA.', dbxrefs=[]),\n",
        " SeqRecord(seq=Seq('CGTAACAAGGTTTCCGTAGGTGAACCTGCGGAAGGATCATTGTTGAGACAGTAG...TGT', IUPACAmbiguousDNA()), id='Z78526.1', name='Z78526', description='C.guttatum 5.8S rRNA gene and ITS1 and ITS2 DNA.', dbxrefs=[]),\n",
        " SeqRecord(seq=Seq('CGTAACAAGGTTTCCGTAGGTGAACCTGCGGAAGGATCATTGTTGAGATCACAT...TTT', IUPACAmbiguousDNA()), id='Z78459.1', name='Z78459', description='P.dayanum 5.8S rRNA gene and ITS1 and ITS2 DNA.', dbxrefs=[]),\n",
        " SeqRecord(seq=Seq('CGTAACAAGGTTTCCGTAGGTGAACCTGCGGAAGGATCATTGTTGAGATCACAT...AGC', IUPACAmbiguousDNA()), id='Z78456.1', name='Z78456', description='P.tonsum 5.8S rRNA gene and ITS1 and ITS2 DNA.', dbxrefs=[]),\n",
        " SeqRecord(seq=Seq('CGTAACAAGGTTTCCGTAGGTGAACCTGCGGAAGGATCATTGTTGAGATCACAT...GTT', IUPACAmbiguousDNA()), id='Z78469.1', name='Z78469', description='P.haynaldianum 5.8S rRNA gene and ITS1 and ITS2 DNA.', dbxrefs=[]),\n",
        " SeqRecord(seq=Seq('CTGAACCTGGTGTCCGAAGGTGAATCTGCGGATGGATCATTGTTGAGATATCAT...GTA', IUPACAmbiguousDNA()), id='Z78485.1', name='Z78485', description='P.henryanum 5.8S rRNA gene and ITS1 and ITS2 DNA.', dbxrefs=[]),\n",
        " SeqRecord(seq=Seq('CGTAACAAGGTTTCCGTAGGTGAACCTGCGGAAGGATCATTGTTGAGATCACAT...AGC', IUPACAmbiguousDNA()), id='Z78471.1', name='Z78471', description='P.dianthum 5.8S rRNA gene and ITS1 and ITS2 DNA.', dbxrefs=[])]"
       ]
      }
     ],
     "prompt_number": 26
    },
    {
     "cell_type": "code",
     "collapsed": false,
     "input": [
      "orchid_dict.keys()"
     ],
     "language": "python",
     "metadata": {},
     "outputs": [
      {
       "metadata": {},
       "output_type": "pyout",
       "prompt_number": 27,
       "text": [
        "['Z78484.1',\n",
        " 'Z78464.1',\n",
        " 'Z78455.1',\n",
        " 'Z78442.1',\n",
        " 'Z78532.1',\n",
        " 'Z78453.1',\n",
        " 'Z78441.1',\n",
        " 'Z78444.1',\n",
        " 'Z78529.1',\n",
        " 'Z78505.1',\n",
        " 'Z78443.1',\n",
        " 'Z78531.1',\n",
        " 'Z78446.1',\n",
        " 'Z78449.1',\n",
        " 'Z78488.1',\n",
        " 'Z78467.1',\n",
        " 'Z78462.1',\n",
        " 'Z78496.1',\n",
        " 'Z78518.1',\n",
        " 'Z78523.1',\n",
        " 'Z78494.1',\n",
        " 'Z78521.1',\n",
        " 'Z78516.1',\n",
        " 'Z78527.1',\n",
        " 'Z78457.1',\n",
        " 'Z78481.1',\n",
        " 'Z78483.1',\n",
        " 'Z78439.1',\n",
        " 'Z78440.1',\n",
        " 'Z78530.1',\n",
        " 'Z78448.1',\n",
        " 'Z78511.1',\n",
        " 'Z78497.1',\n",
        " 'Z78519.1',\n",
        " 'Z78495.1',\n",
        " 'Z78472.1',\n",
        " 'Z78480.1',\n",
        " 'Z78482.1',\n",
        " 'Z78466.1',\n",
        " 'Z78474.1',\n",
        " 'Z78500.1',\n",
        " 'Z78491.1',\n",
        " 'Z78502.1',\n",
        " 'Z78461.1',\n",
        " 'Z78490.1',\n",
        " 'Z78476.1',\n",
        " 'Z78478.1',\n",
        " 'Z78524.1',\n",
        " 'Z78508.1',\n",
        " 'Z78498.1',\n",
        " 'Z78513.1',\n",
        " 'Z78470.1',\n",
        " 'Z78486.1',\n",
        " 'Z78458.1',\n",
        " 'Z78468.1',\n",
        " 'Z78454.1',\n",
        " 'Z78487.1',\n",
        " 'Z78473.1',\n",
        " 'Z78465.1',\n",
        " 'Z78507.1',\n",
        " 'Z78475.1',\n",
        " 'Z78504.1',\n",
        " 'Z78533.1',\n",
        " 'Z78452.1',\n",
        " 'Z78510.1',\n",
        " 'Z78501.1',\n",
        " 'Z78445.1',\n",
        " 'Z78506.1',\n",
        " 'Z78503.1',\n",
        " 'Z78451.1',\n",
        " 'Z78463.1',\n",
        " 'Z78447.1',\n",
        " 'Z78492.1',\n",
        " 'Z78489.1',\n",
        " 'Z78522.1',\n",
        " 'Z78493.1',\n",
        " 'Z78477.1',\n",
        " 'Z78460.1',\n",
        " 'Z78450.1',\n",
        " 'Z78520.1',\n",
        " 'Z78514.1',\n",
        " 'Z78525.1',\n",
        " 'Z78509.1',\n",
        " 'Z78517.1',\n",
        " 'Z78512.1',\n",
        " 'Z78479.1',\n",
        " 'Z78515.1',\n",
        " 'Z78499.1',\n",
        " 'Z78526.1',\n",
        " 'Z78459.1',\n",
        " 'Z78456.1',\n",
        " 'Z78469.1',\n",
        " 'Z78485.1',\n",
        " 'Z78471.1']"
       ]
      }
     ],
     "prompt_number": 27
    },
    {
     "cell_type": "markdown",
     "metadata": {},
     "source": [
      "We can access a single __SeqRecord__ object via the keys and manipulate the object as normal:\n"
     ]
    },
    {
     "cell_type": "code",
     "collapsed": false,
     "input": [
      "seq_record = orchid_dict[\"Z78475.1\"]\n",
      "print(seq_record.description)\n",
      "#P.supardii 5.8S rRNA gene and ITS1 and ITS2 DNA.\n",
      "print(repr(seq_record.seq))\n",
      "#Seq('CGTAACAAGGTTTCCGTAGGTGAACCTGCGGAAGGATCATTGTTGAGATCACAT...GGT', IUPACAmbiguousDNA())\n"
     ],
     "language": "python",
     "metadata": {},
     "outputs": [
      {
       "output_type": "stream",
       "stream": "stdout",
       "text": [
        "P.supardii 5.8S rRNA gene and ITS1 and ITS2 DNA.\n",
        "Seq('CGTAACAAGGTTTCCGTAGGTGAACCTGCGGAAGGATCATTGTTGAGATCACAT...GGT', IUPACAmbiguousDNA())\n"
       ]
      }
     ],
     "prompt_number": 29
    },
    {
     "cell_type": "markdown",
     "metadata": {},
     "source": [
      "So, it is very easy to create an in memory ``database'' of our GenBank records.  Next we'll try this for the FASTA file instead.\n",
      "\n",
      "Note that those of you with prior Python experience should all be able to construct a dictionary like this ``by hand''.  However, typical dictionary construction methods will not deal with the case of repeated keys very nicely.  Using the __Bio.SeqIO.to_dict()__ will explicitly check for duplicate keys, and raise an exception if any are found.\n"
     ]
    },
    {
     "cell_type": "heading",
     "level": 4,
     "metadata": {},
     "source": [
      "Specifying the dictionary keys"
     ]
    },
    {
     "cell_type": "markdown",
     "metadata": {},
     "source": [
      "Using the same code as above, but for the FASTA file instead:\n"
     ]
    },
    {
     "cell_type": "code",
     "collapsed": false,
     "input": [
      "from Bio import SeqIO\n",
      "orchid_dict = SeqIO.to_dict(SeqIO.parse(\"data/ls_orchid.fasta\", \"fasta\"))\n",
      "print(orchid_dict.keys())\n"
     ],
     "language": "python",
     "metadata": {},
     "outputs": []
    },
    {
     "cell_type": "markdown",
     "metadata": {},
     "source": [
      "You should recognise these strings from when we parsed the FASTA file earlier in Section~\\ref{sec:fasta-parsing}.  Suppose you would rather have something else as the keys - like the accession numbers.  This brings us nicely to __SeqIO.to_dict()|'s optional argument __key_function|, which lets you define what to use as the dictionary key for your records.\n",
      "\n",
      "First you must write your own function to return the key you want (as a string) when given a __SeqRecord__ object.  In general, the details of function will depend on the sort of input records you are dealing with.  But for our orchids, we can just split up the record's identifier using the ``pipe'' character (the vertical line) and return the fourth entry (field three):\n"
     ]
    },
    {
     "cell_type": "code",
     "collapsed": false,
     "input": [
      "def get_accession(record):\n",
      "    \"\"\"\"Given a SeqRecord, return the accession number as a string.\n",
      "  \n",
      "    e.g. \"gi|2765613|emb|Z78488.1|PTZ78488\" -> \"Z78488.1\"\n",
      "    \"\"\"\n",
      "    parts = record.id.split(\"|\")\n",
      "    assert len(parts) == 5 and parts[0] == \"gi\" and parts[2] == \"emb\"\n",
      "    return parts[3]\n"
     ],
     "language": "python",
     "metadata": {},
     "outputs": []
    },
    {
     "cell_type": "markdown",
     "metadata": {},
     "source": [
      "Then we can give this function to the __SeqIO.to_dict()__ function to use in building the dictionary:\n",
      "\n"
     ]
    },
    {
     "cell_type": "code",
     "collapsed": false,
     "input": [
      "from Bio import SeqIO\n",
      "orchid_dict = SeqIO.to_dict(SeqIO.parse(\"ls_orchid.fasta\", \"fasta\"), key_function=get_accession)\n",
      "print(orchid_dict.keys())\n"
     ],
     "language": "python",
     "metadata": {},
     "outputs": []
    },
    {
     "cell_type": "markdown",
     "metadata": {},
     "source": [
      "Finally, as desired, the new dictionary keys:"
     ]
    },
    {
     "cell_type": "heading",
     "level": 4,
     "metadata": {},
     "source": [
      "Indexing a dictionary using the SEGUID checksum"
     ]
    },
    {
     "cell_type": "markdown",
     "metadata": {},
     "source": [
      "\n",
      "To give another example of working with dictionaries of __SeqRecord__ objects, we'll use the SEGUID checksum function.  This is a relatively recent checksum, and collisions should be very rare (i.e. two different sequences with the same checksum), an improvement on the CRC64 checksum.\n",
      "\n",
      "Once again, working with the orchids GenBank file:\n"
     ]
    },
    {
     "cell_type": "code",
     "collapsed": false,
     "input": [
      "from Bio import SeqIO\n",
      "from Bio.SeqUtils.CheckSum import seguid\n",
      "for record in SeqIO.parse(\"data/ls_orchid.gbk\", \"genbank\"):\n",
      "    print(record.id, seguid(record.seq))\n"
     ],
     "language": "python",
     "metadata": {},
     "outputs": []
    },
    {
     "cell_type": "markdown",
     "metadata": {},
     "source": [
      "Now, recall the __Bio.SeqIO.to_dict()__ function's __key_function__ argument expects a function which turns a __SeqRecord__ into a string.  We can't use the __seguid()__ function directly because it expects to be given a __Seq__ object (or a string).  However, we can use Python's __lambda__ feature to create a ``one off'' function to give to __Bio.SeqIO.to_dict()__ instead:\n"
     ]
    },
    {
     "cell_type": "code",
     "collapsed": false,
     "input": [
      "from Bio import SeqIO\n",
      "from Bio.SeqUtils.CheckSum import seguid\n",
      "seguid_dict = SeqIO.to_dict(SeqIO.parse(\"data/ls_orchid.gbk\", \"genbank\"),\n",
      "...                             lambda rec : seguid(rec.seq))\n",
      "record = seguid_dict[\"MN/s0q9zDoCVEEc+k/IFwCNF2pY\"]\n",
      "print(record.id)\n",
      "Z78532.1\n",
      "print(record.description)\n",
      "C.californicum 5.8S rRNA gene and ITS1 and ITS2 DNA.\n"
     ],
     "language": "python",
     "metadata": {},
     "outputs": []
    },
    {
     "cell_type": "markdown",
     "metadata": {},
     "source": [
      "That should have retrieved the record {\\tt Z78532.1}, the second entry in the file.\n"
     ]
    },
    {
     "cell_type": "heading",
     "level": 3,
     "metadata": {},
     "source": [
      "Sequence files as Dictionaries -- Indexed files"
     ]
    },
    {
     "cell_type": "markdown",
     "metadata": {},
     "source": [
      "As the previous couple of examples tried to illustrate, using\n",
      "__Bio.SeqIO.to_dict()__ is very flexible. However, because it holds\n",
      "everything in memory, the size of file you can work with is limited by your\n",
      "computer's RAM. In general, this will only work on small to medium files.\n",
      "\n",
      "For larger files you should consider\n",
      "__Bio.SeqIO.index()|, which works a little differently. Although\n",
      "it still returns a dictionary like object, this does \\emph{not} keep\n",
      "\\emph{everything} in memory. Instead, it just records where each record\n",
      "is within the file -- when you ask for a particular record, it then parses\n",
      "it on demand.\n",
      "\n",
      "As an example, let's use the same GenBank file as before:\n",
      "\n"
     ]
    },
    {
     "cell_type": "code",
     "collapsed": false,
     "input": [
      "from Bio import SeqIO\n",
      "orchid_dict = SeqIO.index(\"data/ls_orchid.gbk\", \"genbank\")\n",
      "len(orchid_dict)\n",
      "94\n",
      "\\n%Following is abbr.\n",
      "\\norchid_dict.keys()\n",
      "['Z78484.1', 'Z78464.1', 'Z78455.1', 'Z78442.1', 'Z78532.1', 'Z78453.1', ..., 'Z78471.1']\n",
      "\\n%cont-doctest\n",
      "\\nseq_record = orchid_dict[\"Z78475.1\"]\n",
      "print(seq_record.description)\n",
      "P.supardii 5.8S rRNA gene and ITS1 and ITS2 DNA.\n",
      "seq_record.seq\n",
      "Seq('CGTAACAAGGTTTCCGTAGGTGAACCTGCGGAAGGATCATTGTTGAGATCACAT...GGT', IUPACAmbiguousDNA())\n"
     ],
     "language": "python",
     "metadata": {},
     "outputs": []
    },
    {
     "cell_type": "markdown",
     "metadata": {},
     "source": [
      "Note that __Bio.SeqIO.index()__ won't take a handle,\n",
      "but only a filename. There are good reasons for this, but it is a little\n",
      "technical. The second argument is the file format (a lower case string as\n",
      "used in the other __Bio.SeqIO__ functions). You can use many other\n",
      "simple file formats, including FASTA and FASTQ files (see the example in\n",
      "Section~\\ref{sec:fastq-indexing}). However, alignment\n",
      "formats like PHYLIP or Clustal are not supported. Finally as an optional\n",
      "argument you can supply an alphabet, or a key function.\n",
      "\n",
      "Here is the same example using the FASTA file - all we change is the\n",
      "filename and the format name:"
     ]
    },
    {
     "cell_type": "code",
     "collapsed": false,
     "input": [
      "from Bio import SeqIO\n",
      "orchid_dict = SeqIO.index(\"data/ls_orchid.fasta\", \"fasta\")\n",
      "len(orchid_dict)\n",
      "94\n",
      "orchid_dict.keys()\n",
      "['gi|2765596|emb|Z78471.1|PDZ78471', 'gi|2765646|emb|Z78521.1|CCZ78521', ...\n",
      " ..., 'gi|2765613|emb|Z78488.1|PTZ78488', 'gi|2765583|emb|Z78458.1|PHZ78458']\n"
     ],
     "language": "python",
     "metadata": {},
     "outputs": []
    },
    {
     "cell_type": "heading",
     "level": 3,
     "metadata": {},
     "source": [
      "Specifying the dictionary keys"
     ]
    },
    {
     "cell_type": "markdown",
     "metadata": {},
     "source": [
      "Suppose you want to use the same keys as before? Much like with the\n",
      "__Bio.SeqIO.to_dict()__ example in Section~\\ref{seq:seqio-todict-functionkey},\n",
      "you'll need to write a tiny function to map from the FASTA identifier\n",
      "(as a string) to the key you want:\n"
     ]
    },
    {
     "cell_type": "code",
     "collapsed": false,
     "input": [
      "def get_acc(identifier):\n",
      "    \"\"\"\"Given a SeqRecord identifier string, return the accession number as a string.\n",
      "  \n",
      "    e.g. \"gi|2765613|emb|Z78488.1|PTZ78488\" -> \"Z78488.1\"\n",
      "    \"\"\"\n",
      "    parts = identifier.split(\"|\")\n",
      "    assert len(parts) == 5 and parts[0] == \"gi\" and parts[2] == \"emb\"\n",
      "    return parts[3]\n"
     ],
     "language": "python",
     "metadata": {},
     "outputs": []
    },
    {
     "cell_type": "markdown",
     "metadata": {},
     "source": [
      "Then we can give this function to the __Bio.SeqIO.index()|\n",
      "function to use in building the dictionary:"
     ]
    },
    {
     "cell_type": "code",
     "collapsed": false,
     "input": [
      "from Bio import SeqIO\n",
      "orchid_dict = SeqIO.index(\"data/ls_orchid.fasta\", \"fasta\", key_function=get_acc)\n",
      "print(orchid_dict.keys())\n",
      "['Z78484.1', 'Z78464.1', 'Z78455.1', 'Z78442.1', 'Z78532.1', 'Z78453.1', ..., 'Z78471.1']\n"
     ],
     "language": "python",
     "metadata": {},
     "outputs": []
    },
    {
     "cell_type": "heading",
     "level": 4,
     "metadata": {},
     "source": [
      "Getting the raw data for a record"
     ]
    },
    {
     "cell_type": "markdown",
     "metadata": {},
     "source": [
      "The dictionary-like object from __Bio.SeqIO.index()__ gives you each\n",
      "entry as a __SeqRecord__ object. However, it is sometimes useful to\n",
      "be able to get the original raw data straight from the file. For this\n",
      "use the __get_raw()__ method which takes a\n",
      "single argument (the record identifier) and returns a string (extracted\n",
      "from the file without modification).\n",
      "\n",
      "A motivating example is extracting a subset of a records from a large\n",
      "file where either __Bio.SeqIO.write()__ does not (yet) support the\n",
      "output file format (e.g. the plain text SwissProt file format) or\n",
      "where you need to preserve the text exactly (e.g. GenBank or EMBL\n",
      "output from Biopython does not yet preserve every last bit of\n",
      "annotation).\n",
      "\n",
      "Let's suppose you have download the whole of UniProt in the plain\n",
      "text SwissPort file format from their FTP site\n",
      "(\\url{ftp://ftp.uniprot.org/pub/databases/uniprot/current_release/knowledgebase/complete/uniprot_sprot.dat.gz})\n",
      "and uncompressed it as the file __uniprot_sprot.dat|, and you\n",
      "want to extract just a few records from it:\n"
     ]
    },
    {
     "cell_type": "code",
     "collapsed": false,
     "input": [
      "from Bio import SeqIO\n",
      "uniprot = SeqIO.index(\"uniprot_sprot.dat\", \"swiss\")\n",
      "handle = open(\"selected.dat\", \"w\")\n",
      "for acc in [\"P33487\", \"P19801\", \"P13689\", \"Q8JZQ5\", \"Q9TRC7\"]:\n",
      "...     handle.write(uniprot.get_raw(acc))\n",
      "handle.close()\n"
     ],
     "language": "python",
     "metadata": {},
     "outputs": []
    },
    {
     "cell_type": "markdown",
     "metadata": {},
     "source": [
      "There is a longer example in Section~\\ref{sec:SeqIO-sort} using the\n",
      "__SeqIO.index()__ function to sort a large sequence file (without\n",
      "loading everything into memory at once).\n",
      "\n"
     ]
    },
    {
     "cell_type": "heading",
     "level": 3,
     "metadata": {},
     "source": [
      "Sequence files as Dictionaries -- Database indexed files"
     ]
    },
    {
     "cell_type": "markdown",
     "metadata": {},
     "source": [
      "Biopython 1.57 introduced an alternative, __Bio.SeqIO.index_db()|, which\n",
      "can work on even extremely large files since it stores the record information\n",
      "as a file on disk (using an SQLite3 database) rather than in memory. Also,\n",
      "you can index multiple files together (providing all the record identifiers\n",
      "are unique).\n",
      "\n",
      "The __Bio.SeqIO.index()__ function takes three required arguments:\n",
      "\\begin{itemize}\n",
      "\\item Index filename, we suggest using something ending \\texttt{.idx}.\n",
      "This index file is actually an SQLite3 database.\n",
      "\\item List of sequence filenames to index (or a single filename)\n",
      "\\item File format (lower case string as used in the rest of the\n",
      "__SeqIO__ module).\n",
      "\\end{itemize}\n",
      "\n",
      "As an example, consider the GenBank flat file releases from the NCBI FTP site,\n",
      "\\url{ftp://ftp.ncbi.nih.gov/genbank/}, which are gzip compressed GenBank files.\n",
      "As of GenBank release $182$, there are $16$ files making up the viral sequences,\n",
      "\\texttt{gbvrl1.seq}, \\ldots, \\texttt{gbvrl16.seq}, containing in total almost\n",
      "one million records. You can index them like this:\n",
      "\n"
     ]
    },
    {
     "cell_type": "code",
     "collapsed": false,
     "input": [
      "from Bio import SeqIO\n",
      "files = [\"gbvrl%i.seq\" % (i+1) for i in range(16)]\n",
      "gb_vrl = SeqIO.index_db(\"gbvrl.idx\", files, \"genbank\")\n",
      "print(\"%i sequences indexed\" % len(gb_vrl))\n",
      "958086 sequences indexed\n"
     ],
     "language": "python",
     "metadata": {},
     "outputs": []
    },
    {
     "cell_type": "markdown",
     "metadata": {},
     "source": [
      "That takes about two minutes to run on my machine. If you rerun it then the\n",
      "index file (here \\texttt{gbvrl.idx}) is reloaded in under a second. You can\n",
      "use the index as a read only Python dictionary - without having to worry\n",
      "about which file the sequence comes from, e.g.\n"
     ]
    },
    {
     "cell_type": "code",
     "collapsed": false,
     "input": [
      "print(gb_vrl[\"GQ333173.1\"].description)\n",
      "HIV-1 isolate F12279A1 from Uganda gag protein (gag) gene, partial cds.\n"
     ],
     "language": "python",
     "metadata": {},
     "outputs": []
    },
    {
     "cell_type": "heading",
     "level": 4,
     "metadata": {},
     "source": [
      "Getting the raw data for a record"
     ]
    },
    {
     "cell_type": "markdown",
     "metadata": {},
     "source": [
      "Just as with the __Bio.SeqIO.index()__ function discussed above in\n",
      "Section~\\ref{sec:seqio-index-getraw}, the dictionary like object also lets you\n",
      "get at the raw text of each record:\n"
     ]
    },
    {
     "cell_type": "code",
     "collapsed": false,
     "input": [
      "print(gb_vrl.get_raw(\"GQ333173.1\"))\n"
     ],
     "language": "python",
     "metadata": {},
     "outputs": []
    },
    {
     "cell_type": "heading",
     "level": 3,
     "metadata": {},
     "source": [
      "Indexing compressed files"
     ]
    },
    {
     "cell_type": "markdown",
     "metadata": {},
     "source": [
      "Very often when you are indexing a sequence file it can be quite large -- so\n",
      "you may want to compress it on disk. Unfortunately efficient random access\n",
      "is difficult with the more common file formats like gzip and bzip2. In this\n",
      "setting, BGZF (Blocked GNU Zip Format) can be very helpful. This is a variant\n",
      "of gzip (and can be decompressed using standard gzip tools) popularised by\n",
      "the BAM file format, \\href{http://samtools.sourceforge.net/}{samtools}, and\n",
      "\\href{http://samtools.sourceforge.net/tabix.shtml}{tabix}.\n",
      "\n",
      "To create a BGZF compressed file you can use the command line tool __bgzip|\n",
      "which comes with samtools. In our examples we use a filename extension\n",
      "__*.bgz|, so they can be distinguished from normal gzipped files (named\n",
      "__*.gz|). You can also use the __Bio.bgzf__ module to read and write\n",
      "BGZF files from within Python.\n",
      "\n",
      "The __Bio.SeqIO.index()__ and __Bio.SeqIO.index_db()__ can both be\n",
      "used with BGZF compressed files. For example, if you started with an\n",
      "uncompressed GenBank file:\n"
     ]
    },
    {
     "cell_type": "code",
     "collapsed": false,
     "input": [
      "from Bio import SeqIO\n",
      "orchid_dict = SeqIO.index(\"data/ls_orchid.gbk\", \"genbank\")\n",
      "len(orchid_dict)\n",
      "94\n"
     ],
     "language": "python",
     "metadata": {},
     "outputs": []
    },
    {
     "cell_type": "markdown",
     "metadata": {},
     "source": [
      "\n",
      "You could compress this (while keeping the original file) at the command\n",
      "line using the following command -- but don't worry, the compressed file\n",
      "is already included with the other example files:\n",
      "\n",
      "    \\n$ bgzip -c ls_orchid.gbk > ls_orchid.gbk.bgz\n",
      "\\n\n",
      "You can use the compressed file in exactly the same way:\n"
     ]
    },
    {
     "cell_type": "code",
     "collapsed": false,
     "input": [
      "from Bio import SeqIO\n",
      "orchid_dict = SeqIO.index(\"data/ls_orchid.gbk.bgz\", \"genbank\")\n",
      "len(orchid_dict)\n",
      "94\n"
     ],
     "language": "python",
     "metadata": {},
     "outputs": []
    },
    {
     "cell_type": "markdown",
     "metadata": {},
     "source": [
      "or"
     ]
    },
    {
     "cell_type": "code",
     "collapsed": false,
     "input": [
      "from Bio import SeqIO\n",
      "orchid_dict = SeqIO.index_db(\"data/ls_orchid.gbk.bgz.idx\", \"data/ls_orchid.gbk.bgz\", \"genbank\")\n",
      "len(orchid_dict)\n",
      "94"
     ],
     "language": "python",
     "metadata": {},
     "outputs": []
    },
    {
     "cell_type": "markdown",
     "metadata": {},
     "source": [
      "The __SeqIO__ indexing automatically detects the BGZF compression. Note\n",
      "that you can't use the same index file for the uncompressed and compressed files.\n"
     ]
    },
    {
     "cell_type": "heading",
     "level": 3,
     "metadata": {},
     "source": [
      "Discussion"
     ]
    },
    {
     "cell_type": "markdown",
     "metadata": {},
     "source": [
      "So, which of these methods should you use and why? It depends on what you are\n",
      "trying to do (and how much data you are dealing with). However, in general\n",
      "picking __Bio.SeqIO.index()__ is a good starting point. If you are dealing\n",
      "with millions of records, multiple files, or repeated analyses, then look at\n",
      "__Bio.SeqIO.index_db()|.\n",
      "\n",
      "Reasons to choose __Bio.SeqIO.to_dict()__ over either\n",
      "__Bio.SeqIO.index()__ or __Bio.SeqIO.index_db()__ boil down to a need\n",
      "for flexibility despite its high memory needs. The advantage of storing the\n",
      "__SeqRecord__ objects in memory is they can be changed, added to, or\n",
      "removed at will. In addition to the downside of high memory consumption,\n",
      "indexing can also take longer because all the records must be fully parsed.\n",
      "\n",
      "Both __Bio.SeqIO.index()__ and __Bio.SeqIO.index_db()__ only parse\n",
      "records on demand. When indexing, they scan the file once looking for the\n",
      "start of each record and do as little work as possible to extract the\n",
      "identifier.\n",
      "\n",
      "Reasons to choose __Bio.SeqIO.index()__ over __Bio.SeqIO.index_db()|\n",
      "include:\n",
      "\\begin{itemize}\n",
      "\\item Faster to build the index (more noticeable in simple file formats)\n",
      "\\item Slightly faster access as SeqRecord objects (but the difference is only\n",
      "really noticeable for simple to parse file formats).\n",
      "\\item Can use any immutable Python object as the dictionary keys (e.g. a\n",
      "tuple of strings, or a frozen set) not just strings.\n",
      "\\item Don't need to worry about the index database being out of date if the\n",
      "sequence file being indexed has changed.\n",
      "\\end{itemize}\n",
      "\n",
      "Reasons to choose __Bio.SeqIO.index_db()__ over __Bio.SeqIO.index()|\n",
      "include:\n",
      "\\begin{itemize}\n",
      "\\item Not memory limited -- this is already important with files from second\n",
      "generation sequencing where 10s of millions of sequences are common, and\n",
      "using __Bio.SeqIO.index()__ can require more than 4GB of RAM and therefore\n",
      "a 64bit version of Python.\n",
      "\\item Because the index is kept on disk, it can be reused. Although building\n",
      "the index database file takes longer, if you have a script which will be\n",
      "rerun on the same datafiles in future, this could save time in the long run.\n",
      "\\item Indexing multiple files together\n",
      "\\item The __get_raw()__ method can be much faster, since for most file\n",
      "formats the length of each record is stored as well as its offset.\n",
      "\\end{itemize}\n"
     ]
    },
    {
     "cell_type": "heading",
     "level": 2,
     "metadata": {},
     "source": [
      "Writing sequence files"
     ]
    },
    {
     "cell_type": "markdown",
     "metadata": {},
     "source": [
      "We've talked about using __Bio.SeqIO.parse()__ for sequence input (reading files), and now we'll look at __Bio.SeqIO.write()__ which is for sequence output (writing files).  This is a function taking three arguments: some __SeqRecord__ objects, a handle or filename to write to, and a sequence format.\n",
      "\n",
      "Here is an example, where we start by creating a few __SeqRecord__ objects the hard way (by hand, rather than by loading them from a file):\n"
     ]
    },
    {
     "cell_type": "code",
     "collapsed": false,
     "input": [
      "from Bio.Seq import Seq\n",
      "from Bio.SeqRecord import SeqRecord\n",
      "from Bio.Alphabet import generic_protein\n",
      "\n",
      "rec1 = SeqRecord(Seq(\"MMYQQGCFAGGTVLRLAKDLAENNRGARVLVVCSEITAVTFRGPSETHLDSMVGQALFGD\" \\\n",
      "                    +\"GAGAVIVGSDPDLSVERPLYELVWTGATLLPDSEGAIDGHLREVGLTFHLLKDVPGLISK\" \\\n",
      "                    +\"NIEKSLKEAFTPLGISDWNSTFWIAHPGGPAILDQVEAKLGLKEEKMRATREVLSEYGNM\" \\\n",
      "                    +\"SSAC\", generic_protein),\n",
      "                 id=\"gi|14150838|gb|AAK54648.1|AF376133_1\",\n",
      "                 description=\"chalcone synthase [Cucumis sativus]\")\n",
      "\n",
      "rec2 = SeqRecord(Seq(\"YPDYYFRITNREHKAELKEKFQRMCDKSMIKKRYMYLTEEILKENPSMCEYMAPSLDARQ\" \\\n",
      "                    +\"DMVVVEIPKLGKEAAVKAIKEWGQ\", generic_protein),\n",
      "                 id=\"gi|13919613|gb|AAK33142.1|\",\n",
      "                 description=\"chalcone synthase [Fragaria vesca subsp. bracteata]\")\n",
      "\n",
      "rec3 = SeqRecord(Seq(\"MVTVEEFRRAQCAEGPATVMAIGTATPSNCVDQSTYPDYYFRITNSEHKVELKEKFKRMC\" \\\n",
      "                    +\"EKSMIKKRYMHLTEEILKENPNICAYMAPSLDARQDIVVVEVPKLGKEAAQKAIKEWGQP\" \\\n",
      "                    +\"KSKITHLVFCTTSGVDMPGCDYQLTKLLGLRPSVKRFMMYQQGCFAGGTVLRMAKDLAEN\" \\\n",
      "                    +\"NKGARVLVVCSEITAVTFRGPNDTHLDSLVGQALFGDGAAAVIIGSDPIPEVERPLFELV\" \\\n",
      "                    +\"SAAQTLLPDSEGAIDGHLREVGLTFHLLKDVPGLISKNIEKSLVEAFQPLGISDWNSLFW\" \\\n",
      "                    +\"IAHPGGPAILDQVELKLGLKQEKLKATRKVLSNYGNMSSACVLFILDEMRKASAKEGLGT\" \\\n",
      "                    +\"TGEGLEWGVLFGFGPGLTVETVVLHSVAT\", generic_protein),\n",
      "                 id=\"gi|13925890|gb|AAK49457.1|\",\n",
      "                 description=\"chalcone synthase [Nicotiana tabacum]\")\n",
      "               \n",
      "my_records = [rec1, rec2, rec3]\n"
     ],
     "language": "python",
     "metadata": {},
     "outputs": [],
     "prompt_number": 30
    },
    {
     "cell_type": "markdown",
     "metadata": {},
     "source": [
      "Now we have a list of __SeqRecord__ objects, we'll write them to a FASTA format file:\n"
     ]
    },
    {
     "cell_type": "code",
     "collapsed": false,
     "input": [
      "from Bio import SeqIO\n",
      "SeqIO.write(my_records, \"data/my_example.faa\", \"fasta\")"
     ],
     "language": "python",
     "metadata": {},
     "outputs": [
      {
       "metadata": {},
       "output_type": "pyout",
       "prompt_number": 31,
       "text": [
        "3"
       ]
      }
     ],
     "prompt_number": 31
    },
    {
     "cell_type": "markdown",
     "metadata": {},
     "source": [
      "\\noindent And if you open this file in your favourite text editor it should look like this:\n",
      "\n",
      "\\n>gi|14150838|gb|AAK54648.1|AF376133_1 chalcone synthase [Cucumis sativus]\n",
      "MMYQQGCFAGGTVLRLAKDLAENNRGARVLVVCSEITAVTFRGPSETHLDSMVGQALFGD\n",
      "GAGAVIVGSDPDLSVERPLYELVWTGATLLPDSEGAIDGHLREVGLTFHLLKDVPGLISK\n",
      "NIEKSLKEAFTPLGISDWNSTFWIAHPGGPAILDQVEAKLGLKEEKMRATREVLSEYGNM\n",
      "SSAC\n",
      ">gi|13919613|gb|AAK33142.1__ chalcone synthase [Fragaria vesca subsp. bracteata]\n",
      "YPDYYFRITNREHKAELKEKFQRMCDKSMIKKRYMYLTEEILKENPSMCEYMAPSLDARQ\n",
      "DMVVVEIPKLGKEAAVKAIKEWGQ\n",
      ">gi|13925890|gb|AAK49457.1__ chalcone synthase [Nicotiana tabacum]\n",
      "MVTVEEFRRAQCAEGPATVMAIGTATPSNCVDQSTYPDYYFRITNSEHKVELKEKFKRMC\n",
      "EKSMIKKRYMHLTEEILKENPNICAYMAPSLDARQDIVVVEVPKLGKEAAQKAIKEWGQP\n",
      "KSKITHLVFCTTSGVDMPGCDYQLTKLLGLRPSVKRFMMYQQGCFAGGTVLRMAKDLAEN\n",
      "NKGARVLVVCSEITAVTFRGPNDTHLDSLVGQALFGDGAAAVIIGSDPIPEVERPLFELV\n",
      "SAAQTLLPDSEGAIDGHLREVGLTFHLLKDVPGLISKNIEKSLVEAFQPLGISDWNSLFW\n",
      "IAHPGGPAILDQVELKLGLKQEKLKATRKVLSNYGNMSSACVLFILDEMRKASAKEGLGT\n",
      "TGEGLEWGVLFGFGPGLTVETVVLHSVAT\n",
      "\\n\n",
      "Suppose you wanted to know how many records the __Bio.SeqIO.write()__ function wrote to the handle?\n",
      "If your records were in a list you could just use __len(my_records)|, however you can't do that when your records come from a generator/iterator.  The __Bio.SeqIO.write()__ function returns the number of __SeqRecord__ objects written to the file.   \n",
      "\n",
      "\\emph{Note} - If you tell the __Bio.SeqIO.write()__ function to write to a file that already exists, the old file will be overwritten without any warning.\n",
      "\n"
     ]
    },
    {
     "cell_type": "heading",
     "level": 3,
     "metadata": {},
     "source": [
      "Round trips"
     ]
    },
    {
     "cell_type": "markdown",
     "metadata": {},
     "source": [
      "\n",
      "Some people like their parsers to be ``round-tripable'', meaning if you read in\n",
      "a file and write it back out again it is unchanged. This requires that the parser\n",
      "must extract enough information to reproduce the original file \\emph{exactly}.\n",
      "__Bio.SeqIO__ does \\emph{not} aim to do this.\n",
      "\n",
      "As a trivial example, any line wrapping of the sequence data in FASTA files is\n",
      "allowed. An identical __SeqRecord__ would be given from parsing the following\n",
      "two examples which differ only in their line breaks:\n",
      "\n",
      "\\n>YAL068C-7235.2170 Putative promoter sequence\n",
      "TACGAGAATAATTTCTCATCATCCAGCTTTAACACAAAATTCGCACAGTTTTCGTTAAGA\n",
      "GAACTTAACATTTTCTTATGACGTAAATGAAGTTTATATATAAATTTCCTTTTTATTGGA\n",
      "\n",
      ">YAL068C-7235.2170 Putative promoter sequence\n",
      "TACGAGAATAATTTCTCATCATCCAGCTTTAACACAAAATTCGCA\n",
      "CAGTTTTCGTTAAGAGAACTTAACATTTTCTTATGACGTAAATGA\n",
      "AGTTTATATATAAATTTCCTTTTTATTGGA\n",
      "\\n\n",
      "To make a round-tripable FASTA parser you would need to keep track of where the\n",
      "sequence line breaks occurred, and this extra information is usually pointless.\n",
      "Instead Biopython uses a default line wrapping of $60$ characters on output.\n",
      "The same problem with white space applies in many other file formats too.\n",
      "Another issue in some cases is that Biopython does not (yet) preserve every\n",
      "last bit of annotation (e.g. GenBank and EMBL).\n",
      "\n",
      "Occasionally preserving the original layout (with any quirks it may have) is\n",
      "important. See Section~\\ref{sec:seqio-index-getraw} about the __get_raw()|\n",
      "method of the __Bio.SeqIO.index()__ dictionary-like object for one potential\n",
      "solution.\n",
      "\n"
     ]
    },
    {
     "cell_type": "heading",
     "level": 3,
     "metadata": {},
     "source": [
      "Converting between sequence file formats"
     ]
    },
    {
     "cell_type": "markdown",
     "metadata": {},
     "source": [
      "In previous example we used a list of __SeqRecord__ objects as input to the __Bio.SeqIO.write()__ function, but it will also accept a __SeqRecord__ iterator like we get from __Bio.SeqIO.parse()__ -- this lets us do file conversion by combining these two functions.\n",
      "\n",
      "For this example we'll read in the GenBank format file \\href{http://biopython.org/DIST/docs/tutorial/examples/ls_orchid.gbk}{ls\\_orchid.gbk} and write it out in FASTA format:\n",
      "\n"
     ]
    },
    {
     "cell_type": "code",
     "collapsed": false,
     "input": [
      "from Bio import SeqIO\n",
      "records = SeqIO.parse(\"data/ls_orchid.gbk\", \"genbank\")\n",
      "count = SeqIO.write(records, \"my_example.fasta\", \"fasta\")\n",
      "print(\"Converted %i records\" % count)"
     ],
     "language": "python",
     "metadata": {},
     "outputs": [
      {
       "output_type": "stream",
       "stream": "stdout",
       "text": [
        "Converted 94 records\n"
       ]
      }
     ],
     "prompt_number": 32
    },
    {
     "cell_type": "markdown",
     "metadata": {},
     "source": [
      "Still, that is a little bit complicated. So, because file conversion is such a\n",
      "common task, there is a helper function letting you replace that with just:\n"
     ]
    },
    {
     "cell_type": "code",
     "collapsed": false,
     "input": [
      "from Bio import SeqIO\n",
      "count = SeqIO.convert(\"data/ls_orchid.gbk\", \"genbank\", \"data/my_example.fasta\", \"fasta\")\n",
      "print(\"Converted %i records\" % count)"
     ],
     "language": "python",
     "metadata": {},
     "outputs": [
      {
       "output_type": "stream",
       "stream": "stdout",
       "text": [
        "Converted 94 records\n"
       ]
      }
     ],
     "prompt_number": 33
    },
    {
     "cell_type": "markdown",
     "metadata": {},
     "source": [
      "The __Bio.SeqIO.convert()__ function will take handles \\emph{or} filenames.\n",
      "Watch out though -- if the output file already exists, it will overwrite it!\n",
      "To find out more, see the built in help:\n"
     ]
    },
    {
     "cell_type": "code",
     "collapsed": false,
     "input": [
      "from Bio import SeqIO\n",
      "help(SeqIO.convert)\n",
      "...\n"
     ],
     "language": "python",
     "metadata": {},
     "outputs": []
    },
    {
     "cell_type": "markdown",
     "metadata": {},
     "source": [
      "In principle, just by changing the filenames and the format names, this code\n",
      "could be used to convert between any file formats available in Biopython.\n",
      "However, writing some formats requires information (e.g. quality scores) which\n",
      "other files formats don't contain. For example, while you can turn a FASTQ\n",
      "file into a FASTA file, you can't do the reverse. See also\n",
      "Sections~\\ref{sec:SeqIO-fastq-conversion} and~\\ref{sec:SeqIO-fasta-qual-conversion}\n",
      "in the cookbook chapter which looks at inter-converting between different FASTQ formats.\n",
      "\n",
      "Finally, as an added incentive for using the __Bio.SeqIO.convert()__ function\n",
      "(on top of the fact your code will be shorter), doing it this way may also be\n",
      "faster! The reason for this is the convert function can take advantage of\n",
      "several file format specific optimisations and tricks.\n"
     ]
    },
    {
     "cell_type": "heading",
     "level": 3,
     "metadata": {},
     "source": [
      "Converting a file of sequences to their reverse complements"
     ]
    },
    {
     "cell_type": "markdown",
     "metadata": {},
     "source": [
      "Suppose you had a file of nucleotide sequences, and you wanted to turn it into a file containing their reverse complement sequences.  This time a little bit of work is required to transform the __SeqRecord__ objects we get from our input file into something suitable for saving to our output file.\n",
      "\n",
      "To start with, we'll use __Bio.SeqIO.parse()__ to load some nucleotide\n",
      "sequences from a file, then print out their reverse complements using\n",
      "the __Seq__ object's built in __.reverse_complement()__ method (see Section~\\ref{sec:seq-reverse-complement}):\n",
      "\n"
     ]
    },
    {
     "cell_type": "code",
     "collapsed": false,
     "input": [
      "from Bio import SeqIO\n",
      "for record in SeqIO.parse(\"data/ls_orchid.gbk\", \"genbank\"):\n",
      "...     print(record.id)\n",
      "...     print(record.seq.reverse_complement())\n"
     ],
     "language": "python",
     "metadata": {},
     "outputs": []
    },
    {
     "cell_type": "markdown",
     "metadata": {},
     "source": [
      "Now, if we want to save these reverse complements to a file, we'll need to make __SeqRecord__ objects.\n",
      "We can use  the __SeqRecord__ object's built in __.reverse_complement()__ method (see Section~\\ref{sec:SeqRecord-reverse-complement}) but we must decide how to name our new records.\n",
      "\n",
      "This is an excellent place to demonstrate the power of list comprehensions which make a list in memory:\n"
     ]
    },
    {
     "cell_type": "code",
     "collapsed": false,
     "input": [
      "from Bio import SeqIO\n",
      "records = [rec.reverse_complement(id=\"rc_\"+rec.id, description = \"reverse complement\") \\\n",
      "           for rec in SeqIO.parse(\"data/ls_orchid.fasta\", \"fasta\")]\n",
      "len(records)\n",
      "#94\n"
     ],
     "language": "python",
     "metadata": {},
     "outputs": [
      {
       "metadata": {},
       "output_type": "pyout",
       "prompt_number": 34,
       "text": [
        "94"
       ]
      }
     ],
     "prompt_number": 34
    },
    {
     "cell_type": "markdown",
     "metadata": {},
     "source": [
      "Now list comprehensions have a nice trick up their sleeves, you can add a conditional statement:"
     ]
    },
    {
     "cell_type": "code",
     "collapsed": false,
     "input": [
      "records = [rec.reverse_complement(id=\"rc_\"+rec.id, description = \"reverse complement\") \\\n",
      "...            for rec in SeqIO.parse(\"data/ls_orchid.fasta\", \"fasta\") if len(rec)<700]\n",
      "len(records)\n",
      "18\n"
     ],
     "language": "python",
     "metadata": {},
     "outputs": []
    },
    {
     "cell_type": "markdown",
     "metadata": {},
     "source": [
      "That would create an in memory list of reverse complement records where the sequence length was under 700 base pairs. However, we can do exactly the same with a generator expression - but with the advantage that this does not create a list of all the records in memory at once:\n"
     ]
    },
    {
     "cell_type": "code",
     "collapsed": false,
     "input": [
      "records = (rec.reverse_complement(id=\"rc_\"+rec.id, description = \"reverse complement\") \\\n",
      "...           for rec in SeqIO.parse(\"data/ls_orchid.fasta\", \"fasta\") if len(rec)<700)\n"
     ],
     "language": "python",
     "metadata": {},
     "outputs": []
    },
    {
     "cell_type": "markdown",
     "metadata": {},
     "source": [
      "As a complete example:\n"
     ]
    },
    {
     "cell_type": "code",
     "collapsed": false,
     "input": [
      "from Bio import SeqIO\n",
      "records = (rec.reverse_complement(id=\"rc_\"+rec.id, description = \"reverse complement\") \\\n",
      "...            for rec in SeqIO.parse(\"ls_orchid.fasta\", \"fasta\") if len(rec)<700)\n",
      "SeqIO.write(records, \"data/rev_comp.fasta\", \"fasta\")\n",
      "18"
     ],
     "language": "python",
     "metadata": {},
     "outputs": []
    },
    {
     "cell_type": "markdown",
     "metadata": {},
     "source": [
      "There is a related example in Section~\\ref{sec:SeqIO-translate}, translating each\n",
      "record in a FASTA file from nucleotides to amino acids.\n",
      "\n"
     ]
    },
    {
     "cell_type": "heading",
     "level": 3,
     "metadata": {},
     "source": [
      "Getting your SeqRecord objects as formatted strings"
     ]
    },
    {
     "cell_type": "markdown",
     "metadata": {},
     "source": [
      "Suppose that you don't really want to write your records to a file or handle -- instead you want a string containing the records in a particular file format.  The __Bio.SeqIO__ interface is based on handles, but Python has a useful built in module which provides a string based handle.\n",
      "\n",
      "For an example of how you might use this, let's load in a bunch of __SeqRecord__ objects from our orchids GenBank file, and create a string containing the records in FASTA format:\n",
      "\n"
     ]
    },
    {
     "cell_type": "code",
     "collapsed": false,
     "input": [
      "from Bio import SeqIO\n",
      "from StringIO import StringIO\n",
      "records = SeqIO.parse(\"data/ls_orchid.gbk\", \"genbank\")\n",
      "out_handle = StringIO()\n",
      "SeqIO.write(records, out_handle, \"fasta\")\n",
      "fasta_data = out_handle.getvalue()\n",
      "print(fasta_data)\n"
     ],
     "language": "python",
     "metadata": {},
     "outputs": []
    },
    {
     "cell_type": "markdown",
     "metadata": {},
     "source": [
      "This isn't entirely straightforward the first time you see it!  On the bright side, for the special case where you would like a string containing a \\emph{single} record in a particular file format, use the the __SeqRecord__ class' __format()__ method (see Section~\\ref{sec:SeqRecord-format}).\n",
      "\n",
      "Note that although we don't encourage it, you \\emph{can} use the __format()__ method to write to a file, for example something like this:\n"
     ]
    },
    {
     "cell_type": "code",
     "collapsed": false,
     "input": [
      "from Bio import SeqIO\n",
      "out_handle = open(\"ls_orchid_long.tab\", \"w\")\n",
      "for record in SeqIO.parse(\"data/ls_orchid.gbk\", \"genbank\"):\n",
      "    if len(record) > 100:\n",
      "        out_handle.write(record.format(\"tab\"))\n",
      "out_handle.close()\n",
      "\\n\\noindent While this style of code will work for a simple sequential file format like FASTA or the simple tab separated format used here, it will \\emph{not} work for more complex or interlaced file formats.  This is why we still recommend using __Bio.SeqIO.write()|, as in the following example:\n",
      "\\nfrom Bio import SeqIO\n",
      "records = (rec for rec in SeqIO.parse(\"ls_orchid.gbk\", \"genbank\") if len(rec) > 100)\n",
      "SeqIO.write(records, \"ls_orchid.tab\", \"tab\")\n"
     ],
     "language": "python",
     "metadata": {},
     "outputs": []
    },
    {
     "cell_type": "markdown",
     "metadata": {},
     "source": [
      "Making a single call to __SeqIO.write(...)__ is also much quicker than\n",
      "multiple calls to the __SeqRecord.format(...)__ method."
     ]
    },
    {
     "cell_type": "code",
     "collapsed": false,
     "input": [],
     "language": "python",
     "metadata": {},
     "outputs": []
    }
   ],
   "metadata": {}
  }
 ]
}